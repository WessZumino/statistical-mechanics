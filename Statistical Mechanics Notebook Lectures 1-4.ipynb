{
 "cells": [
  {
   "cell_type": "markdown",
   "metadata": {},
   "source": [
    "# Statistical Mechanics Notebook Lectures 1 - 4 \n",
    "# From Susskind's Lectures \"Statistical Mechanics\", Stanford\n",
    "## http://theoreticalminimum.com/courses/statistical-mechanics/2013/spring\n",
    "## Galen J. Wilkerson\n",
    "## July 16, 2017"
   ]
  },
  {
   "cell_type": "code",
   "execution_count": 2,
   "metadata": {
    "collapsed": true
   },
   "outputs": [],
   "source": [
    "import numpy as np\n",
    "import matplotlib.pyplot as plt\n",
    "\n",
    "%matplotlib inline\n",
    "\n",
    "# don't show warnings - nicer output\n",
    "import warnings\n",
    "warnings.filterwarnings('ignore')\n",
    "\n",
    "# display all results, not just last\n",
    "from IPython.core.interactiveshell import InteractiveShell\n",
    "InteractiveShell.ast_node_interactivity = \"all\""
   ]
  },
  {
   "cell_type": "markdown",
   "metadata": {
    "heading_collapsed": true
   },
   "source": [
    "# Lecture 1"
   ]
  },
  {
   "cell_type": "markdown",
   "metadata": {
    "heading_collapsed": true,
    "hidden": true
   },
   "source": [
    "## Probability and average\n",
    "\n",
    "$i$ is the state-space or set of outcomes \n",
    "\n",
    "$i = 1 ... N$ possibilities.\n",
    "\n",
    "> e.g. flipping coins $i \\in \\{heads, tails\\}$, rolling a die $i \\in \\{1,2,3,4,5,6\\}$, etc.\n",
    "\n",
    "$P(i)$ is the probability of $i$\n",
    "\n",
    "$P(i) \\ge 0$\n",
    "\n",
    "$\\sum_i P(i) = 1$\n",
    "\n",
    "$N(i)$ is the number of times the experiment turned up the $ith$ possibility.\n",
    "\n",
    "$N$ is the total number of trials.\n",
    "\n",
    "$\\lim_{N \\to \\infty}\\frac{N(i)}{N} = P(i)$\n",
    "\n",
    "Let $F(i)$ be some quantity associated with the $ith$ state. \n",
    "\n",
    "> E.g. if coin flipping, $F(H) = +1$, $F(T) = -1$\n",
    "\n",
    "> $F(i)$ could be the energy or momentum if $i$, etc.\n",
    "\n",
    "$<F(i)> = \\sum_i F(i) P(i) = \\sum_i \\frac{F(i) N(i)}{N}$\n",
    "\n",
    "> Note, the average $<F(i)>$ does not need to be one of the experimental outputs."
   ]
  },
  {
   "cell_type": "markdown",
   "metadata": {},
   "source": [
    "# Symmetry and Coin flipping or Die Rolling"
   ]
  },
  {
   "cell_type": "markdown",
   "metadata": {},
   "source": [
    "Flipping a coin many times, we get that probability of heads = tails = $1/2$ due to symmetry of coin.\n",
    "\n",
    "> Probablilities are usually taken to be equal for configurations which are related to each other by some symmetry.\n",
    "\n",
    "Similarly with rolling a die.\n",
    "\n",
    "\n",
    "$P(i) = \\frac16$\n",
    "\n",
    "# What if system is not symmetric?\n",
    "\n",
    "## Law of Motion of a system - describes transitions between states of a system, or a rule of updating configurations\n",
    "\n",
    "> For example, at each time interval:\n",
    "> $ R \\to B$,\n",
    "> $ B \\to Y$,\n",
    "> $ Y \\to G$,\n",
    "> $ G \\to O$,\n",
    "> $ O \\to P$,\n",
    "> $ P \\to R$\n",
    "\n",
    "> This is a closed cycle passing through each state once.  Just important to know it is a particular *kind* of law.\n",
    "\n",
    "*** \n",
    "> Example of another kind of law:\n",
    "\n",
    "> $R \\to B, B \\to G, G \\to R$  -- call this cycle \"+1 energy\"\n",
    "\n",
    "> $Y \\to O, O \\to P, P \\to Y$  -- call this cycle \"-1 energy\"\n",
    "\n",
    "> If start in the upper cycle (R, B, or G), there is a $1/3$ probability of each of these states, with $0$ probability of (Y, O, or P)\n",
    "\n",
    "> $P(+1) \\frac13 = P(R, B, G)$\n",
    "\n",
    "> $P(-1) \\frac13 = P(Y, O, P)$\n",
    "\n",
    "## Conservation Law\n",
    "\n",
    "The configuration space divides up into cycles.\n",
    "\n",
    "Cycle don't have to have same size.\n",
    "\n",
    "> E.g.  \n",
    "> $R \\to B \\to G \\to P \\to R$, \n",
    "\n",
    "> $Y \\to O \\to Y$\n",
    "\n",
    "\n",
    "### \"bad laws\" - violate the **conservation of information** (the most basic rule of physics)\n",
    "### \"-1st law of physics\"\n",
    "\n",
    "> $R \\to R$\n",
    "\n",
    "> $B \\to R, Y \\to R, P \\to R, G \\to R, O \\to R$\n",
    "\n",
    "> Is not **reversible**\n",
    "\n",
    "> \"bad\" because loses track of where you started.\n",
    "\n",
    "> not allowed in classical or quantum physics\n",
    "\n",
    "\n",
    "### Called \"Liouville's Theorem\" \n",
    "\n",
    "suppose we have $N$ possible states\n",
    "\n",
    "and we have $M < N$ states, equaly probable, where $p = 1/M$, and $p = 0$ for all others.\n",
    "\n",
    "By **Liouville's theorem**, the number of states that have non-zero probability will remain constant ($M$), and the probabilities will remain $1/M$.\n",
    "\n",
    "$M$ is characterizing ignorance (or uncertainty).  If $M = N$ we have maximal ignorance.\n",
    "\n",
    "### Entropy - approximately measures the number of states that have a non-zero probability\n",
    "\n",
    "$S = \\log M$\n",
    "\n",
    "\n",
    "Entropy depends on two things:  \n",
    "1. the system\n",
    "2. your state of knowledge about the system\n",
    "\n",
    "### Phase space of a system - \"occupied space\" of positions and momenta of each particle:\n",
    "\n",
    "![Liouville's Theorem](./images/liouville_theorem.png)\n",
    "\n",
    "### Liouville's Theorem: Volume of occupied phase space must remain the same.\n",
    "###                                    and if you start with a uniform probability distribution at start time, the probability distribution will be uniform in the new occupied space\n",
    "\n",
    ">  I.e.  If the occupied space is squeezed in one direction, it must expand in the other.\n",
    "\n",
    ">  Example, when sliding an eraser across the desk, the eraser stops.  It appears at first that this violates Liouville's theorem, since the momentum has all gone to 0.   However, the molecules on the table surface are part of the system and have heated up, meaning that their position and momentum have both expanded due to heat.  Therefore, the compressed volume of the eraser's occupied phase space has transferred to the volume of the occupied phase space of the table-top molecules."
   ]
  },
  {
   "cell_type": "markdown",
   "metadata": {
    "collapsed": true
   },
   "source": [
    "# Zeroth law of thermodynamics - Transitive property of thermal equilibrium.\n",
    "\n",
    "If A is in thermal equilibrium with B, and B is in thermal equilibrium with C,\n",
    "\n",
    "then A is in thermal equilibrium with C\n"
   ]
  },
  {
   "cell_type": "markdown",
   "metadata": {
    "collapsed": true
   },
   "source": [
    "# First law of thermodynamics:\n",
    "# Energy Conservation (for a closed system)\n",
    "\n",
    "$$\n",
    "\\frac{dE}{dt} = 0\n",
    "$$\n",
    "\n",
    "If a system is made of two parts (1,2) with a link between them, then\n",
    "\n",
    "$$\n",
    "\\frac{dE_1}{dt} + \\frac{dE_2}{dt} = 0 \\implies \\frac{dE_1}{dt} = - \\frac{dE_2}{dt}\n",
    "$$\n",
    "\n",
    "> Note, in some systems, you can't just add up all the parts to get the energy, since there may be a potential energy as a result of the two parts interacting.  However, often the energy of interactions is negligible in comparison with the energy of each part."
   ]
  },
  {
   "cell_type": "markdown",
   "metadata": {},
   "source": [
    "# Entropy "
   ]
  },
  {
   "cell_type": "markdown",
   "metadata": {},
   "source": [
    "![M_elements_uniform](./images/M_elements_uniform.png)\n",
    "\n",
    "In this simple uniform case, we have defined entropy to be $\\log M$.\n",
    "\n",
    "Using our new definition:  \n",
    "$$\n",
    "S = - \\sum p(i) \\log_2 p(i),\n",
    "$$ \n",
    "\n",
    "for this uniform case of M elements we get:\n",
    "\n",
    "$ S = - M \\sum \\frac1M \\log_2 \\frac1M  = - \\log \\frac1m = - (- \\log M)  = \\log M$.\n",
    "\n",
    "\n",
    "***\n",
    "\n",
    ">  Example, flip $n$ coins \n",
    "\n",
    ">  Total number of states is $N = 2^n (= M)$\n",
    "\n",
    "> Similar to the uniform M elements example above, we just take the logarithm of N\n",
    "\n",
    "> $ S = \\log 2^n = n \\log 2$\n",
    "\n",
    "> Entropy is proportional to the number of degrees of freedom $n$."
   ]
  },
  {
   "cell_type": "markdown",
   "metadata": {
    "collapsed": true
   },
   "source": [
    "***\n",
    "\n",
    "> Note that if the system can only take on one state, then we have\n",
    "\n",
    "> $S = \\sum 1 \\log 1 = 0$\n",
    "\n",
    "> ### \"The more you know, the less the entropy\"\n",
    "\n",
    "# In continuous systems, the entropy is the log of the volume in phase space\n",
    "\n",
    "![entropy_of_phase_space](./images/entropy_of_phase_space.png)\n",
    "\n",
    "\n",
    "$S = \\log V_{ph}$\n",
    "\n",
    "Occupied states: $\\int P(p, x) = 1$\n",
    "\n",
    "$S = - \\int P(p, x) \\log P(p, x) dp dx$"
   ]
  },
  {
   "cell_type": "markdown",
   "metadata": {},
   "source": [
    "## End of Lecture 1\n",
    "\n",
    "*****************************"
   ]
  },
  {
   "cell_type": "markdown",
   "metadata": {
    "collapsed": true
   },
   "source": [
    "# Lecture 2\n",
    "\n",
    "# Boltzmann constant (a conversion factor)\n",
    "\n",
    "Roughly, convert between \"human units\" to more fundamental units.\n",
    "\n",
    "Temperature is really an energy.  Measuring kinetic energy.\n",
    "\n",
    "\n",
    "$E = \\frac32 k_B t_k$,\n",
    "\n",
    "$k_B$ is the Boltzmann constant ($1.4 \\times 10^{-23} \\frac Jk $), and $t_k$ is the temperature in Kelvin.\n",
    "\n",
    "$T = k_B t$ is a redefined unit of temperature that allows us to get rid of conversion to Boltzmann units in all other formulas.\n",
    "\n",
    "$S_{carnot} $ is Carnot's entropy\n",
    "\n",
    "Boltzmann's Entropy: $S = - \\sum_i p_i \\log p_i = \\frac{1}{k_B} S_{carnot}$\n",
    "\n",
    "Boltzmann's Entropy is proportional to the number of molecules in a system (since it scales with the degrees of freedom of a system.\n",
    "\n",
    "$i$ is the exact micro-scopic description of the system, labeled in ascending order of average energy.\n",
    "\n",
    "\n",
    "Entropy becomes a function of average energy:\n",
    "\n",
    "$S(E) = - \\sum_i p(i,E) \\log p(i,E)$  \n",
    "\n"
   ]
  },
  {
   "cell_type": "markdown",
   "metadata": {},
   "source": [
    "# Temperature"
   ]
  },
  {
   "cell_type": "markdown",
   "metadata": {},
   "source": [
    "Temperature is a rate of change between energy and entropy:\n",
    "$$\n",
    "T = \\frac{dE}{dS}\n",
    "$$\n",
    "\n",
    "Sum of probabilities of states is 1:\n",
    "\n",
    "$$\n",
    "\\sum p(i) = 1\n",
    "$$\n",
    "\n",
    "Average energy is\n",
    "$$\n",
    "p(i) E(i) = <E>\n",
    "$$"
   ]
  },
  {
   "cell_type": "markdown",
   "metadata": {
    "collapsed": true
   },
   "source": [
    "## How much do you have to change the average energy to change the entropy by one bit?\n",
    "\n",
    "$$\n",
    "\\Delta E = \\frac{\\partial E}{\\partial S} \\Delta S = T \\Delta S\n",
    "$$\n",
    "\n",
    "$$\n",
    "\\Delta S = \\frac1{\\partial E/\\partial S} \\Delta E = \\frac{\\partial S}{\\partial E} \\Delta E\n",
    "$$\n",
    "\n",
    "$$\n",
    "dE = T dS\n",
    "$$\n",
    "\n",
    "# Temperature equals the rate of change of energy / entropy\n",
    "\n",
    "## i.e.  when you increase the energy you spread the possible states over a wider distribution.\n",
    "\n",
    "Two connected systems A and B:\n",
    "\n",
    "Entropy is additive (due to logs).\n",
    "\n",
    "1st law: $dE_A = - dE_B$\n",
    "\n",
    "**Definition of temperature:**\n",
    "\n",
    "$dE_A = T_A dS_A$\n",
    "\n",
    "$dE_B = T_B dS_B$\n",
    "\n",
    "***"
   ]
  },
  {
   "cell_type": "markdown",
   "metadata": {},
   "source": [
    "# Lecture 3"
   ]
  },
  {
   "cell_type": "markdown",
   "metadata": {},
   "source": [
    "The entropy of a probabilty distribution is the sum of the probabilties of states times the logaritm of the probabilities of the states:\n",
    "\n",
    "$S = - \\sum_i p_i \\log p_i$\n",
    "\n",
    "Each state has a probability:\n",
    "\n",
    "$ p_i $, such that $\\sum_i p_i = 1$\n",
    "\n",
    "Energy of the ith state\n",
    "\n",
    "$E_i$, such that $\\sum_i p_i E_i  = <E>$, the average energy.\n",
    "\n",
    "\n",
    "The ** ground state ** of a system is described by an energy distribution that is zero everywhere except the state of lowest energy.  At lowest energy the entropy is exactly zero.\n",
    "\n",
    "As the average energy increases, the entropy increases."
   ]
  },
  {
   "cell_type": "markdown",
   "metadata": {},
   "source": [
    "![average_energy](./images/average_energy.png)\n",
    "\n",
    "\n",
    "## -1st law - information is conserved (Liouville's Theorem)\n",
    "\n",
    "## 0th law - thermal equilibrium is 'transitive'\n",
    "\n",
    "> There is such a thing as thermal equilibrium.\n",
    "\n",
    "> If the system is made of different parts, there is a concept called \"temperature\", such that energy flows from larger temperature to smaller temperature when the system is not in equilibrium.  When the temperatures are equal, the heat stops flowing.  if A is in equilibrium with B, and B in equilibrium with C, then A is in equilibrium with C.  Can say the same with temperature.  if A same temp as B, and B same temp as C, then A same temp as C.\n",
    "\n",
    "    * Temperature flows from higher to lower\n",
    "    * Thermal equilibrium occurs when all parts of system are the same.\n",
    "\n",
    "## 1st law - energy is conserved\n",
    "\n",
    "## 2nd law of thermodynamics - entropy increases over time\n",
    "\n",
    "> means that, if you have a system described by a given probability distribution, and is ** not in equilibrium **, as it comes to equilibrium the distribution broadens.\n",
    "\n",
    "> if talking about a complex system with many degrees of freedom, you tend to \"lose track of things\" = more uncertainty = more entropy\n",
    "\n",
    "\n",
    "From last lecture, \n",
    "\n",
    "$$\n",
    "T = \\frac{dE}{dS}\n",
    "$$"
   ]
  },
  {
   "cell_type": "markdown",
   "metadata": {},
   "source": [
    "\n",
    "\n",
    "# Now let's look at a simple system made of two parts to understand equilibrium and temperature.\n",
    "\n",
    "![aSystem composed of two parts](./images/System composed of two parts.png)"
   ]
  },
  {
   "cell_type": "markdown",
   "metadata": {},
   "source": [
    "Assume: $T_B > T_A$\n",
    "\n",
    "Let's write what we know:\n",
    "\n",
    "1. $dE_A + dE_B = 0 $  (1st law, conservation of energy: total energy doesn't change.)\n",
    "\n",
    "2. $dS_A + dS_B > 0$  (2nd Law, Entropy increases as the system moves toward equilibrium.)\n",
    "> The probability distribution of the combined systems shifts in such a way that the distribution becomes broader.\n",
    "\n",
    "3. $dE = T dS$ (0th law)\n",
    "> $dE_A = T_A dS_A$\n",
    "and\n",
    "> $dE_B = T_B dS_B$\n",
    "\n",
    "Using (3.), can rewrite (1.) as:\n",
    "\n",
    "$T_A dS_A +  T_B dS_B = 0$\n",
    "\n",
    "Solving for $dS_B$, we get\n",
    "\n",
    "$dS_B = - \\frac{T_A}{T_B}dS_A$\n",
    "\n",
    "Replacing in (2.), we get\n",
    "\n",
    "$ dS_A - \\frac{T_A}{T_B}dS_A > 0  \\implies$\n",
    "\n",
    "$ T_B dS_A - T_A dS_A > 0  \\implies$\n",
    "\n",
    "$ (T_B - T_A) dS_A > 0$   A positive number (since $T_B > T_A$) times a positive number is positive.\n",
    "\n",
    "$ \\implies dS_A > 0 \\implies$ \n",
    "\n",
    "$ T_A dS_A > 0 \\implies $ (since $T_A$ is positive)\n",
    "\n",
    "$ dE_A > 0 \\implies$  (by 3. above)\n",
    "\n",
    "$ dE_B < 0$  (by 1. above)\n",
    "\n",
    "That is, A increases in energy and B decreases.  i.e. energy flows from B to A.\n",
    "\n",
    "The definition of temperature (equation 3:  $dE = T dS$) is such that energy (heat) flows from B to A until the temperatures become the same, when equilibrium is established.  This is the 0th Law of Thermodynamics.\n"
   ]
  },
  {
   "cell_type": "markdown",
   "metadata": {},
   "source": [
    "# In equilibrium, what is the probability distribution for the system to be in its different micro-states.  What is that probability distribution? \n",
    "\n",
    "## In other words, for a system to be at a certain average energy, what is the possible distribution of energy levels of its subsystems?\n",
    " \n",
    "# System of many parts"
   ]
  },
  {
   "cell_type": "markdown",
   "metadata": {},
   "source": [
    "![aSystem composed of many parts](./images/System composed of many parts.png)"
   ]
  },
  {
   "cell_type": "markdown",
   "metadata": {
    "collapsed": true
   },
   "source": [
    "Each of the identical systems is in a possible state.  Each state has different energy:\n",
    "\n",
    "![apossible states](./images/possible states.png)\n",
    "\n",
    "$n_i$ is the number of systems in state (energy) $i$ ($n_i$s are also called \"occupation numbers\")\n",
    "\n",
    "## How many ways are there of redistributing the systems among the states for a given number of $n_i$s (occupied states)?\n",
    "\n",
    "There are two **constraints:** \n",
    "\n",
    "1. $n_1 + n_2 + n_3... = \\sum_i n_i = N$      ( The total number of systems is fixed.)\n",
    "\n",
    "    $\\implies \\sum_i p(i) N = N $   (by definition of $n_i$ below)\n",
    "    \n",
    "    $\\implies \\sum p(i) = 1$\n",
    "\n",
    "2. Energy constraint\n",
    "\n",
    "    $n_1 E_1 + n_2 E_2 + ... = \\sum n_i E_i  = N E$\n",
    "    \n",
    "    $\\implies \\sum p(i) N E_i = NE$  (by definition of $n_i$ below)\n",
    "    \n",
    "    $\\implies \\sum p(i) E_i = E $ (average energy)\n",
    "    \n",
    "    The total energy is proportional to the number of systems.\n",
    "    \n",
    "What is the probability that a given one of these systems is in the ith state?\n",
    "\n",
    "$p(i) = \\frac{n_i}{N} \\implies N p(i) = n_i$  :  The number of systems in that state / total number of systems.\n",
    "   \n",
    "If N is finite, how many arrangements (number of ways) of keeping occupation numbers fixed but re-distributing the systems among the occupied energy levels (states)?\n",
    "\n",
    "Number of arrangements = $ \\frac{N!}{n_1! n_2! n_3! ...} = \\frac{N!}{\\prod_i n_i!}$\n",
    "\n",
    "> This is the number of ways of arranging $N$ systems divided by the number of ways of arranging each of the occupation numbers of systems.\n",
    "\n",
    "What about unoccupied states?  $0! = 1$, so no problem.\n",
    "\n",
    "When $N$ gets very large, the occupation numbers cluster about a particular set of occupation numbers.  The distribution gets peaked."
   ]
  },
  {
   "cell_type": "markdown",
   "metadata": {},
   "source": [
    "This is the same as n choose k, as we see elsewhere in probability.\n",
    "\n",
    "That is, if we have N systems and want to allocate them in k states.\n",
    "\n",
    "Suppose we have 6 systems and want to allocate them in 2 states.\n",
    "\n",
    "Then, for the first state, we allocate "
   ]
  },
  {
   "cell_type": "markdown",
   "metadata": {},
   "source": [
    "## Approximating factorial with Stirling's Approximation"
   ]
  },
  {
   "cell_type": "markdown",
   "metadata": {
    "collapsed": true
   },
   "source": [
    "$N! \\approx N^N e^{-N}$\n",
    "\n",
    "$N! = 1 \\times 2 \\times ... \\times N$\n",
    "\n",
    "$\\log N! = \\log 1 + \\log 2 + ... + \\log N$\n",
    "\n",
    "$\\log N! = \\sum_{x=1}^N \\log x$\n",
    "\n",
    "Approximate $\\sum \\log x$ by $\\int \\log x$  (see figure)\n",
    "\n",
    "$\\approx \\int_1^N dx \\log x$\n",
    "\n",
    "![astirling_approx](./images/stirling_approx.gif)\n",
    "\n",
    "To integrate, try\n",
    "\n",
    "$\\frac{d}{dx}x \\log x - x = \\log x + 1 -1 = \\log x \\implies$\n",
    "\n",
    "\n",
    "$\\log N! \\approx \\int_1^N dx \\log x = N \\log N - N \\implies$\n",
    "\n",
    "$N! \\approx e^{N\\log N} e^{-N}$\n",
    "\n",
    "> Since $e^{N \\log N} = e^{\\log N^N} = N^N$, \n",
    "\n",
    "$N!= N^N e^{-N}$"
   ]
  },
  {
   "cell_type": "markdown",
   "metadata": {},
   "source": [
    "## Maximizing Number of arrangements = $ \\frac{N!}{n_1! n_2! n_3! ...} = \\frac{N!}{\\prod_i n_i!}$"
   ]
  },
  {
   "cell_type": "markdown",
   "metadata": {},
   "source": [
    "**Given two constraints:**\n",
    "\n",
    "1. $\\sum n_i = N$\n",
    "2. $\\sum n_i E_i = E$\n",
    "\n",
    "**What is the set of occupation numbers ($n_i$s) that makes the number of arrangements as large as possible?**\n",
    "\n",
    "Once we know the occupation numbers we know the probabilities."
   ]
  },
  {
   "cell_type": "markdown",
   "metadata": {},
   "source": [
    "### How maximize?  Differentiate. However, maximizing is the same as maximizing its logarithm."
   ]
  },
  {
   "cell_type": "markdown",
   "metadata": {},
   "source": [
    "Use Stirling's approximation:\n",
    "\n",
    "$$\n",
    "C= \\frac{N!}{\\prod_i n_i!} \\approx \\frac{N^N e^{-N}}{n_1^{n_1}n_2^{n_2}n_3^{n_3}... e^{-n_1-n_2-n_3}...}\n",
    "$$\n",
    "\n",
    "> (Since $\\sum_i n_i = N$, cancel the $e^{n_i}$ terms with $e^N$)\n",
    "\n",
    "$ C = \\frac{N^N}{n_1^{n_1}n_2^{n_2}n_3^{n_3}}...$\n",
    "\n",
    "> (take logarithm)\n",
    "\n",
    "$ \\implies \\log C = N \\log N - \\sum_i n_i \\log n_i$  (right-hand side looks like **entropy**)\n",
    "\n",
    "> but since $N p(i) = n_i$\n",
    "\n",
    "\n",
    "$\\implies N \\log N - \\sum_i p(i)N \\log p(i) N $\n",
    "\n",
    "$= N \\log N - \\sum_i p(i)N (\\log p(i) + \\log N) $\n",
    "\n",
    "> but - $\\sum_i p(i) N \\log N  = - N \\log N \\times 1 = - N \\log N $, which cancels the $N \\log N $ term.\n",
    "\n",
    "$=   - \\sum_i   p(i) N \\log p(i)$\n",
    "\n",
    "$=   - N \\sum_i p(i) \\log p(i)$ (**N times the entropy!**)\n",
    "\n",
    "### $N$ fixed, so to maximize the number of system arrangements, \n",
    "\n",
    "### just need to maximize the entropy. (subject to constraints)"
   ]
  },
  {
   "cell_type": "markdown",
   "metadata": {},
   "source": [
    "# Find p(i) that maximizes $- N \\sum_i p(i) \\log p(i)$ subject to constraints\n",
    "\n",
    "1.  $\\sum p_i = 1$\n",
    "2.  $\\sum p_i E_i = E$   (this constraint breaks the symmetry between different states - some have big energy, some have small energy)\n"
   ]
  },
  {
   "cell_type": "markdown",
   "metadata": {
    "code_folding": []
   },
   "source": [
    "## Lagrange multipliers for maximization subject to constraints"
   ]
  },
  {
   "cell_type": "markdown",
   "metadata": {},
   "source": [
    "Given an abstract function $F(x_i)$, maximize $F$.\n",
    "\n",
    "Just solve the partial derivatives at 0.\n",
    "\n",
    "$\\frac{\\partial F}{\\partial x_1} = 0$\n",
    "\n",
    "$\\frac{\\partial F}{\\partial x_2} = 0$\n",
    "\n",
    "...\n",
    "\n",
    "ok, what about constraints?\n",
    "\n",
    "![aContours](./images/Contours.jpg)\n",
    "\n",
    "Minimum or maximum always surrounded by circles.\n",
    "\n",
    "Contours are the level surfaces of $F$.\n",
    "\n",
    "but have constraint that $G(x_i) = 0$.\n",
    "\n",
    "Along the curve $G(x) = 0$, where is $F$ maximum?\n",
    "\n",
    "Will always be somewhere that a level surface of $F$ is **tangent** to $G$.\n"
   ]
  },
  {
   "cell_type": "markdown",
   "metadata": {
    "collapsed": true
   },
   "source": [
    "   <tr>\n",
    "    <td> <img src=\"./images/Contours2.jpg\" alt=\"Drawing\" style=\"width: 250px;\"/> </td>\n",
    "    <td>  Here F is a cross-section of the gradient at the tangent<img src=\"./images/F vs G langrange.png\" alt=\"Drawing\" style=\"width: 250px;\"/> </td>\n",
    "    </tr>"
   ]
  },
  {
   "cell_type": "markdown",
   "metadata": {
    "collapsed": true
   },
   "source": [
    "Shift $F$ by a value proportional to $G$:  $F' = F + \\lambda G$, so that $F'$ is minimized at $G = 0$\n",
    "\n",
    "![aF vs G langrange](./images/F vs G langrange 2.png)"
   ]
  },
  {
   "cell_type": "markdown",
   "metadata": {
    "collapsed": true
   },
   "source": [
    "# Lagrange multiplier example 1\n",
    "\n",
    "**1. Find function to minimize, $F$:**\n",
    "\n",
    "$$\n",
    "    F = \\frac{x^2 + y^2}{2}\n",
    "$$\n",
    "\n",
    "> subject to constraint $x + y = 1$\n",
    "    \n",
    "\n",
    "**2. That is, setup G constraint function such that $G = 0$:**\n",
    "\n",
    "$$\n",
    "    G = x + y - 1 = 0\n",
    "$$\n",
    "\n",
    "\n",
    "**     $F$ looks something like this, with constraint $G = 0$:**\n",
    "\n",
    "![aF vs G langrange](./images/circle_contours.gif)\n"
   ]
  },
  {
   "cell_type": "markdown",
   "metadata": {
    "collapsed": true
   },
   "source": [
    "** 3. Set up the Lagrange multiplier by defining a new function $F' = F + \\lambda G$:**\n",
    "\n",
    "> (This is the shifted $F$ that is minimized by adding some scaling of $G$)\n",
    "\n",
    "$$\n",
    "    F' = F + \\lambda G = \\frac{x^2 + y^2}{2} + \\lambda (x + y - 1)\n",
    "$$"
   ]
  },
  {
   "cell_type": "markdown",
   "metadata": {},
   "source": [
    "** 4. Minimize $F'$ with respect to $x$ and $y$**\n",
    "\n",
    "$$\n",
    "\\frac{\\partial F'}{\\partial x} = 0, \\frac{\\partial F'}{\\partial y} = 0\n",
    "$$\n",
    "\n",
    "> In our case set the derivatives with respect to $x$ and $y$ equal to zero,\n",
    "\n",
    "$$\n",
    "\\frac{\\partial F'}{\\partial x} = x + \\lambda = 0,\n",
    "$$\n",
    "\n",
    "    and \n",
    "\n",
    "$$\n",
    " \\frac{\\partial F'}{\\partial y} = y + \\lambda = 0.\n",
    "$$\n",
    "\n",
    "$$\n",
    "\\implies\n",
    "$$\n",
    "\n",
    "$$\n",
    "x = -\\lambda, \n",
    "$$ \n",
    "\n",
    "$$\n",
    "y = -\\lambda.\n",
    "$$\n",
    "\n",
    "** 5. Include the constraint that $G = 0$ **\n",
    "\n",
    "$$\n",
    "G = x + y - 1 = 0\n",
    "$$\n",
    "\n",
    "or\n",
    "\n",
    "$$\n",
    "x + y = 1.\n",
    "$$\n",
    "\n",
    "$$\n",
    "\\implies - 2 \\lambda = 1\n",
    "$$\n",
    "\n",
    "$$\n",
    "\\implies \\lambda = -\\frac12\n",
    "$$\n"
   ]
  },
  {
   "cell_type": "markdown",
   "metadata": {},
   "source": [
    "I.e. \n",
    "$$ \n",
    "x = y = +\\frac12\n",
    "$$\n",
    "\n",
    "is the point that minimizes $ F = \\frac{x^2 + y^2}{2}$ subject to the constraint that $x + y = 1$.\n",
    "\n",
    "![aF vs G langrange](./images/circle_contours_2.png)\n"
   ]
  },
  {
   "cell_type": "markdown",
   "metadata": {},
   "source": [
    "# Lagrange multiplier example 2 - with several constraints"
   ]
  },
  {
   "cell_type": "markdown",
   "metadata": {},
   "source": [
    "$ G_1 = 0, G_2 = 0$\n",
    "\n",
    "** 1. Define $F$ function to minimize:**\n",
    "\n",
    "$$\n",
    "F = \\frac{x^2 + y^2 - z^2}{2}\n",
    "$$\n",
    "\n",
    "**     having constraints:**\n",
    "\n",
    "$$\n",
    "x + y = 1\n",
    "$$\n",
    "\n",
    "$$\n",
    "z + x = 1\n",
    "$$\n",
    "\n",
    "** 2. set up constraint functions $G$:**\n",
    "\n",
    "$    G_1 = x + y - 1 = 0$\n",
    "\n",
    "$    G_2 = z + x - 1 = 0$\n",
    "\n",
    "** 3. Set up the Lagrange multiplier by defining a new function **\n",
    "\n",
    "$$\n",
    "    F' = F + \\lambda_1 G_1 + \\lambda_2 G_2\n",
    "$$\n",
    "\n",
    "$$\n",
    "    F' = \\frac{x^2 + y^2 - z^2}{2} + \\lambda_1 (x + y - 1) + \\lambda_2 (z + x - 1)\n",
    "$$\n",
    "\n",
    "\n",
    "** 4. Minimize $F'$ with respect to $x, y, z$**\n",
    "\n",
    "\n",
    "$$\n",
    "\\frac{\\partial F'}{\\partial x} = x + \\lambda_1 x + \\lambda_2 x = 0\n",
    "$$\n",
    "\n",
    "$$\n",
    "\\frac{\\partial F'}{\\partial y} = y + \\lambda_1 y = 0\n",
    "$$\n",
    "\n",
    "\n",
    "$$\n",
    "\\frac{\\partial F'}{\\partial z} = -z + \\lambda_2 z = 0\n",
    "$$\n",
    "\n",
    "** 5. Include the constraint that $G = 0$ **\n",
    "\n",
    "$$    \n",
    "G_1 = x + y - 1 = 0\n",
    "$$\n",
    "\n",
    "$$\n",
    "G_2 = z + x - 1 = 0\n",
    "$$"
   ]
  },
  {
   "cell_type": "markdown",
   "metadata": {},
   "source": [
    "**Using $G$, solve for $x$, then $z$:**\n",
    "\n",
    "$$\n",
    "x = 1 - y\n",
    "$$\n",
    "$$\n",
    "z = 1 - x = 1 - (1 - y) \\implies\n",
    "$$\n",
    "$$\n",
    "z = y\n",
    "$$\n",
    "\n",
    "** Now using the derivatives of $F'$: **\n",
    "\n",
    "$y + \\lambda_1 y = 0 \\implies$\n",
    "\n",
    "$(1 + \\lambda_1)y = 0 \\implies$\n",
    "\n",
    "$1 + \\lambda_1 = 0 \\implies$\n",
    "\n",
    "$\\lambda_1 = -1$\n",
    "\n",
    "which gives:\n",
    "\n",
    "$x - x + \\lambda_2 x = \\lambda_2 x = 0 \\implies$\n",
    "\n",
    "$\\lambda_2 = 0$"
   ]
  },
  {
   "cell_type": "markdown",
   "metadata": {},
   "source": [
    "# Generally, if $F$ is a function of many variables, when trying to maximize the entropy subject to constraints (total electric charge is fixed, total energy is fixed, etc.)\n",
    "\n",
    "$F$ is a function of the probabilities of occupying each state:\n",
    "\n",
    "$F(p_1, p_2, ...) = S(p_i) = - \\sum_i p(i) \\log p(i)$  ($F$ is entropy)\n",
    "\n",
    "The constraints are:\n",
    "\n",
    "Total probabilities add up to one:\n",
    "\n",
    "$G_1 = \\sum_i p_i - 1 = 0$\n",
    "\n",
    "Total energies add up to E:\n",
    "\n",
    "$G_2 = \\sum_i p_i E_i = E$\n"
   ]
  },
  {
   "cell_type": "markdown",
   "metadata": {},
   "source": [
    "# Lecture 4 - Boltzmann Distribution"
   ]
  },
  {
   "cell_type": "markdown",
   "metadata": {},
   "source": [
    "For our purposes, we will often want to maximize the entropy for the two constraints:\n",
    "\n",
    "$F(p_i) = -S(p_i) =  \\sum_i p_i \\log p_i$ (negate S)\n",
    "\n",
    "1. $\\sum_i p_i = 1$\n",
    "2. $\\sum_i E_i p_i = E$\n",
    "\n",
    "These give us:\n",
    "\n",
    "1. $\\sum_i p_i - 1 = 0$\n",
    "2. $\\sum_i E_i p_i - E = 0$\n",
    "\n",
    "Given us a formulation:\n",
    "\n",
    "$$\n",
    "F' = F + \\alpha[\\sum_i p_i - 1] + \\beta[\\sum_i E_i p_i - E],\n",
    "$$\n",
    "\n",
    "where $\\alpha$ and $\\beta$ are our two Lagrange multipliers.\n",
    "\n",
    "When we differentiate $F'$, the 1 and E constant terms will not contribute, so we can re-write $F'$ as\n",
    "\n",
    "$$\n",
    "F' = F + \\alpha[\\sum_i p_i] + \\beta[\\sum_i E_i p_i]\n",
    "$$\n",
    "\n",
    "$$\n",
    "= \\sum_i p_i \\log p_i + \\alpha[\\sum_i p_i] + \\beta[\\sum_i E_i p_i]\n",
    "$$\n",
    "\n",
    "If, for example, we differentiate $F'$ with respect to $p_7$, chosen arbitrarily, we get:\n",
    "\n",
    "$$\n",
    "\\frac{\\partial F'}{\\partial p_7} = \\log p_7 + 1 + \\alpha + \\beta E_7.\n",
    "$$\n",
    "\n",
    "So, generally, if we chose some $p_i$, we obtain the derivative and set it to zero,\n",
    "\n",
    "$$\n",
    "\\frac{\\partial F'}{\\partial p_i} = \\log p_i + 1 + \\alpha + \\beta E_i = 0.\n",
    "$$\n",
    "\n",
    "This gives us that\n",
    "\n",
    "$$\n",
    "\\log p_i = -(1 + \\alpha) - \\beta E_i.\n",
    "$$\n",
    "\n",
    "Exponentiating gives\n",
    "\n",
    "$$\n",
    "p_i = e^{-(1 + \\alpha) - \\beta E_i}\n",
    "$$\n",
    "\n",
    "> Note $e^{(1 + \\alpha)} = z$ in statistical mechanics.\n",
    "\n",
    "<p style=\"border: 1px solid black\">\n",
    "$$\n",
    "p_i = \\frac1z e^{-\\beta E_i}\n",
    "$$\n",
    "</p>\n",
    "\n",
    "\n",
    "\n",
    "This is the relative probabilities of the different states."
   ]
  },
  {
   "cell_type": "code",
   "execution_count": 2,
   "metadata": {
    "collapsed": false
   },
   "outputs": [
    {
     "name": "stdout",
     "output_type": "stream",
     "text": [
      " beta avg energy    entropy\n",
      "  0.01 2634.2968621 26.342968621\n",
      "  0.1 98.8686629242 9.88686629242\n",
      "  0.5 3.87688769772 1.93844384886\n",
      "  0.9 1.14141458776 1.02727312899\n"
     ]
    }
   ],
   "source": [
    "import numpy as np\n",
    "import matplotlib.pyplot as plt\n",
    "\n",
    "E = np.linspace(0,100, 100)\n",
    "\n",
    "betas = [.01, .1, .5, .9]\n",
    "\n",
    "plt.figure()\n",
    "plt.xlabel(\"Energy\")\n",
    "plt.ylabel(\"p_i\")\n",
    "\n",
    "print(\" beta avg energy    entropy\")\n",
    "for beta in betas:\n",
    "    p_i = np.exp(-beta * E)\n",
    "    plt.plot(E, p_i);\n",
    "    \n",
    "    avg_energy = np.dot(p_i, E)\n",
    "    entropy = - np.dot(p_i, np.log(p_i))\n",
    "    print(\" \",beta, avg_energy, entropy)\n"
   ]
  },
  {
   "cell_type": "markdown",
   "metadata": {},
   "source": [
    "Note that the smaller $\\beta$, the larger the average energy $E$.\n",
    "\n",
    "\n",
    "\n",
    "$\\beta$ **is the thing that you tune to change the average energy.**\n",
    "\n",
    "> in fact, **beta is the inverse temperature**\n",
    "\n",
    "** Rewriting constraint (1.) above, using $p_i = \\frac1z e^{-\\beta E_i}$**\n",
    "\n",
    "$$\n",
    "\\frac1z \\sum_i e^{-\\beta E_i} = 1  \\implies\n",
    "$$\n",
    "\n",
    "<p style=\"border: 1px solid black\">\n",
    "$$\n",
    "z = \\sum_i e^{-\\beta E_i},\n",
    "$$\n",
    "</p> \n",
    "\n",
    "which we re-write as a function of $\\beta$ (called the **partition function**)\n",
    "\n",
    "$$\n",
    "\\sum_i e^{-\\beta E_i} = z(\\beta)\n",
    "$$\n",
    "\n",
    "** Rewriting constraint (2.) above, similarly, **\n",
    "\n",
    "**3.**\n",
    "$$\n",
    "\\sum_i E_i p_i = \\sum_i \\frac1z e^{-\\beta E_i} E_i = E\n",
    "$$\n",
    "\n",
    "This is an equation relating $\\beta$ to the average energy $E$.\n",
    "\n",
    "Now, if we differentiate the partition function: $\\sum_i e^{-\\beta E_i} = z(\\beta)$, we obtain\n",
    "\n",
    "$$\n",
    "\\frac{\\partial z}{\\partial \\beta} = - \\sum_i E_i e^{-\\beta E_i}\n",
    "$$\n",
    "\n",
    "Dividing by $z$ we get\n",
    "\n",
    "$$\n",
    "\\frac1z \\frac{\\partial z}{\\partial \\beta} = - \\frac{\\sum_i E_i e^{-\\beta E_i}}{z} (= E) \n",
    "$$\n",
    "\n",
    "\n",
    "But this is the same as (3.) above!\n",
    "\n",
    "**Therefore we have written the average energy as a function of derivative of the partition function.**\n",
    "\n",
    "$$\n",
    "E = - \\frac1z \\frac{\\partial z}{\\partial \\beta} = \\frac{\\sum_i E_i e^{-\\beta E_i}}{z}\n",
    "$$\n",
    "\n",
    "Thus\n",
    "\n",
    "$$\n",
    "E = - \\frac1z \\frac{\\partial z}{\\partial \\beta}  = - \\frac{\\partial \\log z}{\\partial \\beta}\n",
    "$$\n",
    "\n",
    "> (since $\\frac{d}{dx} \\log z = \\frac1z$)"
   ]
  },
  {
   "cell_type": "markdown",
   "metadata": {
    "collapsed": true
   },
   "source": [
    "<p style=\"border: 1px solid black\">\n",
    "We now have a relation between $E$ and $\\beta$:\n",
    "\n",
    "$$\n",
    "E(\\beta) = \\frac{- \\partial \\log z}{\\partial \\beta}\n",
    "$$\n",
    "</p> "
   ]
  },
  {
   "cell_type": "markdown",
   "metadata": {},
   "source": [
    "** Calculate Entropy as function of partition function $z$ **\n",
    "\n",
    "$$\n",
    "P_i = \\frac1z e^{-\\beta E_i}\n",
    "$$\n",
    "\n",
    "$$\n",
    "S = -\\sum_i p_i \\log p_i\n",
    "$$\n",
    "\n",
    "$$\n",
    "= -\\sum_i \\frac1z e^{-\\beta E_i}[-\\beta E_i - \\log z]\n",
    "$$\n",
    "\n",
    "$$\n",
    "= \\sum_i \\frac1z e^{-\\beta E_i}[\\beta E_i + \\log z]\n",
    "$$\n",
    "\n",
    "$$\n",
    "= \\beta \\sum_i p_i E_i + \\frac1z \\log z \\sum_i e^{-\\beta E_i}\n",
    "$$\n",
    "\n",
    "$$\n",
    "= \\beta E + \\frac1z z \\log z \n",
    "$$\n",
    "\n",
    "$$\n",
    "= S = \\beta E + \\log z\n",
    "$$"
   ]
  },
  {
   "cell_type": "markdown",
   "metadata": {},
   "source": [
    "<table style=\"border: 1px solid black\">\n",
    "<tr>\n",
    "<td>\n",
    "Entropy defined in terms of average energy and the partition function:\n",
    "\n",
    "$$\n",
    "S = \\beta E + \\log z\n",
    "$$\n",
    "</td>\n",
    "</tr>\n",
    "</table>"
   ]
  },
  {
   "cell_type": "markdown",
   "metadata": {},
   "source": [
    "** Temperature: **\n",
    "\n",
    "$$\n",
    "dE = Tds\n",
    "$$\n",
    "\n",
    "$$\n",
    "T = \\frac{dE}{dS}\n",
    "$$\n",
    "\n",
    "also\n",
    "\n",
    "$$\n",
    "\\frac1T = \\frac{dS}{dE}\n",
    "$$\n",
    "\n",
    "Taking derivative of entropy ($S$):\n",
    "\n",
    "** ?? understand derivative **\n",
    "$$\n",
    "dS = \\beta dE + E d \\beta + \\frac{\\partial \\log z}{\\partial \\beta} d \\beta \n",
    "$$\n",
    "\n",
    "$$\n",
    "= \\beta dE + E d\\beta - E d \\beta\n",
    "$$\n",
    "\n",
    "$$\n",
    "dS = \\beta dE\n",
    "$$\n",
    "\n",
    "$$\n",
    "\\frac1\\beta dS = dE\n",
    "$$\n",
    "\n",
    "<p style=\"border: 1px solid black\">\n",
    "$\\beta$ is the **inverse temperature**:\n",
    "\n",
    "$$\n",
    "T = \\frac1\\beta\n",
    "$$\n",
    "</p> "
   ]
  },
  {
   "cell_type": "markdown",
   "metadata": {},
   "source": [
    "# important equations\n",
    "\n",
    "<p style=\"border: 1px solid black\">\n",
    "$$\n",
    "p_i = \\frac1z e^{-\\beta E_i}\n",
    "$$\n",
    "\n",
    "$$\n",
    "z = \\sum_i e^{-\\beta E_i}\n",
    "$$\n",
    "\n",
    "$$\n",
    "E = -\\frac{\\partial \\log z}{\\partial \\beta}\n",
    "$$\n",
    "\n",
    "$$\n",
    "T = \\frac1\\beta\n",
    "$$\n",
    "\n",
    "$$\n",
    "S = \\beta E + \\log z\n",
    "$$\n",
    "\n",
    "</p> \n"
   ]
  },
  {
   "cell_type": "markdown",
   "metadata": {},
   "source": [
    "# Example - The Ideal Gas"
   ]
  },
  {
   "cell_type": "markdown",
   "metadata": {},
   "source": [
    "Gas in a box:\n",
    "![avolume](./images/volume.JPG)\n",
    "\n",
    "\n",
    "\n",
    "assumption: molecules' interaction is negligible (0 interaction)\n",
    "\n",
    "$N$ = number of particles\n",
    "\n",
    "$V$ = volume\n",
    "\n",
    "$\\rho$ = Density = $\\frac{N}{V}$ \n",
    "\n",
    "States are: the collection of position and momentum for all the particles\n",
    "\n",
    "positions: $x_1, ... x_{3N}$\n",
    "\n",
    "momenta: $p_1, ..., p_{3N}$\n",
    "\n",
    "State is point in [x,p] (6-dimensional)\n",
    "\n",
    "replaces sums by integrals\n",
    "\n",
    "**find the partition function $z$**\n",
    "\n",
    "$$\n",
    "z = \\int d^{3N}x d^{3N} p e^{-\\beta E_i} \n",
    "$$\n",
    "\n",
    "\n",
    "> kinetic energy = $\\frac12 m v^2$\n",
    "\n",
    "> assume all particles have same mass $m$\n",
    "\n",
    "> $p$ = momentum = $mv$\n",
    "\n",
    "> so the kinetic energy of each particle is $E_i = \\frac1{2m}[m^2 v_1^2 + m^2v_2^2 + m^2v_3^2]  = \\frac1{2m}[p_1^2 + p_2^2 + p_3^2]$\n",
    "\n",
    "> Note that $p_1, p_2, p_3$ are the 3 momentum components in 3 directions of each particle, having the same mass $m$.\n",
    "The $n$'s denote the coordinates.\n",
    "\n",
    "\n",
    "$$\n",
    "z =  \\int d^{3N}x d^{3N} P e^{-\\beta \\sum_{n = 1}^{3N} \\frac{P_n^2}{2m}}\n",
    "$$\n",
    "\n",
    "\n",
    "$$\n",
    "=  \\int d^{3N}x d^{3N} P e^{-\\frac{\\beta}{2m} \\sum_{n = 1}^{3N} P_n^2}\n",
    "$$"
   ]
  },
  {
   "cell_type": "markdown",
   "metadata": {},
   "source": [
    "> (sum in the exponent = product)\n",
    "\n",
    "$$\n",
    "=  \\int d^{3N}x d^{3N} P e^{-\\frac{\\beta}{2m}} \\prod_{n = 1}^{3N} e^{P_n^2}\n",
    "$$\n",
    "\n",
    "> Note: This integral can be factored into $x$ and $P$ terms.  The $P$ terms look like: \n",
    "\n",
    "> $dp_1 e^{-\\frac{\\beta}{2m}p_1^2} dp_2 e^{-\\frac{\\beta}{2m}p_2^2} dp_2 e^{-\\frac{\\beta}{2m}p_2^2}$\n",
    "\n",
    "> This is the integral over all possible states (all positions and momenta)\n",
    "\n",
    "> The **$x$ integral gives the volume of the box:**\n",
    "\n",
    "> $\\int d^3 x = V$\n",
    "\n",
    "> The integral over all the particles and $x$, $d^{3N}x$, gives $V^N$.\n",
    "\n",
    "> common practice to divide by $N!$, and say we over-counted the ways of substituting particles for each other: $\\frac{V^N}{N!}$\n",
    "\n",
    "\n"
   ]
  },
  {
   "cell_type": "markdown",
   "metadata": {},
   "source": [
    "> ** The $P$ part gives **\n",
    "\n",
    "$$\n",
    "\\big[\\int dP e^{- \\frac\\beta{2m} P^2}\\big]^{3N}\n",
    "$$\n",
    "\n",
    "Solving \n",
    "$$\n",
    "\\int dP e^{- \\frac\\beta{2m} P^2},$$ \n",
    "\n",
    "Let $q^2 = \\frac{\\beta}{2m} P^2$, giving\n",
    "\n",
    "$P = \\sqrt{\\frac{2m}{\\beta} }q $"
   ]
  },
  {
   "cell_type": "markdown",
   "metadata": {},
   "source": [
    "$dP = \\sqrt{\\frac{2m}{\\beta} }dq$, giving\n",
    "\n",
    "$$\n",
    "\\sqrt{\\frac{2m}{\\beta}} \\int dq e^{-q^2}\n",
    "$$\n",
    "\n",
    "> This integral happens to equal $\\sqrt\\pi$\n",
    "\n",
    ">  https://en.wikipedia.org/wiki/Gaussian_integral\n",
    "\n",
    "$$\n",
    "= \\sqrt{\\frac{2m \\pi}{\\beta}}\n",
    "$$"
   ]
  },
  {
   "cell_type": "markdown",
   "metadata": {
    "collapsed": true
   },
   "source": [
    "$$\n",
    "z = \\frac{V^N}{N!} \\big(\\frac{2m \\pi}{\\beta}\\big)^{\\frac{3N}{2}}\n",
    "$$\n",
    " \n",
    "\n",
    "Using Stirling's approximation, we get\n",
    "\n",
    "$$\n",
    "\\frac{V^N}{N!} = \\frac{V^N}{N^N e^{-N}} = \\big( \\frac{eV}{N}\\big) ^N = \\big(\\frac e\\rho\\big)^N, \n",
    "$$\n",
    "\n",
    "> since $\\rho = \\frac NV$, giving\n",
    "\n",
    "<p style=\"border: 1px solid black\">\n",
    "** the partition function:**\n",
    "$$\n",
    "z = \\big(\\frac{2m \\pi}{\\beta}\\big)^{\\frac{3N}{2}} \\big(\\frac e\\rho\\big)^N\n",
    "$$\n",
    "</p>"
   ]
  },
  {
   "cell_type": "markdown",
   "metadata": {},
   "source": [
    "useful to find the logarithm of $z$:\n",
    "\n",
    "$$\n",
    "\\log z = N \\big[ \\frac32 \\log \\frac{2m\\pi}\\beta + \\log e - \\log \\rho \\big]\n",
    "$$\n",
    "\n",
    "$$\n",
    "N \\big[ \\frac32 \\log \\frac{2m\\pi}\\beta - \\log \\rho + 1\\big]\n",
    "$$\n",
    "\n",
    ">  our goal is to maximize $z$, so we can get rid of constant terms for the derivative\n",
    "\n",
    "$$\n",
    "\\approx -\\frac{3N}2 \\log \\beta + \\text{const}\n",
    "$$\n",
    "\n",
    ">  the 3 comes from the 3 dimensions of space\n",
    "\n",
    ">  the 1/2 comes from the change of variables $p \\to q$\n"
   ]
  },
  {
   "cell_type": "markdown",
   "metadata": {},
   "source": [
    "## Now, let's calculate the total energy of the system\n",
    "\n",
    "Since\n",
    "\n",
    "$$\n",
    "E = -\\frac{\\partial \\log z}{\\partial \\beta},\n",
    "$$\n",
    "\n",
    "and\n",
    "\n",
    "$$\n",
    "\\beta = \\frac1T,\n",
    "$$"
   ]
  },
  {
   "cell_type": "markdown",
   "metadata": {},
   "source": [
    "$$\n",
    "\\frac{\\partial \\log z}{\\partial \\beta} = -\\frac{3N}{2}T,\n",
    "$$\n",
    "\n",
    "<p style=\"border: 1px solid black\">\n",
    "\n",
    "Therefore, the ** total energy is**\n",
    "\n",
    "$$\n",
    "E = - \\frac{\\partial \\log z}{\\partial \\beta} = \\frac{3N}{2}T.\n",
    "$$\n",
    "\n",
    "The energy per particle:\n",
    "\n",
    "$$\n",
    "\\frac EN = \\frac32 T\n",
    "$$\n",
    "</p>\n",
    "\n",
    "To convert from theoretical energy units to \"laboratory units\", multiply by the Boltzmann constant:\n",
    "\n",
    "$$\n",
    "\\frac EN = \\frac32 Tk_B\n",
    "$$\n",
    "\n",
    "> This is for all 3 directions in space.  \n",
    "\n",
    "> For each direction in space, the energy is \n",
    "\n",
    "$$\n",
    "\\frac EN = \\frac12 Tk_B\n",
    "$$\n"
   ]
  },
  {
   "cell_type": "markdown",
   "metadata": {
    "collapsed": true
   },
   "source": [
    "# Aside:  sharply peaked Gaussian\n",
    "\n",
    "$$\n",
    "g \\approx 2^N e^\\frac{− 2 n^2}{N}\n",
    "$$"
   ]
  },
  {
   "cell_type": "code",
   "execution_count": 38,
   "metadata": {
    "collapsed": true
   },
   "outputs": [],
   "source": [
    "N = 6.0 * 10**2\n",
    "\n",
    "n = np.linspace(-1000,1000)\n",
    "\n",
    "g = (2 **N) * np.exp((-2 * n ** 2)/(N))"
   ]
  },
  {
   "cell_type": "code",
   "execution_count": 39,
   "metadata": {
    "collapsed": false,
    "scrolled": false
   },
   "outputs": [
    {
     "data": {
      "image/png": "[encoded data removed]",
      "text/plain": [
       "<matplotlib.figure.Figure at 0x7f43c7da9b38>"
      ]
     },
     "metadata": {},
     "output_type": "display_data"
    }
   ],
   "source": [
    "plt.plot(n, g);\n",
    "#plt.ylim([0,1])\n",
    "#plt.xlim([-1000,1000])"
   ]
  },
  {
   "cell_type": "code",
   "execution_count": null,
   "metadata": {
    "collapsed": true
   },
   "outputs": [],
   "source": []
  }
 ],
 "metadata": {
  "kernelspec": {
   "display_name": "Python 3",
   "language": "python",
   "name": "python3"
  },
  "language_info": {
   "codemirror_mode": {
    "name": "ipython",
    "version": 3
   },
   "file_extension": ".py",
   "mimetype": "text/x-python",
   "name": "python",
   "nbconvert_exporter": "python",
   "pygments_lexer": "ipython3",
   "version": "3.6.0"
  }
 },
 "nbformat": 4,
 "nbformat_minor": 2
}
