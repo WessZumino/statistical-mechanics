{
 "cells": [
  {
   "cell_type": "markdown",
   "metadata": {},
   "source": [
    "# Statistical Mechanics Lectures 5 - 10\n",
    "\n",
    "# From Susskind's Lectures \"Statistical Mechanics\", Stanford\n",
    "## http://theoreticalminimum.com/courses/statistical-mechanics/2013/spring\n",
    "\n",
    "[Many figures and lecture content credit Leonard Susskind]\n",
    "\n",
    "## Galen J. Wilkerson\n",
    "## July 24, 2017"
   ]
  },
  {
   "cell_type": "code",
   "execution_count": 1,
   "metadata": {
    "collapsed": true
   },
   "outputs": [],
   "source": [
    "import numpy as np\n",
    "import matplotlib.pyplot as plt\n",
    "\n",
    "%matplotlib inline\n",
    "\n",
    "# don't show warnings - nicer output\n",
    "import warnings\n",
    "warnings.filterwarnings('ignore')\n",
    "\n",
    "# display all results, not just last\n",
    "from IPython.core.interactiveshell import InteractiveShell\n",
    "InteractiveShell.ast_node_interactivity = \"all\""
   ]
  },
  {
   "cell_type": "markdown",
   "metadata": {
    "heading_collapsed": true
   },
   "source": [
    "# Lecture 5 - Pressure of Ideal Gas, Fluctuations (Variance)"
   ]
  },
  {
   "cell_type": "markdown",
   "metadata": {
    "hidden": true
   },
   "source": [
    "> Best physicists think hard, then do the math.\n",
    "> Check the intuition with the mathematics.\n",
    "\n",
    "\n",
    "## Finding the pressure of an ideal gas\n",
    "\n",
    "Are the molecules isotropic? (distribution of velocity directions is uniform)\n",
    "\n",
    "** First find entropy **\n",
    "\n",
    "$$\n",
    "S = - \\sum p_i \\log p_i\n",
    "$$\n",
    "\n",
    "> Using $p_i = \\frac1z e^{-\\beta E_i}$\n",
    "\n",
    "We obtain\n",
    "\n",
    "$$\n",
    "S = - \\sum \\frac1z e^{-\\beta E_i} \\log \\frac1z e^{-\\beta E_i}\n",
    "$$\n",
    "\n",
    "$$\n",
    "= - \\sum \\frac1z e^{-\\beta E_i} (-\\beta E_i - \\log z)\n",
    "$$\n",
    "\n",
    "$$\n",
    "=  \\sum \\frac1z e^{-\\beta E_i} (\\beta E_i + \\log z)\n",
    "$$\n",
    "\n",
    "> since $\\sum p_i E_i$, the first term is the average energy\n",
    "\n",
    "> since $z = \\sum_i e^{-\\beta E_i}$, the second term gives "
   ]
  },
  {
   "cell_type": "markdown",
   "metadata": {
    "hidden": true
   },
   "source": [
    "> $\\frac1z z \\log z = \\log z$\n",
    "\n",
    "\n",
    "$$\n",
    "S = \\beta E + \\log z\n",
    "$$\n",
    "\n",
    "$$\n",
    "S = \\frac ET + \\log z\n",
    "$$\n",
    "\n",
    "which gives\n",
    "\n",
    "<p style=\"border: 1px solid black\">\n",
    "\n",
    "**The Helmholz Free Energy (A)** \n",
    "\n",
    "$$\n",
    "A = E - TS = -T \\log z\n",
    "$$\n",
    "\n",
    "This is a formula of convenience, since it occurs again and again in these kinds of calculations.\n",
    "\n",
    "</p>"
   ]
  },
  {
   "cell_type": "markdown",
   "metadata": {
    "hidden": true
   },
   "source": [
    "Generally, these are **Control parameters:**\n",
    "\n",
    "(macroscopic parameters that the experimenter can change)\n",
    "\n",
    "Volume\n",
    "\n",
    "Magnetic, electric field\n",
    "\n",
    "N  (number of molecules)\n",
    "\n",
    "Variables come in pairs: pressure and volume, etc.: one is **Control Parameter**, other is the **\"conjugate thermodynamic variable\"**\n",
    "\n",
    "pressure, temperature, etc.\n"
   ]
  },
  {
   "cell_type": "markdown",
   "metadata": {
    "hidden": true
   },
   "source": [
    "## \"Theorem\": Suppose have 2 functions of 2 variables\n",
    "\n",
    "\n",
    "dependent variables:\n",
    "\n",
    "$E, S$             \n",
    "\n",
    "\n",
    "independent variables we can control from outside:\n",
    "\n",
    "$T, V$\n",
    "\n",
    "$E  T$\n",
    "\n",
    "$S  V$\n",
    "\n",
    "\n",
    "### Theorem:\n",
    "\n",
    "$$\n",
    "\\frac{\\partial E}{\\partial V} \\Big\\rvert_s = \\frac{\\partial E}{\\partial V}\\Big\\rvert_T - \\frac{\\partial E}{\\partial S}\\Big\\rvert_V \\frac{\\partial S}{\\partial V}\\Big\\rvert_T\n",
    "$$\n",
    "\n",
    "$ \\big( \\rvert_s$ means \"at fixed S\" $\\big)$\n",
    "\n",
    "### Proof:  (see image)\n",
    "\n",
    "\n",
    "\n",
    "![contour proof](./images/lecture5proof.png)\n",
    "\n",
    "\n",
    "\n",
    "$$\n",
    "\\Delta E = \\frac{\\partial E}{\\partial V}  \\rvert_T  \\Delta V  + \\frac{\\partial E}{\\partial T} \\rvert_V \\Delta T\n",
    "$$\n",
    "\n",
    "Manipulate the right-most part of the equation:\n",
    "\n",
    "$$\n",
    "\\frac{\\partial E}{\\partial T} \\rvert_V \\Delta T = \n",
    "\\frac{\\partial S}{\\partial T} \\rvert_V \n",
    "\\frac{\\partial E}{\\partial S} \\rvert_V \\Delta T \n",
    "$$\n",
    "\n",
    "giving:\n",
    "\n",
    "$$\n",
    "\\Delta E = \\frac{\\partial E}{\\partial V}  \\rvert_T  \\Delta V + \\frac{\\partial S}{\\partial T} \\rvert_V \n",
    "\\frac{\\partial E}{\\partial S} \\rvert_V \\Delta T \n",
    "$$\n",
    "\n",
    "We're interested in the rate of change of $E$ with respect to $V$, so we should divide by $\\Delta V$ on both sides:\n",
    "\n",
    "$$\n",
    "\\frac{\\Delta E}{\\Delta V} = \\frac{\\partial E}{\\partial V}  \\rvert_T   + \\frac{\\partial S}{\\partial T} \\rvert_V \n",
    "\\frac{\\partial E}{\\partial S} \\rvert_V  \\frac{\\Delta T}{\\Delta V}\n",
    "$$\n",
    "\n",
    "Nowhere have we indicated we're moving along a line of constant entropy $S$.  \n",
    "\n",
    "The slope on the contour is just $\\frac{\\Delta T}{\\Delta V}$"
   ]
  },
  {
   "cell_type": "markdown",
   "metadata": {
    "hidden": true
   },
   "source": [
    "Along the contour, $dS = 0$.\n",
    "\n",
    "But (again, this time separating the components of S into contributions by changing volume or contributions by changing temperature.)\n",
    "\n",
    "$$\n",
    "dS = \\frac{\\partial S}{\\partial V} \\rvert_T \\Delta V + \\frac{\\partial S}{\\partial T} \\rvert_V \\Delta T\n",
    "$$\n",
    "\n",
    "can set to zero, since $S$ constant along line:\n",
    "\n",
    "$$\n",
    "0 = \\frac{\\partial S}{\\partial V} \\rvert_T \\Delta V + \\frac{\\partial S}{\\partial T} \\rvert_V \\Delta T\n",
    "$$\n",
    "\n",
    "and we can get a formula for $\\frac{\\Delta T}{\\Delta V}$ in terms of these partial derivatives.\n",
    "\n",
    "\n"
   ]
  },
  {
   "cell_type": "markdown",
   "metadata": {
    "hidden": true
   },
   "source": [
    "divide by $\\Delta V$\n",
    "\n",
    "$$\n",
    "0 = \\frac{\\partial S}{\\partial V} \\rvert_T  + \\frac{\\partial S}{\\partial T} \\rvert_V \\frac{\\Delta T}{\\Delta V}\n",
    "$$\n",
    "\n",
    "$\\implies$\n",
    "\n",
    "$$\n",
    "\\frac{\\Delta T}{\\Delta V} = - \\frac{\\partial S}{\\partial V} \\rvert_T \\Big/ \\frac{\\partial S}{\\partial T} \\rvert_V \n",
    "$$\n"
   ]
  },
  {
   "cell_type": "markdown",
   "metadata": {
    "hidden": true
   },
   "source": [
    "inserting into formula above:\n",
    "\n",
    "$$\n",
    "\\frac{\\Delta E}{\\Delta V} = \\frac{\\partial E}{\\partial V}  \\rvert_T   - \\frac{\\partial S}{\\partial T} \\rvert_V \n",
    "\\frac{\\partial E}{\\partial S} \\rvert_V   \\frac{\\partial S}{\\partial V} \\rvert_T \\big/ \\frac{\\partial S}{\\partial T} \\rvert_V \n",
    "$$"
   ]
  },
  {
   "cell_type": "markdown",
   "metadata": {
    "hidden": true
   },
   "source": [
    "$$\n",
    "= \\frac{\\partial E}{\\partial V}  \\rvert_T - \n",
    "\\frac{\\partial E}{\\partial S} \\rvert_V   \\frac{\\partial S}{\\partial V} \\rvert_T\n",
    "$$\n",
    "\n",
    "We have proved the lemma. $\\square$"
   ]
  },
  {
   "cell_type": "markdown",
   "metadata": {
    "hidden": true
   },
   "source": [
    "## Facts:\n",
    "\n",
    "* $S = - \\sum p_i \\log p_i$\n",
    "\n",
    "* $A = E - TS = -T \\log z$\n",
    "\n",
    "* Below, understand pressure"
   ]
  },
  {
   "cell_type": "markdown",
   "metadata": {
    "hidden": true
   },
   "source": [
    "## Understand what pressure is:"
   ]
  },
  {
   "cell_type": "markdown",
   "metadata": {
    "hidden": true
   },
   "source": [
    "**adiabatic** means \"slowly\" and \"no heat comes into the system\""
   ]
  },
  {
   "cell_type": "markdown",
   "metadata": {
    "hidden": true
   },
   "source": [
    "![piston](./images/piston.png)\n",
    "\n",
    "\n",
    "\n",
    "energy conservation tells us the the change in energy of the gas is minus the work done on the piston:\n",
    "\n",
    "have piston with area $A$\n",
    "\n",
    "piston moved $dX$ vertically\n",
    "\n",
    "move piston adiabatically\n",
    "\n",
    "$$\n",
    "dE = - P A dx\n",
    "$$\n",
    "\n",
    "Since area times the change in position is the change in volume:\n",
    "\n",
    "$$\n",
    "A dx = dv\n",
    "$$ \n",
    "\n",
    "$$\n",
    "\\implies\n",
    "$$\n",
    "\n",
    "$$\n",
    "dE = - P dv\n",
    "$$\n",
    "\n",
    "Another meaning of adiabatic:\n",
    "\n",
    "processes when entropy doesn't increase but stays the same.\n",
    "\n",
    "\n"
   ]
  },
  {
   "cell_type": "markdown",
   "metadata": {
    "hidden": true
   },
   "source": [
    "**Adiabatic theorem:**  (quantum mechanics)\n",
    "\n",
    "![adiabatic theorem](./images/adiabatic_theorem.png)\n",
    "\n",
    "\n",
    "If a system has a definite energy, and you slowly change the control parameter, the system will stay and simply ride along the energy level, and won't jump from one energy level to another.  \n",
    "\n",
    "The entropy is built from the probabilities $p_i$s, not the energy:\n",
    "\n",
    "$$\n",
    "S = - \\sum_i p_i \\log p_i\n",
    "$$\n",
    "\n",
    "adiabatic = the entropy doesn't change (constant entropy)"
   ]
  },
  {
   "cell_type": "markdown",
   "metadata": {
    "collapsed": true,
    "hidden": true
   },
   "source": [
    "Therefore, from above, we solve for P and fix the entropy:\n",
    "\n",
    "$$\n",
    "\\implies - \\frac{\\partial E}{\\partial V} \\rvert_S = P\n",
    "$$"
   ]
  },
  {
   "cell_type": "markdown",
   "metadata": {
    "hidden": true
   },
   "source": [
    "But it's hard to calculate things with fixed entropy.  Usually easier to calculate how things vary with temperature, since temperature appears in the Boltzmann distribution.\n",
    "\n",
    "From the previous theorem we just proved:\n",
    "\n",
    "$$\n",
    "- \\frac{\\partial E}{\\partial V} \\rvert_S = P = - \\frac{\\partial E}{\\partial V} \\rvert_T + \\frac{\\partial S}{\\partial V} \\rvert_T \\frac{\\partial E}{\\partial S} \\rvert_V  \n",
    "$$\n",
    "\n",
    "But since $dE = T ds$, or $T = \\frac{dE}{dS}$\n",
    "\n",
    "and holding the volume fixed means you don't change the system's volume, can replace $T$.\n",
    "\n",
    "$$\n",
    "- \\frac{\\partial E}{\\partial V} \\rvert_S = P = -\\frac{\\partial E}{\\partial V} \\rvert_T + \\frac{\\partial S}{\\partial V} \\rvert_T T \n",
    "$$"
   ]
  },
  {
   "cell_type": "markdown",
   "metadata": {
    "collapsed": true,
    "hidden": true
   },
   "source": [
    "Now the only derivatives are with respect to volume and fixed temperature.  We like this, since volume and temperature can be thought of as independent variables.\n",
    "\n",
    "Can rewrite:\n",
    "\n",
    "$$\n",
    "P = - \\frac{\\partial(E - TS)}{\\partial V} \\rvert_T\n",
    "$$\n",
    "\n",
    "That is, the pressure is the derivative (w.r.t. Volume) of the Helmholz free energy at fixed temperature.\n",
    "\n",
    "But we know the **Helmholz free energy**\n",
    "\n",
    "$$\n",
    "E - TS = -T \\log z\n",
    "$$\n",
    "\n",
    "$$\n",
    "\\implies P = - \\frac{\\partial(E - TS)}{\\partial V} \\rvert_T = T \\frac{\\partial \\log z}{\\partial V} \\rvert_T\n",
    "$$\n",
    "\n",
    "Only need to know how the partition function depends on the temperature.\n"
   ]
  },
  {
   "cell_type": "markdown",
   "metadata": {
    "hidden": true
   },
   "source": [
    "\n",
    "$$\n",
    "z =\\int dx dp e^{-\\beta \\frac{p^2}{2m}}\n",
    "$$\n",
    "\n",
    "3xs and 3ps (1 for each dimension)\n",
    "\n",
    "$$\n",
    "\\frac{V^N}{N!} f(\\beta) = Z\n",
    "$$\n",
    "\n",
    "$$\n",
    "\\log z = N \\log V + \\log f(\\beta)\n",
    "$$\n",
    "\n",
    "when taking derivative with respect to volume, can drop the other terms\n",
    "\n",
    "$$\n",
    "\\log z = N \\log V + ...\n",
    "$$\n",
    "\n",
    "$$\n",
    "\\partial \\log z = \\frac{N}{V}\n",
    "$$\n",
    "\n",
    "\n",
    "$$\n",
    "\\implies T \\frac{\\partial \\log Z}{\\partial V} = \\frac{NT}{V} = P\n",
    "$$"
   ]
  },
  {
   "cell_type": "markdown",
   "metadata": {
    "hidden": true
   },
   "source": [
    "## Fluctuations (or variance)\n",
    "\n",
    "Energy will fluctuate\n",
    "\n",
    "Begin with a quantity whose average is zero.\n",
    "\n",
    "![fluctuations](./images/vlcsnap-2018-03-11-22h59m38s548.png)"
   ]
  },
  {
   "cell_type": "markdown",
   "metadata": {
    "hidden": true
   },
   "source": [
    "The average of $x^2$ is a measure of the distribution.\n",
    "\n",
    "$\\Delta x = \\sqrt{<x^2>}$, or\n",
    "\n",
    "$(\\Delta X)^2 = <X^2> $\n",
    "\n",
    "\n",
    "## What if variable not centered at zero?\n",
    "\n",
    "![fluctuations2](./images/vlcsnap-2018-03-11-23h05m29s652.png)\n",
    "\n",
    "\n",
    "Just shift the variable so its average is zero:\n",
    "\n",
    "$X - <X>$\n",
    "\n",
    "\n",
    "Fluctuation is just average of this:\n",
    "\n",
    "$$\n",
    "<(X - <X>)^2>\n",
    "$$\n",
    "\n",
    "$$\n",
    "= <x^2 - 2x<x> + <x>^2 >\n",
    "$$\n",
    "\n",
    "$$\n",
    "= <x^2> - 2<x>^2 + <x>^2\n",
    "$$\n",
    "\n",
    "$$\n",
    "(\\Delta x) ^2 = <x^2> - <x>^2\n",
    "$$\n",
    "\n"
   ]
  },
  {
   "cell_type": "markdown",
   "metadata": {
    "collapsed": true,
    "hidden": true
   },
   "source": [
    "## Let's calculate fluctuations (variance) of energy:\n",
    "\n",
    "$$\n",
    "(\\Delta E)^2 = <E^2> - <E>^2\n",
    "$$\n",
    "\n",
    "In terms of the partition function, the average energy is:\n",
    "\n",
    "$$\n",
    "<E> = - \\frac{\\partial \\log Z}{\\partial \\beta}\n",
    "$$\n",
    "\n",
    "What about the average of the square of the energy\n",
    "\n",
    "Recall that \n",
    "\n",
    "$$\n",
    "<E> = \\sum \\frac1z e^{-\\beta E_i} E_i\n",
    "$$\n",
    "\n",
    "$$\n",
    "= \\frac1z \\frac{\\partial}{\\partial \\beta} z\n",
    "$$\n",
    "\n",
    "just take 2nd derivative:\n",
    "\n",
    "$$\n",
    "<E^2> = \\sum \\frac1z e^{-\\beta E_i} E^2_i\n",
    "$$"
   ]
  },
  {
   "cell_type": "markdown",
   "metadata": {
    "hidden": true
   },
   "source": [
    "$$\n",
    "\\implies  <E^2> - <E>^2\n",
    "$$\n",
    "\n",
    "$$\n",
    "(\\Delta E)^2  = \\frac1z \\frac{\\partial^2 z}{\\partial \\beta^2} - \\frac{1}{z^2} \\big(\\frac{\\partial z}{\\partial \\beta}\\big)^2\n",
    "$$"
   ]
  },
  {
   "cell_type": "markdown",
   "metadata": {
    "hidden": true
   },
   "source": [
    "**All of statistical mechanics is about the power of the partition function.**"
   ]
  },
  {
   "cell_type": "markdown",
   "metadata": {
    "hidden": true
   },
   "source": [
    "$$\n",
    "\\frac{\\partial^2}{\\partial \\beta^2} \\log z = \\frac{\\partial}{\\partial \\beta} \\frac1z \\frac{\\partial z}{\\partial \\beta} = (\\Delta E)^2 = - \\frac{\\partial}{\\partial \\beta} <E>\n",
    "$$\n",
    "\n",
    "$$\n",
    "= C_v (T) T^2\n",
    "$$\n",
    "\n",
    "\n",
    "$C$ = heat capacity = specific heat * mass"
   ]
  },
  {
   "cell_type": "markdown",
   "metadata": {
    "heading_collapsed": true
   },
   "source": [
    "# Lecture 6 - partition function and energy of system with kinetic and potential energy"
   ]
  },
  {
   "cell_type": "markdown",
   "metadata": {
    "collapsed": true,
    "hidden": true
   },
   "source": [
    "(start around minute 15)\n",
    "\n",
    "Calculate the partition function for a system of molecules for which the energy is not just the sum of the kinetic energies.  (there are forces)\n",
    "\n",
    "$p$ square of momentum\n",
    "\n",
    "$M$ = mass\n",
    "\n",
    "$\\frac{p^2}{2m}$ is the usual kinetic energy of a molecule.\n",
    "\n",
    "Here assume there is a potential energy for all pairs of molecules.\n",
    "\n",
    "$|x_n - x_m|$ is the distance between two molecules $n$ and $m$.\n",
    "\n",
    "E = kinetic + potential energy\n",
    "\n",
    "$$\n",
    "E = \\sum_n \\frac{p^2}{2M} + \\sum_{n > m} U(|x_n - x_m|)\n",
    "$$\n",
    "\n",
    "Could call the sum of all the potential energies of the particles $U(x) = \\sum_{n > m} U(|x_n - x_m|)$.\n",
    "\n",
    "Here, we assume the potential energy is 'small'.\n",
    "\n",
    "Integrating over all positions of two particles gives a factor of the volume:\n",
    "\n",
    "Hold particle 1 fixed and integrating over all other particles gives $U_0$, a combination of how strong and how widely spread $U$ is.\n",
    "\n",
    "$$\n",
    "\\int d^3x U(|x|) = U_0 \\approx uv\n",
    "$$\n",
    "\n",
    "(qualitatively, the height of the potential energy function times the volume of the molecule.)\n",
    "\n",
    "\n",
    "Assuming our potential function $U$ goes to zero outside of a local boundary:\n",
    "\n",
    "![potential](./images/potential_function.png)\n",
    "\n",
    "\n",
    "(units are volume * energy)\n",
    "\n",
    "Now we move particle 1 over the entire volume, giving us another factor of volume:\n",
    "\n",
    "$$\n",
    "\\int d^3x_1 d^3 x_2 U(|x_n - x_m|) = VU_0\n",
    "$$\n",
    "(actually a double integral $\\int \\int d^3x_1 d^3 x_2 $)\n",
    "\n",
    "Now we have the total potential energy for all locations of a pair of particles."
   ]
  },
  {
   "cell_type": "markdown",
   "metadata": {
    "hidden": true
   },
   "source": [
    "Now, calculate the partition function:\n",
    "\n",
    "z = integrate over momentum and position * exponential of the kinetic energy term + the potential energy term\n",
    "\n",
    "$$\n",
    "z = \\int\\frac{ dp dx}{N!} e^{- \\beta \\sum_n \\frac{p^2}{2M}- \\beta U(x)}\n",
    "$$\n",
    "\n",
    "The sum of the exponents gives the product of exponentials:\n",
    "\n",
    "$$\n",
    "= \\int\\frac{ dp dx}{N!} e^{- \\beta \\sum_n \\frac{p^2}{2M}} e^{- \\beta U(x)}\n",
    "$$"
   ]
  },
  {
   "cell_type": "markdown",
   "metadata": {
    "collapsed": true,
    "hidden": true
   },
   "source": [
    "Can factorize into momemtum and position integral, and rewrite as the product of two integrals:\n",
    "\n",
    "$$\n",
    "z = \\int  \\frac{dp}{N!} e^{- \\beta \\sum_n \\frac{p^2}{2M}} \\int e^{- \\beta U(x) }dx\n",
    "$$\n",
    "\n",
    "Last time we saw this:\n",
    "\n",
    "$$\n",
    "\\sqrt{\\frac{2 \\pi m}{\\beta}}^{3N}\n",
    "$$\n",
    "\n",
    "a Gaussian integral for each momentum, used for the case of the ideal gas\n",
    "\n",
    "The integral over position gave us:\n",
    "\n",
    "$$\n",
    "V^N\n",
    "$$\n",
    "\n",
    "Let's insert the $V^N$ term: (since it cancels in the numerator and denominator, we can do this)\n",
    "\n",
    "$$\n",
    "z = \\int  \\frac{dp V^N}{N!} e^{- \\beta \\sum_n \\frac{p^2}{2M}} \\int \\frac{e^{- \\beta U(x)} }{V^N}dx\n",
    "$$\n",
    "\n",
    "Now we can recognize the left-hand integral as the partition function for the ideal gas.\n",
    "\n",
    "Let's call this \n",
    "\n",
    "$$\n",
    "z_0(\\beta)\n",
    "$$"
   ]
  },
  {
   "cell_type": "markdown",
   "metadata": {
    "hidden": true
   },
   "source": [
    "Can expand the first two terms of $U(x)$ using a Taylor series:\n",
    "\n",
    "$$\n",
    "1 - \\beta U(x)\n",
    "$$\n",
    "\n",
    "(Using fact that $e^{-x} = 1 - x + \\frac{x^2}{2!} ...$, and that when $x$ is small, can ignore all but first few terms.)\n",
    "\n",
    "So, rewrite above righthand term as:\n",
    "\n",
    "$$\n",
    "\\int \\frac{dx}{V^N}[1 - \\beta U(x)]\n",
    "$$\n",
    "\n",
    "(Since $\\int_x 1 dx = V^N$, which cancels with the denominator.)\n",
    "\n",
    "$$\n",
    "= 1 - \\beta \\int \\frac{dx U(x)}{V^N}\n",
    "$$\n",
    "\n",
    "$$\n",
    "= 1 - \\beta \\int \\frac{dx}{V^N} \\sum_{n>m} u(|x_n - x_m|)\n",
    "$$\n",
    "\n",
    "But there are $\\frac{N(N-1)}{2}$ such pairs.\n",
    "\n",
    "$$\n",
    "1 - \\frac{\\beta N(N-1)}{2} \\int \\frac{dx_1 dx_2}{V^N} u(|x_2 - x_1|) dx_3 dx_4...\n",
    "$$\n",
    "\n",
    "The $dx_3, ...$ terms give a factor of $volume^{N-2} = V^{N-2}$\n",
    "\n",
    "$$\n",
    "1 - \\frac{\\beta N(N-1)}{2} \\int \\frac{dx_1 dx_2}{V^N} u(|x_2 - x_1|) V^{N-2}\n",
    "$$\n",
    "\n",
    "\n",
    "> Now, recall that\n",
    "\n",
    ">$$\n",
    "\\int dx_1 dx_2 u(x_1 - x_2) = VU_0\n",
    "$$\n"
   ]
  },
  {
   "cell_type": "markdown",
   "metadata": {
    "hidden": true
   },
   "source": [
    "Giving us:\n",
    "\n",
    "$$\n",
    "\\approx 1 - \\frac{\\beta N^2}{2} \\frac{U_0}{V}\n",
    "$$\n",
    "\n",
    "$$\n",
    "\\implies z = z_0(\\beta) 1 - \\frac{\\beta N^2}{2V} U_0\n",
    "$$"
   ]
  },
  {
   "cell_type": "markdown",
   "metadata": {
    "hidden": true
   },
   "source": [
    "Finally, this gives us the partition function:\n",
    "\n",
    "$$\n",
    "z = z_0(\\beta) [1 - \\frac{\\beta N^2}{2V}u_0]\n",
    "$$"
   ]
  },
  {
   "cell_type": "markdown",
   "metadata": {
    "hidden": true
   },
   "source": [
    "You usually take the logarithm of the partition function:\n",
    "\n",
    "$$\n",
    "\\log z = \\log z_0 + \\log[1 - \\frac{\\beta N^2}{2 V} U_0]\n",
    "$$\n",
    "\n",
    "$$\n",
    "= \\log z_0 - \\frac{\\beta N^2}{2V} U_0\n",
    "$$\n",
    "\n",
    "\n",
    ">(Since the Taylor expansion gives:\n",
    "\n",
    ">$$\n",
    "\\log (1 - x) \\approx -x + \\frac{x^2}{2} - \\frac{x^3}{3} + \\frac{x^4}{4} ... \\Big)\n",
    "$$"
   ]
  },
  {
   "cell_type": "markdown",
   "metadata": {
    "hidden": true
   },
   "source": [
    "What can we get from this partition function?  Energy\n",
    "\n",
    "$$\n",
    "E = - \\frac{\\partial \\log z}{\\partial \\beta} = \\frac32 NT + \\frac{N^2}{2V} U_0\n",
    "$$\n",
    "\n",
    "$$\n",
    "= - \\frac{\\partial \\log z}{\\partial \\beta} = \\frac32 NT + N \\frac{N}{2V} U_0\n",
    "$$\n",
    "\n",
    "$\\frac{N}{V}$ is density $\\rho$\n",
    "\n",
    "$$\n",
    "= - \\frac{\\partial \\log z}{\\partial \\beta} = \\frac32 NT + N \\frac{\\rho}{2} U_0\n",
    "$$"
   ]
  },
  {
   "cell_type": "markdown",
   "metadata": {
    "hidden": true
   },
   "source": [
    "Expressed in terms of energy per particle, the first term is proportional to temperature, and the second is proportional to energy between pairs of particles times the density:\n",
    "\n",
    "$$\n",
    "E = - \\frac{\\partial \\log z}{\\partial \\beta} = \\Big[\\frac32 T +  \\frac{\\rho}{2}U_0\\Big] N \n",
    "$$"
   ]
  },
  {
   "cell_type": "markdown",
   "metadata": {
    "hidden": true
   },
   "source": [
    "Since the proximity of particles affects the interactions, it makes sense that density is in this term."
   ]
  },
  {
   "cell_type": "markdown",
   "metadata": {
    "hidden": true
   },
   "source": [
    "We can use this to calculate the pressure, which we wrote in terms of the Helmholz free energy $A$ previously:\n",
    "\n",
    "$$\n",
    "A = -T \\log z\n",
    "$$\n",
    "\n",
    "$$\n",
    "P = \\frac{- \\partial A}{\\partial V}\\Big|_T = T \\frac{\\partial \\log z}{\\partial V} \\Big|_T\n",
    "$$\n",
    "\n",
    "$$\n",
    "= \\frac{NT}{V}\n",
    "$$\n",
    "\n",
    "> Multiply right-hand term of $z$ by temperature:\n",
    "\n",
    "> $$\n",
    "z = \\log z_0 - \\frac{\\beta N^2}{2V} U_0 \\times T\n",
    "$$\n",
    "\n",
    "> $$\n",
    "\\implies - \\frac{N^2}{2V} U_0\n",
    "$$\n",
    "\n",
    "$$\n",
    "= \\rho T + \\frac{N^2}{2 V^2}U_0\n",
    "$$\n"
   ]
  },
  {
   "cell_type": "markdown",
   "metadata": {
    "hidden": true
   },
   "source": [
    "(Since $\\frac{N}{V} = \\rho$, the density)\n",
    "\n",
    "\n",
    "$$\n",
    "= \\rho T + \\frac{1}{2}\\rho^2 U_0\n",
    "$$\n",
    "\n",
    "\n",
    "We are expanding in powers of the density.\n",
    "\n",
    "If the density is low, this is linear.\n",
    "\n",
    "Including the next term gives us:\n",
    "\n",
    "\n",
    "$$\n",
    "= \\rho T + \\frac{1}{2}\\rho^2 U_0 + \\frac{\\rho^3 U_0^2}{T}\n",
    "$$"
   ]
  },
  {
   "cell_type": "markdown",
   "metadata": {
    "hidden": true
   },
   "source": [
    ">Recall that the **Taylor series** lets us write the value of a function at a particular x value:\n",
    "\n",
    ">$$\n",
    "f(x)\\big|_{x = a} = \\sum_{n=0}^\\infty \\frac{f^{(n)}a}{n!} (x-a)^n\n",
    "$$\n"
   ]
  },
  {
   "cell_type": "markdown",
   "metadata": {
    "hidden": true
   },
   "source": [
    "$\\rho U_0 \\ll T$  That is, the potential energy per particle is much less than the kinetic energy.  When this is the case, this is a good approximation."
   ]
  },
  {
   "cell_type": "markdown",
   "metadata": {
    "collapsed": true,
    "hidden": true
   },
   "source": [
    "## Exact and in-exact differentials  (starts at 1h 26')\n",
    "\n",
    "![exact_inexact](./images/exact_inexact2.png)\n",
    "\n",
    "$$\n",
    "F(xy) = \\text{ altitude}\n",
    "$$\n",
    "\n",
    "$$\n",
    "dF = \\frac{\\partial F}{\\partial x} dx + \\frac{\\partial F}{\\partial y} dy\n",
    "$$\n",
    "\n",
    "Rewrite as \n",
    "\n",
    "$$\n",
    "dF = F_x dx + F_y dy,\n",
    "$$\n",
    "\n",
    "letting $F_x = \\frac{\\partial F}{\\partial x}$, and $F_y = \\frac{\\partial F}{\\partial y}$.\n",
    "\n",
    "\n",
    ">recall theorem of calculus, order of derivative doesn't matter:\n",
    "\n",
    ">$$\n",
    "\\frac{\\partial^2F}{\\partial x \\partial y} = \\frac{\\partial^2F}{ \\partial y \\partial x}\n",
    "$$\n",
    "\n",
    "which means, from the above:\n",
    "\n",
    "$$\n",
    "\\frac{\\partial F_y}{\\partial x} = \\frac{\\partial F_x}{\\partial y}\n",
    "$$\n",
    "\n",
    "But this is not necessarily true.\n",
    "\n",
    "> Recall that $F_x$ and $F_y$ form the components of the gradient of $F$.\n",
    "\n",
    "\n",
    "(This can be rewritten as\n",
    "\n",
    "$$\n",
    "\\frac{\\partial F_y}{\\partial x} - \\frac{\\partial F_x}{\\partial y} = 0,\n",
    "$$\n",
    "\n",
    "also known as the **curl**.)\n",
    "\n",
    "**If the curl equals zero, we say the system is exact.**, otherwise it is **inexact**.\n",
    "\n",
    "\n",
    "The condition that $F_x$ and $F_y$ are the derivatives of a unique function are this above statement."
   ]
  },
  {
   "cell_type": "markdown",
   "metadata": {
    "collapsed": true,
    "hidden": true
   },
   "source": [
    "![exact_inexact](./images/exact_inexact3.png)\n",
    "\n",
    "How much does $F$ change if we move along a curve?\n",
    "\n",
    "Add up all the small changes\n",
    "\n",
    "$$\n",
    "\\Delta F = \\int F_x dx + \\int F_y dy\n",
    "$$\n",
    "\n",
    "Any trip from one point to another will add up the the same change in $F$.\n",
    "\n",
    "\"Inexact things depend on the whole trajectory, not just the endpoints.\""
   ]
  },
  {
   "cell_type": "markdown",
   "metadata": {
    "collapsed": true,
    "hidden": true
   },
   "source": [
    "**Example 1:**\n",
    "\n",
    "$$\n",
    "F = xy\n",
    "$$\n",
    "\n",
    "$$\n",
    "F_x = y\n",
    "$$\n",
    "\n",
    "$$\n",
    "F_y = x\n",
    "$$\n",
    "\n",
    "$$\n",
    "\\frac{\\partial F_x}{\\partial y} = 1\n",
    "$$\n",
    "\n",
    "$$\n",
    "\\frac{\\partial F_y}{\\partial x} = 1\n",
    "$$\n",
    "\n",
    "**This is exact, since**\n",
    "\n",
    "$$\n",
    "\\frac{\\partial F_y}{\\partial x} - \\frac{\\partial F_x}{\\partial y} = 0,\n",
    "$$\n"
   ]
  },
  {
   "cell_type": "markdown",
   "metadata": {
    "collapsed": true,
    "hidden": true
   },
   "source": [
    "**Example 2:**\n",
    "\n",
    "If:\n",
    "\n",
    "$$\n",
    "F_x = y\n",
    "$$\n",
    "\n",
    "$$\n",
    "F_y = -x\n",
    "$$\n",
    "\n",
    "$$\n",
    "\\frac{\\partial F_x}{\\partial y} = 1\n",
    "$$\n",
    "\n",
    "$$\n",
    "\\frac{\\partial F_y}{\\partial x} = -1\n",
    "$$\n",
    "\n",
    "$$\n",
    "\\frac{\\partial F_y}{\\partial x} - \\frac{\\partial F_x}{\\partial y} = -1 - 1 = -2\n",
    "$$\n",
    "\n",
    "\n",
    "These are not derivatives of any real function.\n",
    "\n",
    "**This is inexact.**\n"
   ]
  },
  {
   "cell_type": "markdown",
   "metadata": {
    "hidden": true
   },
   "source": [
    "## Heat, work  (at 1h 45')"
   ]
  },
  {
   "cell_type": "markdown",
   "metadata": {
    "hidden": true
   },
   "source": [
    "Piston, particles:\n",
    "\n",
    "![piston_work](./images/piston_work.png)\n",
    "\n",
    "\n",
    "\n",
    "If we know the entropy and the volume, we can determine the state of the system:\n",
    "\n",
    "$S, V$ independent variables\n",
    "\n",
    "$$\n",
    "dE = -P dv\n",
    "$$\n",
    "\n",
    "$$\n",
    "dE = T dS\n",
    "$$\n",
    "\n",
    "$$\n",
    "\\implies dE = -P dv + T ds\n",
    "$$\n",
    "\n",
    "This is the **first law of thermodynamics.**\n",
    "\n",
    "$TdS = dQ$ is the heat you put in \n",
    "\n",
    "$-PdV = dW$ is the work done by the piston on the gas.\n",
    "\n",
    "> yet another meaning of 'adiabatic' is reversible\n",
    "\n",
    "Can be rewritten that the change of the energy equals the change in work plus the change in heat:\n",
    "\n",
    "$$\n",
    "dE = dW + dQ\n",
    "$$\n",
    "\n",
    "**Is $dQ$ (or $dW$) an exact differential?** \n",
    "\n",
    "I.e.:\n",
    "\n",
    "If we think of energy as a surface, can you go any path you like to go from one point to another, and will the total heat be the same?  (same with work)"
   ]
  },
  {
   "cell_type": "markdown",
   "metadata": {
    "hidden": true
   },
   "source": [
    "Let's change the independent variables from $S, V$ to $E, V$ (energy and volume)\n",
    "\n",
    "$$\n",
    "dQ = dE + P dV\n",
    "$$\n",
    "\n",
    "$$\n",
    "\\implies \\frac{dQ}{dE} = 1\n",
    "$$\n",
    "\n",
    "and \n",
    "$$\n",
    "\\frac{\\partial Q}{\\partial V} = P\n",
    "$$\n",
    "\n",
    "if $Q$ was an actual function.\n"
   ]
  },
  {
   "cell_type": "markdown",
   "metadata": {
    "hidden": true
   },
   "source": [
    "Let's test the curl:\n",
    "\n",
    "$$\n",
    "\\frac{\\partial^2 Q}{\\partial V \\partial E} = 0\n",
    "$$\n",
    "\n",
    "$$\n",
    "\\frac{\\partial P}{\\partial E} = \\frac{\\partial^2 Q}{\\partial E \\partial V} = 0\n",
    "$$"
   ]
  },
  {
   "cell_type": "markdown",
   "metadata": {
    "hidden": true
   },
   "source": [
    "However, the pressure **is** a function of the energy, so these derivatives are inaccurate.  \n",
    "(That is, it makes no sense that $\\frac{\\partial P}{\\partial E} = 0$.)\n",
    "\n",
    "pressure of an ideal gas:  $PV = NT$\n",
    "\n",
    "$$\n",
    "P = \\frac{NT}{V}\n",
    "$$\n",
    "\n",
    "$$\n",
    "E = \\frac32NT\n",
    "$$\n",
    "\n",
    "$$\n",
    "\\implies P = \\frac23 \\frac EV\n",
    "$$"
   ]
  },
  {
   "cell_type": "markdown",
   "metadata": {
    "hidden": true
   },
   "source": [
    "Therefore, \n",
    "\n",
    "$$\n",
    "\\frac{\\partial P}{\\partial E} = \\frac 23 \\ne 0\n",
    "$$\n",
    "\n",
    "so the curl test has failed, and the system is inexact. \n",
    "\n",
    "This means there is no such function $Q$ that is a function of where the system is, \n",
    "\n",
    "**$Q$ is path dependent, i.e. inexact**.\n",
    "\n",
    "The total amount of heat you have to put into a system to change it from one state to another state depends on the path you take.\n",
    "\n",
    "I.e. the path of how you get from one energy state to another is important."
   ]
  },
  {
   "cell_type": "markdown",
   "metadata": {
    "heading_collapsed": true
   },
   "source": [
    "# Lecture 7 - 2nd law of thermodynamics and what it means"
   ]
  },
  {
   "cell_type": "markdown",
   "metadata": {
    "hidden": true
   },
   "source": [
    "**Example:  Speed of sound**\n",
    "\n",
    "In a very dilute gas, how fast does an over-dense area spread out?\n",
    "\n",
    "Molecule's energy is equal to the kinetic energy, since it is the only energy that it has.\n",
    "\n",
    "\n",
    "$$\n",
    "E = \\frac32 k_Bt = \\frac12 mv^2\n",
    "$$\n",
    "\n",
    "To get the velocity of the molecule:\n",
    "\n",
    "$$\n",
    "\\frac{3 k_B T}{m} = v^2\n",
    "$$\n",
    "\n",
    "Formula for speed of sound terms of mass density:\n",
    "\n",
    "$$\n",
    "\\frac{\\partial P}{m \\partial \\rho} = c^2\n",
    "$$\n",
    "\n",
    "using ideal gas pressure\n",
    "\n",
    "$$\n",
    "P = \\rho k_B T\n",
    "$$\n",
    "\n",
    "$$\n",
    "\\implies \\frac{\\partial P}{\\partial \\rho} = k_B T\n",
    "$$\n",
    "\n",
    "divide by mass to get in same form as $c^2$ above:\n",
    "\n",
    "$$\n",
    "\\implies \\frac{\\partial P}{m \\partial \\rho} = \\frac{k_B T}{m}  = c^2\n",
    "$$\n",
    "\n",
    "which is correct within a factor of $\\sqrt3$, not bad."
   ]
  },
  {
   "cell_type": "markdown",
   "metadata": {
    "collapsed": true,
    "hidden": true
   },
   "source": [
    "## Let's try it:\n",
    "\n",
    "Let\n",
    "\n",
    "$$\n",
    "k_B = 1.3 \\times 10^{-23}\n",
    "$$\n",
    "\n",
    "$$\n",
    "m = 30 m_{proton} = 4 \\times 10^{-26} kg\n",
    "$$\n",
    "\n",
    "$$\n",
    "T = 300\n",
    "$$\n",
    "\n",
    "Using the above formula \n",
    "\n",
    "$$\n",
    "\\frac{3 k_B T}{m} = v^2\n",
    "$$\n",
    "\n",
    "\n",
    "we get:\n",
    "\n",
    "$$\n",
    "v = 500 m/sec\n",
    "$$ \n",
    "\n",
    "Which is close"
   ]
  },
  {
   "cell_type": "markdown",
   "metadata": {
    "hidden": true
   },
   "source": [
    "## Harmonic oscillator\n",
    "\n",
    "![oscillator](./images/oscillator.png)\n"
   ]
  },
  {
   "cell_type": "markdown",
   "metadata": {
    "hidden": true
   },
   "source": [
    "Hamiltonian (energy) of the system:\n",
    "\n",
    "$$\n",
    "E = \\frac{m}{2} + \\frac{k x^2}{2} \n",
    "$$\n",
    "\n",
    "using momentum instead of velocity:\n",
    "\n",
    "$$\n",
    "E = \\frac{p^2}{2m} + \\frac{kx^2}{2}\n",
    "$$"
   ]
  },
  {
   "cell_type": "markdown",
   "metadata": {
    "hidden": true
   },
   "source": [
    "write the Boltzmann distribution for the system:\n",
    "\n",
    "factorizing the energy into two terms:\n",
    "\n",
    "$$\n",
    "e^{-\\beta \\frac{p^2}{2m} } \\times e^{\\frac{-\\beta k x^2}{2}}\n",
    "$$\n",
    "\n",
    "use this to find the partition function: \n",
    "\n",
    "$$\n",
    "z = \\int e^{-\\beta \\frac{p^2}{2m} }  e^{\\frac{-\\beta k x^2}{2}} dp dx\n",
    "$$\n",
    "\n",
    "$$\n",
    "= \\int_p e^{-\\beta \\frac{p^2}{2m} } \\int_x e^{\\frac{-\\beta k x^2}{2}}\n",
    "$$"
   ]
  },
  {
   "cell_type": "markdown",
   "metadata": {
    "hidden": true
   },
   "source": [
    "To integrate the left side:\n",
    "\n",
    "$$\n",
    "\\frac{p^2 \\beta}{2m} = q^2\n",
    "$$\n",
    "\n",
    "$$\n",
    "p = \\sqrt{\\frac{2m}{\\beta}} q\n",
    "$$\n",
    "\n",
    "$$\n",
    "dp = \\sqrt{\\frac{2m}{\\beta}} \n",
    "$$\n"
   ]
  },
  {
   "cell_type": "markdown",
   "metadata": {
    "hidden": true
   },
   "source": [
    "$$\n",
    "\\sqrt{\\frac{2m}{\\beta}} \\int_{-\\infty}^{\\infty} dq e^{q^2}\n",
    "$$\n",
    "\n",
    "$$\n",
    "\\sqrt{\\frac{2m\\pi}{\\beta}}\n",
    "$$"
   ]
  },
  {
   "cell_type": "markdown",
   "metadata": {
    "hidden": true
   },
   "source": [
    "right side:\n",
    "\n",
    "$$\n",
    "\\frac{x^2 \\beta k}{2} = y^2\n",
    "$$\n",
    "\n",
    "$$\n",
    "x = \\sqrt{\\frac{2}{\\beta k}}  y\n",
    "$$"
   ]
  },
  {
   "cell_type": "markdown",
   "metadata": {
    "hidden": true
   },
   "source": [
    "giving us:\n",
    "\n",
    "$$\n",
    "z = \\sqrt{\\frac{2m\\pi}{\\beta}} \\sqrt{\\frac{2 \\pi}{\\beta k}}\n",
    "$$ \n",
    "\n",
    "(since $\\frac km = \\omega$:)\n",
    "\n",
    "$$\n",
    "z = \\frac{2 \\pi}{\\omega} \\frac 1\\beta\n",
    "$$"
   ]
  },
  {
   "cell_type": "markdown",
   "metadata": {
    "hidden": true
   },
   "source": [
    "Now, we'll calculate the energy of the oscillator. \n",
    "\n",
    "Find the $\\log(z)$, and differentiate with respect to $\\beta$. \n",
    "\n",
    "$$\n",
    "\\log z = c - \\log \\beta\n",
    "$$\n",
    "\n",
    "$$\n",
    "E = \\frac{-\\partial \\log z}{\\partial \\beta} = \\frac 1\\beta = T\n",
    "$$ \n",
    "\n",
    "Energy does not depend on mass or spring constant!"
   ]
  },
  {
   "cell_type": "markdown",
   "metadata": {
    "hidden": true
   },
   "source": [
    "## Quantum mechanical version of harmonic oscillator"
   ]
  },
  {
   "cell_type": "markdown",
   "metadata": {
    "hidden": true
   },
   "source": [
    "Set of discrete states of $\\hbar \\omega$:\n",
    "\n",
    "![states_quantum_oscillator](./images/states_quantum_oscillator.png)\n",
    "\n",
    "$$\n",
    "E = n \\hbar \\omega\n",
    "$$\n",
    "\n",
    "$$\n",
    "z = \\sum_n e^{-\\beta n \\hbar \\omega}\n",
    "$$\n",
    "\n",
    "$$\n",
    " = \\sum_n (e^{-\\beta \\hbar \\omega})^n\n",
    "$$\n",
    "\n",
    "Is of form:\n",
    "$$\n",
    "1 + x + x^2 + x^3 + ...\n",
    "$$\n",
    "\n",
    "$$\n",
    "= \\frac{1}{1-x}\n",
    "$$\n",
    "\n",
    "geometric series.\n",
    "\n",
    "This gives us:\n",
    "\n",
    "$$\n",
    "z = \\frac{1}{1 - e^{-\\beta \\hbar w}}\n",
    "$$"
   ]
  },
  {
   "cell_type": "markdown",
   "metadata": {
    "hidden": true
   },
   "source": [
    "Find the energy by taking derivate $\\log z$ with respect to $\\beta$."
   ]
  },
  {
   "cell_type": "markdown",
   "metadata": {
    "hidden": true
   },
   "source": [
    "> **Chain rule:** \n",
    "\n",
    "> Recall that the derivative of a compound function is:\n",
    "\n",
    ">$$\n",
    "\\frac d{dx} f(g(x)) = \\frac d{dg} f(g(x)) \\times \\frac d{dx} g(x)\n",
    "$$\n",
    "\n",
    ">Alternatively,  if  $z = f(y)$, and $y = g(x)$, \n",
    "\n",
    ">$$\n",
    "\\frac{dz}{dx} = \\frac{dz}{dy} \\frac{dy}{dx}\n",
    "$$"
   ]
  },
  {
   "cell_type": "markdown",
   "metadata": {
    "hidden": true
   },
   "source": [
    "Just use the property of the logarithm, since $\\frac{d}{dx} \\log x = \\frac 1x$ by using form\n",
    "\n",
    "$$\n",
    "\\frac{\\partial \\ln z}{\\partial \\beta} = \\frac{1}{z} \\frac{\\partial z}{\\partial \\beta}\n",
    "$$\n",
    "\n",
    "$$\n",
    "\\implies - \\frac{\\partial \\ln z}{\\partial \\beta} = -\\frac{1}{z} \\frac{\\partial z}{\\partial \\beta}\n",
    "$$\n",
    "\n",
    "$$\n",
    "\\frac{\\partial z}{\\partial \\beta} = \\frac{-1}{(1 - e^{-\\beta \\hbar w})^2} \\text{    Just from differentiating the whole denominator.}\n",
    "$$  "
   ]
  },
  {
   "cell_type": "markdown",
   "metadata": {
    "hidden": true
   },
   "source": [
    "(Since $\\frac d{dx} \\frac 1x = \\frac d{dx} x^{-1} = -1 x^{-2} = \\frac{-1}{x^2}$)."
   ]
  },
  {
   "cell_type": "markdown",
   "metadata": {
    "hidden": true
   },
   "source": [
    "Taking derivative of the 'inside',\n",
    "\n",
    "$$\n",
    "\\frac{d}{d\\beta} (1-e^{-\\beta \\hbar \\omega}) = \\hbar \\omega e^{-\\beta \\hbar \\omega}\n",
    "$$"
   ]
  },
  {
   "cell_type": "markdown",
   "metadata": {
    "hidden": true
   },
   "source": [
    "Combining these gives:\n",
    "\n",
    "$$\n",
    "\\frac{\\partial z}{\\partial \\beta} = \\frac{- \\hbar \\omega e^{-\\beta \\hbar \\omega}}{(1 - e^{-\\beta \\hbar w})^2}\n",
    "$$\n"
   ]
  },
  {
   "cell_type": "markdown",
   "metadata": {
    "hidden": true
   },
   "source": [
    "We still need to divide by $z$:\n",
    "\n",
    "$$\n",
    "\\frac{\\partial \\ln z}{\\partial \\beta} \n",
    "$$\n",
    "$$\n",
    "= \\frac{1}{z} \\frac{\\partial z}{\\partial \\beta} =  \\frac{1}{z}  \\frac{- \\hbar \\omega e^{-\\beta \\hbar \\omega}}{(1 - e^{-\\beta \\hbar w})^2}\n",
    "$$\n",
    "\n",
    "$$\n",
    "= (1 - e^{-\\beta \\hbar w})  \\frac{- \\hbar \\omega e^{-\\beta \\hbar \\omega}}{(1 - e^{-\\beta \\hbar w})^2}\n",
    "$$\n",
    "\n",
    "$$\n",
    "=  \\frac{- \\hbar \\omega e^{-\\beta \\hbar \\omega}}{(1 - e^{-\\beta \\hbar w})}\n",
    "$$"
   ]
  },
  {
   "cell_type": "markdown",
   "metadata": {
    "hidden": true
   },
   "source": [
    "This gives the negative of the energy, but we of course want positive energy, so negate:\n",
    "\n",
    "\n",
    "$$\n",
    "- \\frac{1}{z} \\frac{\\partial z}{\\partial \\beta} =  \\frac{\\hbar \\omega e^{-\\beta \\hbar \\omega}}{(1 - e^{-\\beta \\hbar w})}\n",
    "$$\n",
    "\n",
    "$$\n",
    "E =  \\frac{\\hbar \\omega e^{-\\beta \\hbar \\omega}}{(1 - e^{-\\beta \\hbar w})}\n",
    "$$\n",
    "\n",
    "This is compared with $E = \\frac 1 \\beta$ in the classical case."
   ]
  },
  {
   "cell_type": "markdown",
   "metadata": {
    "hidden": true
   },
   "source": [
    "At **high temp, the classical theory is good**.  When systems have high temperature they have a lot of energy, and the quantization of energy becomes unimportant.\n",
    "\n",
    "At high temp, since $\\beta = 1/T$, $\\beta \\to 0$.\n",
    "\n",
    "Since $\\lim_{\\beta \\to 0} e^{-\\beta \\hbar \\omega} = 1$ for the numerator, and for the denominator we use the first two terms of the Taylor expansion: $e^x = 1 + x + \\frac{x^2}{2} + ...$,\n",
    "\n",
    "$$\n",
    "\\lim_{\\beta \\to 0} \\frac{\\hbar \\omega e^{-\\beta \\hbar \\omega}}{(1 - e^{-\\beta \\hbar w})} \\approx \\frac{\\hbar \\omega}{1 - (1 - \\beta \\hbar \\omega)} = \\frac{\\hbar \\omega}{1 -1 + \\beta \\hbar \\omega} = \\frac 1 \\beta\n",
    "$$\n",
    "\n",
    "**This is similar to our result for the classical oscillator. $E = \\frac1 \\beta$**\n",
    "\n",
    "\n",
    "> Note, if we had used the Taylor expansion for the numerator AND denominator, we would get:\n",
    "\n",
    "> $$\n",
    "\\lim_{\\beta \\to 0} \\frac{\\hbar \\omega e^{-\\beta \\hbar \\omega}}{(1 - e^{-\\beta \\hbar w})} \\approx \\frac{\\hbar \\omega (1 - \\beta \\hbar \\omega)}{1 - (1 - \\beta \\hbar \\omega)} \n",
    "$$\n",
    "\n",
    "> $$\n",
    "= \\frac{\\hbar \\omega - \\beta \\hbar^2 \\omega^2}{\\beta \\hbar \\omega} \n",
    "$$\n",
    "\n",
    "> $$\n",
    "= \\frac{1}{\\beta} - \\hbar \\omega\n",
    "$$"
   ]
  },
  {
   "cell_type": "markdown",
   "metadata": {
    "hidden": true
   },
   "source": [
    "** At low temperature, $\\beta \\gg 0$ **\n",
    "\n",
    "The denominator $\\to$ 1.\n",
    "\n",
    "$$\n",
    "\\lim E_{T \\to 0} = \\lim_{T \\to 0} \\frac{\\hbar \\omega e^{-\\beta \\hbar \\omega}}{(1 - e^{-\\beta \\hbar w})} \\approx \\hbar \\omega e^{-\\beta \\hbar \\omega}, \\text{also very small}\n",
    "$$\n",
    "\n",
    "So, in the quantum case, there is much less energy than in the classical oscillator.\n",
    "\n",
    "Where is the crossover between classical and quantum (high and low temperature)?"
   ]
  },
  {
   "cell_type": "markdown",
   "metadata": {
    "hidden": true
   },
   "source": [
    "The crossover is where the exponential goes from small to large:\n",
    "\n",
    "where the value in the exponential is about 1:\n",
    "\n",
    "$$\n",
    " \\beta \\hbar \\omega \\approx 1\n",
    "$$\n",
    "\n",
    "$$\n",
    "\\beta \\hbar \\omega \\gt 1  \\text{,    quantum (low temp.)}\n",
    "$$\n",
    "\n",
    "$$\n",
    "\\beta \\hbar \\omega \\lt 1  \\text{,     classical (high temp.)}\n",
    "$$\n",
    "\n",
    "$$\n",
    "\\text{Since } \\beta = 1/t, \\text{   crossover between quantum and classical behavior happens at   } \n",
    "$$\n",
    "$$\n",
    "\\hbar \\omega \\approx T.\n",
    "$$"
   ]
  },
  {
   "cell_type": "markdown",
   "metadata": {
    "hidden": true
   },
   "source": [
    "As you heat the system, more and more degrees of freedom become activated (the energy is high enough to overcome very stiff springs of atomic or molecular interactions).  Elements of the system unfreeze themselves from the quantum constraint and start behaving classically."
   ]
  },
  {
   "cell_type": "markdown",
   "metadata": {
    "hidden": true
   },
   "source": [
    "## 2nd law of thermodynamics - \n",
    "## Entropy increases, or stays the same"
   ]
  },
  {
   "cell_type": "markdown",
   "metadata": {
    "hidden": true
   },
   "source": [
    "![phase_space](./images/phase_space.png)\n",
    "\n",
    "Entropy is $- \\log(V)$ in phase space\n",
    "\n",
    "Microscopic entropy or micro-entropy (left-hand side)\n",
    "\n",
    "vs. \n",
    "\n",
    "Coarse-grained phase space - volume appears to increase (right-hand side of figure)\n",
    "\n",
    "\n",
    "**Entropy is not only a property of the system, it is a property of the system and *what you know* about the system.**\n",
    "\n",
    "No matter how good your resolution, at some point you won't be able to capture all the complexity of phase space, so entropy increases. (due to 'coarse-graining' by limits of resolution)\n",
    "\n",
    "This is **chaos** in phase space, the volume will grow smaller and smaller 'fibers'.\n",
    "\n",
    "![fibers](./images/fibers.png)\n",
    "\n",
    "\n",
    "\n",
    "Boltzmann: Entropy *probably* increases.\n",
    "\n",
    "**Chaos:  two 'nearby' points in phase space eventually diverge**\n",
    "\n",
    "![chaos1](./images/chaos1.png)\n",
    "\n",
    "\n",
    "Eventually, this 'cotton' of uncertainty can fill all of phase space, so we don't know anything anymore.\n",
    "\n",
    "![chaos2](./images/chaos2.png)\n",
    "\n",
    "The phase point will eventually come back to the starting point (within a certain tolerance)."
   ]
  },
  {
   "cell_type": "markdown",
   "metadata": {
    "heading_collapsed": true
   },
   "source": [
    "# Lecture 8 - Poincare Recurrence, Introduction to Ising Model"
   ]
  },
  {
   "cell_type": "markdown",
   "metadata": {
    "hidden": true
   },
   "source": [
    "** Poincare recurrence **- how long do you have to wait for the system to return to initial conditions?\n",
    "\n",
    "![poincare_recurrence](./images/poincare_recurrence.png)\n",
    "\n",
    "Start in one corner of phase space.\n",
    "\n",
    "The probability of all $N$ particles to be in one half of the room?  \n",
    "\n",
    "You would expect all the particles to be in that half of the room $\\frac12^N$ of the time.\n"
   ]
  },
  {
   "cell_type": "markdown",
   "metadata": {
    "hidden": true
   },
   "source": [
    "If we have $N$ particles and a smaller part of the room\n",
    "\n",
    "![poincare_recurrence2](./images/poincare_recurrence2.png)\n",
    "\n",
    "$V^N$ is the exponential to the exponential of entropy\n",
    "\n",
    "Roughly speaking, $v^N$ is the entropy a gas would have if all the particles were in a small region.\n",
    "\n",
    "The probability of being in a small region is $e^{-S} = \\frac{1}{e^S}$\n",
    "\n",
    "Roughly $10^{30}$ particles in the room.\n",
    "\n",
    "$\\frac12^{10^{30}}$ of the time, you will be in the starting position.\n",
    "\n",
    "in the case of halves of the room, you have to wait approximately $2^{10^{30}}$ time units. \n",
    "\n",
    "(so large that units don't matter. For example $\\frac{2^{10^{30}}}{10^3} \\approx 2^{10^{30}-3}$, still very large.)\n",
    "\n",
    "We do this exercise to understand reversibility of systems.  If we watch a closed system long enough."
   ]
  },
  {
   "cell_type": "markdown",
   "metadata": {
    "hidden": true
   },
   "source": [
    "## Problem of Bolztmann Brains"
   ]
  },
  {
   "cell_type": "markdown",
   "metadata": {
    "hidden": true
   },
   "source": [
    "## Magnets - Ising Model"
   ]
  },
  {
   "cell_type": "markdown",
   "metadata": {
    "hidden": true
   },
   "source": [
    "Magnetic field, no interactions.\n",
    "\n",
    "![ising](./images/ising.png)\n",
    "\n",
    "\n",
    "Phase transition is point at which large number of sub-magnets align. \n",
    "\n",
    "(Don't think of it as real magnet.)\n",
    "\n",
    "$\\sigma(i) \\in \\{+1, -1\\}$ = up, down\n",
    "\n",
    "Energy:\n",
    "\n",
    "$n$ = number of ups\n",
    "\n",
    "$m$ = number of downs\n",
    "\n",
    "$n + m = N$\n",
    "\n",
    "$H$ is an external magnetic field imposed from the outside\n",
    "\n",
    "$\\mu$ is the strength of the magnetic field.\n",
    "\n",
    "$$\n",
    "E = (n - m) \\mu H\n",
    "$$\n",
    "\n",
    "The number of configurations is:\n",
    "\n",
    "$$\n",
    "\\frac{N!}{n! m!}\n",
    "$$\n",
    "\n",
    "Partition function:\n",
    "\n",
    "$$\n",
    "z = \\sum_{n} e^{-\\beta \\mu H (n-m)},\n",
    "$$\n",
    "\n",
    "where $m = N - n$\n",
    "\n",
    "\n",
    "Let $e^{-\\beta \\mu H} = x$ and $e^{\\beta \\mu H} = y$, we get\n",
    "\n",
    "$$\n",
    "= \\sum_n \\frac{N!}{n!(N-n)!} x^n y^m = (x + y)^N,\n",
    "$$\n",
    "\n",
    "which gives\n",
    "\n",
    "$$\n",
    "z = (e^{-\\beta \\mu H} + e^{\\beta \\mu H})^N\n",
    "$$"
   ]
  },
  {
   "cell_type": "markdown",
   "metadata": {
    "hidden": true
   },
   "source": [
    "$$\n",
    "= \\frac{(e^{-\\beta \\mu H} + e^{\\beta \\mu H})}{2}^N 2^N\n",
    "$$\n",
    "\n",
    "$$\n",
    "z = 2^N(\\cosh \\beta \\mu H)^N  \\text{    (hyperbolic cosine)}\n",
    "$$"
   ]
  },
  {
   "cell_type": "markdown",
   "metadata": {
    "hidden": true
   },
   "source": [
    "Magnetization (average up-ness or down-ness of each particle)\n",
    "\n",
    "$$\n",
    "<M> = \\frac{<n-m>}N\n",
    "$$\n",
    "\n",
    "Average energy:\n",
    "$$\n",
    "<E> = N \\mu H <M>\n",
    "$$"
   ]
  },
  {
   "cell_type": "markdown",
   "metadata": {
    "hidden": true
   },
   "source": [
    "The system is biased to be down, not up.  Energy 'wants' to be minimized.\n",
    "\n",
    "Calculate the energy from the partition function:\n",
    "\n",
    "$$\n",
    "E = - \\frac{\\partial \\log z}{\\partial \\beta}\n",
    "$$\n",
    "\n",
    "(drop the constant) \n",
    "\n",
    "$$\n",
    "\\log z = N (\\log \\cosh \\beta \\mu H)\n",
    "$$"
   ]
  },
  {
   "cell_type": "markdown",
   "metadata": {
    "hidden": true
   },
   "source": [
    "$$\n",
    "E = -\\frac{\\partial \\log z}{\\partial \\beta} = - N \\frac{\\sinh \\beta \\mu H}{\\cosh \\beta \\mu H} \\mu H\n",
    "$$"
   ]
  },
  {
   "cell_type": "markdown",
   "metadata": {
    "hidden": true
   },
   "source": [
    "Find the magnetization, divide by $N \\mu H$:\n",
    "\n",
    "$$\n",
    "M = -\\frac{\\sinh \\beta \\mu H}{\\cosh \\beta \\mu H} = -\\tanh \\beta \\mu H\n",
    "$$\n",
    "\n",
    "$H, \\mu$ are constants, so just a function of $\\beta$.  What does $\\tanh$ look like?\n",
    "\n",
    "$$\n",
    "\\cosh x = \\frac{e^x + e^{-x}}{2}\n",
    "$$\n",
    "\n",
    "$$\n",
    "\\sinh x = \\frac{e^x - e^{-x}}{2}\n",
    "$$\n",
    "\n",
    "![tanh](./images/tanh.png)\n",
    "\n"
   ]
  },
  {
   "cell_type": "markdown",
   "metadata": {
    "hidden": true
   },
   "source": [
    "### Energy\n",
    "\n",
    "For one pair of particles:\n",
    "\n",
    "$$\n",
    "E = -j \\sigma(1) \\sigma(2)\n",
    "$$\n",
    "\n",
    "For the system:\n",
    "\n",
    "$$\n",
    "E = -j \\sum_n \\sigma(n) \\sigma(n+1)\n",
    "$$\n",
    "\n",
    "\"Symmetry is usually represented by a mathematical operation on the degrees of freedom.\"\n",
    "\n",
    "\"Symmetry is actions you can do that don't change the energy.\""
   ]
  },
  {
   "cell_type": "markdown",
   "metadata": {
    "hidden": true
   },
   "source": [
    "Next time: solve 1-dimensional Ising model"
   ]
  },
  {
   "cell_type": "markdown",
   "metadata": {},
   "source": [
    "# Lecture 9 - Ising Model, 1-Dimensional and High-dimensional"
   ]
  },
  {
   "cell_type": "markdown",
   "metadata": {
    "collapsed": true
   },
   "source": [
    "Wrote\n",
    "\n",
    "$$\n",
    "E = \\mu \\beta \\sigma\n",
    "$$\n",
    "\n",
    "Now let $j =  - \\mu \\beta$      (Both constants.)\n",
    "\n",
    "$$\n",
    "E = - j \\sigma\n",
    "$$\n",
    "\n",
    "$$\n",
    "z = \\sum e^{+ \\beta j \\sigma} = (e^{\\beta j} + e^{- \\beta j}) = 2 \\cosh \\beta j\n",
    "$$"
   ]
  },
  {
   "cell_type": "markdown",
   "metadata": {},
   "source": [
    "$$\n",
    "\\frac{\\partial z}{\\partial \\beta} = 2j\\sinh \\beta j\n",
    "$$\n",
    "\n",
    "$$\n",
    "- \\frac 1z \\frac{\\partial z}{\\partial \\beta} = - \\frac{2j\\sinh \\beta j}{2 \\cosh \\beta j} = - j \\tanh \\beta j\n",
    "$$"
   ]
  },
  {
   "cell_type": "markdown",
   "metadata": {},
   "source": [
    "The average energy of one particle (not whole system):\n",
    "$$\n",
    "<E> = - j \\tanh \\beta j\n",
    "$$\n",
    "\n",
    "$$\n",
    "<\\sigma> = \\tanh \\beta j\n",
    "$$\n",
    "\n",
    "Hyperbolic tangent has slope 1 at 0, and $\\lim_{x\\to \\infty}\\tanh x = 1$\n",
    "\n",
    "Here let $x = \\beta j$\n",
    "\n",
    "![tanh2](./images/tanh2.png)\n"
   ]
  },
  {
   "cell_type": "markdown",
   "metadata": {},
   "source": [
    "## 1-Dimensional Ising Model:"
   ]
  },
  {
   "cell_type": "markdown",
   "metadata": {},
   "source": [
    "\n",
    "![ising2](./images/ising2.png)\n",
    "\n",
    "$$\n",
    "E = - j \\sum_i \\sigma_i \\sigma_{i+1}\n",
    "$$\n",
    "\n",
    "Minus sign means favors particles being parallel (same orientation)."
   ]
  },
  {
   "cell_type": "markdown",
   "metadata": {},
   "source": [
    "There are two **ground states**: all up, all down"
   ]
  },
  {
   "cell_type": "markdown",
   "metadata": {},
   "source": [
    "Partition function:\n",
    "\n",
    "exponential of all possible configurations\n",
    "\n",
    "$$\n",
    "z = e^{-j \\beta \\sum_i \\sigma_i \\sigma_{i+1}}\n",
    "$$"
   ]
  },
  {
   "cell_type": "markdown",
   "metadata": {},
   "source": [
    "Can substitute the values of the bonds for the spins:\n",
    "\n",
    "$$\n",
    "z = \\sum_{\\mu} e^{-j \\beta \\mu_i}\n",
    "$$"
   ]
  },
  {
   "cell_type": "markdown",
   "metadata": {},
   "source": [
    "## missed some material **~35 min**"
   ]
  },
  {
   "cell_type": "markdown",
   "metadata": {},
   "source": [
    "## High-Dimensional Ising Model:"
   ]
  },
  {
   "cell_type": "markdown",
   "metadata": {},
   "source": [
    "![high_dimensional_ising](./images/high_dimensional_ising.png)\n",
    "\n",
    "**Mean-field approximation**"
   ]
  },
  {
   "cell_type": "markdown",
   "metadata": {},
   "source": [
    "$$\n",
    "- j\\sigma \\sum_{neighbor} \\sigma\n",
    "$$\n",
    "\n",
    "mean field approximation\n",
    "\n",
    "average spin:\n",
    "\n",
    "$$\n",
    "\\bar{\\sigma}\n",
    "$$\n",
    "\n",
    "energy of one particle:\n",
    "\n",
    "$$\n",
    "E = -2d j \\sigma \\bar{\\sigma}\n",
    "$$"
   ]
  },
  {
   "cell_type": "markdown",
   "metadata": {},
   "source": [
    "$$\n",
    "\\bar{\\bar{\\sigma}} = \\tanh (2\\beta dj) \\bar{\\sigma}\n",
    "$$"
   ]
  },
  {
   "cell_type": "markdown",
   "metadata": {},
   "source": [
    "Let $y = 2 \\beta d j \\bar{\\sigma}$"
   ]
  },
  {
   "cell_type": "markdown",
   "metadata": {},
   "source": [
    "$$\n",
    "\\implies \\frac{y}{2\\beta d j} = \\tanh y\n",
    "$$\n",
    "\n",
    "$$\n",
    "\\implies \\frac{Ty}{2 d j} = \\tanh y\n",
    "$$"
   ]
  },
  {
   "cell_type": "markdown",
   "metadata": {},
   "source": [
    "At high temperature, red line vertical, only intersects $\\tanh$ at 0.\n",
    "\n",
    "When $\\frac{T}{2dj} = 1$, slope is 1, the left-hand side is tangent to the $\\tanh$ function.\n",
    "\n",
    "$T = 2dj$\n",
    "\n",
    "![tanh_ising](./images/tanh_ising.png)\n",
    "\n",
    "As $T$ decreases, solution intersects $tanh$ with lower slope lines.\n",
    "\n",
    "Phase transition\n",
    "\n",
    "Intuition for why 1-dimensional case is less stable"
   ]
  },
  {
   "cell_type": "code",
   "execution_count": 51,
   "metadata": {
    "collapsed": false
   },
   "outputs": [
    {
     "data": {
      "application/javascript": [
       "/* Put everything inside the global mpl namespace */\n",
       "window.mpl = {};\n",
       "\n",
       "\n",
       "mpl.get_websocket_type = function() {\n",
       "    if (typeof(WebSocket) !== 'undefined') {\n",
       "        return WebSocket;\n",
       "    } else if (typeof(MozWebSocket) !== 'undefined') {\n",
       "        return MozWebSocket;\n",
       "    } else {\n",
       "        alert('Your browser does not have WebSocket support.' +\n",
       "              'Please try Chrome, Safari or Firefox ≥ 6. ' +\n",
       "              'Firefox 4 and 5 are also supported but you ' +\n",
       "              'have to enable WebSockets in about:config.');\n",
       "    };\n",
       "}\n",
       "\n",
       "mpl.figure = function(figure_id, websocket, ondownload, parent_element) {\n",
       "    this.id = figure_id;\n",
       "\n",
       "    this.ws = websocket;\n",
       "\n",
       "    this.supports_binary = (this.ws.binaryType != undefined);\n",
       "\n",
       "    if (!this.supports_binary) {\n",
       "        var warnings = document.getElementById(\"mpl-warnings\");\n",
       "        if (warnings) {\n",
       "            warnings.style.display = 'block';\n",
       "            warnings.textContent = (\n",
       "                \"This browser does not support binary websocket messages. \" +\n",
       "                    \"Performance may be slow.\");\n",
       "        }\n",
       "    }\n",
       "\n",
       "    this.imageObj = new Image();\n",
       "\n",
       "    this.context = undefined;\n",
       "    this.message = undefined;\n",
       "    this.canvas = undefined;\n",
       "    this.rubberband_canvas = undefined;\n",
       "    this.rubberband_context = undefined;\n",
       "    this.format_dropdown = undefined;\n",
       "\n",
       "    this.image_mode = 'full';\n",
       "\n",
       "    this.root = $('<div/>');\n",
       "    this._root_extra_style(this.root)\n",
       "    this.root.attr('style', 'display: inline-block');\n",
       "\n",
       "    $(parent_element).append(this.root);\n",
       "\n",
       "    this._init_header(this);\n",
       "    this._init_canvas(this);\n",
       "    this._init_toolbar(this);\n",
       "\n",
       "    var fig = this;\n",
       "\n",
       "    this.waiting = false;\n",
       "\n",
       "    this.ws.onopen =  function () {\n",
       "            fig.send_message(\"supports_binary\", {value: fig.supports_binary});\n",
       "            fig.send_message(\"send_image_mode\", {});\n",
       "            if (mpl.ratio != 1) {\n",
       "                fig.send_message(\"set_dpi_ratio\", {'dpi_ratio': mpl.ratio});\n",
       "            }\n",
       "            fig.send_message(\"refresh\", {});\n",
       "        }\n",
       "\n",
       "    this.imageObj.onload = function() {\n",
       "            if (fig.image_mode == 'full') {\n",
       "                // Full images could contain transparency (where diff images\n",
       "                // almost always do), so we need to clear the canvas so that\n",
       "                // there is no ghosting.\n",
       "                fig.context.clearRect(0, 0, fig.canvas.width, fig.canvas.height);\n",
       "            }\n",
       "            fig.context.drawImage(fig.imageObj, 0, 0);\n",
       "        };\n",
       "\n",
       "    this.imageObj.onunload = function() {\n",
       "        this.ws.close();\n",
       "    }\n",
       "\n",
       "    this.ws.onmessage = this._make_on_message_function(this);\n",
       "\n",
       "    this.ondownload = ondownload;\n",
       "}\n",
       "\n",
       "mpl.figure.prototype._init_header = function() {\n",
       "    var titlebar = $(\n",
       "        '<div class=\"ui-dialog-titlebar ui-widget-header ui-corner-all ' +\n",
       "        'ui-helper-clearfix\"/>');\n",
       "    var titletext = $(\n",
       "        '<div class=\"ui-dialog-title\" style=\"width: 100%; ' +\n",
       "        'text-align: center; padding: 3px;\"/>');\n",
       "    titlebar.append(titletext)\n",
       "    this.root.append(titlebar);\n",
       "    this.header = titletext[0];\n",
       "}\n",
       "\n",
       "\n",
       "\n",
       "mpl.figure.prototype._canvas_extra_style = function(canvas_div) {\n",
       "\n",
       "}\n",
       "\n",
       "\n",
       "mpl.figure.prototype._root_extra_style = function(canvas_div) {\n",
       "\n",
       "}\n",
       "\n",
       "mpl.figure.prototype._init_canvas = function() {\n",
       "    var fig = this;\n",
       "\n",
       "    var canvas_div = $('<div/>');\n",
       "\n",
       "    canvas_div.attr('style', 'position: relative; clear: both; outline: 0');\n",
       "\n",
       "    function canvas_keyboard_event(event) {\n",
       "        return fig.key_event(event, event['data']);\n",
       "    }\n",
       "\n",
       "    canvas_div.keydown('key_press', canvas_keyboard_event);\n",
       "    canvas_div.keyup('key_release', canvas_keyboard_event);\n",
       "    this.canvas_div = canvas_div\n",
       "    this._canvas_extra_style(canvas_div)\n",
       "    this.root.append(canvas_div);\n",
       "\n",
       "    var canvas = $('<canvas/>');\n",
       "    canvas.addClass('mpl-canvas');\n",
       "    canvas.attr('style', \"left: 0; top: 0; z-index: 0; outline: 0\")\n",
       "\n",
       "    this.canvas = canvas[0];\n",
       "    this.context = canvas[0].getContext(\"2d\");\n",
       "\n",
       "    var backingStore = this.context.backingStorePixelRatio ||\n",
       "\tthis.context.webkitBackingStorePixelRatio ||\n",
       "\tthis.context.mozBackingStorePixelRatio ||\n",
       "\tthis.context.msBackingStorePixelRatio ||\n",
       "\tthis.context.oBackingStorePixelRatio ||\n",
       "\tthis.context.backingStorePixelRatio || 1;\n",
       "\n",
       "    mpl.ratio = (window.devicePixelRatio || 1) / backingStore;\n",
       "\n",
       "    var rubberband = $('<canvas/>');\n",
       "    rubberband.attr('style', \"position: absolute; left: 0; top: 0; z-index: 1;\")\n",
       "\n",
       "    var pass_mouse_events = true;\n",
       "\n",
       "    canvas_div.resizable({\n",
       "        start: function(event, ui) {\n",
       "            pass_mouse_events = false;\n",
       "        },\n",
       "        resize: function(event, ui) {\n",
       "            fig.request_resize(ui.size.width, ui.size.height);\n",
       "        },\n",
       "        stop: function(event, ui) {\n",
       "            pass_mouse_events = true;\n",
       "            fig.request_resize(ui.size.width, ui.size.height);\n",
       "        },\n",
       "    });\n",
       "\n",
       "    function mouse_event_fn(event) {\n",
       "        if (pass_mouse_events)\n",
       "            return fig.mouse_event(event, event['data']);\n",
       "    }\n",
       "\n",
       "    rubberband.mousedown('button_press', mouse_event_fn);\n",
       "    rubberband.mouseup('button_release', mouse_event_fn);\n",
       "    // Throttle sequential mouse events to 1 every 20ms.\n",
       "    rubberband.mousemove('motion_notify', mouse_event_fn);\n",
       "\n",
       "    rubberband.mouseenter('figure_enter', mouse_event_fn);\n",
       "    rubberband.mouseleave('figure_leave', mouse_event_fn);\n",
       "\n",
       "    canvas_div.on(\"wheel\", function (event) {\n",
       "        event = event.originalEvent;\n",
       "        event['data'] = 'scroll'\n",
       "        if (event.deltaY < 0) {\n",
       "            event.step = 1;\n",
       "        } else {\n",
       "            event.step = -1;\n",
       "        }\n",
       "        mouse_event_fn(event);\n",
       "    });\n",
       "\n",
       "    canvas_div.append(canvas);\n",
       "    canvas_div.append(rubberband);\n",
       "\n",
       "    this.rubberband = rubberband;\n",
       "    this.rubberband_canvas = rubberband[0];\n",
       "    this.rubberband_context = rubberband[0].getContext(\"2d\");\n",
       "    this.rubberband_context.strokeStyle = \"#000000\";\n",
       "\n",
       "    this._resize_canvas = function(width, height) {\n",
       "        // Keep the size of the canvas, canvas container, and rubber band\n",
       "        // canvas in synch.\n",
       "        canvas_div.css('width', width)\n",
       "        canvas_div.css('height', height)\n",
       "\n",
       "        canvas.attr('width', width * mpl.ratio);\n",
       "        canvas.attr('height', height * mpl.ratio);\n",
       "        canvas.attr('style', 'width: ' + width + 'px; height: ' + height + 'px;');\n",
       "\n",
       "        rubberband.attr('width', width);\n",
       "        rubberband.attr('height', height);\n",
       "    }\n",
       "\n",
       "    // Set the figure to an initial 600x600px, this will subsequently be updated\n",
       "    // upon first draw.\n",
       "    this._resize_canvas(600, 600);\n",
       "\n",
       "    // Disable right mouse context menu.\n",
       "    $(this.rubberband_canvas).bind(\"contextmenu\",function(e){\n",
       "        return false;\n",
       "    });\n",
       "\n",
       "    function set_focus () {\n",
       "        canvas.focus();\n",
       "        canvas_div.focus();\n",
       "    }\n",
       "\n",
       "    window.setTimeout(set_focus, 100);\n",
       "}\n",
       "\n",
       "mpl.figure.prototype._init_toolbar = function() {\n",
       "    var fig = this;\n",
       "\n",
       "    var nav_element = $('<div/>')\n",
       "    nav_element.attr('style', 'width: 100%');\n",
       "    this.root.append(nav_element);\n",
       "\n",
       "    // Define a callback function for later on.\n",
       "    function toolbar_event(event) {\n",
       "        return fig.toolbar_button_onclick(event['data']);\n",
       "    }\n",
       "    function toolbar_mouse_event(event) {\n",
       "        return fig.toolbar_button_onmouseover(event['data']);\n",
       "    }\n",
       "\n",
       "    for(var toolbar_ind in mpl.toolbar_items) {\n",
       "        var name = mpl.toolbar_items[toolbar_ind][0];\n",
       "        var tooltip = mpl.toolbar_items[toolbar_ind][1];\n",
       "        var image = mpl.toolbar_items[toolbar_ind][2];\n",
       "        var method_name = mpl.toolbar_items[toolbar_ind][3];\n",
       "\n",
       "        if (!name) {\n",
       "            // put a spacer in here.\n",
       "            continue;\n",
       "        }\n",
       "        var button = $('<button/>');\n",
       "        button.addClass('ui-button ui-widget ui-state-default ui-corner-all ' +\n",
       "                        'ui-button-icon-only');\n",
       "        button.attr('role', 'button');\n",
       "        button.attr('aria-disabled', 'false');\n",
       "        button.click(method_name, toolbar_event);\n",
       "        button.mouseover(tooltip, toolbar_mouse_event);\n",
       "\n",
       "        var icon_img = $('<span/>');\n",
       "        icon_img.addClass('ui-button-icon-primary ui-icon');\n",
       "        icon_img.addClass(image);\n",
       "        icon_img.addClass('ui-corner-all');\n",
       "\n",
       "        var tooltip_span = $('<span/>');\n",
       "        tooltip_span.addClass('ui-button-text');\n",
       "        tooltip_span.html(tooltip);\n",
       "\n",
       "        button.append(icon_img);\n",
       "        button.append(tooltip_span);\n",
       "\n",
       "        nav_element.append(button);\n",
       "    }\n",
       "\n",
       "    var fmt_picker_span = $('<span/>');\n",
       "\n",
       "    var fmt_picker = $('<select/>');\n",
       "    fmt_picker.addClass('mpl-toolbar-option ui-widget ui-widget-content');\n",
       "    fmt_picker_span.append(fmt_picker);\n",
       "    nav_element.append(fmt_picker_span);\n",
       "    this.format_dropdown = fmt_picker[0];\n",
       "\n",
       "    for (var ind in mpl.extensions) {\n",
       "        var fmt = mpl.extensions[ind];\n",
       "        var option = $(\n",
       "            '<option/>', {selected: fmt === mpl.default_extension}).html(fmt);\n",
       "        fmt_picker.append(option)\n",
       "    }\n",
       "\n",
       "    // Add hover states to the ui-buttons\n",
       "    $( \".ui-button\" ).hover(\n",
       "        function() { $(this).addClass(\"ui-state-hover\");},\n",
       "        function() { $(this).removeClass(\"ui-state-hover\");}\n",
       "    );\n",
       "\n",
       "    var status_bar = $('<span class=\"mpl-message\"/>');\n",
       "    nav_element.append(status_bar);\n",
       "    this.message = status_bar[0];\n",
       "}\n",
       "\n",
       "mpl.figure.prototype.request_resize = function(x_pixels, y_pixels) {\n",
       "    // Request matplotlib to resize the figure. Matplotlib will then trigger a resize in the client,\n",
       "    // which will in turn request a refresh of the image.\n",
       "    this.send_message('resize', {'width': x_pixels, 'height': y_pixels});\n",
       "}\n",
       "\n",
       "mpl.figure.prototype.send_message = function(type, properties) {\n",
       "    properties['type'] = type;\n",
       "    properties['figure_id'] = this.id;\n",
       "    this.ws.send(JSON.stringify(properties));\n",
       "}\n",
       "\n",
       "mpl.figure.prototype.send_draw_message = function() {\n",
       "    if (!this.waiting) {\n",
       "        this.waiting = true;\n",
       "        this.ws.send(JSON.stringify({type: \"draw\", figure_id: this.id}));\n",
       "    }\n",
       "}\n",
       "\n",
       "\n",
       "mpl.figure.prototype.handle_save = function(fig, msg) {\n",
       "    var format_dropdown = fig.format_dropdown;\n",
       "    var format = format_dropdown.options[format_dropdown.selectedIndex].value;\n",
       "    fig.ondownload(fig, format);\n",
       "}\n",
       "\n",
       "\n",
       "mpl.figure.prototype.handle_resize = function(fig, msg) {\n",
       "    var size = msg['size'];\n",
       "    if (size[0] != fig.canvas.width || size[1] != fig.canvas.height) {\n",
       "        fig._resize_canvas(size[0], size[1]);\n",
       "        fig.send_message(\"refresh\", {});\n",
       "    };\n",
       "}\n",
       "\n",
       "mpl.figure.prototype.handle_rubberband = function(fig, msg) {\n",
       "    var x0 = msg['x0'] / mpl.ratio;\n",
       "    var y0 = (fig.canvas.height - msg['y0']) / mpl.ratio;\n",
       "    var x1 = msg['x1'] / mpl.ratio;\n",
       "    var y1 = (fig.canvas.height - msg['y1']) / mpl.ratio;\n",
       "    x0 = Math.floor(x0) + 0.5;\n",
       "    y0 = Math.floor(y0) + 0.5;\n",
       "    x1 = Math.floor(x1) + 0.5;\n",
       "    y1 = Math.floor(y1) + 0.5;\n",
       "    var min_x = Math.min(x0, x1);\n",
       "    var min_y = Math.min(y0, y1);\n",
       "    var width = Math.abs(x1 - x0);\n",
       "    var height = Math.abs(y1 - y0);\n",
       "\n",
       "    fig.rubberband_context.clearRect(\n",
       "        0, 0, fig.canvas.width, fig.canvas.height);\n",
       "\n",
       "    fig.rubberband_context.strokeRect(min_x, min_y, width, height);\n",
       "}\n",
       "\n",
       "mpl.figure.prototype.handle_figure_label = function(fig, msg) {\n",
       "    // Updates the figure title.\n",
       "    fig.header.textContent = msg['label'];\n",
       "}\n",
       "\n",
       "mpl.figure.prototype.handle_cursor = function(fig, msg) {\n",
       "    var cursor = msg['cursor'];\n",
       "    switch(cursor)\n",
       "    {\n",
       "    case 0:\n",
       "        cursor = 'pointer';\n",
       "        break;\n",
       "    case 1:\n",
       "        cursor = 'default';\n",
       "        break;\n",
       "    case 2:\n",
       "        cursor = 'crosshair';\n",
       "        break;\n",
       "    case 3:\n",
       "        cursor = 'move';\n",
       "        break;\n",
       "    }\n",
       "    fig.rubberband_canvas.style.cursor = cursor;\n",
       "}\n",
       "\n",
       "mpl.figure.prototype.handle_message = function(fig, msg) {\n",
       "    fig.message.textContent = msg['message'];\n",
       "}\n",
       "\n",
       "mpl.figure.prototype.handle_draw = function(fig, msg) {\n",
       "    // Request the server to send over a new figure.\n",
       "    fig.send_draw_message();\n",
       "}\n",
       "\n",
       "mpl.figure.prototype.handle_image_mode = function(fig, msg) {\n",
       "    fig.image_mode = msg['mode'];\n",
       "}\n",
       "\n",
       "mpl.figure.prototype.updated_canvas_event = function() {\n",
       "    // Called whenever the canvas gets updated.\n",
       "    this.send_message(\"ack\", {});\n",
       "}\n",
       "\n",
       "// A function to construct a web socket function for onmessage handling.\n",
       "// Called in the figure constructor.\n",
       "mpl.figure.prototype._make_on_message_function = function(fig) {\n",
       "    return function socket_on_message(evt) {\n",
       "        if (evt.data instanceof Blob) {\n",
       "            /* FIXME: We get \"Resource interpreted as Image but\n",
       "             * transferred with MIME type text/plain:\" errors on\n",
       "             * Chrome.  But how to set the MIME type?  It doesn't seem\n",
       "             * to be part of the websocket stream */\n",
       "            evt.data.type = \"image/png\";\n",
       "\n",
       "            /* Free the memory for the previous frames */\n",
       "            if (fig.imageObj.src) {\n",
       "                (window.URL || window.webkitURL).revokeObjectURL(\n",
       "                    fig.imageObj.src);\n",
       "            }\n",
       "\n",
       "            fig.imageObj.src = (window.URL || window.webkitURL).createObjectURL(\n",
       "                evt.data);\n",
       "            fig.updated_canvas_event();\n",
       "            fig.waiting = false;\n",
       "            return;\n",
       "        }\n",
       "        else if (typeof evt.data === 'string' && evt.data.slice(0, 21) == \"data:image/png;base64\") {\n",
       "            fig.imageObj.src = evt.data;\n",
       "            fig.updated_canvas_event();\n",
       "            fig.waiting = false;\n",
       "            return;\n",
       "        }\n",
       "\n",
       "        var msg = JSON.parse(evt.data);\n",
       "        var msg_type = msg['type'];\n",
       "\n",
       "        // Call the  \"handle_{type}\" callback, which takes\n",
       "        // the figure and JSON message as its only arguments.\n",
       "        try {\n",
       "            var callback = fig[\"handle_\" + msg_type];\n",
       "        } catch (e) {\n",
       "            console.log(\"No handler for the '\" + msg_type + \"' message type: \", msg);\n",
       "            return;\n",
       "        }\n",
       "\n",
       "        if (callback) {\n",
       "            try {\n",
       "                // console.log(\"Handling '\" + msg_type + \"' message: \", msg);\n",
       "                callback(fig, msg);\n",
       "            } catch (e) {\n",
       "                console.log(\"Exception inside the 'handler_\" + msg_type + \"' callback:\", e, e.stack, msg);\n",
       "            }\n",
       "        }\n",
       "    };\n",
       "}\n",
       "\n",
       "// from http://stackoverflow.com/questions/1114465/getting-mouse-location-in-canvas\n",
       "mpl.findpos = function(e) {\n",
       "    //this section is from http://www.quirksmode.org/js/events_properties.html\n",
       "    var targ;\n",
       "    if (!e)\n",
       "        e = window.event;\n",
       "    if (e.target)\n",
       "        targ = e.target;\n",
       "    else if (e.srcElement)\n",
       "        targ = e.srcElement;\n",
       "    if (targ.nodeType == 3) // defeat Safari bug\n",
       "        targ = targ.parentNode;\n",
       "\n",
       "    // jQuery normalizes the pageX and pageY\n",
       "    // pageX,Y are the mouse positions relative to the document\n",
       "    // offset() returns the position of the element relative to the document\n",
       "    var x = e.pageX - $(targ).offset().left;\n",
       "    var y = e.pageY - $(targ).offset().top;\n",
       "\n",
       "    return {\"x\": x, \"y\": y};\n",
       "};\n",
       "\n",
       "/*\n",
       " * return a copy of an object with only non-object keys\n",
       " * we need this to avoid circular references\n",
       " * http://stackoverflow.com/a/24161582/3208463\n",
       " */\n",
       "function simpleKeys (original) {\n",
       "  return Object.keys(original).reduce(function (obj, key) {\n",
       "    if (typeof original[key] !== 'object')\n",
       "        obj[key] = original[key]\n",
       "    return obj;\n",
       "  }, {});\n",
       "}\n",
       "\n",
       "mpl.figure.prototype.mouse_event = function(event, name) {\n",
       "    var canvas_pos = mpl.findpos(event)\n",
       "\n",
       "    if (name === 'button_press')\n",
       "    {\n",
       "        this.canvas.focus();\n",
       "        this.canvas_div.focus();\n",
       "    }\n",
       "\n",
       "    var x = canvas_pos.x * mpl.ratio;\n",
       "    var y = canvas_pos.y * mpl.ratio;\n",
       "\n",
       "    this.send_message(name, {x: x, y: y, button: event.button,\n",
       "                             step: event.step,\n",
       "                             guiEvent: simpleKeys(event)});\n",
       "\n",
       "    /* This prevents the web browser from automatically changing to\n",
       "     * the text insertion cursor when the button is pressed.  We want\n",
       "     * to control all of the cursor setting manually through the\n",
       "     * 'cursor' event from matplotlib */\n",
       "    event.preventDefault();\n",
       "    return false;\n",
       "}\n",
       "\n",
       "mpl.figure.prototype._key_event_extra = function(event, name) {\n",
       "    // Handle any extra behaviour associated with a key event\n",
       "}\n",
       "\n",
       "mpl.figure.prototype.key_event = function(event, name) {\n",
       "\n",
       "    // Prevent repeat events\n",
       "    if (name == 'key_press')\n",
       "    {\n",
       "        if (event.which === this._key)\n",
       "            return;\n",
       "        else\n",
       "            this._key = event.which;\n",
       "    }\n",
       "    if (name == 'key_release')\n",
       "        this._key = null;\n",
       "\n",
       "    var value = '';\n",
       "    if (event.ctrlKey && event.which != 17)\n",
       "        value += \"ctrl+\";\n",
       "    if (event.altKey && event.which != 18)\n",
       "        value += \"alt+\";\n",
       "    if (event.shiftKey && event.which != 16)\n",
       "        value += \"shift+\";\n",
       "\n",
       "    value += 'k';\n",
       "    value += event.which.toString();\n",
       "\n",
       "    this._key_event_extra(event, name);\n",
       "\n",
       "    this.send_message(name, {key: value,\n",
       "                             guiEvent: simpleKeys(event)});\n",
       "    return false;\n",
       "}\n",
       "\n",
       "mpl.figure.prototype.toolbar_button_onclick = function(name) {\n",
       "    if (name == 'download') {\n",
       "        this.handle_save(this, null);\n",
       "    } else {\n",
       "        this.send_message(\"toolbar_button\", {name: name});\n",
       "    }\n",
       "};\n",
       "\n",
       "mpl.figure.prototype.toolbar_button_onmouseover = function(tooltip) {\n",
       "    this.message.textContent = tooltip;\n",
       "};\n",
       "mpl.toolbar_items = [[\"Home\", \"Reset original view\", \"fa fa-home icon-home\", \"home\"], [\"Back\", \"Back to  previous view\", \"fa fa-arrow-left icon-arrow-left\", \"back\"], [\"Forward\", \"Forward to next view\", \"fa fa-arrow-right icon-arrow-right\", \"forward\"], [\"\", \"\", \"\", \"\"], [\"Pan\", \"Pan axes with left mouse, zoom with right\", \"fa fa-arrows icon-move\", \"pan\"], [\"Zoom\", \"Zoom to rectangle\", \"fa fa-square-o icon-check-empty\", \"zoom\"], [\"\", \"\", \"\", \"\"], [\"Download\", \"Download plot\", \"fa fa-floppy-o icon-save\", \"download\"]];\n",
       "\n",
       "mpl.extensions = [\"eps\", \"jpeg\", \"pdf\", \"png\", \"ps\", \"raw\", \"svg\", \"tif\"];\n",
       "\n",
       "mpl.default_extension = \"png\";var comm_websocket_adapter = function(comm) {\n",
       "    // Create a \"websocket\"-like object which calls the given IPython comm\n",
       "    // object with the appropriate methods. Currently this is a non binary\n",
       "    // socket, so there is still some room for performance tuning.\n",
       "    var ws = {};\n",
       "\n",
       "    ws.close = function() {\n",
       "        comm.close()\n",
       "    };\n",
       "    ws.send = function(m) {\n",
       "        //console.log('sending', m);\n",
       "        comm.send(m);\n",
       "    };\n",
       "    // Register the callback with on_msg.\n",
       "    comm.on_msg(function(msg) {\n",
       "        //console.log('receiving', msg['content']['data'], msg);\n",
       "        // Pass the mpl event to the overriden (by mpl) onmessage function.\n",
       "        ws.onmessage(msg['content']['data'])\n",
       "    });\n",
       "    return ws;\n",
       "}\n",
       "\n",
       "mpl.mpl_figure_comm = function(comm, msg) {\n",
       "    // This is the function which gets called when the mpl process\n",
       "    // starts-up an IPython Comm through the \"matplotlib\" channel.\n",
       "\n",
       "    var id = msg.content.data.id;\n",
       "    // Get hold of the div created by the display call when the Comm\n",
       "    // socket was opened in Python.\n",
       "    var element = $(\"#\" + id);\n",
       "    var ws_proxy = comm_websocket_adapter(comm)\n",
       "\n",
       "    function ondownload(figure, format) {\n",
       "        window.open(figure.imageObj.src);\n",
       "    }\n",
       "\n",
       "    var fig = new mpl.figure(id, ws_proxy,\n",
       "                           ondownload,\n",
       "                           element.get(0));\n",
       "\n",
       "    // Call onopen now - mpl needs it, as it is assuming we've passed it a real\n",
       "    // web socket which is closed, not our websocket->open comm proxy.\n",
       "    ws_proxy.onopen();\n",
       "\n",
       "    fig.parent_element = element.get(0);\n",
       "    fig.cell_info = mpl.find_output_cell(\"<div id='\" + id + \"'></div>\");\n",
       "    if (!fig.cell_info) {\n",
       "        console.error(\"Failed to find cell for figure\", id, fig);\n",
       "        return;\n",
       "    }\n",
       "\n",
       "    var output_index = fig.cell_info[2]\n",
       "    var cell = fig.cell_info[0];\n",
       "\n",
       "};\n",
       "\n",
       "mpl.figure.prototype.handle_close = function(fig, msg) {\n",
       "    var width = fig.canvas.width/mpl.ratio\n",
       "    fig.root.unbind('remove')\n",
       "\n",
       "    // Update the output cell to use the data from the current canvas.\n",
       "    fig.push_to_output();\n",
       "    var dataURL = fig.canvas.toDataURL();\n",
       "    // Re-enable the keyboard manager in IPython - without this line, in FF,\n",
       "    // the notebook keyboard shortcuts fail.\n",
       "    IPython.keyboard_manager.enable()\n",
       "    $(fig.parent_element).html('<img src=\"' + dataURL + '\" width=\"' + width + '\">');\n",
       "    fig.close_ws(fig, msg);\n",
       "}\n",
       "\n",
       "mpl.figure.prototype.close_ws = function(fig, msg){\n",
       "    fig.send_message('closing', msg);\n",
       "    // fig.ws.close()\n",
       "}\n",
       "\n",
       "mpl.figure.prototype.push_to_output = function(remove_interactive) {\n",
       "    // Turn the data on the canvas into data in the output cell.\n",
       "    var width = this.canvas.width/mpl.ratio\n",
       "    var dataURL = this.canvas.toDataURL();\n",
       "    this.cell_info[1]['text/html'] = '<img src=\"' + dataURL + '\" width=\"' + width + '\">';\n",
       "}\n",
       "\n",
       "mpl.figure.prototype.updated_canvas_event = function() {\n",
       "    // Tell IPython that the notebook contents must change.\n",
       "    IPython.notebook.set_dirty(true);\n",
       "    this.send_message(\"ack\", {});\n",
       "    var fig = this;\n",
       "    // Wait a second, then push the new image to the DOM so\n",
       "    // that it is saved nicely (might be nice to debounce this).\n",
       "    setTimeout(function () { fig.push_to_output() }, 1000);\n",
       "}\n",
       "\n",
       "mpl.figure.prototype._init_toolbar = function() {\n",
       "    var fig = this;\n",
       "\n",
       "    var nav_element = $('<div/>')\n",
       "    nav_element.attr('style', 'width: 100%');\n",
       "    this.root.append(nav_element);\n",
       "\n",
       "    // Define a callback function for later on.\n",
       "    function toolbar_event(event) {\n",
       "        return fig.toolbar_button_onclick(event['data']);\n",
       "    }\n",
       "    function toolbar_mouse_event(event) {\n",
       "        return fig.toolbar_button_onmouseover(event['data']);\n",
       "    }\n",
       "\n",
       "    for(var toolbar_ind in mpl.toolbar_items){\n",
       "        var name = mpl.toolbar_items[toolbar_ind][0];\n",
       "        var tooltip = mpl.toolbar_items[toolbar_ind][1];\n",
       "        var image = mpl.toolbar_items[toolbar_ind][2];\n",
       "        var method_name = mpl.toolbar_items[toolbar_ind][3];\n",
       "\n",
       "        if (!name) { continue; };\n",
       "\n",
       "        var button = $('<button class=\"btn btn-default\" href=\"#\" title=\"' + name + '\"><i class=\"fa ' + image + ' fa-lg\"></i></button>');\n",
       "        button.click(method_name, toolbar_event);\n",
       "        button.mouseover(tooltip, toolbar_mouse_event);\n",
       "        nav_element.append(button);\n",
       "    }\n",
       "\n",
       "    // Add the status bar.\n",
       "    var status_bar = $('<span class=\"mpl-message\" style=\"text-align:right; float: right;\"/>');\n",
       "    nav_element.append(status_bar);\n",
       "    this.message = status_bar[0];\n",
       "\n",
       "    // Add the close button to the window.\n",
       "    var buttongrp = $('<div class=\"btn-group inline pull-right\"></div>');\n",
       "    var button = $('<button class=\"btn btn-mini btn-primary\" href=\"#\" title=\"Stop Interaction\"><i class=\"fa fa-power-off icon-remove icon-large\"></i></button>');\n",
       "    button.click(function (evt) { fig.handle_close(fig, {}); } );\n",
       "    button.mouseover('Stop Interaction', toolbar_mouse_event);\n",
       "    buttongrp.append(button);\n",
       "    var titlebar = this.root.find($('.ui-dialog-titlebar'));\n",
       "    titlebar.prepend(buttongrp);\n",
       "}\n",
       "\n",
       "mpl.figure.prototype._root_extra_style = function(el){\n",
       "    var fig = this\n",
       "    el.on(\"remove\", function(){\n",
       "\tfig.close_ws(fig, {});\n",
       "    });\n",
       "}\n",
       "\n",
       "mpl.figure.prototype._canvas_extra_style = function(el){\n",
       "    // this is important to make the div 'focusable\n",
       "    el.attr('tabindex', 0)\n",
       "    // reach out to IPython and tell the keyboard manager to turn it's self\n",
       "    // off when our div gets focus\n",
       "\n",
       "    // location in version 3\n",
       "    if (IPython.notebook.keyboard_manager) {\n",
       "        IPython.notebook.keyboard_manager.register_events(el);\n",
       "    }\n",
       "    else {\n",
       "        // location in version 2\n",
       "        IPython.keyboard_manager.register_events(el);\n",
       "    }\n",
       "\n",
       "}\n",
       "\n",
       "mpl.figure.prototype._key_event_extra = function(event, name) {\n",
       "    var manager = IPython.notebook.keyboard_manager;\n",
       "    if (!manager)\n",
       "        manager = IPython.keyboard_manager;\n",
       "\n",
       "    // Check for shift+enter\n",
       "    if (event.shiftKey && event.which == 13) {\n",
       "        this.canvas_div.blur();\n",
       "        // select the cell after this one\n",
       "        var index = IPython.notebook.find_cell_index(this.cell_info[0]);\n",
       "        IPython.notebook.select(index + 1);\n",
       "    }\n",
       "}\n",
       "\n",
       "mpl.figure.prototype.handle_save = function(fig, msg) {\n",
       "    fig.ondownload(fig, null);\n",
       "}\n",
       "\n",
       "\n",
       "mpl.find_output_cell = function(html_output) {\n",
       "    // Return the cell and output element which can be found *uniquely* in the notebook.\n",
       "    // Note - this is a bit hacky, but it is done because the \"notebook_saving.Notebook\"\n",
       "    // IPython event is triggered only after the cells have been serialised, which for\n",
       "    // our purposes (turning an active figure into a static one), is too late.\n",
       "    var cells = IPython.notebook.get_cells();\n",
       "    var ncells = cells.length;\n",
       "    for (var i=0; i<ncells; i++) {\n",
       "        var cell = cells[i];\n",
       "        if (cell.cell_type === 'code'){\n",
       "            for (var j=0; j<cell.output_area.outputs.length; j++) {\n",
       "                var data = cell.output_area.outputs[j];\n",
       "                if (data.data) {\n",
       "                    // IPython >= 3 moved mimebundle to data attribute of output\n",
       "                    data = data.data;\n",
       "                }\n",
       "                if (data['text/html'] == html_output) {\n",
       "                    return [cell, data, j];\n",
       "                }\n",
       "            }\n",
       "        }\n",
       "    }\n",
       "}\n",
       "\n",
       "// Register the function which deals with the matplotlib target/channel.\n",
       "// The kernel may be null if the page has been refreshed.\n",
       "if (IPython.notebook.kernel != null) {\n",
       "    IPython.notebook.kernel.comm_manager.register_target('matplotlib', mpl.mpl_figure_comm);\n",
       "}\n"
      ],
      "text/plain": [
       "<IPython.core.display.Javascript object>"
      ]
     },
     "metadata": {},
     "output_type": "display_data"
    },
    {
     "data": {
      "text/html": [
       "<img src=\"data:image/png;base64,iVBORw0KGgoAAAANSUhEUgAABDgAAAHgCAYAAABARd1qAAAgAElEQVR4nOydd3gUVRfGb+i9V0UCioogCoggqFhQsWIFBey9wycKCDYQsYOKHSsiIgrSW+i9hpbQa2ihhARCenbe74/DcGdStm+25P09zzwPZG85Oztzy7mnKEUIIYQQQgghhBBCCCGEEEIIIYQQQgghhBBCCCGEEEIIIYQQQgghhBBCCCGEEEIIIYQQQgghhBBCCCGEEEIIIYQQQgghhBBCCCGEEEIIIYQQQgghhBBCCCGEEEIIIYQQQgghhBBCCCGEEEIIIYQQQgghhBBCCCGEEEIIIYQQQgghhBBCCCGEEEIIIYQQQgghhBBCCCGEEEIIIYQQQgghhBBCCCGEEEIIIYQQQgghhBBCCCGEEEIIIYQQQgghhBBCCCGEEEIIIYQQQgghhBBCCCGEEEIIIYQQQgghhBBCCCGEEEIIIYQQQgghhBBCCCGEEEIIIYQQQgghhBBCCCGEEEIIIYQQQgghhBBCCCGEEEIIIYQQQgghhBBCCCGEEEIIIYQQQgghhBBCCCGEEEIIIYQQQgghhBBCCCGEEEIIIYQQQgghhBBCCCGEEEIIIYQQQgghhBBCCCGEEEIIIYQQQgghhBBCCCGEEEIIIYQQQgghhBBCCCGEEEIIIYQQQgghhBBCCCGEEEIIIYQQQgghhBBCCCGEEEIIIYQQQgghhBBCCCGEEEIIIYQQQgghhBBCCCGEEEIIIYQQQgghhBBCCCGEEEIIIYQQQgghhBBCCCGEEEIIIYQQQgghhBBCCCGEEEIIIYQQQgghhBBCCCGEEEIIIYQQQgghhBBCCCGEEEIIIYQQQgghhBBCCCGEEEIIIYQQQgghhBBCCCGEEEIIIYQQQgghhBBCCCGEEEIIIYQQQgghhBBCCCGEEEIIIYQQQgghhBBCCCGEEEIIIYQQQgghhBBCCCFhTFWlVBelVCulVHNevHjx4sWLFy9evHjxKmZXKyV7oqqKEBLWdFFKgRcvXrx48eLFixcvXryK+dVFEULCmlZKKUycOBFxcXG8Qvn6/nvERUcjTil93Xwz4mbPDr5swbrGj0dcw4b6ftSrh7jRo4MvlzN5a9bU8j74IOI2bgx8vxs2IK5zZ93vddchbv16/7Q9ZIhu99JLERcb63kbw4bpNq6+GnGbNrmus3at/u3Ll0dcTEzwf19evIrrFRODuHLl5H2Mjpb301WdTZsQ16GDfveHD/e837VrZdwx2/jgA/98n3XrZJw027311qIbq7t10/3WrCnzRrB/38Ku0aMRV7eulrdhw9CWN9DX7NmyLrOu06KjZf0WbNl4ubwmTpxoKjhaBXlvRgjxkeZKKcTFxYGEAVlZwMcfAxUrAkrJVb48MHgwkJERbOmCw8mTQNeu+n6UKgUMHw4YRrAlK5gdO4BGjbS8Dz0kv2ugycwEOnXS/T7xhP/u0Qsv6Haffda7Nh55RLfxzTfu1Zk7V9e5+27v+iWE+IZhAHfdpd/FefPcq/f117rOo4961/czz+g2XnzRuzbyYhjA44/rdm+6ScbPQJOVBTz4oO63cWNg587A9+sNhgEMGybzrSlvt24yHxdH0tOBQYNkPWbej0qVgE8+KZr5nfiFuLg4U8HRPMh7M0KIj1DBEY4cOAD06KEnUqWA888HJk0K3Y19IDEMYMQIoHRpfT/uuw9ISQm2ZAVz4ADQrJmW9bbbgLS0wPd76hRwxRW63379/NNuVhZw1VW63ZEjPW8jJQVo2FAr7bZuda+eVTHy33+e90sI8Y0JEzxXVGzZojeDDRt6N1b/+KPut317/20k+/bV7bZpI+NmoElLk3nA7Ld5c+DgwcD36w0pKTK/mrKWLi3zb3Fde0yaJMoo63qsZ8/Q/f1IoVDBQUjkQAVHOLNwIXDZZfaJ9bbbgG3bgi1ZcFi5Um+SlQIuuABYty7YUhXM8eNA27Za1muuAZKTA9/vkSPAhRfqfocN80+7Bw4AdetKm2XKyG/hKfPnA1FR0saVVwLZ2a7rHDkCVK8udRo0KJrNCCFEOHUKOPdcef9q1ACOHnVdJztbFAdKyfu+YIHn/a5cKeOMUjLu+Gsz+fnnemy88EL3vo+vJCcDV1+t+23XDkhKCny/3hAbK4cppqzR0d6N9ZHAtm3Arbfa11+XXQYsWhRsyYiXUMFBSORABUe4k5Mjpr7VqtlPVPr1A1JTgy1d0ZOUBNxxh74XZcvKSV8oni6lptrdRlq2BBITA9/v7t1AvXq63z/+8E+7ixZpk+UGDUT54Cl9+mi53nnHvTo//aTr9O7teZ+EEO/o1Uu/ez//7F6dt9/WdV5/3fM+jxyR8cV0SfTXhnLUKC1X/frAnj3+adcZiYnA5Zfb3WFCcd42DOCHH2Q+NWW9887QVcQEktRUWV9ZLUarVZN1WE5OsKUjPkAFByGRgyg4aNod/hw9Kv7I5gm4UnKy9tdfobm5DyQOB/Dhh0CJEvpePPIIcPp0sCXLT2YmcO+9Ws4mTYC9ewPf74YNQNWqepMwfbp/2v3yS/1dbrjB8wVfZibQooXUL1kSWL7cdR2HQyxglJLffO1a72QnhLjPmjV6jL32WvfmmeXLdZ0WLTyPbZGTA1x/vR5jvvrKO9nzMn26Vs5WrSrjY6DZs0fGe6tbZVHE+vCU06eBhx/WcpYsCXz0kYy7xQnDAMaMAc45R9+LqChZdxWFpQ8JLBs3Iq5rVyo4CIkQRMGhlCwa/v2XGuhwZ/VqMXG1mk1ed13RLNhCjQUL5CTOvA/NmgGbNwdbqvzk5EjQT6tiKj4+8P0uXKhP5CpUAFas8L1NwxD/Y19OaDds0ObnTZq4p5iKj9cnam3aALm5nvdLCHGP3Fwdz6d0affGq9RUvaEvU8a7Oclq4fXww/5R3i9fLuOfUkC5ckXjYhAfr117lAKefDI0117x8fZ4UfXry7xR3NiwAejY0b6uuuoqWW+R8CUnR/Y9Z5SmcUpRwUFIhKAVHObVoAHwwQfemZeT0MDhAH79FahTR/+uJUoAr7wCnDgRbOmKlsRE4MYb9X2oWBH4889gS5UfwwBee03LWbMmsGpV4PudOFGfqNao4R8FUFqa3ez67789b+OTT3T95593r86AAf4/2SWE5MdqqTVwoHt1nntO1/n0U8/7HDtW17/8cv8EZt68WcY9c46cNMn3Nl2xapXuUylR2oSileXo0Vrxo5S4UxaFC2UoceIE8PLLdmvQOnVkfVXcLFgiiSNHgCFDtKvbmYsKDkIiB1FwPPaYPYaDecLyyCPFN4BUJJCcLDEJSpbUv2utWhKzoDhNzrm54vdtdd95/vnQS61rGDLpmjJWquR+ykVfGDlS93neeUBCgu9t7tqlx5SKFYFNmzyrn5trPzGbNs11nfR0HQCvcmUJfEoI8S/798vYpJQEck5Pd11n6lS7RaGnFlabNunNdvXqMr74SkKCfYPz00++t+mKefP0vVNKDpNCTbmRkWFXRkVFyfxZnKziHA6ZF2vVsrvm9O4dutnZiGtWrpR9jWkhao2h0qcP4mbMoIKDkDxUUkoNUkrNVEqdUPKCPO5B/WpKqR+VUseUUmlKqflKqdaFlO2glFqilEpXSiUqpb4607836CCjaWkSjDFvVg6lJKPB77+H3oaQuMemTRIPIe9vWtyUVzNmiGWEeQ9at/bPQtnffPutVsaULStWFoHmgw/srjz+CB43fbr+Hhde6HmWmD17RFGhlGRKcMfPeeZM/T3uv98rsQkhTrCmCJ01y3X5o0d1hqUqVTyPMZScrF1boqJkHPeV48eBSy7R32PoUN/bdMV//2mXwKgoGedDjZ07gVat7AciM2cGW6qiZeVKWR9Z10s33AAwGH94kpEh+5e8v6lSst8ZOfKsNRiDjBKSn0ZKXop9SpQTnig4SiilliqlTiul3lVKvaSUildKnVJKXZinbEulVIZSKlYp9bxSaohSKlMpNcNLufNnUTEM8UHt1s1+8q8UULu2mIH744SXFC2GIa4CeUzy8OSTxcsdKSEBaN9ef/+qVWXhGWqMGaOD3pUsKRN0IDEM4NVX9X1p394/JuDvv6/bvOsuzy2Hfv9d17/nHvdOOx96SNeZMsU7uQkh+Zk8Wb9b3bu7Lm8Y8t6adUaN8qw/h0OydZj1hwzxTm4rp09L/ASzzV69Am9F8dtv2s2hVCkJ/h1qTJigA08rBXToINY6xYUjR2Q9ZF0fnXceMG5c6FnZENckJABvvmm3wjHfv27dgMWL8/2uVHAQkp+ySql6Z/7dRnmm4Oh2pvwDlr/VVkolK6XG5Ck7XSl1SClVxfK3p8/Uv8UjiQXnaWIPHJBUjebpi3mVKCGnOPPmceAPN06fFp9pq4le1ariUx2KQc4CQXa2Pd6FUvL/7OxgS2Zn2jQJemfK+MUXge3P4ZBNi9nf7bf7fk8cDqBLF93m4MGe1TcMscQw6//6q+s6hw/rhXrDhqGZPYeQcOP0aXmfTJPuw4dd1/nlF/3uPvCA5+uFQYN0/bvv9t21MjsbuO023WaPHoF31/ziC91f+fLuudsVJQXNh336hN58GChycmT9Y1XulCkj6yTOHeGFYci+5L777HFTTCvQd95x6rpKBQchzvFUwTFOiatJiTx//0GJu0rZM/+vopTKUUp9kqdcGaVUqlLqJy9kda7gMMnKksCM1pNv82reHPjuu9DM3U4KZ8cO4I477L9lixaSeaS4MGGCmEyH8onVokV2Gd95J7BKxaws4JZbdH+PPur7BiAlRVxUTNNsTxf4x44B9epJ/cqVgd27Xdf57jv9Hd54wzu5CSGa11/X79T337suv3u3jjdRv764hXjC1Knaxe2ii3yPfeBwiP+9+R06d5bxLlAYhsSusB4kLF4cuP68IVwsGgPF/PnApZfa10F33inrIxI+pKaKy5c14491XTdmjFvvOhUchDjHUwXHDiWWGXl56kw7Lc78/+oz/+9WQNnFSqm1HkkpuKfgsLJmjaS0NH1JzatKFTH13LbNh1GKFDlTp0qgOOtv+eCDobfRDxQF+Ry741delMTGinuYKeMrrwT21DE11e6v6k2q17zExUmwUfP0d+dOz+pPn67lufZa1wHvHA5thl6yJLB+vfeyE1LcWb9eu6y2b+96/MnNBa65Rr+znsbN2LHDHqTYH2mzrSlm27YN7KGMwyHZN8z+6tQB1q0LXH/eMHOmPSZVq1ahGZMqEOzfL+sc67qnSRNZD5HwYds22XdYD4GUkv3JE08Aa9d61BwVHIQ4x1MFx2ml1M8F/P32M+10PvP/B878/9oCyo5TSh120U8dJS+t9eqiPFVwmBw7Bnz0kTZZtV633ioTRXGKuh3OZGRIkElrSrgKFSTwWmZmsKULPOEQNX7bNvu79vDDgTUhPnpUTk3N/rxJ65iXcePs1kKemv++8IKu//HHrstv2KA3Ze3aFa/MQYT4i9xceX/UGf/1jRtd1/noI/2uvviiZ/2dPi3jg1n/n3+8k9uKNe30xRfL+iVQZGcDPXvq/qKjge3bA9efp4RLVrFAkJkp65oQWOsYhoGsHAfSs3JxMiMbJ05n4cipDBxMTkdCUhp2HU3FtsRTiD94Ehv2J2PtvhNYuTsJy3Yex9Idx7B4+zEs3HYU87cewbwtRzBncyJmxydiZtxhzNh0CNM2HsKUDQcxaf1BTFx3ABNi9+PfNfsxbnUC/l6VgL9W7sOfK/bhj+V7MWrZHvy2dA9+WbIbPy3ejZGLduGHhTvx3YKd+Gb+Dnw9bwe+mrMdX8Rsx7DZ2/D5rK34dOZWfDxjCz6cvgVDp23G+1PiMWhyPN6dFId3Jm7CW/9twoAJG/HmhI3oP34j+o/fgH7/bkDffzbgjX/W4/VxcvUZtx6v/b0e//t7Hf43dh16j12HXn/FotdfsXj1r1i8MiYWL4+JxUt/rsWLf67FS6NW4Zs+wxHXIr9F+bFa9fFPt1fQa0QMnvptFZ78dRWe+HUVHv9lJR77ZSUe/VmuR35eiYd/WoGHf1qBniNXoMfI5ej+43Lc/t6fVHAQ4gRPFRwOpdS3Bfz9xjPt3HPm/4+c+X/bAsqOUkqluOjnvTP1811eKThMcnMly8NNN+VXdJx/PvDZZ/7JyEACT0JCwacaoeYzHChGj7YvfDp1AhITgy2VZv9+oGlTuymtOykavWXvXuCcc3R//gh0+sYbdv93T9xtTp/WSpfSpd07EbX2F4pZCwgJdb75Rr9Dffu6Lh8bK++n6VriSbBiw7DHAXKnP1f89ptu79xzPc/i4gnp6XbXz0suCS1ryMRE4MYbtXwVK4r7cYSRnevAyYxsJJ7MwO5jpxF3MAXbfx2L9OjGtvXNrhvvxKhxizBi7nYMj9mGT2duxdDpsll/d1IcBv63Ef3+3YDX/l6PXn/F4sU/1+LZUavx1G+r8OjPK9Fz5Ap0+34Z7vt2Kbp8vQS3f7kItwxbiBs/m4+On8xDhw/nou0HMWg9eDYue28Wmr09AxcOnI7z35yG6H5TeXlwXfbqX3j/hiext1q9fHuNRdEt8fR9b6HxG5N86qP+k99QwUGIE4qHBUdBbN4sZpnWPO9KSWCtp5+mmXi4MG+exFax/oZ33eW5W0E4Eh9v9+OsX1/iYIQKx44Bbdpo+a67Djh5MnD9bdqkTcVLlvTdhDcnx56y2NPAqStXaquM5s1dnzqePi0nqOqMf7k7gREJIcKhQ9r8u1Ej11ZXGRl6/CxZEli1yrP+hg+3K5h9DXw9ZYoeL6pVk/EsUKSkAB07avnbtAmspYinLFwo85kpX7NmsmYLAnkVEPEHT2LN3iQs2n4Us+IOY+K6Axizch9+XrwbX8/bgU9mbsGgyfHoP34DXv0rFs/8vhoP/7QC9327FLd9sQjXfzofbT+IQYt3Z6LJALvy4NpnRyLmAnuK0C21ovHQQ0ODvmkP16tR/6k4/81paDJgGi4cOB0XvzUdl7w9A83fmYkW787E5YNmodXg2Wg9eDaueD8GV7wfgzZDYnDlkBi0/SAG7T6Yg6uGzkH7M1eHD+eiw4dzcfVHc3HNx3Nx7cfz0PETuZ7sPRJT2t6BjNJ2t/i0suXx39X34sl+v+OWYQvRebhct36xCLeduW7/chHu+GoR7vxqMe4asRhdRixGl6+XoMvXS3D310twzzdLcO83S3Dft0tx/7dLcfPbf1DBQYgTIjsGhzucPAmMGCGmoHmtOq69VtKVFpcI3eFKdrZsPq2+jWXLAm+95Z/0oaHM6dPiAmJ+75IlxSUiVFwcTp4Err9ey9e6tbiUBIrFi3U2l/LlgaVLfWvv6FFJv2feW08D2773nv7ur73muvzUqbr8Qw95JzMhxRGrRZ87lnz/+58uP2iQZ30tWKCVEQ0b+j6mLV0q45VSMn4tWeJbe844csQey+mGG4BTpwLXnyc4HOIyZN5bpSTYqg8ZQrJyHDiYnI71CcmYHZ+IP1fswxcx2zHwv43oZVFA3G9RQLT7YE6BCohAXU3/9y++av8gMkuWOvu9T5atiHc7PYvzCznpb9x/Ki4cKJv1Fu/OROvBs3HlkBh0+FA23Td8Nh+3DFuI275YhC4jFuO+b5ei6/fL0GPkcjzy80o8+esqPDtqNV4cvRav/hWL1/5ej77/bMCACRvx7qQ4DJ4Sj6HTN+OTmVswbPY2jJi7Hd/O34mRi3bh1yW7MWr5Xvy1ch/GrU7Af7EHMGXDQczYdAgx8YmYv/UIFm8/hmU7j2PFruNYtScJa/YmYe2+E1iXkIwN+5Ox6UAK4g6mYPOhk9h6+BS2J57CjiOp2HU0FXuOnca+42lISErDgeR0HEpJR+LJDBw5lYFjqZlIOp2F5LQspKRn41RGNk5n5iA9KxcZ2bnIynEgJ9cBh8OAURSZE7OzgbFj7XF8zKtpU+DrrwNysMMYHIQ4x1MFxz+q4CwqPyp7FpWqynkWlYKsQFwRGAWHiWEAMTGSJtLq72mejA8axBPVUCcxUYI1WX+74pAb3jCAH36wB9O9887QcbfKyLCnX734YmDfvsD1N3myXiBXry5BQ31h1SqdqrhOHaep2/KRnS1BAs3vPneu6zoPPKDLz5zpvdyEFBdmzNDvTNeursvPmaPLt23rmfXF/v0yDpiK9NWrvZcbkPGpenWtRJ0yxbf2nLFvnz1e0d13h048i6QkmbeshxQ//ljg3G0YBpLTsrA98RSW7jiG/2IP4MeFu/DBtM3o9VcseoxcjpuHLcDlg2YVucVA4/5T0fydmWgzJAYdP5mHzsMX4p5vlqDHyOV46rdVeHlMLPr+swHvTorDR9M3Y/rbXyK1Tn3buuXQ/T0Qu3orNh1Iwc6jqTiYnI7ktCykZeUgK0c27yTIHD4s+4L69t8OJUrIexUTE9B1JxUchDjHmYKjvlKqqVKqtOVvD54p/4Dlb7WUUslKqbF56s9QSh1SSlW2/M209LjVC1kDq+CwsmeP+NPWqGEfuEqXFl/8Zcsie8Mc7qxYYXeNUEp8ef0R3T6UiY21Z5mJjvbc7DpQ5ORIGler4mnr1sD198svdl92XxUqP/2k27vqKs+CvG3bpuOlnHcekJzsvPzBg5JiVimgcePIt0IixBfS0uQ9UUqs+A4edF4+ORlo0EDKV6jgWVDNzEwdxFQp4OeffZN93z4Zn8z2fv3Vt/acsXWrtkZTCnjsMd/davzFypXaPU8pZEY3xrJ/Y/DH8r0YNnsb3pywEU//vhpdvl6CDh/OxYUDpvusiLh80CzXCogZW/DVnO0YuWgXRq/Yiwmx+zFj0yEs2HYUq/YknVVAHEoRBURmTq77VgNxcXYXSNNVaMWKQN5p4guGIdZW3bvr2D3mVaMG0K+f7B+KACo4CCmYl5VSbykJGAql1Pgz/39LifWFUkr9duazRpZ6JZVSy5VYYbyjlHpRKRWnlDqllLo4Tx+tlVKZSqlYpdTzSqkhSqkMpdQsL2UuOgWHSXq6bJSs5pxWU/tffgls4ETiPQ4HMHKkpFI1f7NSpcQsOSUl2NIFjpQU4N577Uq5ESNCQyHncACvvqplq13b49RoHmHNjtC0qe8+5s8+q9t7/nnP6n73na7bs6fr8l99pcu/+aZ38hJSHOjfX78rI0a4Lt+jhy7//fee9WXNYPXcc97Ja3LsmN011p1sS96ydq19LuzVq8jcGA3DwInTWdiWeAqLtx/DhNj9+GHhTrw/JR6vjlmLXx96DdkW14zpF3XApb3/9kppceHA6bj6o7m455sleOb31Rj430Z8EbMdf67Yh5j4RKxPSMahlHRk5QTRhTMlBejd2+6GU6uWrFdCxbWU2DH3Aq1b598LtGoVlL0AFRyEFMxepQrOUqK0QuO3PP83qa6U+kkpdVyJW8oCJZYgBXGNUmqpEsXGUaXU18pu0eEJRa/gMDEMsdro3l02yXm1tn37FpnWlnjIiRMSTLZECf2b1a0r0eojdTFhGBIAz/qsdusWGn7WhiFmnaZclStLQLlA9WX1s2/XzidfbmRm2t1NPDm9NQzgttt03bFjnZfPzdVWSKVK+e5mQ0gksmmTHueuvNJ1uuy//tLv4O23e6b4tVpxtWvnW6rO1FT7WPLaa4FTQi9YoC3ClAIGD/ZrX9m5Dmw6kIK/Vu7D57O3of/4jXjqt1XoMmIx2g+dU2gci+a9x2HKxTpuQXaJkniv0zOI7jslX9lWg2fjlmEL8fBPK/C/seswdNpmjFy0CxPXHcDSncew40gqUtKziybmgrc4HGKhY7o3me4Mr7wi6xQSeoSwNTcVHIREDsFTcFg5dCiofnfES9avl6Cx1t/sqquANWuCLVngWLZMm2IrJb7XGzYEWyrBaqFQrlzg/M4dDnsQ1s6dgaws79vbv18sT5QX/veHDgE1a0rd6tVdx/JYu1Yr5q6+OnIVcoR4g8MBdOig59/YWOflDxzQWZZq1vQsptbq1TrGUZ06vqVTzcqSccgckx5+OHDv9uTJOuiyuxYuTjAMA/uOp2HS+oMYPCUe93+7FBe/5bm7SOcnRmB3DZ3WO6lGXXz/0Wh8OWc7xqzchzmbE7Fhv1hbZOdGwLi3erWsN6zrj44dQ2c+JhrDAGbPLjge3znniIIwBOLxUcFBSOQQGgoOk+xsybBSWOTkESMCmxKTeI5hAGPGyCRl/lZRUeJ6EEop8vzJsWPArbfalQm//BJsqYQ//tBmuiVLAqNHB6af7Gz7PejRw7cNxfz5Wu7zzvMsg8L48VqOm292LYfVAmXkSO9lJiTS+PFHuwWEMxwOed/M8uPHu9+Pr5mU8srRvbuW47bbApelzQ/ja9LpLMzbegTDY7bh8V9WotXg2S6VF60Hz0bn4WesLf5eh6HTxdpi0vqDWLbzOBKHfwPDqnS57bbInn+feca+UT7nHFmH8CAstAizjIpUcBASOYSWgsPKunXA00/rNG/mVakS8NJLwJYtwZaQWDl1SoJBWYNEVa8OfPONaxPncMThAIYMsbvpPPFEaASvnDzZnv3l668D08/p0/bggL17+7bAHDZMt9Wpk2fB+h57TNf96ivnZVNTtRVO9eqS4pGQ4k5iorbGOO88eU+cYbUYe/xx9/vJyZH326w7fLj3MhuGxL6wWhD64jLnjBEj7ErtyZNdVsnIzsWavUn4afFuvDwmFtd+PM+pIqPJgGnoMmIx3p64Cf+u2Y8dR045t7ZIS5N7b7V6HTIkMi3TcnJkLjOz45huDf36uX5WSdGyZYus0ytVsq/fy5eXdf369cGWsECo4CAkcghdBYdJUhLw2Wc6orv1uukmYOLEyNxAhytbt9pP9pUCLr8cWLw42JIFhrlzJf6I+V1btJAMH8EmwD7iZzl+XKyrzH4+/ND7tgwDeOgh3Vbfvu7XTUnRGQPKlXOtAJ040W7OTkhxp2dP/U5MmuS87ObN2k0jOtozy8q+fXU/3bv7Ni4NHarbuuQSGY/8TUExjgqwOMl1GNiWeAp/r07AmxM24snVhLQAACAASURBVPYvF+GCNwuOlWFeN3w6H73HrsOvS3ZjXUIyMnM8WMts3SrzjSlX3brAvHl+/OIhxKJFso6writuvTU05loi5ObKvHrTTfnX6o0byzo+KSnYUjqFCg5CIofQV3CY5OZKTAGrn615RUdLtPRALG6I5xiGLJDzKqV69nSdbjAcOXQIuO46u5XR338HWyqJhWKN8t+7d2BO9vbts8cl8SXN4+nTwKWX6rbGjXO/7sKF2mz5iitcxwW5+27dz5w53stMSLgTE6PfhXvucV42K0tnPoiKks2nu4wbZ1cG+2JtYQ1Q2qABkJDgfVuF4XDYLURq1QLWroVhGDiUko4Zmw5h6PTNePCHZWj29gynyowr3p+Np35bha/mbMei7UeRkuaDaf7YsfbT8euuk3ko0jh40J6hx9wsT5pEd5RQ4dgxya5mSUlsU0JNmRI2h5BUcBASOYSPgsPKtm2y6KhSxT6YlisnbgKBTJNJ3Cc9XU6+rL7BlSoBn3ziW1DKUCQnR1KPWp/Hl1/2LSuAP9iyxa58ePxxz1w/3CU+XpsOlyjh+gTYGTt2AFWrSlsVK0rb7mI9HX7rLedlExKkfaWACy8EMjK8l5mQcCUjA2jSRI/PrhQFAwfqd6xfP/f7iY/X71u1asDOnd7LPHGidg+sUcOzMcJdcnJsrm8Z9c/F6N9m4unfV+PKITFOlRlN35qBrt8vwwfTNmPaxkM4kJzun2wkmZli+m+dZwYMCMyYHkyysuTQyqrEKVdOLBGLOHUoKYS1a2U9YXWHVUrW5b16haV1DRUchEQO4angMElNBb77DmjePL/muH174M8/I28jHY7s3Qvcf7/997n4YmDmzGBL5n+mTrX7CF95ZfDTHe/bJ9lerCe0gdjML1umY+aUK+fZyW5epk7V8l50kbiguENmJnDZZVrRsmyZ8/LWuB/vvOO9vISEK2+/rd8BV/Ewli7VioXLL3dfgZuSosegqChg2jTv5V20SCvNy5d3/Y57SFaOAxu2H8a+a3UA1Z01zkX7F34pUJlx/pvTcOsXi9B//EaMXbUPWw6fRE4gspTs2SPziflb1ajh230MVWbOtM9XSsn6Ye/eYEtGsrJkXd2+ff41d/Pmsh4P43goVHAQEjmEt4LDxDDE9/S+++xBH02/1HfeiUzXiHAjJsYer8HcbO/eHWzJ/MvevUDbtvo7Vq8euJSt7nLkCNCqlZbphhskMKy/mTpVZxmoWhXYuNH7tt57T8t7993uu9ds3AiUKSP1LrjA+YIrJwdo2VLKli7N4MWkeLF5sw4M3aqVc0uA1FTg/POlbJkywKZN7vXhcNjdwQYN8l7eDRu0dVfJkj5v8A3DwK6jqZgQux/vTorD3V8vQcs+/2Jpw8vOyrux7gVo/fLoswqNqz+ai5f+XIuRi3Zh1Z4kpGUVgfXE5Mk6AKxSEtx5377A91uU7N4t6wHr+uCSS2TdQILLwYOiCLXGGzPfwfvvlyxoEeAyRAUHIZFDZCg4rOzbJyab1tgDSgGlSgHdusnpTwQMxGFLVpYEm7IGwCxXDnj33cgyPc3KAl591f4M9u0bXFPilBSgY0e7dUkgUgn+/rvuo3597y1YHA7gzjt1W0OGuF/3s890vWefdV521Sodu+O66zg+kOKBYejYQSVKAKtXOy//zDP6nfr8c/f7GTJE17vzTu/jAO3eLeOJ2daoUR43cSw1EzHxifhs1lY8/NMKtHh3ps0ao+Urf2J9vQvP9rE6ugWe/XouPp+9DXO3JOJYahG7HObk2N3ulBLz/0iyTE1Lk0Moqytr5cryjIVQCtFih2HIerlbN1k/W5/BWrVknR2IuDdBhAoOQiKHyFNwmGRkyEarTZv8pnSXXw6MHBkaKT2LK4cOAY88Yv9doqOBCRMia4P5zz92Zc611wbXmig9HbjjDvsJ2f79/u/n00/tLiZHj3rXTnKyWGGYpu0zZrhXz+EQKxVTBlcWNC+/rMv+9pt3shISTvz6q37mX3nFednJk+3WX+4qKWbM0MrDJk3kffaGI0ckTo4pw2efuV3VMAys2HUcT/22Go36Fx4345pXRmF/3eizfaTdchuMYK4RDh6U+cK66f/nn+DJ428MAxg/Pn9wykcfjcyAqeHC6dPAjz9qV0/rdeWVoliM0HhVVHAQEjlEroLDysqVspk2zdbNq1o1oE8fYNeuYEtYfFmyRLsImNfNN0eWq8D27fbFQp06wc3akZ1tj0wfHS0y+pvXX9d9tGnjvUvMxo1AhQra3cddl6Z9+3Qg4jp1ZJNUGCkpwDnnSNmaNQNj2UJIqHDsmDznSslz7yzN65Ej8v6Ybmfuukbs2qXjEVWo4L5LS15OnZKsSOZY8sYbblXLznVg4roDuGvE4nzKjEb9p+Kmzxegz7j1GLV8L7YuWgujYUPdR8+ewbUeiIkBate2H8rs2BE8efzNli0yz1vn/VatJMYLCQ47d8p62OoKZbqjPfKIrKMjHCo4CIkcioeCw+TIETGXPfdc+wAeFSWn2jNmBCaNJnFObq4Ep6pRw+5S9Prrzhfe4UR6OvDUU/ZnbvDg4D1vDoc9Gn+dOsC6df7v49FHdR833eS9afVff+l2WrZ03/rqjz90vbvvdm4d9M8/uuwTT3gnJyHhwOOP62f9338LL2cYQJcuuuzo0e61n5Ymm3Kz3tix3smZmSnjhtnOY4+5tPA7mZGNHxbuRPuhc2xKjQsHTke/fzdg6Y5jOJVhUV6sW6cVOEqJNVewxuXcXIlRYlq9KAU8/XTkuG+ePCmbaKvLQ40awPffh00q0YjC4ZB17x132J85pST72gcfOD8YiDCo4CAkciheCg6TnBxZ1F1/fX4TvAsvBL74wv2sDcR/HD8OPP+8faKtV082qZHitvLbbzrTiFLALbd4777hK4Zhz6BQtSqweLF/+8jOtrvEPPSQ95uH//1Pt/PII+49E4YBdO2q6/38s/Oyt9+uyy5Y4J2chIQy8+frZ/yOO5y/Rz/9pMt26+b+O9ezp67Xp493cjocwIMP2mV1YlWRkJSGwVPi0fwde1yNVoNnY9jsbQXHz1i82J5u/p13gjfXHD0q84EpS/ny4mYbCRiGzOP16tmV/C+8IPM+KVpSUiRjkpke2npdf724DkVa6mE3oIKDkMiheCo4rGzaJJtq0wTevCpWlL8X53sTLNauBTp0sP8eV1/tfwuDYLFpk6TJNb/bueeKq06wGD7cvqiePt2/7ael2dPKvfKKd5uI7GwdFFEpYMQI9+odP66DE1aq5Nwlbc8erYBq2tT9NJiEhAOZmXrsqVDBeQDgnTtlHlRK3p+kJPf6+Oor+2bJm42SYdjj4nToUKjV1rqEZLz451o0zhNf48bP5mPMyn3IyC7EMmDaNLuy+YsvPJfTXyxZYrcsbdrUe5eeUCM2VuZv63zeoYP8nRQt5nrXfK/Nq0IF+XukPHNeQgUHIZEDFRwmycmFa7RvuKHYarSDhmFIMCtrWrISJeTEx92Fdihz6pRYM1hdcj77LHinh7/+qlMslyolLiH+JCkJaNZMf19PMqJYSUzUG4FSpdy3OJk5064sc2YO/fHHuuzgwd7JSUgoMmiQfrY/+aTwcrm5diXzrFnutb9okXY/aNDAe/P299/XfTdvnm/Mz3UYmLHpMB74bmm++Brdf1yOuVsS4XA4GUvHjNFyliwZvMDChiHjvplaWymge3fnqa3DhePHZb425xXTInPUqMixyAwH3LFY9jb4b4RBBQchkQMVHHmhT2JoUZDPbs2akeGzaxjAt9/ag9/ec0/wFhv//adliYqSuCj+ZP9+4Lzz9Hf98Ufv2lmxQstZr577WWmsJ8Ifflh4uexsoEULKVe2bGACsBJS1GzfLs+zUhL02FkQzaFD7RZX7nDwoFZIlynjfVDCH37QfZ93ni3LU1pWDn5ftgfXfTLPptS44M1p6D12HTYdcMO19Ntv9dxetiwwcaJ3cvpKcrLEBTK/a5kyIlu4b/4Li6nVp0/kxNQKB44ckfVqgwb2dSxjzhUKFRyERA5UcDhjxw7gtdcKjir96KPAqlXBlrD4sHmzPdicUkDr1pERdX31aqBRI/29GjcG1qwJjixz54obhynL0KH+XXBv3qwXviVKSFpgb7Bugjp0cC94aVqaNs8vXdq5ifSyZXoTdNNN4b/pIMUbwwA6ddIbnOXLCy+7dq1WKDdt6l5A36wsuxvayJHeyTl+vD7xr1nzbDatxJMZ+HjGFlz23iybYqPFuzPx4fQtOJziRtpKw5ANnyljpUrAvHneyekra9bIOB8KY74/WbpUsqFY5+mbbpJxnxQNrrIG7twZbAlDFio4CIkcqOBwBzMvuHmqa73athWTS/rqBx7DEFNLazo/pUTZdPhwsKXzjRMn7NkKypSRU7BgbKxXrrSfvr3+un/lWLFCx7wpW9a7YJ6GYc9K89JL7tVbvVpv3po1c56d4LnndPvuZo8gJBSxZhN6/vnCy6WnA5dcok/dV692r/0XX9TtP/OMdzIuWKAtTCpUAFasQPzBk/jf3+vQZMA0m2Ljmo/n4tclu3E60023UcOQzZ3VCjAYBxQFWe3dfbeM/+HM4cP2jFlKSfrx8eOpHC4KMjNlHdq2bf416mWXyfrV3cxjxRgqOAiJHKjg8ATDEB/jbt3sPrNKSc76gQOBhIRgSxn5pKVJtHtzMawUULky8Pnnzs2uQx3DEL9467PVo0dw/LHj4+1B7556yr8uQTNmaEVDlSrA+vWet5GRAbRpo2V0149+8GBdp3fvwsudOKFN7uvUiYzYL6T4kZQk85NS8jw7c4Hr1Uu/G++/7177v/6q61x5pXfK/nXrzmYzMUqVwvqRY9Fz5Ip88TXu+3Yppm88hFxn8TXykpMDPPmklvHcc2V8K2pSUyW+hilHyZLAp5+GtwIgO1vm3cqV9fcqW1bmZ26oA09CAjBggH6/rc9Wt26yXg3n56uIoYKDkMiBCg5vOXBAUmzWqZN/Yrn/fknFx4klsOzaZfdhVkpOH+fMCbZkvrF4MXDOOfo7NW0anGw+e/bYg+7ef79/LZVGj9Zt16vnPLtJYezbB9SqJW2UKyfm9a7IyQHatdN9O3texozx/WSakGDy9NP6GXYWPDgmRpe76ir3gmqvXasVzbVre6fg37XLFkx6aI+BNqVG4/5T8eLotVi7zwsrh8xM4L779Pdq0gTYu9fzdnxl0yYZx61KlmBmzvIHMTHa2sdqjeLNOE7cxzBkfXnfffkP2urWFeXSgQPBljIsoYKDkMiBCg5fycwE/vzT7n9sXs2bi5tBJERED2VmzJBo4NZ7/8ADsvkNV44cscccqVBBTFCLmsRE4PLL7f7U/nyehw2zbz68CeA7d67224+Oluj9rti+XbvJNGhQuIm4YQC33KJlDPdNCSleLF6sn93OnQtXup84oS22KlaU+FOuOHZM3jel5P3zJp5FYiJyzz//rIyDbnzmrGKj2dsz8N7kOCQkeWkJkJqq444oBbRsKeNZUfP77/Z0tDffDBw9WvRy+Iu9e0XZbZ1vL7pI5mESOFJTZT3ZvHn+tWb79rIOdScWFSkUKjgIiRyo4PAna9YATzxhd51QCqhaVUzhmY0hcGRmAh99ZM/vXr68mFlnuBGALhTJzQXee8+ezefpp53HjQgEycmSWtWUoV07/7pr9Oun227d2rtI+59+at9AuONOYw1U2qNH4eV27hTrEFNpyUUkCQeysnRq5nLlnJ+sW10n3MlulJtrV8B+9pnH4u3ceRAHGmurhm+uegDR/abiqqFz8P2CnUhJ98HdMCnJbqV1zTVFn50qPd0eJygqStL0hmv2r4wMce+zKmsqVpS02hwTA8f27eI6dsaFy+YK9MQTkRGcNkSggoOQyIEKjkBw7JhstvMGw1QKuPVWYNo0pucKFAcO2BfrSgHnnw9MmhS+LkOzZ9t9bFu2dO+E1Z+kpcmza8pw6aXup2d1hWHIQs1s+8YbPXeFMQyga1fdxptvulfnjjvcM9+3Zl9wlmKWkFDBmup16NDCy1ndsO68071x8s03dZ1u3dweWw3DwNKdx/Dsj0uwJPqys22MbXEz7vhyISauO4DsXB/nxoMH7afct91W9PEgtm+3W77Vri0uHeGIYcj8ac36YiqF6QoRGBwOYOpU+5xrXg0byvry2LFgSxlxUMFBSORABUcgyc0FJk60m8laN92ffx7+0dNDlQUL8me9ue228LWiOXDAbkVRubJklClKsrKABx/UMjRu7L+Uczk5wF136ba7dvX8pDM1VZ9YKyUR/F1x+LCO4VGtGrB/f8HlrKfh5cvTz5yENrt2aaujZs0KP2FPSNBp0GvVcs+FY/x4uxumGy5r2bkO/Bd7AHd8tQiN35iEqRfrsSy2VUcs25oIwx8K6J077Sm3H3qo6K0L/v3XHnTzmmvCVxGwbVv+TfZllwELFwZbssjkxAmxhrK4bZ29brpJ1pPhagEUBlDBQUjkQAVHUbF5s6SyrFTJPmmVLy/BCzdsCLaEkUdODjBihF7AKyXp+fr3D8+4KNnZwBtv2J+fXr2KdgGfmytpJs3+69UDNm70T9tpaXYlzosvem51s22bNuWtVAnYssV1nQkTdJ+dOhVuXbVokd0SK1wtgkhkYxgSb8N8VhcvLricw2FXvv/3n+u2t2zRc1iVKi4Vxinp2fhuwU60+2COxNboOwWjWt1+ts/0du3953K3YYOMR+b3ef75ot0MZmXZs9AoBfTtG56ZvVJTxXWwdGn9XapVA77+2r3gs8Qz1q+XdaDV/cecw15+WdaPJOBQwUFI5EAFR1Fz8qRsui++OL+G/tprgXHjwnNBFMocPSqxK6yxLM49V1wSwnGTOmmSXWnTrl3RBlQ1DLuJerVqwLJl/mn7xAlxfzHbHjTI8zYmTdL1mzZ1L6aH1UXmyy8LL2f1qf/7b89lIyTQjB2rn9Gnny683Bdf6HJPPum63ZMn7ZlAJk8utGhCUhremxyHZm/PsGVE+f6GR+xubv6yYFy61D4mDhhQtGP7vn32mB/Vqsk4FG4YhrgsWVOER0XJ5jucA6OGItnZModce23+teDFF8s60Zt4VMRrqOAgJHKggiNYGIbEVujSxb7xVkpShA4eLObzxH+sWgW0bWu/19dd5z8LhKJk927giiv096hRA5g+vWhlsAb2rFABmDXLP+0eOKCzMyglkeM95e23df1773W92Tl5Upu2lysHxMcXXO74ce3SUq9e0QcuJMQZyck65Wrt2oUHA46P18GwGzcGTp1y3q5hyHtkvlPvvFNgsbX7TuCF0WvQuP9Um2Ljps8XYHU/Sxyb6Gj/xfCZOVNnRFLKq4CnPjFtmoy/Zv9t2sj4HG5s2AB07GifH9u1k3mT+I/Dh0Vxb00FbyqSunSRWC3hePASAVDBQUjkQAVHKLB7t5iyWhdJSol5aI8ecjrOCc8/OBzAL7/Yg3aWLAm88kr4bVYzM8WNw/rMDBhQtCbEP/2kU7SWLg38849/2t26VSsSoqI8jzeSmysxV8z74k5g0MWLtbKxVavCXX9GjbK70RASKrzwgn42//ij4DJZWRKoWCl5d91Jffzhh7rd22+3uXHlOgxM33gI936zxKbUiO43FQ//tALztx6BMW6cfrdq1RJXMn8wbpx2oyhRAvj5Z/+06w45OXZLNnM88DRAcrA5cULmP3McVwqoU0fmSQZD9w+GIeu4Hj3sbj/m4UTfvsCePcGWsthDBQchkQMVHKFEeros0MzFp/Vq3Rr49deiTxEaqSQni790yZL6HteuLRv2cFvUjRljT497/fVFa/3z778S28TcZIwc6Z92V63S36tMGWDePM/qJyXpYG0lSrhnYdK/v11ZVBCGIZleTOXLihWeyUVIIFi+XCsROnUqXClu3ZS7k21o1iy9+T3//LNuJZk5ufh1yW5c+/E8m1KjyYBpeO3v9dh86Ix5/dy5enyoWNF/FgE//qi/b5ky7gUV9heHDon1nzVWgrMsTKGIwyFjtalINpX9vXuHn7I/VElPF0VR69b513StWslnXNOFDFRwEJKfskqpj5VSh5RSGUqplUqpm92ot0DJy1TQleNm2Zk+yE0FRyhiGOJT3L07UKqUfVKsWVOCf+3dG2wpI4NNm0QhYL3HV14JrFwZbMk8Y8sWe+yKunWB+fOLrv/Zs+1Klk8+8U+7s2bpE6/KlYHYWM/qr1+vA7fVqOH6lCwrS6d3dHa6vXWr3rRdfjkD75Hgkp0t2S3MzX5hFhKLF2tlRcuWrgMU79mjLQvLlz8bDPt4aibu/3apTbFx2Xuz8MnMLUg8maHrx8bqjCKlS8s44Q8+/liPNRUrFm0K1nnztBuQOhNLZOvWouvfH6xcKfOcdd674QaZD4nv7N0r67SaNe33uFQpWdfRKjckoYKDkPz8pUQh8alS6lml1LIz/7/GRb2blVIP57meU/KCTctTdoFSan8B5W/0QW4qOEKdQ4fEX7N+fftEWaIEcM89wJw5nCh9xTAkMF+DBvZ7/NRTwJEjwZbOfdLSgMcesz8jH3xQdBYpy5cD1avr/vv398+zOWaMXXHjaWra0aPtllCuTsw2bdLxCc4/v/D4BO+9Fzy/f0KsWOPhFBaY99QpibehlDzfrub99HQ5ZTbb/fNPAMCOI6k2q42On8zD78v2IC0rj5Jvxw5xdTAtnfxh4WAYsnE0ZapevegsqBwOYMgQuyvH44/LuBsuHDkiAWWt81yDBhLskusI3zAMUbTdfbf9GVFK1m+DBsl6joQsVHAQYqetkhfidcvfyimldipRdHjKw2fa65Hn7wuUUnFetOcMKjjChaws2YRfc01+U8emTSV9m6tAccQ5p0+LW4J5Mq8UULWqZNUIlxN6wxA3p3Ll9He47TYJjlkUbNpkV8Y9+6x/UjV++aVu8/zzPXfBefVVXf+xx1wv5ocN0+ULy0SRmQlcdJGUqVCBVlUkOOzdq4NsXnxx4TEgrBmAhg933qZhAI8+qsv37g0AWLLjGC59d+ZZ5UbvseuQmVPA+334sHYPUwr46isfvyRkHHnmGfumsagsDo4dk9TQZt/lyhVtvA9fycmRMbRqVf0dypSR+e706WBLF96cOiXrL2uGIfO65hpRHjEzXlhABQchdj5RSuUqpark+fubSl6U8zxsb7pS6rRSqmKevy9QouAopZSq5LGUBUMFRziybp1suvLmTK9cWXKmb9kSbAnDmx07JJCe9d62aAEsWBBsydxn/XqgSRMt/3nniYVFUbBrl31z062ba1N4dxgwQLfZsiWQkuJ+3exsezq+b791Xt7h0HE2lCo85eO8ebrMnXfyFJQULYYB3HGHfgYLc0ubOFGX6dTJtVXXN9/o8h07AtnZGLtqHy54c9pZ5caXc7bDKOh5T0nRbl5KAQMH+vw1kZUFdO1qV3IWVaaSZctk/DT7vvBCGV/Dhfnz7e6LSskzs2NHsCULb7ZskfWW6YJlXuXLy/ps3bpgS0g8hAoOQuzEKKU2F/D3TkpelLs8aKu2EteW0QV8tkApla2UyjrTbqJS6n2lVGkP2s8LFRzhTFKSmCabZsfW6+abZVPmj9Pz4sqUKcAFF9jv60MPAfv3B1sy9zh5EnjgAbv/7/DhRbMJP3TIvqi+9VbfTwoNQxaOZpvXXw9kZLiuZ3L4sLYuKV1a4tw4IyFBn3jWrg0kJhZcznrSXZSBDgn591+7ZVJBJCbqrFHVqrkev5Yu1bGfzjkHjkOH8eH0LWcVGxcOmI6J6w4UXDcjwx5885lnfB9vTp8GOne2K5uLwtTfMGS8tMbB6tpVxtVwYP9+4MEH7fPXBRfIvEa8IzdXlIU33ZR/zdW4sbgqFpaamYQ8VHAQYidOKTW3gL83U/KiPOdBWy+fqXNbAZ/9rJR6Vyl1n1LqEaXUpDNl/3az7TpKXlrr1UVRwRH+5ObKosW6CDSv6GgJyFZULgqRRkaG+F1brWUqVpS0ieGQDtAwxDTZmpru/vs9s37wlqQk4KqrdL8dOpzNwOA1OTkSe8Zs8777PFPiLVum70X9+q5dXf78U/d1110Fb9aOHtWBGM89l65ipGg4eRI45xx57mrWFDeKvBiGWBaZz/CYMc7bPHTIpgTMWLQEz/+x5qxyo9Xg2Vi9p5ANXG6uvI9mX/fc47tr34kTQPv2us327X0fQ9whJcX+XUqXFjebcLDQyswEhg7VbkumC90HH3imECaa48dlHRUdnX+N1bmzrL94mBT2UMFBiJ1dStxK8nK+kheltwdtLVNKHVXihuIOP57p4yo3yr53pmy+iwqOCGLbNkl/WqWKfRIuVw544gnPs1AQYd8+u4m0aao8bVqwJXOPFSuAhg217E2aFI0J7enTYk1k9nvZZb6nsE1Pt7ubPPecZxuPb7+1+0g78482DPspaGEpcH/+WZfp1cuz70OIN1jjyvzyS8FlfvzRbn3mjKws4Oqrz5Y/+cUIdBmx+Kxy48bP5mPv8UKssAxD4u1Y3Vp83UwfOiTWGmabt9xSNPEiYmPtlnsNG4ZPKuhp0+yuieqMi2BCQrAlC0/WrpV1kzWmlVKyvurVq/BsRSQsoYKDEDv+suAwFSIjPOj74jN13nKjLC04ihOnTslGrlmz/CcOHTrISZ4/4iIUN+bOzX9P77rL88weweD4cXtskbJlZQMU6FPJzEy7q8wFF/juP5+crNNiKgW88477dQ1Dsh+YdV991Xn5pCR9Ul6xYsG/tWFopUuJEsCaNZ59H0I8YfVqyUxiKhMKeod37NCpm88917Xp/CuvnH0nkrs/jA5D55xVbnT/cTlS0pwoAt9+267ETE727fvt3m1XMnTtGniLOcMAfvhBZ1BSSmJVhIPLwc6dMg9Z56XmzWW+Ip6RlSXrow4d8q+dmjWTdVVqarClJAGACg5C7PgrBsdbyn1rDJMKZ+oMc4IgPwAAIABJREFU86COFcbgiHQMQwIh3ntv/tRldevKxvDgwWBLGV5kZ4tvttVKpmxZ4K23Qj9loMMh5svWZ+GRRwJ/Mpqba8/icM45rtNUuuLQIaBRI93mN9+4Xzc9XVLGmnX/+MN5+dmz7WbyBZnex8dr95fWrcMn8w4JL3Jy9LNbujSweXPBZayuHTExztv84w9tuXFpS7QaMPmscqPvPxuQneskKOmIEfY4BL7Gx4iLs2dievrpwJv/nz4t46DZZ4kS4oZYVCm2vSUtTeYdq1KmShWZn5i5wzMOHpT1UN269nVSiRLirjRvXni4KBGvoYKDEDufqoKzqAxQyqMsKpuVpJb1hEvP9PGmh/VMqOAoTuzbB7z5JlCrln0CL1VKzPAXL+YE7gmJiXZLAKUk2v4//4T+fVywAKhXz34yVdBGyZ8YBvDGG7rPGjWAlSt9a3P7dh1AMSpKUvK5y969ErtAKYmx4splx+oS8MEHBZcZOFCX+eIL92UhxF2GD9fP2FtvFVxmyBD3XabWrTsbYyijanVc/cIvZ5Ub3y3YWXCmFJO//9aWJLVry/voCytW6Hg2SgF9+wZ+LI2Pt1vl1asX+hmzDAMYN86e3UUpcacoLBgyyY9hAIsWiRuPNZisUrJOGjBA1k2kWEAFByF22il5IV63/K2sUmqHUmqF5W/1lVJNVcFZT1qdaWNwIX1UOdOmlSil1Ngz9Vp7LLVABUdxJCMD+P13oE2b/CaYl18ucQZC3RIhlFi2DLjiCvt97NRJFs6hzOHDwA03aJkrVpSgmoHmo4/sfc6Z41t7a9YAlSrpE21P2ps9W1uzNG7s3Bw9PR1o2lQrBQtyQ0lP16b1lSqFT8YdEh4kJOhnvUkTed7ysnq13qxdcknBZUySks5m4XKUKIEeDw5BdL+puGjgdEzf6MISIyZGWyxVquS7W1ZMjHapUUrGiUAzerQ9GOeNN4a+giA+3p7CWimZf4oqDXgkkJYm6xxrOmPzatNG1kcMyFrsoIKDkPyMU5Le9ROl1LNKqaVn/t/RUuY3JS9OowLqf3bms4sLaf96pdRhJa4oLyql+iillpyp84MPclPBUdxZsQJ4+GF7lg2lgOrVgT59gF27gi1heJCbK/7bpkWAuQn+3/+KJmOJt+Tmyimw9bd//vnAL+5++EGf/JYpA0yY4Ft7vmy2rAqXzp2dm8OvWaM3j02bFrx5tLqz3Huv59+FkMKwZhAqyO0kLc2uhFu7tvC2cnNtmbeGXv84ovtNxRXvx2BdgosYGqtXa0VLmTK+KynHj5d2TEusH3/0rT1XZGRIcGLzXkZFSRyRUM6EkZIi84nV0qBmTblXoSx3KLFrl6xrqlWzz3llysg6yFeLQhLWUMFBSH7KKXFVOayUylRKrVJKdc5T5jdVsIKjhFLqgFJqrZP2GytRouxRSmUopdKUUmuUBDCN8kFuKjiIkJgIvP++BKOzTvxRUZJmcObM0PdHDgWSkoCXXrLHuKhbF/jtt9C+fzNm2JUzrVsHXrk1dqxWSpQoUXgmCHfx1lzeMCR1riuzfxOr+X9hAUq7d9dlJk/27HsQUhCTJulnqkePgstYAoUW6kZlYlFsTruoA6L7TkHn4QtxINmJxQeQ3y1s3Djvvo/Jzz/r8bJ0ac/czLxh506gVSu7kmDGjMD26QsOh8wf1tgQJUrIPBMOAVCDjcMh65c77tDzg3mde66se0LdaocUCVRwEBI5UMFB7GRnSwyJ667Lb7p50UXAl1+GtkVCqLB+vaQgtd6/9u2dn6gGm4QE4KqrtLxVqwL//RfYPmfMOOv/D6WAYcN8a+/rr3VbjRq5H/Dw1Cl98q0UMHFi4WXzBnCcPTt/mcOH9Slhw4aMuk98IzVVx1uoVq3gDdmsWfqZ7NDBeZDbiRPPlt1e8zw06z0Oj/68EqcyXASmPHjQ+8C+BfH557qtChVkIxpIJkyQcc06JodyCtU1a+xjslIyr6xfH2zJQp+UFImDdOGF+dcy118P/PsvA0ETG1RwEBI5UMFBCmfjRjHjtfooqzNxE154wfcsGJGOYYiPtzUjQFSU3NPjx4MtXcFkZYkZtPX3fu21wEbkX7LEvul46y3fAgt6m7JyyxagcmWpV6UKsG1b4WV37tTxAs45p+CT1O+/13L06ePddyEEkHfQfJZ++CH/59ZUxpUqOU9bvXUrciqKe8mpMuVxw9Pf463/NiHHWaYUQN6jFi20HJ6kZs6LYdgD8larBixd6n17rsjOtt9DpWScC9VMI8eOAc8+a7c4qF9fYiSFegDrYBMXJ26W1ngupgLtuedkXUNIAVDBQUjkQAUHcU1yskTub9Ik/0nIDTfIqRhPQgrn1CnJHmKNc1K9OvDtt6HrOz1+vD0NbocOgQ2YuX693QT7xRe9d+kxDNkcmG117Og80KKVCRN0vWbNnFtejBypyz70UP7PHQ5t6VGypOssLYQURGysPD/me5j3vTAMyQJhPos//VRoU8bJkzjRSJ9oP3PfQPy8eLfzTCmAvD/XXqv7eO457zfaDocoyK0ufBs2eNeWOyQk2C2uqlTxPeZPoMjNFauY6tW1vKVLSzaZU6eCLV3okpMjc5Y1aLZ5NWki6xd3Fd2k2EIFByGRAxUcxH0cDmD6dOD22/P7sp53HjB0KHD0aLClDF22bgVuucV+31q2lPS8ociOHSKfKWutWmIGH8j+rObvPXp4f8Kamwvcd59u65573FfCDRig63XtWvhGzjCAu+7SZQvKQLNxow4K2LZt6Cq0SGiSmwtceaU8P6VKAZs25S8zerR+Brt0KfR5zcnJxab2N58t+901DyEm3o3YAzk5wN136z7uv9/75zg72x6fplEjee8DxcyZ9thCrVo5t24JJosX58/qccstMm+Qgjl6VNYdedPlRkVJzI0ZM0I79hUJKajgICRyoIKDeMeOHWLyW1A08kcfBVatCraEoYlhSFwL60ZeKYng7m68iKIkPd1uDRHobAMHDojlhNnfHXd4n7I4I0N8rc22nn7avVPn3Fy7IurTTwsvm5ioAy5WrVqwP3+/fv6LWUCKF9aYMv375/983z7t3lW7NnDkSIHNnMzIxpgHXj7b1rIL22DTPjcCVBoG8NRT9tgF3mZYSksT5bjVQurAAe/ackVuroxTVkX8c8+FZurPgweBnj3t80GjRjJP0B2lYFatknWGmXnH6ur02muBVZqRiIUKDkIiByo4iG+cPi0+4VbfbPNq1w744w8gMzPYUoYe6enAe+8B5crp+1Wpkmyms7KCLV1+/vjDHoulU6fARZ4/flyfWislpvHeBrZNSbGfig4c6L4MphKqRAlg7tzCy1oCNuLGG/OfGKal6baqVJENDSGuOHhQx4Rp3Di/os/hsJvkT5pUYDMJSWl44/nPkRslmUoO16yPxD1uPoNWa6aWLYGTJ737LsnJ9qDLbdsGLg5RYqK8h2ZfFSrI+BVqZGUBn3yi0+0qJfPBoEHuu9QVJzIzgVGj5NnJu9Zo0ULS5Z4+HWwpSRhDBQchkQMVHMQ/GAawcKGY9Jv+4uZVu7ZsLAMZwyFc2bMHuPde+/26+OLAuoJ4S1wccMklWs769YFFiwLT16lT9k1Ky5aFnk675PBh4PzzdVtffeVevdhYrYCqVUtOywvDeso9fHj+z6dN05936+bd9yDFi65d9TMzfXr+z4cNs1snFUDsvhO4o88fSCov8XSySpdF+srV7vX/5Ze6/fPPl/fIGxIT7a5unToFLp7EwoX2oM6XXALExwemL1+YNUvGeeu4f999Mh8QO/v3y/rBtJQzr5Il5R1ZuJCWLsQvUMFBSORABQfxP/v3SyaMOnXyL0geeABYsIALkrzMnm1PU6qUKD5CbcGbmmo3py5ZEvj448D4OWdkSOwMs6+LLgL27vWurZ079fMYFQX89Zd79UaN0v23aVO4ifupU1qJUrZswRmGXG1YCTFxpRDbtEmeM1P5UIDCYNrGQ7i030RsqKeDQzt+H+Ve/2PG6P7r1vU+bsXevfY0nffeGxiLPocD+Ogju3K9Z8/QS8+8e7d9TFNKxv2CUk0XZwwDmD9f4r3kPTCpU0fcjwLl3kSKLVRwEBI5UMFBAkdmpgTAu+qq/Call14qaTRpUqrJyhIXlbwmy++9F1omy4Yhv53V//nOOwtOleorOTnA44/rfho0kHSu3hAbq03+S5d2f1Pxso5dgCefLFw5t2SJuLOYFid5XY0OHtSZaRo18j62CIls8ro05Y3Nk5mp3a5KlMiXXtUwDHwzfwei+07B3y1u0s/uK6+41/+sWTrjU+XK8t54w+bNwLnn6v6feCIw2baSkmT8MfspW1bcJkNJiZ6eDrz7bn6XxM8+C02XxGCRmipzy6WX5l8zXHWVBHKmyysJEFRwEBI5UMFBiobVq2Wjap46mlfVqkDv3gwKZuXgQQk6ar1PjRpJasNQWrSvXWt3/YiODkxwWYcD+N//dD+1agFr1njX1rx5WjFTsaJ78mZlAVdfrfv/4YfCy1pjFhQUFNJV0EhCXAWltX6eJ6ZMVo4Db/yzHtH9puLNzi/pctdc495GeuVKeS+Ukvdk3jzvvsPq1fbsJa+9Fpixa+VKGXesrjRr1/q/H28xDBm3rTIqBTzySGgGlQ4W27fLOsAMmGtVVj3+uDxPhAQYKjgIiRyo4CBFy7FjwIcfAg0b5j+hue02Mc1mWjdh8WK777pSoZc2MDnZbnJdujQwYoT/NzOGAQwZovupXFlMmL3hn390doVatdy7n4cOAfXq6e+4fHnB5bKyJBWl6QqTNwWwO2k/SfHFVVrhRYv0s9u6tU1pkZKWjYd+WI7oflNxz8OfIbvkmXbq13dvM711q1ZKREUB//7r3XeYN89uhTZkSGDGg6++0pYmpvuLt8GIA8GWLcDNN9vH75YtxdKLyDw/bRpw66351wING4rL0bFjwZaSFCOo4CAkcqCCgwSHnBxJg9epU/7FzQUXSAC9EyeCLWXwyc0Fvv0WqF7drkR4443ABerzFMMAPv9cb8zMuAGBkO+bb/QGr2zZQjNHuOS77+yWJ+5kNlmyRH/Hc88tPItMfLy2VGrUKH/miXXrtF95hw5U6BHB4QDat5fnomRJeU6snDypXVfKlbMFz9x7/DRu+Gw+ovtNxRUv/4Fj1WrrsSKPC0uBHDhgVzp//71332HiRP3sR0XJ2OVvTp60x7MpVUrmi1Cxbjt1Cnj9dft4WKOGjDmBSq8dTpw4IfPFBRfkn/s7dZJniPeJBAEqOAiJHETBcffdwO+/AwkJwR5fSHEkPh548UVtGm1eFSoAzz4LbNgQbAmDz7FjwHPP6c29eTI7enToLOyXLpUYGaZ8F10UmN/uzz/15qFkSQkE6g3vvWePCeOOQm3ECF3nuuuA7OyCy33xhT1uR15ee809lxdSfPj+e/1M9OmT//MnntCff/nl2T+v2pOEloNmIbrfVFzw+kRsa3qFcxeXvJw4YY95MGiQd/L//rtW3JUqJYFK/c2GDfagpQ0aAMuW+b8fbzAMSUdrzeISFQU8/3zgUuKGExs2yHxuTTeulFj7vPSSxGwhpKhJSJCx6/HHEXfOOVRwEBIhiIIj7+n500/LJoI+oqQoSUkRs+OLLsp/stOxo7gWFLahLC6sXatPea3+9XlPe4PFsWNA585atnLlgF9+8X8/U6faA/ZZNnxuYxiiWLPeR1fBXA1D/OfNOv/7X8HlHA67ddJ//9k/T00FzjtPPqtWrXBrEFI8SEyU50ApeS7yZv+YMEE/SzfddNbqZ+K6A7hwwHRE95uK6H5Tserex3S5xx5zrfxMS7PHl3npJe8UplaFXrly8n76m59/tr/znTuHjgvDunX2+6iUjNOhFA8kGGRnA+PGyfydd06/6CKZ7/NauBESSA4dkv3N00/nsyKKE+UGFRyERACi4ChfPv/kY14XXywnEH//DRw5EuyhiRQHHA7JcNGli91iwXQNeP/94r0hdDjkxKFuXX1fSpSQzXogMpl4I9/77+uMIkrJ6bO/s4YsXKizkiglFhmebs5ycyV1sdnGXXe5zvSQlmaPjVJYytn9+/WmtVat/M/spEm6jZ49PZObRBY9euhnYfJk+2eHD8vzo5S4qh04AMMwMDxm21nFxgVvTsOyIRbrolatXCvrcnLs2Ue6dvXcNcAwJDuI2UaVKhInxJ+kpdkzKZUoIeNLKLh2JSUBL7xgH+vq1pXxORTkCxaJifIbWbPomBYtXbrI/F6c7w8pOo4ckf3L88/LfqawvU6lSoi75hoqOAiJEETBsW6dBM0bOlSCYjlTeDRvLmkTx4+n2SUJPLt3S7wJawwKpcS3vGdPeW5DxUWjqElJEVcHq693zZri8hAKPsxz5wJ16mjZWrQAtm3zbx+xsUDt2rqPV1/1fOGcmQnceKNdGePqmdq9Wz+TFSpIcMiC+Osv3e4dd+Rv1xqg1d20tSSymDVLPwP33mv/zDCA22/Xn48di8ycXPT6K/ascqPFuzOxbuoCPW/XqAHs2eO8T8Owu7x06uR5+k2HQ1LPmm3Uru19StnC2LpVxg2zjzp1ZFwJNrm54lJkzRRTqpSMx8XVIsEwZD7u2dMe/NV8Jvv2lXGTkEBy/LgESH7pJaBZs8L3MuXLy35n6FB5brOzGYODkAii4CCjWVkS/X/wYOCGG/Kn9rRel10G9OolgaEYFJIEirQ0MVHOm1VEKaBNG+C334CMjGBLGRzi4/MHa73iitDwTT940G6eXKmSnKb4k23btLuHUuJC4qkr08mTkpXCbKNfP9d1Zs7UFkYXXCAZZQqie3fdbt54GwkJOuNEkyauT91JZJGers2kK1USqx8r1rgcPXog6XQWHvhu6VnlRsdP5mH39gTdRlSUKExcYU0127q15wGBs7PtqawbNvS/8nLsWHs2lo4dQ8Ntdtky+1ihlLgNFdcYEhkZwK+/ypyTd25u2VLmbY5rJFCcOCH7j169ZD9S2F6lbFnZzwweLPubAtJmU8FBSOTgXhaVjAxJyfjuu7LIKFOm4AEkKkom/j59xAe3uJ5kkMBhGBLMsnt3u+WCab3Qvz+wd2+wpSx6DENOLawbfaXED//w4eDKlpNj31ApJVZgnp4YOyMhAWjaVLffpYvnCq/ERLtP7rBhrut88IHdQqMg65ETJ7SpdoUKwI4d9s+HD9dtvPWWZzKT8GbgQP3bf/GF/bPt23VAxgYNsHt7Ajp+Mu+scuP+b5ci6VSG3cJj6FDXfX7+uS7fpInnrqfp6eLKZbbRtKl/A5RnZsrpq3W86N/ftetYoDl8WMZTq1wNG8q4WxytCPfuld/FasViWrJ07y7zdHG8LySwnDwp+4s+fWS/kdeN2bzKlJH9yrvvAgsWuLUeoIKDkMjBuzSxaWnAnDmyOOvQIf9G07xKlgTatpXNzcyZ+QOnEeILhw5J3IV69ezPXYkSYvo/d27xW2ClpQFvv223uqpSRTbrwQ7QOmWK3dXoyitdm9J7wtGj9lPE66/3XMm6a5f9efrjD+flHQ67m8l77xVcLiZGl7nqKvtmLSdHnwiXLl18T4KLG/Hx2pT/iivsbmU5OUC7dmefmbhR49Hi3ZlnlRu9/opFZk6uPf7Fvfe6Hu9GjdLl69Xz3GXg5EnJHmS1FPNnoM89e2RcMNuvXj0wAUs9ITtblEKVK9tPg99+2/9xhUIdw5C13z332OOOKCXZYwYNCg0rGxI5pKYCM2aIi1PbtjpTU96rVCnZjwwcKM+oF+8mFRyERA7eKTgKGoBmzhRFRrt2zgeg9u2BAQNkwV/cFgckMGRliTlz3ij2SgGXXCKpEj01wQ53du0SKwbrvWjWTCb+YFLQBmbKFP+1X9AG7OhRz9pYv14HLy1VCpg+3XWf1sw/hX2fXr10mffft3+2erXeMHTsWPwUc8UNhwO49lqtkF2zxv754MFnn5Vt3Z/CBW9OO6vc+CJmOwzDkOfMfJ4uvti1Mm/6dH0YUaWKPOeecPSo3TXDGwWiMyZP1kF5/8/eeYdXUXRhfBJCElrovTfpCIIgAqKoIChKVVREpIuiIiAoSJGigCAoKkoVRGmifiqKgqAiTUBAeg0dQk8h9e75/nizzMzeknuTm+Tem/N7nn0ge7fM7s7Ozpw557xCYDCT3d5469bhG6K2o48/jvY1JxEdTTR7tv29EALqU8uWOXT5ZxiPiYvD+OCttzBecDWB2rQpvIjWrvXKBCobOBgmcPCOgcPKzZtEP/1ENGwYBhhWS7/qQtayJdGYMQiByak5FBjvsWsXUZ8+upygEJh9GzwYSetyEmvWEFWvrt+Lrl2JTp3KvjIlJurJCYXA7Iy3XNC94UK/caP0gsmbl2jrVtfb798v8wUULGgfhmKWy0x6FhICo4aKek8yQ1qX8R3mz5fP+pVX9N+2b789SXC5QlW6Y+hqqjjiR6r+1hr67t+z2ObIEdQzIVDv0vL62bJFhruEhUGByBNOn9YVCNITAuaM5GS8/2p7MHhw9g6YT53S1ZWEQDv688/ZV6bs4NAhPAvVe0UIJGjs29d35MkZ/8UMgR8zBuMBZyHwwcEYTwwbhvFFJoTAs4GDYQKHzDFwWLl+HZKIr71GdOedjhsvITAoTSMJEMO4xdWrRNOmEVWqZF/PHn4Ys4W+oDSSFSQkEL33HlG+fHoHdcKE7DUqLl+ud5xbtkRSUm/gjSSIq1dL42yRImkPIletkuerW5coNtZ+m127ZFhCjRq6F9vNm0Rlysjzeep5wvgHUVF4vkIgN4vaUY+Lu+0NlJwrhNr3mkUVR/xIDd/5lf45mSoBHROD+mXWtW++cX2+Awfk+YKDib791rPyHjpkn8TXW8bIs2elJ4tpiF6xwjvHTg/x8WgXVSW5fPnQfnozZ5Avk5KC/trDD9t/OytXxnfVF+TIGf8kMRFS0mmJGAQFIUntkCGoj86SeHsRNnAwTOCQNQYOK1euYPAweLDeUbMuefNKGafNm7M/hwDjf6SkwJW7TRv7+lWpEtHUqTlH7vjsWV3RQwiiKlVg7MmukIjDh+1lIL0VRuMNGcvPP5f7ly+ftieImky1e3fH93XyZLnNyy/rv6lGkuef96ysjH/Qs6dz44SSXPO9Vs9TxRE/0gPvb6DIK6nGMsMgeuopuf/Ika7Pdfo0Ublycvu5cz0r686dGZdhdsZvv+nHrl/f+0os7mIYGERVqaK3j08/jXYzJ3DlCr6HjiYF2rbFdzSnTAow3iMpCf33SZOgNqQaD61L3br4Zq9enS1GNDZwMEzgkD0GDiuXLmHW5sUXdSUE65I/P9EjjxBNmQI33uzOqs74F4cOoYNudbcND0dYi6eDX39l40bdqCAEUbt2cHvPDuLiiHr31mdu3nnHOwMpw0DiT/PYERGYPfKECRPk/rVru+54JSejE2du70iJJSUFydDMbX75RS/vY4/J3zZs8KysjG/z++/y2XbooBvAfvnl9m/by9amysO/p+6fbaEbcYphX1VAeegh1wPOK1f0nAkTJ3pW1j/+kLlohEACSW8YQlNScCxV/aBPn+yTEj18GO2f2h7Wq4d2MiewaxfaX0dhna+8kn1GJ8Y/SU5G/3zKFPTXValn61KzJvr9K1Z4ruaUCbCBg2ECB98wcFg5f57oq6+I+vWzzx+gLhERGAxMn46PtLdmlpjAJjoaiUcdJUxr3pzo668DPzwqOZnoww/1pH6hoZgRzi61o4UL9dmdNm28F6Yxa5Zu0PJEmcEw4Glh7t+smesEyZcvIyRGCORScGSkOH5cdvxKl9a9iCIjZb6EO+7IOa7xgU5CgkxGmzevnkDzyhVKLFGSSAiKCc1DLQbMo+Erd1NisvJN+/13mcC7YkXX6iWxsVDrMevs4MGeGSd+/FEf8H74oceX65CoKN2bLk8eokWLvHNsT4mJgceVGTImBNrDjz4K/MmTxER851RDq2rE/eSTnJeYm0kfKSnw9Jo+Hf1x1ShqXapXJ+rfH3XPB9V22MDBMIGDbxo4rJw5A7nG3r0RA+qs8SxcmOiJJ4hmziTas4cNHoxrDANSsp062SfCLVUKEozeygnhq0RFIVmcOptatiw6INkRtrJ3r65IUrYs0d9/e+fYixfLAWJICIyo7mKz6aEB7du7DpnbsUPGFhcvjjbMyrx58njduun3e9o0feac8X9UT6L335frDYPin+h0+7dh7V6hTzYcg1KKyenTMpwjPBwDCmckJekeCd27e/YtXLpUKhfkypW2VLK7bNqE99ksV40aeN+zGsNA+6aWJSgI7WCg5705dw7fNUfS6p06wYjGCk6MK2w29K9nzkR/W5V+ty6VK6PfvmSJ42+gj8EGDoYJHPzDwGElMhKzvT176snPrEuxYkRdukDebP9+/nAzzjl1iujNN1Fn1DoUEoIBwqZNgV1/tm+HLKN67a1aZc8AJDpaNyaEhGB2yBv3//vvpeEhKAiePO6SkKCHn/Ts6XrguHCh3LZJE3tPDMNAB9HcRh1IJiUhJ4HpWcNu4v7NoUNSHeDOOzUPAduiL27XgV+q30Nfb43U901I0N9NVx4PNhuSgJrbPvywZ95os2dLY2dYGPLzZBTDgEFHlY/v3j17PAT27NFlpIWA1OT27VlflqzCMJC0/amn7CU3ixXDdy87VbUY38YwiPbtQ9vQpQtR0aLO+9wVKiB31MKF2S/xnA7YwMEwgYN/GjhUDAPu3vPmET37rFQhcLSULImP/Jw56HAG8oCVSR/x8RhANGpkX38aNEA9cxWe4M/YbJAnVRP/5coF9/YsyGCuYRjoUKnu4x07eqccGzboeVgmTHC/LYiOJmrcWO47bJjr7V98UW7bv7/975cuIbGqEHDtVQcaW7bIwWbr1txe+SuGAbUA06imSg5HRlJCXoQqReUtRGPm/W6/f//+sg4NGuT6XEOHym0bN3bfiGAYeq6ZAgUQquk7AAAgAElEQVS8k//l+nXdiBcaCqNiVtfla9fQjqlGluLF0d4FqqdnXBy+Vw0a2H/LGjcm+uKL7FXRYnwTw0D/+NNPiZ58Un6fHC1lyqDfPW8e+uF+/o1iAwfDBA7+b+CwYhiY7ZwzB8aMtBrnZ55BZvljx/y+cWa8iGFgINKjhz7IFgIumcOG4YMeiFy/juRy1sHAvHlZPxjYvl3P6l+limv3fHf55x99JmrIEPevLSpKzw00bZrzbRMT9VwI8+bZb/O//8nf779fL4dqIFm82LNrZHyDL6SHhmagsNnoRhOZA2FUn8kUl2jJ/TB3rty3WTPX3hhTp8pt77jD/XALmw0S7uqs/o4dnl+nlR079JDSSpXw3mUlNhvuoeqZlysX0auvZr3RNqs4fhzfJ2voQO7c+J6pBjaGMQz0f+fORX/Y3UnCw4cDrs/MBg6GsSdMCDFFCHFeCBEvhNgmhHjYjf16CbxMjpZSDra/VwixSQhxSwhxUQjxoRAifwbKHXgGDiuGgfAUd9zrypeH27mfutcxmcTFi5jdVGO2zdnYDh2I1q4NzFnAvXsx4Fav+e67ibZty9pyXLuG+2yWISwMHayMdq4OHNAlNHv1cj+54MmTSA5q7vvFF863PXsWHUOz7I7c4fv1k8eaPl2uv35dxssXL54t0nlMBrhyRQ6uS5UiunHj9k8xk967/cyXNWxHhy9avC22bZNhLSVLus4HtGiRbrg/edK98iUno96b+5YrR3TwoOfXqWIYmP01yy4E0eOP4z3OSrZtQ3ultl/330/0339ZW46swGaDCs9jj+n5lITAd2viRHzHGIYI7YO7Yd5du8LrKgeEebOBg2Hs+VoIkSyEmCaE6C+E2Jz6d4s09usl8DK9LYToYVnCLds2EDCe7BJCDBRCTBRCJAghfs5AuQPfwGHFZsPAbdYsuLynlSDphRcwc+oHCZKYTCYpiWjlSvsYbnPGdNYsbQATEBgG0bJluiFACMg6ZqWsm82GGWrVq+SZZzKu+BIZqXtjdOrkvtv2nj1EBQvKWWFXyix//inj38uXt59dj4khqlpVuvGrg7Bly2T5+vb1/BqZ7KNPH/nsli+/vTpl9x5KCoFn2InCpembjRajwqVL8p0LCXEtbfzDD/K9KFTI/bw58fH4BqptWEZzMcTE4L1UvSWmTs3agdGlS7rstGm4Wb488AZoN27gu6MmZjaXVq3wvXKVDJnJGZw5g37sCy/oHpHWpXBhtAmzZqEdCcSJGxewgYNhdJoIvBDDlHXhQohjAoYOV/RK3bexG+dZI+AhEqGs65u6fxs3y2ol5xk4rKSkQGLWHYmratUw0/rVVz4pccVkIXv3Eg0YIOU8zSVfPoQVBNo7FRODZHTqrGzBgugIZaWk4p9/6i60tWphZikjXLqkx6m3bu1+7oI//5RymnnyuFZ8UaVqW7e2v2+bN0s1n/r1ZVJSwyBq21bu62qwy/gOf/4pn9kjj8jBdUICXa5cg0gISgkKpg8mfKErpiQny5wdQriWaP37bymtHB6OZJLuEB2NOmieo2HDjBss9+0jqllT9yRxtzzeIDkZ75hpdDSNhW+9BdncQGLfPnxn8uXTvz958+K7lB3JoRnf4fx59FP79UO/1VmfNiIC/d7p09EPzmEGDSts4GAYnalCiBShGx6EEOJNgRelvIt9ewlp4CgghMjlZLsIAY+QqZb1oUKIGCHEPI9KLGEDh5XkZLiQT5kCqb38+Z1/HGrWRCdj+fKsnc1mfIdr14hmzJCz7+rSujXR6tVZawDIbI4cgUSqep316hFt3Jh1Zbh0iejBB/VOfUbzU9y4QdSypTzm3XcjvMAdvv9eGiYKF3Zu3DIMJGQzzzF8uP02o0fL3994Q64/flwaUmrX9kwZg8l6EhNhfDMNXydO3P7pXL+Xbz/jLx56jmITLO3DsGGyDvTo4dzrYN8+6YGYKxfqoTtcuaKHbrRsmXHPs8WLdWPvQw9l7TdxwwaiunX1dunRR4mOHs26MmQ2ycn4nqjGL3Xy5YMPAjevCOOaS5fQDx04EPLLzvqs+fOjXzt1KvLhBFLfxAuwgYNhdH4TQhxwsP5BgRelg4t9e6VuE5P6b6IQ4n9CiOqW7Zqn/v6kg2P8JYTY6VGJJWzgSIukJKgZTJ4MyT1ztszRUqcO0csvE33zjfuDIyYwsNmI1qxB58FaL8qXR/1xN+mfP/DDD/ZGne7dsy6UKyWFaOxYPd68X7+MqQLExenGm9q1kT/DHebNk/uVLevc1T8uDjKh5rYrVui/JyVJBZ+gIKI//pC/TZ4s95s0KX3XyGQNEyfKZ/Xuu7dX3/j5V7Kl1tn/SlWjA6cs34nly+V+d97pXLHp1Ck9J9D8+e6V68wZaXgxjQC3bqXzIgn79u0rjxcURDRuHN7PrODMGV1SWgi0Sz/8kDXnzwqiovDuO8qV0L49vjs5fOY9x3HlCvqZL7+MfqezPmnevOi3Tp6MfiyHK7mEDRwMo7NPCLHewfraAi/KABf7PimEWCiE6CmE6CiEmCCEiBNCXBa650fX1GO1dHCMFUKIC26Us4TAS6sujws2cHhGYiLcbt95BzMpYWGOPyxBQeigvvYaZtZ4ZiXncPQoVDlUV2khUFeefz7rlQQyi/h4DORUo1++fBjQmeEVmc3atbpCQoMGGZu1TUoievppebyKFd0/nmqAqFmT6PJlx9sdO4ZcCeb9sra/Bw5Ib42KFYlu3sT6xETZmQ0Px3EY3+PoUfn86ta9PaiwXbtOl4sgYWx8SCj9sGy9vt++fTLkoHBh5ypNly/rs7SKAcUlR46gPpn7PfNMxgY8R4/qoV3FihH9+mv6j+cJCQl431SvkTx5YPgLFOnTf/5BEkg1LFAIfFeGDAks7xTGNdevox/52mvoV1oTyZpLeDg8RydMQD+VPf08gg0cDKNzXCA/hpUqAi/Kax4er4UQwhBCzFHWPZd6rCYOtl8shLjhxnHHpR7DbmEDRwaIj4d7/tixRPfdZ98ZMZfgYMzMDh2KZITmoIUJXGJjiT77zN51Wgiipk2JlizJOkNAZnLqFFG3bvr1Va+OmcWs4MwZoubN5bkjIjC7lV5sNsh5mscrWZJo9+609zMMyE+qz9hZ7P+aNbKTWr26fYjAhx/K4/TqJddv2iTXt2kTeEkT/R3DwIyp+YyUnCwH23a+vX7582/oeTeuX5fJboOCiH7+2fHxY2KImjSRx3/tNffqwO7dUslHCKKXXsrYrP+qVUQFCsjjNW/uvrdTRvnpJ/u8At26ZTxBqi+QkIDvQtOm9t+MevXwPQm0fCKMPTdvop84dCjRXXc5N2iEhqLfOXYs+qGBYtzLJtjAwTA6GfHgcMYWgSSlJuzB4S/ExRGtW0c0ahTRvfdK5QTrkisXOqojRkDeLaNqEIzvYhgINejaVVcBEQLSn6NGBYZKz/r1COtQr69Dh6zxNEhK0nMXmIO/9M5gGYaeD6NgQRgX0sJm01UkHnnE+Sz5O+/I7R5/XB9w2mwwYJi/qwYbVVL266/Td31M5vDVV/LZ9O9/e/XRTxbeXr/tjrsp+pZSL202XQb5nXccHzsxUU82++yz7hkpNm3Svcnefjv9hrHERN2IJwTeu6xwfT92TL9PQsCjaf36tPf1dc6cwXegeHH7fkLXrvh+sDEzcImJQT9wxAj0C639BHMJCUG/ctQo9DMzEl7G2MEGDobRyUgODmesEEJcU/7mHBz+ivrhatrUvQ/Xb785j71m/JszZzBwLlHCcUd240b/7sgmJSHZnapGFBaGa86KOv3dd/pg7p57MjazO2OG7gLvbGZdxd2BqHVgO2GC/vvZszKJZNGiUrnp6lU5ECpZksPffIVr16SXRIkS+JuIrh+LpBt54O1wPTw/HdxhkYR1ZegysRrO2rZ1z3i3Zo0eQvbBB+m/vlOndM+CQoXwvmU2cXFoP9Rw0IgIXIs/5xQwDLT3XbrY9wtKlMA1B4Lhm7EnLg79vLfeImrWzPVEWNOmRCNHIhyTJ8IyFTZwMIzONOFYReUtIdJUUXHGDiHEYeXvgsK1isr8dJxDCDZwZD03b8LFdtgwhKyY6guOXA9btiQaMwYZ4tn1MLBISCD68svAdUW+cAGhFep1VahAtHJl5htwjh+XiTqFICpSJGPhMgsWyPc0d26iZcvS3scaSjBkiOPrvnFDD02wllNNOtmunTzGkiVy/cCB6b82xnsMGCCfyZdfEhGRYbPR3nrNbq/fOHG2vs9PP7kOVSLCM3/tNXnsJk3cG+gsWyYHTsHBRAsXpv/a1qzBe2SWoVEjTRkmUzAMtBfW5Jq9ehFdvJi5585MYmOJ5sxxHLp4zz2oO4EQushI4uPRjxszBv26tEKZhw1D28ChzFkKGzgYRqepwAsxTFkXJoQ4KoTYqqwrLYSoKYTIrawr7uB47VOPN8uy/mchxHkBOVmTPqnbPpKeggs2cGQ/1uRRjj56QiB51AMPYLaPk0cFFtu3I/moNWFtICST27xZNzYIAYnX/fsz97zx8ZBwVs87alT6ZfFWr5ad0qAgGKDSwpoM8r33HG/3338yuWShQvYhPaq07KefYp1hSKncoCDcZyb72LxZPqOHHrptiPpriPTO2Nq8nZ53I61ksybvviuPXaOG8+S1KnPmSMNJaCjRt9+m77qSkzHLrL5HgwZl/gB8/34kS1TP26gRlCD8laNH8Z0P9OTTDPpnf/7pXjL6Bg3wnedk9NkOGzgYxp4VQnpY9BdC/J36933KNosEXpxKyrqjqfu+IZCr47PU/U4LIUpaznGXECJBCLFLCDFQCDFRCBEvhFibgXKzgcPXuHIFg6nBgx3P8JiLKf81aRI61/7sqsuAqCgMZhzJAbZrhxkdf5QDTEmBQaBoUXk9ISHo1DmasfYmS5dK44EQRPffD++S9LBunX4sd9QrIiN1Oc8FCxxvp3pq1K+vh/Ncvy7rRN68RIcPY/2RI7LjXK8etwHZRVKSbKvDwm4bJPdv2E63QvB8LhYsQTcvKDLRsbF4ZuYzt8oFm8yfL7dxJT9sYhi6mk/+/Ki36eHCBbwv5rHy5UOOkczkxg20C6rLftGiRJ9/nnXSs97EZkO77Uw+/N13A0s+PKeSlIR+2KRJMHCqYWHWpW5d9O9Wr0a4IeMzsIGDYewJFwhVuSBghNguhGhr2WaRsDdwTBRC/CuggpIkhDglhPhE2Bs3TFoIGE/ihRBRQojZQvfo8BQ2cPg6ly6h8/vii5CedPbRzJ8fCQ2nTIFHQHpnqpnsJzkZnR/rDKYQRFWrIi+EP870XL0K9QY1LKtkSaJFizLXcHPwoJRXFYKoVCm4C6eHbdt0V/3hw9MOufnvPzlTnysX0f/+53g7NUnqM8/ox/39dz1EwTRmqPkbpk5N3zUxGWPKFPkMUvOo3LgRR/vLwXvHJoLo2Iof5PaGoefTGD7c8XG//16+K4ULO/fwUI+r1qEiRVBf08OGDbrqSp06eI8yC5sN7YB6zuBgtBf+OAi8do1o+nS019Y2/MEH4VHD32j/JTkZ/awpU9Dvyp/fed+sVi14Pa1YwcYsH4cNHAwTOLCBw984fx6zaP37y9h9R0tEBNFjj6GTtWuXf878M3DVHjRI9xwwZ/L79yfauze7S+g5//5L1KKFfj3NmhHt3Jl554yNJerZUx88TZ6cvvdi3z6iMmXksfr0SXt2edMmhJkJgX//+st+m+RkuDObx501S//99dflb+PGYV1CggyDyZOH6ORJz6+HST8nTsjZ2po1iRISyDAM+l9HqXSzt3tffZ+ZM+VzbN3a8UD3zz9lfcmTR5ObdUhKCuqhedwyZdIXBmazYRZaNUL27Jm5+YB27EDuCbU9aNHCPWlmX2PPHrTLefPq15MvH9rxzA7NYzKHlBR8n95/n+jRR/Uk2talenXUga+/Tr+3IJMtsIGDYQIHNnD4O2fOIOFg795ElSs7/+gWLkz0xBPoXO/ZwwYPf+PGDaIPPyS64w77Z9uqFZLx+VOIgmEgmV7p0vI6goKQqPHKlcw757x5cuAoBFH79uk734kT+uxs165p5yX44QepllCokGPjVFSUDEcJCYE8pEl8vPREyZVLzs5v3CjL8eij/q3C408YBuqPee9Tn9X/PltNyUEwEJwpV5UMVcpx40ZZB8qXdzyju3evzNOQKxfRjz+6LkdCApQ4zHJUq5Y+Q9eVK3ooRXg4QmQyqz5dvoyBoJkrRAi0B0uX+lcdTkrC7Px999m3zXfcgXY7s0PxGO9is6GfNHMm+k2mmpWjpXJl9L+WLGHVGz+HDRwMEziwgSPQiIxEtvyePR3ncjCXYsXQKZ49G7NK/tShzMnYbJCL69BBHxgIgRj9CRP8S2EgOhou+mrMfeHCRJ98knkx97t3YxBonq9CBaKtWz0/zoULyJdhHufhh9NWt1i4UJ9lj4y032b7dpnQtGRJonPn5G///gslF3Om0JxZVxVrVq3y/FoYz1m5Ut7zF14gIqK9h8/SiSLw7knKFUI3tyiJI8+elfLQYWGOk0qePKkb/RYtcl2GmBjUO3P7+vXTN2u8ZYv+vahWLfM8KFJSiD7+WB805s5N9MYbaA/8hYsX0d6qOXZMQ+3jjxP9+itPJPgLhgHPvNmz0S9S80VZlwoVkBR24ULH7Tfjt7CBg2ECBzZwBDKGAcnMefOgxKC61VuXEiWInnwSKg2HDrHBwx84cQLGAevsUu7ceN5bt/rPczx4kKhNG/06GjRAaEdmcOOGPuudOzdm6zy9X9euEd17rzzOPfeknTNAzdlwxx2OZ/HnzZPbNGumqya99578bdAgrLt8WXbKy5RhecHM5sYNaYgoWpTo8mW6GZ9Eq+95/PazOfvmOLl9QoIehjF/vv0xo6J0D620cqpcvarLTDdv7nluHsNAvVcNjF27Zl79+esvvNfqe96mDb45/oBhwBj07LPS0KgaZocPz3z5XCbjGAbq3Kefot9jGh4dLWXK4HnPm4f+lL98UxmPYQMHwwQObODISRgGFBjmzCF66ik9oZujj/ozzxDNnQs5Q/6o+y5xceh8OZIZbtwYs8Dx8dldyrQxDCTfq1RJv4YePZB7JjPON2uW/eDOU3fy2FgkmjOPUbeu6/Iahp5P4+67HXt+9O9vb8ggwgx4y5bytzVrsF71Dhk82LNrYDzj5Zc1LwvDMGj2MJlb49ydd+seSKpk8YAB9seLjsa7am4zdKjr8587p6tsPfKIrrzjDo6MfLNmZU5bf/483mP1va5UCe+7P3xb4uPRjqrPSDXEzp/v+f1nsg7DQD9m7lz0a1QvKetSsiRR9+7oJx0+7B/1k/EKbOBgmMCBDRw5GcNAeMrHH2NgV6yY849++fIIe2G3TN/FMODx0L27PmgXAs/2zTfTlpn0BW7dQhJNNVdG/vxE06bpngzewhvu+YmJmAk0j1GlCmb7nGGzET33nNz+4Yftry0hAYop5jYLF8rfTp4kKlAA60uVggeHYSAfixBwk9++3bNrYNxj2zYZHnb//USGQcvX7KSofFDKuRWej2zHlVn8BQvkM2za1D5XS2IipCXNbZ57znVow7Fjer6lp57y/L3491/vhGmlRWIiPFFUlYnwcKLx4/Ge+zqRkUQjR9qHLISEoJ3dtIkHwL7KyZN49557Lu1w3a5d0Q86cICfZw6GDRwMEziwgYOR2GxIcDdrFlHHjmkn1nrhBaLFizmxli9y/jzR2LEY/KrPLTiYqFMnovXrfb8jd/IkyqqWv2ZNxLZ7G0cJFufN8+wepaToXhelS0Mi1hlJSfo5n37afmB75gxR8eL4PSxMV5pRPTY6d0ZZDx6UrvMNG7IUpbdJTpYhFqGhRAcP0n9nrtPaO2SYUuxn8+T2O3bguQkBN3hrW2mzYaBsPsf27V0nC967V3+nBwzwLFeNYWAW2yyTec7MSOy7dq1U+DGXTp18X+nHMNA+duyoq8mYxsRx4zLHo4zJGGfOoD/ywgv2XoDqUrgwnu2sWXifOE8KkwobOBgmcGADB+OclBRIzE6fDslZV9Jo1aoR9esHCVvu/PkOiYmQq2ve3P6Z1a6NZJ5pJcbMbhwNlDp39v5AyWaDdGxGJDINAzO+amd6yxbn28fG6rkZXnnF3qiyYYNU3qhYEd4a5rlUA9AXX2D922/LdTNmeHIHmLSYPl3e2zFjKCYhmSY/OeL2umuPPCaf3+XL8IwQAs9v40b9WIaBUCLzePfc47qubd4M9R1z+zff9MwAFxurew1lRCrZFVlpmPQm0dGYxa9Vy76tbN6caNmyzPEgY9LH+fPob/Trp3sjWZeICPRfpk9Hf4YNGowT2MDBMIEDGzgY90lOhtv7lCmYeVbdjq1LzZqIO1++nOjSpewuOUOEzl2fPnroh9kBfOUV3070l5iIEBWrq/u4cd53dd+wQZ8lr1MHnhGeMHWq3D9vXteDuytX9EHVpEn228yYIX9/6CE5ax8VJXPpFCiAwWV8vOzw58tHdPq0Z2VnHHPqFO6nEETVq5Nx6xaNnfUjRYfmgedGkeLS+JScTPTgg/KZffCB/fEmTpS/16rl2oti7VrUI3P7adM8K/uBA1Ji2PREsBpcMkpWh5Z5i0OH0P5ZDfjh4Wgvd+3K7hIyROhHLF9ONHCgvcFbXfLnR/9k6lQoFbEXG+MmbOBgmMCBDRxM+klKwuz05MnIIZAnj/NOR506SMz3zTeZ4w7NuM+VK+j8OXLjbdOG6H//yzyJ1oxy7hwy2qtlrlSJ6LvvvBtyc+EC8iuY58iXD7OFnjB3rvQGyZ3btXzr6dNE5crJ882dq/9uGMi1YP4+cqT87aef5Pr77sOz++03ua5jR8/KzTjmiSfkPV2/nr7efIK2lpNGA9uPP8ltR0ivDure3b5ufv65/L1cOddGqJUrZdhRcDBCpzxh6VJpmBGC6IEH0icl6wxXyYFViWNfIiUF7ZxVuclsT6ZNS1sNiclcrlxBf+Hll3XjnHXJkwf9j8mT0R9xFeLFMC5gAwfDBA5s4GC8R2IiZADfeQedaDXOW12CgqD48dprGJh6Km3IeAdXnfzKlX27k//XX/aqMW3betcLJTmZaNQo/RwvvmifJNIVngxO9+8nKlJEbvvtt/rvsbG6coZqMBk4UK435UVV1YrvvnO/zIw9334r7+Vzz9GB8zdpausXbq+71be/3HbVKrlt3br2YSerV0vDV5Ei8K5whtVItnKl+2WOj9frhRBEo0d713h56JBjeee//vLeObzJ1av+a9wNdK5dQzv16qtE9es7N2iEhaF/8c47qGe+7B3E+BVs4GCYwIENHEzmER8Pd/8xYyBraQ70HBk87roL0og//kh082Z2lzzncfAg8gGYyhzq7FifPlBd8DVSUhAzrybDzZ2b6I03EE/vLdaskYYHIYgaNXKtkGLFk/CCzZulJ1RYGNEff+i/HzlCVLCgdMU2B8exsTIsJXduqMBcuiTvTbly3r0nOYnoaOldU7gwxZ4+R31en0uJwVAqulWpijRi7N8vw6gKFiQ6elQ/1saN0vCbN6/r/CxqmFO+fJ7lsDh+HG2quX/RokQ//+z5tTsjOppo+HC9TS9cGDl9fNFA8O+/jsPzChTw/fC8QOXmTXzvhw5FXTWViaxLaCg808aOxfvjD5LnjF/CBg6GCRzYwMFkHXFxROvWYVb83nvtpUzNJVcuyGOOGEH0yy++nwQzkHCVaK9FCyTa8zUX4MuXoV6idpBLlyb68kvvha2cOqUnAy1Y0DOvCE8SRK5ZI9+NggWJ9uzRf//hB3mcGjWkQXDrVpmMtF49DATUUIghQ9J37Tmd1167fQ+Nzz+n4Yu30sFiFRGWEpxLyqveuEF0xx3yfv/4o36c3btlnoeQEDxnR3iaqNbKt99KI5gQqLfeysNiGHivSpfWDdQDBsj8I76CqwTLtWqhnWOjX9YREwMj24gR+L6bbZV1CQlB/2DUKPQX4uKyu+RMDoENHAwTOLCBg8k+YmJgwDA7PFZJPkcdnt9+4w5PVmAY6Fx26mT/XEqX9k2pxB07dCOEEPAc2r3bO8dPTNQGuyQE0bBh7ht8PJH4XLJEbleqFNGJE/rvY8fK3zt2lMoAY8boZbPZ5AAvOJgTJnrKzp2y/rdoQcu3RdJnd0uFENuYMdjOZtNzdIwbpx/n+HH92X/5pePzeSo1rJKUhNlwtX4OGeI9F/5//4WRUz1+s2Z473yJ8+dx/1UjjFn/O3VCu+brEtmBQFwcvtdvvYV6whMajI/DBg6GCRzYwMH4Dp64rLZsicHchg3ssprZREZiRrloUXvDU/fuRH//7TsDBpuNaNEiqSxiDmxeesl7+URWrdIVF5o3Jzp71r19jx9HfhNz36eecj4AVSVJq1XT1YhsNqL27eXvkydjfVIS0d13y5n1DRuI9u2Tg4vGjX0zhMAXSUnB/Uqt6yc3bqOePd4lm0C7lNTobmncmjRJPovHHtOlKC9d0mUsnUn3JiYSPfmk3K5KFfdDoc6c0T0VIiKQoNEbXL1KNGiQbugsWRKyxL4iuWkYRJs2oT2yDqSLFYPH1KlT2V3KwMYakhoa6vj7HRSEMD8OSWV8DDZwMEzgwAYOxncxk4699pp9Qkl14aRjWUN8PIwHjRrZP4OGDYnmz/e+ZGt6uXEDs9eqG3TRogjZ8MYA/+hRJFNUB1Hu5kg4d05PFvrII869kt54Q27XqJHuUn/tGlHVqnLQsHYt1h86JPN4lC+Pe/Hmm/I4H32UsWvPKXz44e17ljRiJD0x8Qc6W6A4kRCUEp6H6PBhbPfLL9IYW7WqnjT55k09F8aIEY7PFRuLemBuV7eu+x5Sa9ei/qnv4rFjGbt2Irwnn32mGzZDQohefx11yhe4dQuJe9V3UX1fFi1iA3hmkZhI9OefROPHQ3HKWVJxIWRS8e+/56TijM/CBg6GCRzYwMH4DyX+nEIAACAASURBVO7KxuXNC9m4SZOQ+8DXckb4O4aBnADPPmufOLZIESQftIZUZBf79hG1bm0/8PEkp4Ezbt0i6tdPn5kcO9Y9A8rVq3o4TfPmjjv+hkHUq5fc7sEHdRWXPXtkAtMiReR9//hjuc9zz8GAYnqOFCjgvsdJTuXsWZlwt0oVGvnlVvqmzgPynn7yCbY7cUImcs2bF2FIJgkJet174QXHnk7XriEEz9zunnvc8zZKScFsuerp1r+/dwb0W7bYGzIffBBJVH2BEyfQzqjJf4VAe9SjB/Ki+IpXWaCQlITv6aRJRA89xLLwTMDBBg6GCRzYwMH4L5cuES1fDinEGjWcd7by58fs6JQpRNu3Q/6T8Q4XLxJNmEBUpoy9G3KHDvBqyG43dsOAvGb58noZe/VC+TPK4sW6SspDD+nhJM6IiYEhTp3lvHDBfrvkZIQ9mNs9+aRuRPnqK/lbgwYwZhgGZHPN9StWIMGf+XfXrhm/7kCmS5fb9+qvj5bQoMdH3P7baPsI7m9cnO458PXXcv+UFKJu3eRvHTo4bncuXNAlMR9+2F5W1hGXLsHgoBp1lyzJ+HVfvKgb1EwvoJUrs99gYLPBW6VDB/vwxbJl0Q55431mQHIyvpdTpuD7aaoDOVpq1sR3ePly99o+hvFB2MDBMIEDGziYwOHcOQz2+vXTY96tS0QEBozTpyPpYnYPwAOBpCQMgu67z/5+16gBd//sjrWOjSUaPVp3pY6IIPrgg4x7+ezbpyvPlCkD9+20SEjQBtNUrRrRyZP228XF6TkWXnpJH3AOGaJ7bBgG3gdzhrtIEfz91FNyO6vKBwMUlZrojl2p1atL6Ho4Bne2IkUROmIYuM/mvXz9dbm/YSBnheqd4ygE6cQJGWJkGp1U7xxn/PmnnkCzVq2Me1YkJSE3iJpbJiyM6O23sz+p882bRLNm6Qo15tKqFdod9tLLOCkpSKo7fTq+j2pdsC7VquE7+9VXvpdsmmHSCRs4GCZwYAMHE7icPo3Z9RdeIKpUyXlnrXBhKCDMnAmXfzZ4ZIw9e+Aqr3o1mJ40gwZlv5v7sWOYBba6VK9fn7HjxsQQPfOMPGauXJj9TGvmOzmZqE8f3Tji6B5du6aHZr3zjvwtKQmDPfO32bOxftUqua5tWxg5TAnRihXd8xbIScTGElWoAE+NggXp6bHf0B+VGsp7aCbu/Ogjue7++3XvjPHj5W916+K5Wdm3T/d66tMn7dAmmw31Sc0r8+yzGVedWL+eqHZt/X14/HH3E5xmFvv3o72weg7kzQsFIjUciPEcmw1t9cyZ+P6ZoVaOlsqV8R1dvBgJbRkmAGEDB8MEDmzgYHIOJ08SLVhA1LOnfbiCuhQrhln12bPRyc5u12x/5do1zAqrs9Tm0ro10bffZm+40Jo1RNWr6+Xq1g2GsfRiGERz5ugKAh06OB7kWvcbNkzuU6QI0bZt9tudPXt7AE5C4FwmFy/CVV8IJIPctAnre/bUDR+ffCL/fuON9F9rIDJ8+O17s7r/aHr7oQHyXj3/PLb56y+p1FG2rO6S/+mncvuKFR3nOtm2Tc8dMXx42m3M1au6US4sDAlAM9I2nTqlh9EIgfdhzZr0HzOjJCcTrV5tnzdHCLQjM2ak/S4xjjEMfM9mz8b3TU1Ma13Kl0e7sXChY48yhglA2MDBMIEDGziYnIlhYCZ/7lzMuqsu39alZEm49s+ZA+UENnh4hs1G9NNPRO3a2d/bChWI3n2X6PLl7ClbQgLOr3qb5M1LNHFixpI17typy8FWqoR4dlcYBsqierw48io5eFAqWwQH63KgW7dK40qpUnAfv3FDGkXy5MEgp2lT6WWyZ0/6rzOQ2L37tnfE1fp30YN9Pqb4ENxLo2JF3Mdz53BfhcB93rpV7r9qlcwNUawY1GysrFtHlC+ffMbvvZd2ubZvh7HE3KdKFdSv9BIfj/qtJonMlw9lcSdEJjO4fBl1XzXemUu7dmg/2LPOMwwD36s5c/D9UqWzrUvp0vgOzp2L7yJ/45gcCBs4GCZwYAMHwxChQ3foEGZgn3ySqEQJ553BMmXgGj5vHty4uTPoPkeOIF+EGSahzkj36kW0Y0f2lOvMGaLu3e1njH/4If3HvH6dqGNHebzQUMyeplVf5syRA+XQUHi6WNm2TQ6UQ0OJNmyQv332mTxn8+aQc9y4UR6zcWOif/6RoQ733MODR5vtttHHyJWLuvT9kPaUQh4fIygI9y8xUVc7+fxzuf/vv0vDUr58jo1Zq1fLbYKC8JxcYRgIhVGVijp1ypjM5g8/wECi1vPu3bMv7OCff+AZY5UYLVgQ7cTRo9lTLn/EarS3Jn5WlxIlYPT49FN89/gbxjBs4GCYAIINHAzjCMNAnLzpzmvOmDtaKlSQ7ryRkdldcv8gJgYD+bp17e/nPfcQffll9swmb9hgX6b27WGYSQ+GgaR9ZkiDOaCMjna937Jlcp/gYNQtK2vXym0iIoj+/VeeU83p8fLLWK+GwIwZo//96afpu75AQQnbWdn6aZp5r2LsGj4c27z0klzXt6/cd9cuKSmbOzeei5UFC/AczW2WLXNdnuhoPSFsSAjqUXoHokeOoB6r9bpePRhuspqEBLzfpheRutStC8MP54Zxj8hItA1phV0WLcphlwyTBmzgYJjAgQ0cDOMO1oRshQo570xWrkzUuzdkGx3F4DMSw8Agq2tXPXmiOcs4enTWzy4nJ0P1RfUyCQ0leuut9A+8Nm2S+TGEgCJEWkkS16zRwwg++MB+m6VL5e8lS2IGlwhhCI0by9+++AIDy3r1ZGjK77/LkICCBR1L1OYELly4/ayvFS9D3btPopSgVGNE/fq4b4sWyXt5990yfOnYMd31/6uv7I8/Y4b8PU8eyPW6Yu9eXTGkXDmiv/9O37XFxhK9+aaeE6ZQIdTvrM5/c+YM3merd1yuXHj/N27kgXdanD2L70rv3noInHUpVIgTZzOMh7CBg2ECBzZwMEx6MCX13n8/bUm96tWhKvL11zl3EOkOZ84QjRpFVLy4/QCoWzeiP/7I2gHQpUvwhDBDO8zB5rJl6StHVBSUTNTBriPPDJVNm3RDy9tv25975kz5e9WqSDZKhCSSZiLB8HB4GuzZIwe71aoRrVgh9336ac+vKRBQQpMGPDGSThZCPh4jNBTGhl27cP+EwP00k9BeuKCHe8yapR/XMDCgN38vWFAmfnXGwoW6Uatt2/TlpzEM1NNy5eSxgoLgeRIV5fnx0osvGjD9iQsX8N3o398+IbK6WKXP01LkYRjGDjZwMEzgwAYOhvEGycmIu58yheiRR/REgtalVi3IH65YkbWDDX8hIQGzlI5c2OvVy3oX9m3bMGuvluP++4n++8/zY9lskHdVjSa9exPduuV8n9279Vnvl16yn5F98035e8OGRDdvYv26dTI0olIlqHFMmya3HTAAruvm347CKwKZX365fe1ra7WgpXc+Iu/F++8TXbkiJaaDg2XS1xs3iBo0kNu+9ZZ+XJsN77jqXbN7t/NyxMVBhtPcPjiYaMKE9M28792L+qnW1yZN0k5y601iY/Gemh5D6tK0Kd7v7Epo6stEReG78OKLRDVrOv+G5MuH78yUKXiu2alGxTABAhs4GCZwYAMHw2QGSUlEmzcTTZpE9NBD+qysdalbl2jwYCQhvHo1u0vuW2zfjvhy1cXenA3PyiSENhuSyqreJblyEb36avqSPq5bpxst6teH4oEzjhzRlTSeeQZ1zMSad+OBB2QYxdSpukdAYiJRq1Zy3RdfyBwSVaq4NrYEEnFxt93848Lz0pD2Q3QDVlISUZs2ct20adgvPl43IPTtq3vVJCXh+Zi/V6rkup4ePqwbAkqUcKyekxbXrxO98oruKVG8ONH8+VkXonD0qPMkws8/n7VGFn/g6lW0+4MHO85HpHp7PfwwviebN+vvPsMwXoENHAwTOLCBg2GygoQEoj//xOz9Aw/YqwaobuQNGmCQ8L//ZUwxIZCIiiKaPNk+kV5QEJInrlmTNYM4Z4PIBQs8P/+5c0QtW8rjFCiA2VtnnD0L7x9z+0cf1Y0RycmIuzd/79IFruqGgRABc/2oUUhOaIZVlSyJgZMzb4RARfF6ee++5ykqbyHp7h8Ziftg3pNu3XAfU1KIOneW6zt21GfP4+LwXMzfa9d2nYdn+XLIAZvb33cf6oUn2GwwYliNb6+8kjXthysZ6PLlIf/Knmrg+nWi778neu01ojvv1D25rAahBx7A9+Kvv2CUZBgmU2EDB8PYEyaEmCKEOC+EiBdCbBNCPOzGfg8KIRYIIY4IIW4JIU4IIeYJIUo72HajwItnXX7JQLnZwMEw2UF8PBQ7xozBIFeVglSX4GCiRo2gePHTT2mrbwQ6ycmY8XzgAft7VbUqEjpmxaBu717dC8J0vfd0hjo5mWjECP04gwc7H9BcvqyHy7RsiXAJk1u3dKPJwIEYmEdHY7Btrv/2W6LFi+XfTzyBeiYE6mKgfxP27butQLO7VDVaW00Jh1qyBHVMNVLExOA+Dhig33vVwHTjhn7v774bIS6OSEiAuo363EeO9DzUYPt2hJ+ox7n//rQT2HqDa9fwvlWtav8utm6Ne5jTQyeio9FuDxuG98sMF7MuuXOj7owZg++C6X3FMEyWwQYOhrHnayFEshBimhCivxBic+rfLdLYb4eAUWOKEKKvEGKyECJaCHFRCFHKsu1GIcQZIUQPy9I6A+VmAwfD+AJxcUS//YZZ43vv1WVF1SVXLgykR45EvoScLKe4bx9i1a35TvLmRVK+zB7kmYkcVXWU9CZy/OEHosKF5XGaNHEuORwdjQGkuW3DhkiIanL9uh7yMHYs1h86JL02ChQgOnhQ9+wYO1YOwFq0CFzlBZuNqHlzIiEoJSiYPlAlYbt1IzpwQIbsRETI0KExY+R29evrhrRLl/ScHK1bOzdGnjypG6kKFyb68UfPriEqyj4Bbtmy6U+A6wl79+L9yptXf+/y5cP7mJP7E7GxaJdHjkQ7bU2sai4hIWjnR41CuFpcXHaXnGFyPGzgYBidJgIvxDBlXbgQ4piAocMV9wkhgh2sIyHERMv6jUKIfekupWPYwMEwvkhMDBIgjhiBwa6rmb/mzaFGsG5dzsmfoHLjBhQsHKkMtGpFtHJl5sasx8RgQKN64RQqRPTRR57NYHsy8I2PR3iEue0dd0A1xeTcOZkcUwiiTz7B+u++k+tq1cI5S0M1hPLn1xNdzpuX3jvi28yde/sal9V7mGJCU/PjlC6N+6Emd/z+e+zz8cdyXaVKROfPy+NFRuqyrh07Op+B98SQ5YjkZNQrVaY6NBThNjEx6b4laZKUhPfI6rUkBN67WbN0T6Kcwq1baHdHjUrbMN2kCdrzX37J3GfFMEy6YAMHw+hMFUKkCCEiLOvfFHhRyqfjmFeFEN9Y1m0UMHCECCHyp+OYjmADB8P4AzdvYrA7dCjRXXc5j90ODUUc/9ixkGfMSUoFNhtmTx97zP7+lC0LVQrV08HbHDlin4egfn3I27pLQgJCVNwJXUhOJurVS25Xrhy8MkwOH5YysUFBMr+HKl3apQvyl5h/N2smPVIKF87c+5UdXLp028BwrkBR2lFaMWb8/LOeX+Ptt7HP8uWyPhUvjudscvCgLsXaq5fzZ+VJKJIj/vjDXpWkfXu9PN7m4kW8N6qXklmfOnTA+xaonj6OSEhAuzp2LNpZa/Jj9f40aoT2+scfpaoRwzA+Cxs4GEbnNyHEAQfrHxR4UTp4eLz8QohEIcRnlvUbhRBJqb+RQBjLBCFEbg+Pr8IGDobxR65dw2y8mazOUSdbCKLwcLjLT5hAtGlTzklWd/w44t7V2XLTANSjB9HWrZnjym8YSA5bpYp+3qefdp1s0oqj5JOq14CJzYY6YG5XrBjRjh3y93/+kccJDYU6R0oKJCbNfaZM0SVNn3tO/38g0aPH7WtbVUfJ4/LSS0TvvSf/btcO92ndOumZkz+/fm937JAGJCGQGNjRYN/TZLJWzp5F/VHrU9Wq8AbJDAwD78ezz9rnBipcGO/ViROZc25fIzERST7N5NDh4c7b2jvvxLv4/fecHJph/BA2cDCMzj4hxHoH62sLvCgDPDze6NT9rLk15gshxgohOgshnhNCfJ+63XI3j1tC4KVVl8cFGzgYxv+5coXom2+QuLBOHeed8Lx5ITc4eTLRli2BnwQwLg6hFo6MQI0bEy1alDkJ/eLjiSZO1OWB8+XDINpdrxp35UMNAwYsdQC9caP8/bff9EH6zp2Qp0yVSKXgYAyWzTCL3Ln1UIT0SJb6IuvW3b6mzeXrUVJwajhBjRowSplhYFWq4P7s2CGNQ7lz4z6abNgg83QIgWftyGDmqRywSkICFEjUHDN58uBcmVVnFy3Ce+Fo8D5vXuDnikhORrs4eTLaSWueEXWpUwft7TffOE8myzCM38AGDobROS6EWONgfRWBF+U1D451n0ByUneNFp+nnuMeN7Ydl7qt3cIGDoYJMC5dghfAwIF6TgHrkj8/ZqunTsVsf0pKdpc8czAMzMQ+9ZR9nHyxYshhoOaw8BanTiFxpXq+O+5AOIQ7xMXpeTGCg2HMcOQpMHu23C4sDIN2k2XLZJhFiRJER48S7d4tDTBFi2Lm2UyKWL26HNxVr+7/qg7x8WSk5miJzR1OxwuVwbWFhOC6ixaVBoTduxH2YcquBgXhXTL5/nsp8xwUhPwcVmw2zPqroVK9e7ufI+fnn+1zynTrljl1NDISYVDmPTCXkBC8L5s2ZX7i0uwiJQXt3tSpaAdVrynrUrMmkqiuWBF4oVsMw7CBg2EseMuDo6ZA7o1/hRAF3NynRuo5RruxLXtwMExO5fx5oq++IurXj6haNeed+IIFEVs/YwbRrl2BGV9/7hxi6EuV0q89OJioUyd4LHh7QLdunS7TKgSkWY8fd2//BQt0b5C2bSEZa+XLL6WRIlcuSJ6afPSR3L9yZdSJJUvkurvu0vNz3Hef/L+pxOKvKAooW8rVldf19tu4bvPvL7/EfVETtM6eLY+zeLG8vyEhREuX2p8rKgrPR/W6WLjQvXIeP070+ON6Pald2/teNIaBY3bsaJ/AuFQpPO9z57x7Tl/AZkO7Nn06cvWYqkKOlmrV0F5+9ZXj8DCGYQIKNnAwjI43cnCUF0KcFpCMLe3BufOmnmOGB/uocA4OhsmJnD6NwdoLL+iDOetSuDAGQbNmQR4ykAweiYkYvNx7r/1116qFmXlvqh0kJcFwpA6qwsIwyHbH9X/vXl2to1w5os2b7bf74Qc9V8CHH8rfVAPGnXdC+eKVV+S6nj11JZeqVfFvaChkZv2RgwfJlhqic7JQaXltTZvq+UZefRW5E+rX1w0gJrNmyfXh4Y4Vbv7+W0/IWaOGe3LFcXE4l+kZIgTqyQcfeFcBKDoa9bpWLfs637w50ddfB1aeHpsN93/WLLRj1pw86lK5MtrDxYuJzpzJ7pIzDJPFsIGDYXSmCccqKm8J4ZaKSlEhxEEhxCUhRHUPz1039RxverifCRs4GIaBPOaCBRjgli/vfBBQrBhR164YJB04EDiu6zt3IoTAmkQwIgIGAG8O7i9c0NVPhCCqUIFo1aq072d0NMIG1DCCGTPs9/vjD92QMn48tjEMov795fpWrXBMNQnm+PEyPEXNH3H//f73vA2DEpvj2mwiiC7nK4hryZuXaNw4eW0tW0LpQvVa6d9f3jN124gIe2Ucw4BXgBr+9NRTuLdplI9WrsTzV+tDr15QMPEWhw6hHls9FsLDUe937vTeubITwyDavx9eN1266ElgrUv58mjvFi5E+8cwTI6GDRwMo9NU4IUYpqwLE0IcFUJsVdaVFghDUVVP8gkhtgkhooUQjVycIyL1mCpBQohlqee+Kz0FF2zgYBjGimEQHTtGNHcu0TPPEJUu7XyQULIkBnJz5iB5or8NgK1cuYJ4fEdeLW3aIK+Ft/KUbN4MKUn1HA89BMORKwwDAzhV4aJTJ3vlhp07ZR4JITDAtdlQ/k6d9H3PnpXPOXduojfekL+ruSC++MI7155FpCxYcLvsxwuXkdfxxhvy/pUpgxn7jh3l75074z7ZbLqHS/HiCHFQuX5d3zc0FAbAtN6F/fuJHnxQf/6NGjn2yknXxaegvrZpY1+XK1VCPff35JiGgXZnzhy0QyVLOm+rSpdGezZ3Lto3f2+rGIbxKmzgYBh7VggkB50qhOgvhPg79e/7lG0WCbw4lZR136Wumy+E6GFZOirb3S+EuCAQijJICDFUCLEpdV+rnKwnwMCxYYN33WAZhgkcDAMzwJ9+ikGEOqtvXcqWhbzkvHnIJ+Cvg4iUFCSTfPhhx67s06ZBacMb5/nsMz3BY0gI0dCh8ChwxfbtRBUryv2qVLEffB86pHvk9OwJpYj4eF0ppV8/hFeog3518F2okPTg8ZdB8eXLdCsC5b4eriSPfOghmX8ld25cd9++uqdKfDy+iWoIS/ny9gooO3fqksCVKiFppStu3iR6/XXd26NoUaLPP/eO8SwrjXRZjWGgXZk3D+1MmTL212guJUoElvGVYZjMISmJ6Px52rdqFRs4GMZCuECoygUhRIIQYrsQoq1lm0XC3sARmbrO0RKpbFdZwIhyUggRL4SIE0LsEEhgGpSBcsPAYXYIChdGzHCLFpjBGjgQccEffYQs/L//TrRvHzKI+2sHiWGYjGF1A7eqL6hLhQpEzz8P+cnIyOwuefo4eJBo8GBdFtR07+/Th+jffzN+jqtXiQYN0hM+lioFjwlXeU+uXkWyRHOfsDAM6NTB3KlTaNfNbR5/HAP4Gzd0+dzRo4k++UT+3bQpUZEi+L8qVfrCCxm/3izgYpenb5f5Vmi4NNA0aSKv5dNPiUaNkn+beUni4/VknzVrIm+NiWHgPqs5Mzp0ILp2zXmBbDY8T9XLIDiY6KWXvGMs27UL9dEaZlWgAOrvwYMZP0d2EBmJMJKePe1DedSlaFG0R7Nno31igwbD5ExSUjBO2bcP45ZlyzCOefttjGs6d8Y4p0YNLS/PPjn+YgMHw/g5uoHDkyUoCO66tWtjxqtbN3TUxo9HJ3nVKqI//0Sn6urVwEpOyDCMxGYj2rOHaOZMKIOYs/2OlsqVEfO/ZAnCIvyJ6GgMnhzJ7norQeO//6LjpR773ntd50iw2YimTJHqHkJgdltNkBoVpauFPPAAPAnOn8czMdfPmgWDlPn3o4/K/6v5DKw5KHyMW7+uv13Wa3kiHF9Pr16os+bfVaogP8rNm/immesbNcL9M4mJQaiD+XuuXPCYcDWg3rmTqFkz/bm2aAFJ2oyQmIh617y5fZ00E+WmlQfE1zh7Fu1D79563bQuhQqhvZk5E+0P9zEYJjCx2TCOOHgQ355VqzDOGD8e445u3dBm166NcYkqz+3BwgYOhgkcYOAYPRpJ1MyGolUrNBTFiqW7obBbcuXCjGT9+nB9fvppZK2fOBGuud9+C1fho0cxg8azLwzjn6SkYED3/vtpSzFWr45kjl9/jcGlP2AYkH11JLFZujTa0ozIShoG5ErV3CdBQZh5chUe8scf+j61amEm2+TmTT0spXFjSM0ePSrDjoKC4GXQsKHcTk1Aaoaw1KxJlJCQ/mvMTBISKKocwkaSghWjj5pA9K674FVk/l2iBPIyREXpeVFatdJDhfbv1xVIypSBId8ZV64QDRigf0dLl4a8bEa+ca6kjjt2RP30l2/ohQtSwlrN92JdIiLQnkyfDm8V9iJlGP/EMNDPP3oU/f5vv8U4YOJEjAuefhrjhPr10capxvuMLEFBGNfUro223ZyYHTeO6JNPaN+MGWzgYJgAIe0ko6ar13//Ea1fD1evDz+Eq9eAAUhQ16IF5Atdzdx6uoSGQgaxYUOitm2JevRA3PJ77xHNnw8pxG3biE6cIIqNzbJ2mWEYD0lORr6IKVOIHnlED3ewLjVrEr34ItGKFfqsua8SGUk0YoR9mE5ICFH37kSbNqV/oBkdTTR8uJ6roUgRhFU4G9xduqTnzsibF7PhJrduIZRCvd9nzsAgZYbg5M4NqUwzPCVPHpnrQC3LhAnpu65M5sLQt26XMdk0cJQtK0M3ihbF9ZnGmgIFMGA+fVr3zunQAffLZMkSqS4jBHJ5XLrkuBApKZhhNO+heV+HD0+/R4VhoD51764/B/OaRo70jzCwqCi83y++6Ngbylzy5UN7MWUK2o/k5OwuOcMwzoiNRX982zb0z+fPR3/99dfRf2/bFv35cuXQv/fWWKFQIYw/WrTAeGTAAIxPPvxQhtb/959bofWcZJRhAgfvq6gkJmJ26d9/iX79FTORM2YQvfkm4oMff5zonnvgDmyNac/IkjcvEu7dfTdR+/ZwP37jDSQD/OILop9/JtqxA53Y+HjvXS/DMJ6RlASliEmTkMQzTx7n73XdusgfsHq1d/IUZBa3biFPgBoGYi4NG6Kzpw6WPeHgQXsljIYNMdh1REoK0ZgxutdA//6y3UtKQofT/K1CBSRhXL9edjzz5UPMsumhonqGmIaCsDDMwPkQyQcPUWIIriE+9V8KCpLlDw5Gx9c0soWGogN8+LCe36FHD5l4Oz5el9YNCoL3hLPO8qZNRA0a6M+rTZv0Sw3fuoWkmtZjCgFvk0WLfPubduUK0Tff4D2uW9f5u54nD9qDyZOJtmzhxOcMk53Ex6O/vGMH+s9ffIH+9BtvoH/dvj362xUruv6Ge7oUKIDxwT33YLzQpw/GDx98gPHEr79ifHHuXMZDQi2wgYNhAofsl4m9dQtJ8HbsIFqzBp21adMw02U2oo0boxG1Jk/LaCNatapsRPv2lY3o0qVoRHfvRiPKHS2GyTwSE4n++ovonXeQG0JN3KguQUFIAvnaa1A4scqi+gKGgcHZs8/qMq5CYDZ/+HDMcqXnuN9+q6umU7vk4QAAIABJREFUCAGVD2fhMGvX6nkzGjZEGAYRYpoHD5a/lSiBTuPKldIwUqwYZt/MbRzlQ3j4Yd8JhTAMOtMIuSgMtYxquYcOld42QUG43l27dDndwYNlPodjx3TDQrFiuK+OOH9eNxwJASWTb79N3z06cQL1RfUCEQL16tlnUc985d6rXL+O9/O11/C+OgtzDQvD+/7OO3j/vTxYYRhGISkJ/dndu9G/XboU/d0330T/15x8rFrVu5OP4eH4bjVuLCcfhw+Xk49r1qD/f+pU+icBvAQbOBgmcMh+A4cnGAYSvJ04QbR1K+Tu5s8nevdd6QbXpg068mXL2g8wMrIULizd4Dp3lm5wqsKMm25wDMO4ID6eaMMGeCG0bOn8PQ4Oxgz2sGFEP/3ke8kUL17E4M0qZRkUhPCHX3/1PDHirVvwHlCNvQUKIN+JI0PsmTNIUmpuW7AgvGGI0J6OHSt/i4jAQFNVUqlYEWEC5t+mAog6aF26NIM3yjtcmTP/dpls1vIKgc61Kpn76afIn6HmiBk3ThoNvvlG/615c8eJcRMT0VnPr0jRhofjWJ522G02GFA6dLA3DJQpg7CgixczfrO8SXQ03r9hw/A+WvPSmEtoKPKgjB2L99uXvU4YxtdRw8dNpRA1fNxUCrnjDk0pJMNL7tzoXzdsiP62GT7+7rsyfHzrVvTTY2J80wjrBDZwMEzg4F8GDk8xExkdOQK34W+/JfrsMyQyeuUVxDI/+CBRvXroCGdGIiNVYSY1kRGtWoWEgKwwwzBpExeHpImjRmGwbs0/YC65ckHadORIDBJ9JTdPUhJyDqhJLs2lRg10StVElu5w8iTijdVj1awJo4mj8w8dqm87ZIg0iKhKInnyYLCqGj5q19aTP5r33xzIlijhWh41CzCuXKEbEejEpwQFy464Webq1fXkoOPGEf34o24omjkTB0tMhPeBer+GDXNsQPr1V/s8Ep064fl4ws2bqAeqnK+53HcfPE18xZMwNpbol1/wnjVt6vy7GRKC93XUKLy/cXHZXXKG8V2cKYWoAgCmUoi3BQBKlkQ/+MEH0S9+5RX0kz/7TAoAHDkS8AIAbOBgmMAhsA0cnmKzIV74wAF8YFaulB+YQYOkwkytWpmvMGN+YFhhhmF0YmIwwBoxgqhJE+czxtYBVja7vxIR5Cz79bOPWc6fH22MqnriDmvX2g+KO3d2nGzyu+/gwWFu16wZYqyJ4CpsDlRDQuCVMXCg3LZRI+mh4ChUsH//jN+bDHCy8zP2ZTJDnQoU0FVhBg3C9ZmGmly5cP1EuB+qnGuhQrhvdic8iftsNVY5C19xxv79KI/q/WEamvr3R33Jbm7dct/A2KQJ3stfftFlihkmp+FKKeSVV6RSSL16maMUUquWVAoZNEhOsK1cKSfYrlzhCTYFNnAwTODABo6MkJzsWGFm9GipMNO8OSvMMExmcvMmZuNNF3lnhkfVRX7jxuyVOb12DWElVarYl7N1a3SG3VWNSEwkmjrVPkRi/Hh7o87x43oi1KJFkUCOCAN50ygQFEQ0ezZR165y28aN5f8dKeH8/bd375GbRK/bYF8WVe1ElX3t2hVhhWYdCQtDvggixIKrajiNGtnnS7l1CwMF1ciTPz9CVNzNIZGcjDCh1q3ty12lCupFdnrEmCFiY8fifXGmeBAUJEPEfvzRcy8khvE33FUKKVs2c5RCmjeXSiGjR0ulkPXrZYg0qw2lGzZwMEzgwAaOrCQthZkOHVhhhmEyijXJobP3Ijwcg8zsTHJosyEkpF07+/JVqIC45suX3TvWuXNIPqkeo1IlGC5Ur6/4eEh0qgPV0aMR0/3777qhZNw4uEWbf9evL/9vzY1St27Wh1EkJtKF8lWJhJJYVC2XWt7WrfXQm/z5cb0pKfBOUK9l0CC9LTQM3MdKlfTtevTAfXeHy5fxPFW1FnNp1w71IDtmU61Jfl0l8/b1JL8M4wm+phQyY0amK4UwzmEDB8MEDmzg8GVcKcw8/3zmK8w0a+ZaYeb8ed+JC2cYZ5gylS+/TFSnjmtDoCpTmdUzYUeOYPCohpEIAS+DXr3QDrjDX3/ZG3batrWXKV26VPfEeOABogsXiLZv1z0ZXn5ZVxKxDvLV5b33vH9fXBA5bLTzsqjlvOsuxLGbfxctSvTPP7jeBx6Q6/PlI/rqK/0khw7h/qnHbtAA99kd/vkH7bVVHahgQeRCOXLE6/fFJUlJqN+TJ6O+q94u1qVOHTz/b77Be8QwvkxSEvolvqQUsmiRTymFMM5hAwfDBA5s4AgUslthpkYNqTAzcKBUmFm+HLOk+/YRRUWxwgyT/Vy6hHo5cKDjpI7mkj8/ZtanTsUgNavqbkwM0Zw58IiwlumeezDDl1Z4TUoK0ccf69nzc+fGzKSqNnPggG70KVUK4TsHDqCdMNc//bQeTmMe1xoOlCdP+mRw00HCoSMUn9uJpLAqrVq1KhLnmX+XK4fr27gR16sO5g8elCeIjsb9UtvKwoURx55WXUhIwHNq2tS+bHXr4vlmVY6KlBQYraZMQX225vtQl5o14d2zYgXeE4bJTlJS0G/Ytw/9iOXL0a94+22036ZSSI0arBTCZBg2cDBM4MAGjpyKM4WZCRMyX2GmeHEMJu6/n+jJJzFDOH48ZBtXrYJ046FDyCjOHQcmszl3DrP2/foRVavmvO5GRBA99hjR9OlEu3ZlfjiBYWAQ3qWL/ftXogTCSs6ccX2My5eRrFI1RJQpg5lN892KjSV67jn5e3AwOvInTujqKW3b4rzqIMDcXi1bu3aZ/94aBp1o3FI/b7AD9ZRSpTBAMf+uXh3XNXmyXu6ePWW+IsOAcaJ0ab3dGjAg7XChM2fwXNT7JASeX9eueJ6ZfW9sNtTP6dNRX1WpW+tSrRrq/VdfYeabYTITw8B3/dAhfOdXrcJ3f/x4eFg9+aRUCilePPOVQiZMyHFKIYxz2MDBMIEDGzgY9zAVZkwJs6xSmAkJwUCjfn2ihx4ieuYZoldfJZo0iWjuXMTFb95MdOwYktxxx4TJKKdPEy1eTPTCC67DMQoXJurYkWjWLKK9ezPX4HH6NPJEFC9u33Hv1g3vpKu6v2MHvD/UfVu2lCodhoH3SQ2jePRRvO9qeEqTJtK125XRc8WKzLsXRHTus0XOz20aLiIiUF5zfYMGuJ727eW68HCiefPkvdu9G/dFPV6zZq7DgwwD979r1/QbojKCzYb6N2sW6qOrmexKlVCvFy/O3DIxOQPDwHf32DF8h7/7Du3IpEn4Tj/zDL7b9evjO+5MgcfTxVQKqV2blUIYr8EGDoYJHNjAwWQO2aUwExYGF/S77iJ65BHMTA8dCvfsBQuQ7X/7dsg8xsVl911i/IGTJ1F3nnsOdctZ3StWDIPcjz9GCERmGNsSEoiWLHEc+lCvHmYjnSkn2WyIB1e9C4KD4UFlqnb8+6/uxVKhAiRCW7SQ62rWlAoBzgYspUphJjQTsF29Rtciijo+r1mesDCU01zfogWuQ03wWa0aDBpEmFV+6SXdq6NkSSQddDY4io3F/a5Xz74cTZviOWWGUo9hQF529mx49xQr5rxOliuHertgAeoxw6RFXBzqyrZt+F4uWIDv59ChqEuPPILva7ly9nllMrKYSiEtWrBSCJMtsIGDYQIHNnAwvkFaCjNmcrDMUJipVAkzvY8+itnNESMg1bh4MdEvvxDt3InZzuyUFWV8A8MgOnqU6PPPMTuphjFYl5IliZ56CvkWDh/2vsFj+3aEVljlCAsVQrz4sWOO97txA8ktVW+DYsVwTSkp+L1LF/lb7tx4Hx55RK4rX156aTkzcrz0knevN5VDnZ9zfD6zHMHBuiGqfXsk+1NDV7p2xcxzSgquW02qmisX7o8zA83Ro/jdUTLY55/Hc/EmhoH6M2cO6lPJks7rXOnSqJdz5+L5s0cbk5CA79fOnVAKWbwY7/OIEfjePfoovn+VKrlOOOvp4kwp5IMPWCmE8UnYwMEwgQMbOBj/xFSY+ecfZCg35d2GD5fybpmhMBMRgZnfZs2InngC8etvvUU0cybi2H/7DW7/rDCTMzAMxJN/+inix60hJOpSpgxkXOfNIzp+3HuDz6go5JQoX14/X1AQ3oM1axx7IezbB+lUdZ/GjZE8zzBQp1XjRZcuuuFDNQpY83CYy7Zt3rnGVK6s/4NsQoa/GY7Or5ara1d7Y82sWbi+LVuIGjXSy/vgg/COsGKz4T62b28ffle+PHKWREV55yINA8aJuXNRX8qUcV6nSpRAvfv0U9RDNmgEPqZSyJ49+N4sXYp39a238D164gl8n6pVc51/xdMlTx7nSiFffIH3459/WCmE8VvYwMEwgQMbOJjAJzsVZooUQYb3li0x0Bo4kGjMGKkws2EDK8wEEoaB5/nRR8jwr6p5WJcKFeCBsXAhUWRkxs+dnEy0erW90UIIDHZmzCC6ft2+vCtX2htHXniB6OJFGAHU36pXh9HA/NuVIocQyHvhLXfy5GQ6XeEO1+dTZW+7ddPDbcqXx/t/8SIGZ1YjxcqV9gaC69dx36pWtT9X69a43964vshI1IOePe2fhboULYp69dFHqGds0PB/VKWQDRukUsiYMfhedOmC70eNGq7bE08XVgphGA02cDBM4MAGDoaxoirM/P23VJiZODFzFWaCg6XCzAMP2CvMfPONVJi5do07nP6AzYY8Dx98ADdta1iDulSuTNS7N3I3nD2bsfPu2we5T3XALwRc0AcMQFJKldhYJDFVw10iIjAzfOEClFHM9eHhcGs3/04rDn/69IxdSyqHh491fR617I89pperfXtcxwcf6LPaYWGI87fmLdm7F+ozVpf9fPmQzNCRl4cnnD2L59y7N567s2sqVAgz8jNnYsaekyX6PoaB9tlUCvnmG6kU8vLLUimkTh209868nzxdcuVC7hurUsjEiawUwjBuwAYOhgkc2MDBMBnFXYWZ2rUxA8sKMzmXlBTEwr//PowErvLJVK+OQfbXX2Nwnh5u3EBIhir3ai6tWkGmUfVAOHaMqEMHfbs6dZCgc9IkfTDWuLE+uHJ2HXnywG09A8QePkbxuV0YUtTzq+UKDkb4zm+/4TrUfTp00POUJCXh3W3VyvGzmDUr/YlTL1xACFv//o6fhbkUKIB68f77qCfs1ZX9mEohR49mvVJI0aKsFMIwWQQbOBgmcGADB8NkNawww5gkJyNPxXvvEbVta+9xoS61amGAs2KF5/kebDYkzH3sMXsDW7lymOW9dElu/9NPeniHEJh5XrZMT3JZtqw8nivDXYcO6TewGQYdatzK9UDQNGao+SpKlUJ5u3XTt69WDddncukS0YQJuBbrcTt0IFq71vPBY1QUntOLL+pqLtYlXz489/feQz1gdYisgZVCGIaxwAYOhgkc2MDBML6OryrM/PwzK8x4m6QkuJFPnAg3c1cJcuvWJRo8GHkgrl51/xzHjxMNG0ZUuLB+vNBQxOFv3YrtEhLg/aCGaeTNSzRyJNF998l14eHuhWmtXp2uW3Lis8VpHzskRL9XrVqhrlrL/u67uC7DwHX26GGvQlO4MO7PiRPuF/LqVVzf4MF4Ls7KmScPZvsnTYI3ACci9g6sFMIwTAZhAwfDBA5s4GCYQMNUmNmxI22FmTx5vNfZd6Uws3QpK8ykh4QExPGPH4+4fWezyUFBSOg5ZAiS6LoTShEXB0WXO++0P97dd6PexMcTnT4NeVL196pV4dFhNTK4qh8lSxJFR3t0+UnXb9DVAmkkVrSe98knMehU13XvjgFwfDzRokV6GIu53Hkn7oc73kvXr+M+DxmC++7MeyUsDM9t/Hg8RzYEuocrpZC+fbNXKWTHDlYKYZgAhA0cDBM4sIGDYXIyVoWZH37QFWaefZYVZnyJ+Hii338nevttuLk7ex7BwRikDR+OcAxXhgXDIPrrLxgxrMaCYsUwI336NJ6H1Tvh7rv1xKlpeXK8+qpHl7un8/Ouj6eer1Ahe8NF3boo96lTuI5ixeyNI927E23a5DqEJjoa93HYMEjLOksMmTs36vOYMXhO8fEeXW/AkpZSSOfOWaMU8uyzzpVCrIlmGYbJUbCBg2ECBzZwMAzjPqrCzKZNUmFmwoSsU5i5/35WmDGJi8MM91tvYUbbmRdFrlxETZsivGTtWueDuXPniMaORf4K6/3v3BnnmjlTN2qEhuq5L1zl4ggKQhiBG5xf9xfZRBrHMv9fpoxu7ClYEElBf/0VuQ6sBolSpXCd5887PnlsLO7TyJG4b87qcUgI7vtbb+He5JTcNdmpFFKyJCuFMAzjddjAwTCBAxs4GIbJPEyFmQMHpMLMxx9LhZmuXZEvoVYtVpjxBjExyEHwxhvwrnDladC8ORIcrl9v726fmAj1lubN7fetXRsJGZ97Tl+fP797z6Z27TQ9coykJDpTupJ7x7Oet2dPlK92bfttmzfHdVnzIdy6hfswejS2ceUZ06QJ7u/PP+N+BwLZrRRSqxbaga5dpVLIxx9LpZADB1gphGGYTIUNHAwTOLCBg2EY3yE5mejiRaK9ezHg/PprzMSPHg2JzY4dMQCtXl33Isjo4o7CzLZt/qcwc+MG3PBffx3X5syAFBqKAea4cUQbN+q5InbuJOrd2z7haUQEZurr1bOfZU/rfk+f7rLYe4e87d5svvp3vXoojzUnQ3g4kj/u2iVPkJCA6xw7FglTrYlG1QH4XXehLvz4I4wA/kJ2KYUULIj3s3lzvK/9++P9nTUL7/P69Xi/L15kpRCGYXwGNnAwTODABg6GYfyXhASis2cxeF27lmjJEijMjByJQXmHDggxqFzZfQ8DdxZ/VZi5dg2z86++itl4Z9cXHk7UujVCjzZtgsfDlStEU6fiuq3b16njWbLH3Lnx3Bxw/fBxSgr2wEMgIsKxt0alSijvlSso/6ZNuJ7WrV2r09Svj/vz3Xe4X76CM6WQN97IXKWQ/Pnx/jRtivepd2+8XzNm4H1buxZKIWfP+lZdZxiG8QA2cDBM4MAGDoZhcg5xcUSRkUT//IOkkYsWYRA8bBjR888TtWuHJJIVKrgeBHu6WBVm+vb1DYWZy5eJVq0ieuklx0YC1aDTpg2SM/79NyRRH37Y8XW6G2Z0330Oi3SsViP39g8KcmxUadNG5mJ491387WrAX6cO8kasWoX7kVVkl1JIeDjqd6NGqO/PP4/6P3Uq3oeffsL7ERnpX95KDMMwGYANHAxjT5gQYooQ4rwQIl4IsU0I8bCb+xYSQnwuhLgshIgTQmwQQtzlZNt7hRCbhBC3hBAXhRAfCiHyp7vUbOBgGIZxjGFAPeP4caItWyALOm8e0eTJkAd99lkM8hs0sE9ymdFFVZjp3DnrFGYuXsTxBw7E+Z2Vr0AByGgOG4awEKt3jLtJJZcv105/6IO57hs3rOV56imUp1071946NWrg+pYvJ7p0yXv3LjuVQsqUQT00lUKGDEE9nTcP9XbLFtTjmJjAyTfDMAzjRdjAwTD2fC2ESBZCTBNC9BdCbE79u0Ua+wULIf4WQsQKIcYKIV4SQuwXQkQLIapbtm0gYDzZJYQYKISYKIRIEEL8nIFys4GDYRjGGxgG0fXrRIcPIxxi9WqiOXMQFjF4MAbgrVtDurRkSe8pS2Smwsy5c/As6NuXqGpV52UoWBA5MEqU8KzsYWG3FV3ir92ghBAnuTCcLaaihisPh2rVUP6lS3E9njzPq1ezXikkOBjXVbcu6kv37qg/EyagPq1ejfp1+DDqGxssGIZhMgwbOBhGp4nACzFMWRcuhDgmYOhwxZOp+3ZV1hUXQlwXQnxl2XaNgIdIhLKub+r+bTwuNWADB8MwTHZgsyEk4sCB/7N33uFVFF8fn/QEEjqEKlV6b1KkiCgi/lABRXpTQRRREEQFQRFBmgqKgiCI4IuAohRBBJQqKE3pvUgPBEhvd8/7xzfLzN6We29uckvO53n2gWy7s7OzuzNnzvkeCF4uX47MEePHE730EjJKtG4tM8y4a8bf0Qwzp05ZZpi5eBHaDwMGWNfiUL0KHC3PI48QEdHZhi2c81qwta1CBZRv8WKUV8dTmUKEkJlCWreWmULGj8f9Xr4c9//oUbQHzhTCMAyT67CBg2GMTBVCZAij4UEIId4SeFDK2Tl2uUCoSaDZ+rkC4SphmX8XEPAImWq2X6gQIl4IMd/pUgM2cDAMw/gCaoaZTZu8I8PM1KkwDnTsSFSypMu/ce2Nt0lztXylSuH3hw9HebwhU8imTZwphGEYxodgAwfDGPlNCHHUyvqHBR6U/9k59pSAZ4Y5gzKPrZP5d8vMv5+1su92IcQ+RwtrBhs4GIZh/BFPZZgJDSXKn98pLw6njBshITi/rdSuriycKYRhGCZPwwYOhjFyWAix2cr6mgIPymA7xyYIIRZYWf945rEdMv/ulvl3Kyv7LhdCXHWgnCUEHlp16SzYwMEwDMN4KsNMTiyOZgq5cIEoKcnTNc8wDMN4GDZwMIyRM8K6F0YlgQflNTvHmoQQc6ysb5d57FOZf/fJ/LuplX0XCyHuOFDOCZnnsFjYwMEwDMNkiZ4p5NAhGAlmzSIaMQJCmG3aQHCzTBmIfrpTw0JdgoORNaVMGfxemzYQcB0xAuX55ReUz90ZZhiGYRi/hQ0cDGOEPTgYhmEY38NTmUJya3Emw8ytW5yRhGEYJo/CBg6GMcIaHAzDMIznsZYpZN683MkUUrgwUenSEBt1UtPDaYHRyEiUv0wZoiJF3Osd4mqGGYZhGMZnYQMHwxiZJqxnUXlbiCyzqKwQ1rOozBPGLCoFhf0sKta8QByBDRwMwzDeTGIi0blzRHv2EK1dS/T110RTpngmU8g778hMIT/8QDR9OlH//kiB6uLvaELQrdXrs1fW6tVRjunTUS49w8w773guw8zXX+N+7dmD+5eY6OmWxDAMw9iADRwMY+QBgQfiDWVdmIB3xm5lXSkhRHUhRIiyrnvmsd2UdcWEELeFEMvMfme9EOKKECJKWad7ejzmYtnZwMEwDJObpKQQ/fcf0b59ROvXEy1ejIH56NFEAwYQdepE1LQpUYUKRPnyuW8wHhlJVKmS65lCbt0i+vFHomHDiGrXtu8F4YQI6bGez+P8r73m+LWEh9vP0lKnDtGrrxKtWoVyW7sHnsgwky8f7mvTprjPAwbgvk+fjnawfj3axX//cbYWhmGYXIQNHAxjyXIhPSxeFELszPy7tbLPIoEHp4KyLkgI8aeAF8a7QoihApoecUKIama/0VAIkSKE2C+EGCKE+EAIkSyE+DUb5WYDB8MwTHZISyO6coXon3+IfvuNaOlSok8+IXr7baLnnyd68kmi5s2JKleG+Ka7Bst6ppDGjXMmU8idO0SrVxO9/jpR/fpEAQG2vRgaNcI+TqZujS1QhLT0dPxeRgZRiRLO1UFICH63USPb3isBAdjn9ddxPXfuOF8XSUmox9zOMFOgAFGVKmg/Tz6J9vT222hfS5eivf3zD9pfWprz18UwDMMQERs4GMYa4QKhKlcFjBB/CSkQqrNIWBo4hBCisBBivhDipkBYyh9CiMY2fudBAeNJshDihhDiM2H06HAWNnAwDMOo6JlCDh8m2rKF6PvviWbPJnr3XaIhQ4i6dCFq1YqoWjXoTrhrMBsSAg2L+vWJHn2UqFcvDMo//JBo/nwMzv/8k+jMGaL4ePfrP8TFIQPJqFEwmtgSFA0JwfW//TaWpk0t93FA20MTgi7+ts1Yhr//dqyurJ2/aVNZpgcftO3hERiI6xs1CtcbF+feetQ03J8zZ3C/Vq/G/fvwQ9zPXr2IHnkE97l0afueKM4uhQujXbZqhXY6ZAja7ezZaMe//452zRlmGIZhDLCBg2H8BzZwMAzj35hnClm5MncyhQQGEkVHI5yjXTukUh02jGjiRKIvv0S4x/btRCdOEN2+nfuClQkJCM8YMwbhGEFBto0JzZvDcPDbbxDYHDvW0tsiMJCoaFGH6+fQY92sl2vAAMfruEgRy3JHRxONG4dy/vYbyt28uW2jS1AQUbNmqIdff0W95Caahvt/4gTaw48/on1MnIj28txzaD+1a+Pa3Nk+OcMMwzAMEbGBg2H8CTZwMAzjW3gyU0jRohDUbN2aqFs3oqFDicaPJ/r8c6IVK4j++IPo6FGimBgik8nTNWUkKYlo82YYJ1q2tO/h0LQptCHWr5feIlu3Ej3zjKVBoWhRiGyqISy2wlkyl7sRUZRy20aoSHw8UaFC9u+D+fkbNLA0rgQFobxbt0qvivXrcV1Nmtj3UGnZEvW0ebNr4T05icmE9nX0KNrb8uVof+PHoz1264b2WaOGUwanLBd7GWbmzeMMMwzD+DRs4GAY/4ENHAzDeJ6EBPuZQjp0yJlMIYUKWWYKGTtWZgrZvJno33+Jrl0j0rUifIWUFAyAx4/HgNeWPkZAAOp25EjU/d278hwJCURz50K00/y4Jk2QuURN05qFYUNfTs771n7ZV61y3AtB/3/hwihPkyaW+9Wti0G46p1x5w6ud+RISwONuoSGErVpQzRhAurT18Q/09PRfv/9l2jTJplhZuxYz2SYmTKFM8wwDON1sIGDYfwHNnAwDON+HMkU0qSJ+zOF5M/veKaQ1FRP15J7SU0l2rEDoQ3t2tkXu6xbF7PvP/1EFBtrea7Tp4lGjLD0pAgNJerbF8aCBg2M2xzUIznWsJVj19Oxo2P33Px3GzQg+uorlNPcqFOoEK7r9GnL34uNRX0MH476sfV74eGo34kTUd/+1o70DDMHDtjPMFOpEp43dz27nGGGYRgPwgYOhvEf2MDBMEzW+GumEF8mPZ1o926iyZMhSmrPUFSrFvQVfviB6OZN6+czmSC6+fjjlt4M5cpBJPPQIczEq9uio42GEDteHMnBoXT35FnHru/iRftGGvV3ChZEOdTtffrAa2HSJHie48QRAAAgAElEQVQSmB/7+OMYNNsKJYqJgV7LK6+g/uwNzB99FPdh927f8/TJLo5kmGncmDPMMAzj1bCBg2H8BzZwMExexNsyhUyenDuZQnyZjAwMIqdOxaAxMtJ2PVerhvv4/fdE16/bP+/t20Qff4zBovl5HnoIRpGkJMykR0XJbWFh2K6GiWQRonJ41HvOXfPMmfbbk7nux0MPGUOYoqKIZsxA+X/4AdvNz1GlCq7/9m37Zbl+HfU5ZAjq11aZoqJgPJk6FfeLs5VIHMkw8+ijnGGGYZhchw0cDOM/sIGDYfwBb8wUMncuMkLs2OG5TCG+jMmEMIGZMxEWYE8foUoVzGAvXUp0+bJj5//3X6LBgy09P/LnJ3rpJQz2iIg2biSqXt24T8eO0KXQ/3ZAyPVCuaqkOTuTnp5uP1xENZzp/2/TBgYGdXuNGpjRJ8J1DRli/bqHDIGXiiNcvoz6fv55eC7ZKlvBgrh/M2fifnqb+Kw3o2aY2bGDM8wwDJNjsIGDYfwHNnAwjDeSVaaQHj1yJlNIQIAxU0jXrr6VKcSXMZlgdPj0Uwg/2vOcqVABGgWLFyOUw1HS02H8Uo0T+nL//XDv1z0Zzp/HTLe6T9WqGKirIR8OiIyaAgLo+pbtrtXLX3/Zb6/WylGuHLwyqlY17t+1K66LCNf5ySe4bvPztm2LenIm3OTiRdyPAQNwf2yVuUgRoqefJpo1C/ebnyH3YZ5hZsUKY4aZrl05wwzDMFZhAwfD+A9s4GCY3IIzhTAqmoaB2OefI7VnsWK272HZsmgjX3+NNuQs168TffCBdS2KJ54g2rBBDrSTkjBTreolREYSffQR0bRpRmOaGtZinj5WWQ5365+9uho2zHbdqL+rlic4GOWdMsUohhkRgevTNVtMJlx/p06WBpqyZVFvWYX5WOPcOdyvPn0s611dihXD/f/8c7QHHvzmHmqGmc2bPZNhpkMHzjDDMF4AGzgYxn9gAwfDuIqnMoVERhozhQwalHcyhfgymgZX+7lz4VpfsqTte1yqFGaBv/oKGT9cHfTu3k3Uu7dlNpHChSECeeaMsXw//WTpfdCrF9GxY0ZvjuBgCEfqf9tKQSsE3SxYjDJu38le3d29izqxVV/q7zdubAxZ6doVhoOePY3HVKxI9PPPxro9fRoDTWvZY/r0waDTFTQNs/fz5qEc9q6lZEm0j7lziU6eZIOHN+FMhhl7GjnOLtYyzLz5pswws2EDZ5hhmGzCBg6G8R/YwMEwOunpRFevykwh330nM4W88ILMFFKlSs5nChk1ijOF+DqaBgPC/PkwEpQpY7sNlCiBOP8vvkBcf3YGtcnJRN98A+Oa+e/Uqwejifms8PHjmEk233fbNqL9+40aE+XKYVZbHXzZad8X5n6TvXrUWbHC/nOkemm0bIlnSv+7ShUMSrdts9T0eOwxGJ5UEhNRT9b0P5o0Qf0mJ7t+LZqGOv/iC9z3EiVsX1eZMjBSzZ+P9sQGD9/BWzLMvPCCzDDz3Xcyw8zVq+y1xzCZsIGDYfwHNnAw/oueKeTIESjkf/890WefQTn/pZcws9uqFQQU1fj97C6cKSTvcuECBjH9+hkH2OZL0aLwiJg9G6KX7mgDFy8SvfWWZahLcDBR9+5E27db/k5cHDyOVI+HwoURLpGWBi8CNVyqQweiFi2M+9p5Fk42beu+9q1pmL229+yp5Wne3Gi0CQuDB0VaGt4DqpdGSAhmxOPjLX9z+3YYIcx1booXx6DRGQ0Ue9d2+DDaQ5cu9t9H992H9rVoEdob4x/YyjAzeXLOZ5gpUgTfwVat8F186SV8Jz/7jGj5cnw/jxxh3SXGr2EDB8P4D2zgYHwHTSOKjcVs6/btULL/8kui99+Hwn337kgDWasWZkRzO1PIyZOcKSSvcekS3NQHDoRbuq02VKgQZlI/+QQzp+4aJGga0vx26WLZ3kuWhLiitawqmoYMIKVLy/0DAqA7EBMDvZg+feS2oCCiceOIGjSQ61SPFCviokkh4ZR08rR7rlPn3DnrM93q76vlql8fegqqTkefPri+Gzcws60eW7o06sXaM3zpEgZ90dGW74cuXXAf3PXsm0xEBw+ivTz5pGXIjLpUqoQwtSVLUEYmb2Atw8zcubmTYaZECZz3oYfw3X3lFXyHv/wS3+Xt21Gu2Fj+HjI+Axs4GMZ/YAMH4zk0DTPIp09jxurnn+EW/uGHRK+9hlj1Rx6Bq7w7Z6zMM4V062Y7U8jNmzxjxUiuXoUQ4YsvWs++oS9RUfA2mD4dsfEZGe4tR3w80Zw5RDVrWv52ixZwQ7elv/LPP5ipVY9p1gxu9ESYqVXPW6oUZnHVjCRq2lgbz+Xp0ePde806U6dar3O1HGr5qlVD+VXdi5o18XwT4bofeMB4rtatUU/WSE1F/aqeLPpSqxbCTsw9QbJLRgba0fTpaFdRUbbb3v33o33+3/9BQJNhiLLOMNOtW85kmNE9GuvVw/e8Vy983z/8EN/7n3/G9//0afQH2CDCeAg2cDCM/8AGDsa9JCYiDeNffyHmeOFCZF944w2ivn0R796oEeL43RlzrGYKefppzhTCuIcbNzAQGDoUHX9b7S9/foRDTJkCIcqcamMnThC9+qqlBkx4OLxI9u2zfWxsLGZa1ZncEiXwjOpGvCVLjJoaDz+M2Vg1C0izZsbftVIfl+67H6EgOUFaGlGdOtbvg1qe5s3l/8uVwyx3u3bGe7Z0Kc5pMqEeVC2MwEDUV2ys7bLs2wfBR/OsRwUKIE2oubaHu0hPRzubMgXtTtUfMV9q1ED7XbECA1yGcQRnMszY8zBydgkPx/PaqBH6C337ov/w0Ud4RtetQ//i/HnOMMO4FTZwMIz/wAYOxj56ppD9+6HUvngx0YwZiFcfOBApJps2RUYCe51sZxfOFMJ4glu34Oo9bBhcsG21z4gIovbtiSZNItq1K+cG80SYvV+zxlIEVAhkVpg6FZ5G9o6fN8+ozREUhLj+O5nZTZKTiQYPltsDAhCSsmeP8bgnnpAGEhvGDZMIoNubt+ZcfRChzq2Exdy7N/o1qJodxYphYDRunPHYIUOkYOidO5hdVkNaihXDTLM9T66bNzEAK1/esjyPPYa0n+724lFJSyPauRMpbR9+2L7xuE4dGMl+/BHtnWHcQWqqZzLM5M+P/kfTpng/DRyI/smMGSjDhg3ov3CGGSYL2MDBMP4DGzjyGmqmkE2bZKaQd95BPPpTT8H1ukoVooIF3Tsrw5lCGG/jzh2I+b3+OvQabA2aw8KI2rYleu89ZOLIjY7yrVsISbCm7fHII3DtzmrQvHu3MZ2rEPBiUN/5p08btTWKFcOg4I8/jKEQAwfKdKyqx4JZnZ3q2idn60VnyBDjdanl0MsXGgoPC319VBSua/16oxt+w4bGlLmHD0NfQD1/48aoT3tkZOC+PPKI5T2rVAn3MzeMCikpaKfvvYd2a+5hotZZ/fpo/6tXS4MXw+Q0nsowU7Ag+jctWqC/88IL6P98+in6Q5s2cYaZPAobOBjGf2ADh6+jx9XqmUKWL7fMFNK6tWcyhezezZlCGO8iLg6d6TfeQOfZlvBeSAjRgw9itn/LluylBHWWgweJnn9eeiKog/Nhw4iOHcv6HNeuGQf2QsDte/ly47P4449GQ2aLFpjpXL3aOCgeM0aGxQQFybKZ1V9sgaKk2QvpcCe3b1sKfuqeF+HhMutJgQKY0VWNrWvWIPuJGsZSsCDRqlXy/JqGzEtqeI4QqNfr17Mu37FjCHExn62OiMD9PXgw5+rGnKQktONx49CubekZBQbiuRg1iuiXX/C8MIyn8YYMM61bywwz48dzhhk/hA0cDOM/sIHD23A0U0jt2pwphGGyIiEB7tJjxsA9Wg09UJfgYAx2336b6Lffcj+2Oy2NaNkyDD7Ny1a9OjrTd+86dp5PPjFqdISGYoYyIcG434gRxt8ZORLrv/1W1lNQEFy9VUOCKtZptlybtyjn6sga//d/tt9pajmjo+Eur17XkiXW62HECGPIUUIC6k/3XtGNIZ984tgM7927uH+q8Km+tGoFI0pOhjhZIyGBaONGpBVu1sz2cxEUhOdmzBg8R2obYhhvhTPMMC7ABg6G8R/YwJHTOJMppFSpnMkU0qYNZwph8gZJSRDEGzsWAnj2ZqqbNCEaPRrhCu7OeuEoV68ijMDcaBAYCPfpTZsc7wRv2YIsHup5/vc/vHtU7HkuzJol14eHQ3OncmW5ThX3NAtNOd+4Ve532DUNM7fm7z5r5a1cGdejurvPno3z/Pij0Sike7KonDqFGH/1t2rXxgyuo2X97TekfTUfUJUqhXZw9apbq8dh4uLgsTF6NJ4Le55NLVvi+dq8mcMJGf/AZEI/yNEMM7ZCGZ1dzDPM9OzJGWY8CBs4GMZ/YAOHK3CmEIbxDlJS0CEdPx6GPHWW3XzQ26ABZufXrPGs1oCmQRCyRw9LA0zRoginOH/e8fNdvEj07LPG81SpgneTORs2GLUnGjRA51nTMMDW1xcogAGvqs3Rpo38f2amFVPm3ynBoZR64pTbqsgpTp+W71l94KFmglHL3aAB6kXVFnn/fVy/NS2SX3+1/L21a41GHyFQ/xcvOl7mc+dwn83DBkNC0C527fLsYObOHTwnI0agTmwN6EJDUb/jx+M5ZBFHJi/AGWb8EjZwMIz/wAYOIstMId9+y5lCGMYbSU2Fy/HEiXAxdiRbxKpV3pEtIimJ6OuvIWhpXtaGDdFBdWZGPDkZWTPUwXy+fJj9Mx9oZmSg820te4jJhHrS1xcvjgG2KrLZoYM81jxFrRB0adRYt1aV00yaZFmnejkDAowZaNq1w6yomh1m+HDUg61sMuZirsnJ+E3zup80yblBflIS7rutNvH1197hJXHrFp6jV1+1naJXH4C1a4fnc8cO/m4xDJH9DDODBnk+wwz3MYmIDRwM40/4p4HDmzKFvPGGzBTyyy+cKYRhnCE9HWK1kycjFEEdUJovNWsSvfwy0cqVEHzzFs6dg+u/tdn6nj0x2HZ2tt6aF0H37ta9CK5dw6BT7fQuXYpt6emYBdS3lSsHwbyuXeW69u1l2RUPGZOAweNaucqe7xynpuL+60YJvey6UGrhwrgOfX23bsiUUq6cXNevn/R8W7LE2NYefhj1aM7Fi6h39T5UqYL74wyahnbQs6elV0+RImg/585lt5bcx40beM5eflnWu7UlXz48t5Mn4zlmz0KGyRrOMOMR2MDBMP6Dbxg4PJkppEwZzhTCMLlFRgY6dVOnohNnbzaralXMti9bZn3w6Uk0DSKOnTtbuveXLo2wCFfKfOoUUadOxvPZ04HYutWo71GzJuLMieCF0Lmz3FatGlyb1fSrLVoQ1a0r/850t04PkBoN8Zts/HZus22bLKcumqm6h9erh+vR/37pJVxv1apy3ZNPyow5R44YB++lSqE+rbFlC+6Del+eeAL3y1muXkX7KF3aeL7AQJTvt9+871tz7Rqew8GDjfVpvkRFET3+ONG0aUR792ad5phhGPtwhhm3wQYOhvEfPGPg8HSmkDp1OFMIw3gDJhPcdmfOhJuuPY+qypWRXnPpUqLLlz1dcuvcvQvhymrVLMvfujU6fa5kzEhIQIYX80wen35qfSbNZEIHV3139ukjs2DcvWsMQWnYELPy48cbDSeqd0KVKhbXdLFLz2xVl9sZNMiy3tVyd+9uNERMmICUr6r2xkMPyfSoCQlEvXsbDSdTpljvrKen436YZ7B5+23Xso+kpSHDSqtWltdUvTramSOZdTzBpUvwghk0yNLTSF0KFsRzP3Mm3gM+MAhiGJ9GzzBz8qTnM8wMG+ZVGWbYwMEw/oN7DBzOZApxpwWZM4UwjG+haUSHDiFbx9NP2/e4Kl+eqH9/om++cU7A0RMcPQp3fXOPk4gIuPkePOjaeTUNM+NlyxrPO3AgBubWuHXLmO0jLIxo3jzZYYyJgXuzvr1NGwyU58yR6ypUMOpaKAablCC8v+9GFSbt5k3XriunuHULGiL6dVspP02ahLal//3FFxDVbN1armvcWIY5aRoGAOr5nnjCtq7LtWtEAwYY71fZsjBWuNppP3gQ7SgiwnjeyEi0u2PHXDtvbnHhAp7j/v2NdW++FCmC98KsWXhP8CQDw3gWRzLMtGmT8xlmevXK8QwzbOBgGP/BtoEjq0whHTt6JlPIpk2cKYRhfAVNQ8fo88/REdIHn9aWMmUwW75gAdHZs54uedZkZBD99BP0GcyvpVIlCLnFxrp+/kOHiNq2NZ63SROExdlizx7EZev7V64METmd//7D7L++/X//Q7z38uWyY1qsGOKtg4Pxd4kS9ww3ycFykB/75QLXry0nWbzYaGDSDQHR0fh/cDC+JbrIaEAAOu1JSUbDUI0axlSx+/cbvRHKl0d922L3bqMhSQjMXGZnQiE2Fu2qUiXLNte+PdqjL4R9nD2L57x3bzz3tt4JxYsTPfMMjG/HjrHBg2G8HTXDzKZNlhlmnn465zPMdOwoM8xMnWqZYcaGBh4bOBjGf4CB4+mn0bF74IGcyRRSsaLMFDJwIGcKYRh/RdPg+jp3LlxdS5a0/W4oWRIpMefNg1aBrwxeYmIQpmBtJrpjR3SksuMtdvs2snroOhK60WH+fNvn1TTMeqvecV26GNPhnjhhNH707o0wiM2bZehLZCTR+vXyvgUHI3Y78xg9LezlRi28935pmlFUVV/q15f1U6oUrlP/1oWGoh7S0jBTqBoxTp6U575zBx10fXtICEJFbNWFyYTZRjVjS1AQZiKzk6o4IwNCpo89Znmd5ctjMsLbvGtsob4zevTI+p3x3HPY9+RJ722DDMM4hr0MMwMHygwzFSvmTIaZBx64l2Hm8KBBbOBgGD8BBg5nraT33SetpOaZQtat40whDJOXyCuzsfv2wcVeDVUQApoLr71mHAi7gsmEtKAlSshzBwYiTtmeJ8jdu6hX/ZjgYKKPPzbW74EDxvMOG4bf27dPdhpDQpDpqWVLo5Ek8/+x4VFEQlBqcChlHD+RvWvNaU6ckEYbNQxKuR568EFcr270iIqCl4bJBC0ofb8SJVB/OpqGDrju4SIE0bPP2tfDiI3FOdV49hIlcL+zGzp58iQMYubpe8PDESqzb1/2zp/baBreD3PmoF37k9cXwzDZQ/cut5dhplEjjFPMv9VZLIdh3GADB8MoFBJCzBNCxAghEoUQvwshGjp4bBchxPdCiLNCiCQhxAkhxIzMc5pzXsgHUF2+dLHcMHAUL47ZLfM4t/nzZZzbmTNui3NjGMaHuXABnYp+/bKOp+/SBTPcvhpPn5oKUdPmzS2vr1YtiKPFx2f/d/76CzNJ6vlbt0ZKPnscPAhXX/2YsmWJdu0y7rN9u3HwO3487sWpU9LoERAArY9hw+R+Tz55z0gQGyGPvzX6nexfb24wYYK8Ft2DIiTEmDnm1VfhQq2H55QoIb2J3n1X7lewIOpRZdcuozbK/fc7dr/MRUMfeACd9ewSHw89kVq1LNtq8+Zox77oJemvuj0Mw+Qsuj6gnmHm558xrtH1AXv1MugDHg4KYgMHwygECiF2CiEShBDjhRAvCyGOCCHihBD3O3D8TSHEv0KI94UQzwshPhVCpAohjgkhIsz2PS+EOCCE6G22NHWx7L6RJpZhGM9x+bLMiGAt9l8dBHbuDO+Bgwd9W9T30iWiceOkboO+BAUhHd7vv7vHYHPjBjLDqMJspUtDAyOr8y9YYNQ/6thRCmPqrFtnFKb85BOsv3IF7rn6+tmzjdoVDRrcyzaSERBIyUEwdMRVqEyUkpL9684NUlJkytKwMBnyU6uWMWvKt99i8Kz/XakSUrUSoS3r6yMi4PGhEhNjDBMJD8d9sYem4f6qaWADAiAian7/XEHT0D67djWGOQmB9vzuu96bhcgRTCa8Xz7+GO+brDIvDRqE95cvXzPDMDnO4UOH2MDBMArPCjwQ3ZR1xYUQt4UQ3zlwfFsr6/pmnvN5s/XnhRBrnS6hbdjAwTCMkWvXMJs/eLAcIFpboqKIOnUimjaNaO9e3xA3tIemEW3bBrd484Fh8eJE77zjvlnh9HQYFVSRtZAQxB1n5RGSmIhZav24wECiDz6wNCipQqFBQZjVJoL2Q7168vixYxGaoRtLihaFGFzm9jOFlYH477+75/pziy1bjB4W+v9ffBHXqRsuDhzA/dW316snNTIWLZLtQRcoVTGZUP9q+En//rhP9oiPJ3rzTaNuSqFCRJ995j4B7YsXkaZW1QDRr+PZZ9HefdGzSiUjA++fadOIHn8c7yVb76yqVfFeW7YM7zmGYZhMWGSUYYwsF0JcE/DkUJkrEK4S5sI5owQeshlm688LGDhChRD5XTivOWzgYJi8TkwMski8/DJRzZq2Bwf58xN16ACBzT17/CeLUUIChE7r1rW85qZN4dngTq+FrVstf+uxx6AbkRXHj9/zrLg3I79li+V+c+ZIr5CwMGTXICJKTkZKP3Wgf/Mm0sLqxpLp0+8de66QFHxM79vPfXWQm/TrZ5zR1z0mpk+XRomKFVEPL7wg923TBvVFRLRqldT0CAhAKIg5mzcbPX7q1MH9yooTJyzFQuvWhfHBXSQnox03aWLZxuvWRftPSHDf73mS9HRksJkyBe8re6LpNWvivbdypXu8ZxiG8VnYwMEwRk4JIX6xsn6QwINSx4Vz3p957Ftm688L6HRkZG4/L4QY7sL5ddjAwTB5jdhYDNhefRWDMFud//BwpED94AOinTuRYcKfOH2aaMQIy1R1oaFIMWcvBagrXLqELBHqb1WsiLhgR2bRly0zqsi3aYNQExVNw/3S94mMlAaQjAxjBpCnn4YmQ4cOct2ECfcyrSQHh1JMPrj/ZxQp4rsDwJgYqdtQooQM2bnvPqNOR4cOMGQ99ZRc16WL9EzavNlY/5MmWd63K1egnaLW/7JlWZdR09AO1LAhIYh69kS7cSd79hD16SMNNqr3yMiRiFf3J9LS8P764AO8z+ylta9TB+/FVauyl+KZYRifgw0cDGMkQQixwMr6xwUelA4unHO+gBHDXMNjtRBitBDiSSHEQCHEtszf+MiBc5YQeGjVpbNgAwfD+Dd37hCtWYPBfIMGRr0HdQkLI2rblui99+Bl4CtaC85gMiE9aKdOlvVQtiwGrdevu/c3U1Mxm6zOJEdEEL3/vvQQsEdKCtHQocayvv22pQeNpmGAqu9TtCjES/Vt1rwT1LCMrl0x8M38e1c5xfi1cKF76yS3+fpr47Xr/+/TB9et/z12LOpFNVK8+KI0ZPz1lwxtEQLK/eZGjvR0orfeMt6vl1927HlKSkK7UAfh+fMj7au7BUKvX0d7V4VSdQ+VTp3wnPiyjo4tUlLwfpswAW3B3NCj1kODBnhvrlmTvbS+DMN4PWzgYPyZQCFEuINLQOYxJiHEHCvnaifwoDzlZBl6CseNFgFCiA1CiHQhRNks9p2QeV6LhQ0cDONHxMVBDHHUKKLGjY3aAOoSEoJUmePGYZbfn9M6374NUcIqVSzr4aGHiH74IWdCbtavt9Qx6dYNae4c4exZ3EP92CJFIBxqTno60cCBcr8yZYiOHpXbx46V23R9iVWr5LoaNaDRkfn33tLVySQCpEHA13UaNE0aLQICiJo1k9e+eDFR9ery759+QntRw4jGjZPnOnLEmA554EDrbWftWqLCheV+jRsTnTvnWHnPnzcaXoRAO9qwwS3VYSA9HSEabdtaPhv33w9hWn8e3Ccl4f03bhzeh6omiroEBiLEZ/RovF/j4jxdcoZh3AgbOBh/pq2wYQSwslTPPMadHhythBDJAkaLYAeP6ZD5O72z2I89OBjGH0lMJNq4EbPGzZpZCmTqS3Aw0kW+9Rb295eYe3scOkQ0ZIhlHH6+fFh/6FDO/O6ZM0izqv5mjRpEmzY5fo6ffzaGzzzwgHXDSEoKQinUQam6n5ohpGJFhFEcPy7FGKOiMKOdGcYRGxZJx4qVJxKCtJAQomPHsl0dXsHRo3LwWru2DFspUgTXr9bH8ePWM83onDtnNJZ16WLdQ+P8eei46PsVKkS0erXjZf7tN6PxRQi0q7Nns10dVtGfl3z5jL+ZP3/OPi/eREKCY+/ToCBs19+nWYnKMgzj1bCBg/FnSgoh+ju4FMw8xl0aHPUEMq/8LYSIdKLMNTN/51UnjtFhDQ6G8TWSkqAH4MyM4/r1WWfn8BccmZG+fTtnfjsxEWk4w8Lkb0ZFEc2Y4biGSVoavG/Ucr/6qvUQhfh46Aro+9Wvb8wOsWyZDMUpUYLo1CnMPNeoIY/58UeDDsf3tZXzqZ4L/oDqyaJmonnsMXjx6H/XrIl6OnkSGXR0z4/vv5fnunbNmI2mfXvrz1hqKtGwYcb7OXq04x5DqakQRFWzg4SFoZ3l1KDansdT27Z4vvxFZDgrdI+40aPxPnXUI86R8DOGYbwGNnAwjJEVwnoWlXnC8SwqlYUQV4UQJwRSzDrDEwIPZA8njxOCDRwM4/2Yx4yrg2d1yesx49evQ0jQlqbAhg05pymgaRggZwp03lv69iW6etXx81y6hEGSahxZscL6vjdvwqtD3/fBB42Gm40bpfErKopo3z6UUw19eOcdos8/v/f3uqotKD40U4SzShX/G6QlJclMKpGRxrqYMwfaJvrf3bqhvvbuleKiISHwqtC5fZuoZUujl82tW9Z/e/lyo5GiVSvnBESvXEF7UttX+fJodzkVQuQJzRpvxxlNozZt8N72V00jhvEj2MDBMEa6CzwQ3ZR1xQS8MZaZ7XufkKEtOiWFEGeEEJeFEBXs/E4RIUSQ2boQIcQOIURq5nmchQ0cDONtmKv+61kfrC116xINHw49BVsDK38nq6wQp0/n7O8fPYrZe/W3GzbEPXSGjRult4B+b0+etL7v5ctEtWrJfTt2NM7m/6GeOgkAACAASURBVP23DMsJDYXHDxHEKvVjOnSAnkRm+/qvQHHaVFlJI6oO5P2JjRvlNT7xhDRKRUSgPh59VG6fOhXHbNok21dkJOpXJzER9a8fU6sW7o81TpwwansUL+58Pe/ciYG12t4eeSTnQ4nsZR3q08f9WYd8hVu3HMtKFRHh31mpGMbHYQMHwxgJEkL8KYSIF0K8K4QYKoQ4LISIE0JUM9v3D4GHR+Vg5rqPBHQ01OURZb/+QojTQogpQojBAilkD2Uea55O1lHYwMEwniY9nWj3bqLJkzHoNNeLUJeaNZGRYeVK303b6Q6SkyGK2aSJZR3VrUs0b17Ox8TfvQsDSnCw/O0iRYi+/FKmFnWEjAzM8qozwc8/b1v09fRpogoV5L7PPWcMXzlxgqhYMem9onuAbNok3esrVkSIRaaAqUkE0NRWMoMK9erler34Aj17ymv94ANZ902awONGr9/AQKmbsny53K94cdSzTmoqUffu8pwVK9o2rCUlEQ0aZPQwmjDB+Tbz5ZdSR0QItMORI9Euc5KEBDxf1gbzTZtCtDUveyvExOD9/PLLeF/bepfnz4/3/ZQpMA7llZAfhvFS2MDBMJYUFkjtelMgLOUPIURjK/v9ISwNHGRn+UPZr5FAmthLAh4b8UKI7UKIZ7JRbjZwMExuk5EBt/dp04gef9zotm6+VK1KNHgwtBRUbYW8ysWLCCNQPR2EgODfs8/CFTynM35oGgZxJUvK3w8MJHrpJYSNOMP165h9V2d5Fy2yvf8//xh/d8gQ48D48mWELejb58zB+vPnZXrT8HCiAweg4ZC53/xGnelygcw6LVzY/8MOrl2Tngjlyhk1MsaPJ9q/X6ZqLVaM6MIFHKeE81D58kZPjYwM3A99e8mSRP/+a7sMixYZvbMefZToxg3nruPmTfymahwrWZLo229z5znYuhXPnbkQZ/HieE4vXszZMvgC167h/T14sGVGJXWJisL3YNo0fB+cMXgxDJNt2MDBMP4DGzgYJqcxmYgOHoRoX+fOli7e6lK5Mmbvly617eae19A0iPZ16WIp8BcdjYG6M1oG2WH/fqIWLYxlaNkS651l+3ai0qXleapVs5+lYudOY9t55x3jIDY2FtlB1IE6EbxdGjWS67/9lujPP0nLHJQeLV6BFjTqLLfPm+f8tfgic+fKax4+XHokBAXBo2rxYrm9cWOpR6IYhqhOHaPuiaYZdTwKFSLatct2Gf79F/dd379MGaIdO5y/Fne2S1e4dAnimiVKWBoeu3Qh+v1330817C4uXSJasgRePLoejLWlUCF8Lz7+GN+PnNIPYhiGiNjAwTD+BBs4GMbdaBoGqrNmET39tNGN3HwpXx7ZHL75hmc7zYmPJ/riC6PWhL40bw4jkLXMIjmBO2fKNQ3aDuqs93PPIVuDLTZsMKbunD7duD0pyShOOmQIfkfTiAYMkOuHDUOIQWZ2jJSgYBraeTSZAgLloDivDKRMJmkUCApChhRdZ+P++1FPr7wi627gQFmngwfL9Q8+aBlONG2a3J4vH9Gvv9ouR1wc7r9qFJg2zbV25S7PIldJScFz2by55TNbqxae57ySzclRLlzA+79/f6P3lflSpAi+J7Nm4fvCBiOGcSts4GAY/4ENHAyTXTQNAn9z5hA984xl+IS6lClD1Ls30YIFRGfPerrk3smJE5hRL1DAWHdhYRis792be2XJyMCgzFzr4I03XNM6iI3FrKx+rtBQhD3YG6x8/73MhhIYiLajkp5O9L//yXN26ybd27/80jgQT001hFFMatOfjpatJq/LngeJP/Lvv1JDpWlT6CHo9fXSS6gvNUvK3Lk4LiPDmIGlc2dLDYX586XHUUgINDxsoWloB6pQ7pNPor04iy1tmC++yN2wh7178byaZ30qUADPty0B3bzO2bN4xnv3xvfC1rekeHF8b+bMwfeHDR4Mky3YwMEw/gMbOBjGWTQNnfO5c4l69DDOmJovJUtin3nziE6d4k6oLTIyiNauJXrsMeteLh99lPuiqrayVRw96tr59u41ioNWqGDMxmGNefOk10hoKFKCqmgaPAv0cz70kBR4/PNPaRgpVQppRteuvbfvn+Vq03uPvCiPHTPGtevydd58U9bBrFlErVvLv9etQ73pz3hICOqVCCErbdtaeniorFwpjRaBgURffWW/LH//bWwjFSu6btCzlt2nQQPns/tkl5gYGI7MUygLged97dq84zXkLPq3Zt68rL81pUrxt4ZhsgEbOBjGf2ADB8M4As+q5Qy3biHcolIly7ps357op59yX2zvyhWkvTQ3svz4o2v309rsfOfOWc/Oq94E+fNbTyc6Zoxx8Kp7lVy7JvU9QkIwqL1xg7ToaCIh6G5oPurcZwal5ouUA+mczjrjrSQmSqNCgQLQ39CFf6OjMUDfsUN6RJQpIwV/794lql9f3oO33rI8/8aNxsxIH31kvzzWvHzmzHG97f3wg2XoQ9++yBaTm2Rk4Hk2N7oIged/+nTXPFbyEs54C5Yty96CDOMEbOBgGP+BDRwMYw2Oi85ZDh6EmKqaRUIIoshI6B646iWRHdLSMMhSs9qEhUGs09XBvyv6CppGNHq0PKZwYQy6zfn4Y7lP5cpy0J2WZvRC0ENgnnrq3rrXOo2gv5sqA8316127Pn/hl19kXTz7LJ59/e+nn0b9ffaZXNemDeqZCIYC1UD3ySeW5//zT9xHfZ8338y6DZjrtPTo4bp+RWIixFHVcJGoKKIZM+R15CZHjyKNamSk8fmPiCB64QW8H5isYb0nhnEbbOBgGP+BDRwMQ4SMJbqyvTVvAn0pWJCV7V0lLQ16Eq1aWdZrtWpEs2e7pmvhDn77jahGDWOZnnoqezOfhw45nyEjIwMDPNXt3JouxpIlcp/oaKIzZ+S2116T2/r1wyBo4cJ769ZWa0kj+02S+3Tv7vo1+hPPPivrZN06o8bGokWox7595brXX5fHnj6N+6BvW7rU8vyHDuF+6vu8+GLW3knmmXaqV8+eTsqZM9D2UNt5jRrWvYNyg7t38dyrz4m+tGqF94UnDDC+ismEFNAzZ0KXp2BB29+yypXxvVuyhDN2MQyxgYNh/Ak2cDB5k2vXiJYtQzaEqlVtdwKjoogefxyz7nv35n64hD9w9SrRe+8ZB2pCQJPgyScxuPKU58v588aBrBBoDxs2ZO+8ixYZvVMeeYToxg37x6Smwu1cddu3ZmBZv16GSxQogAGNztKl8vgGDZDd4+xZ0jK9Uq5FFqGWQxdSStly8vgrV7J3rf7ClStS2LZCBXhx6ZoHUVFE586hPtWQlO++k8fv3y+9f4KDrbehM2eMBtRnn806E9D168awjogIzMJnh/XrLd97XbviefAEmob3QOfOxkxFQuC98f77uR9S4w9kZOC7NW0avmOqd5r5UrUqvofLlklvMIbJQ7CBg2H8BzZwMHmDmBiiFSuIhg61nKlXl3z5iB59lGjyZIQFmGdGYBxD04h27SLq2VMKXepLkSJw0T93znPlS0qC0UU1QkRGIiwgO6lnk5IwK6qfMyCAaMKErA1jCQlod/pxdepYNzzs3i3TxYaFEf3+u9z2zz/yeooUQf1mZJCmpI/t+8x7dLCHIiw6Z47r1+qPfP65MYxEDV1p1Qr38exZGQoQEYF619myRWqt5M9PtGeP5W9cuUJUu7Y8b4cOuP/2yMhAO1IH/88/b5me1hlSU6EHouqDRETAmJCc7Pp5s8u5cwjRMg+3CAnB+2TXLg4FdJX0dLxDJk/G+0ZNPW2+1KyJMKIVK3Jf4JlhPAAbOBjGf2ADB+OfxMYSrVpF9OqrGCza6sSFhxM9/DDRxIkIH8jO4JbBgOvrr4kaNrSs6wYNsC07g7LsomkQOqxY0Vi2Xr2y76Z98iRRvXrynMWLQ2AyK2JjiZo3l8c1b25dbPHYMaKiRaX3i5pRJTZWegYEBBD9+ivWK0Kl3zToRO9O/I403fvjgQc4xMqcjAyki9W9MP79F+li9XujC4T++qs0NlSubLxfK1fKbUWL4r6Zc+sWUbNm8rwtWjgmsLlxI1GxYvK4evWyn2710iUYDtTnoWJFop9/9qwhQX+XmGcyEgLvl4ULPfsu8QdSU/HdmziRqF07fA9tfSvr1MH3dNUqFoNl/BI2cDCM/8AGDsY/uHOHaM0aohEj0CE2d3PWl9BQCAROmEC0datMqclkD1+YdT1xwjINbd26RNu2Zf/cK1YY3b8ffBADx6y4csVogHv0Ueuz+f/9R1SunNxv7ly5zWQi6thRbvvwQ6w/cIBMmd4zp4uUoYfeXU3pTR/APkFBLORoiwMHpLhn8+YQitXDOUJCZL1NUnRMHn/caCz68ku57b77cP/MSUhA6JLaFh0Jw7h0iahlS3lcVBSMKtll61aUQX0+HnsMz40n0b3BevSQoVn6UrQoPG08FVrjb6SkEP3xB76PbdoYMz+pS0AAvrMjRuC7e+eOp0vOMNmGDRwM4z+wgYPxTeLi4D4+ahRR48aY0bbWEQsOxmBg7FiizZt5xs+d6HHzTz5pWf/eFDcfH49BkBoqU6gQsmJkNwQpNRWzmuq1jxrlmDDi2bOY/dePe+YZ6wa3W7fgLq7vN3Gicfu778ptesaP5GTKyDwmPSCQnuz3MZ2fNEPu98Yb2btuf2fkSKMxac8eafSoXRshHCaTITMNjR9vPMf778tttWrhPpqTkkLUrZvcr3Jlx4Rt09JwD9V2N3x49j3Q0tPxXBQqZDRSvvmm6xlc3MmVKwgtU8VadY8mT+v5+CNJSfhujh2L76i5gUmt/yZN8O775Rd8nxnGx2ADB8P4D2zgYHyDxES4Z7/1Fly71fSJ6hIUhO1jxsCNPKvYdsZ54uIwCKpe3bL+vSnzgaZBdFMVNw0IQJaSrAQ/HeH8eRnOoBtNfv7ZsWPNM2q88IJ1nY7ERIQv6Pu98opxALdmjdxWrdq9LDTa66/fWz/jwV606Ic/ZUaF++7j5yIr4uOlx0yhQhBdnDBB1vXIkdjv7l2jWOeaNfIcmgYNA31bixbW0w1nZEBPQzUOOvpN/uknozHigQcgjppdbtxAm1Q94cqUgaiqNxgQ7GVkql4d7yceZLufhAR8V8eMQVvL6jv81lv4bruaZpthchE2cDCM/8AGDsY7MZ85MheqVGeOGjfmmaPc4NgxDLDNlfgjIjAY8qaQh3/+IWrd2ljOBx4g+vtv95x/7VpjOE7jxo6nlN29m6hwYXns6NHWB41paUSdOsn9unc3hkGcPCmNFpGRREePYv3mzfeOOVCqKg34aidpz/WwPghnbLN6tayznj1xP3SDVkAABEWJiI4cQf0Lgftx6pQ8R0aGMf3sE09YN/5pGt5h+n5FiqCdOMLZs0SNGhmPXbcu+9dPRPTXX3hu1OeodWujsKqnOXgQBiJVMFgIvKdeecW6BgrjHuLi0NbeeMO+J2VICML2xo1jT0rGa2EDB8P4D2zgYLyDlBTEgOuxv2Fh1jtKAQFI0/j66xiA3L7t6ZL7NxkZmCVW01TqS6VKRDNmeJfgXGwsBjVqR7tECQgSukNQMz0ds5JqPQwd6riWy2+/GbNWTJlifT9NI+rXT+7Xvr3xN+LjjZk4dMHR27cprVQZIiEoMSSMur6+kO7+pHh5dOmSrcvPczz9tKy7jRuhR6EPpMuVk++flSvlfrVrGz1kUlIgZKxv79/ftheEIgpL+fMTbdrkWDlTUtAO1Xb51lvuyQJlMkHss0QJo2F52DDvevZv3SKaPt1SQFgIaJ38/DOn+c5pbt/Gd/n11/GdtqWFFRbGWliM18EGDobxH9jAwXiG1FSinTuJPvgAnX/z2Td10dXbf/zRehw7435u3kTGiPLlLe/HY4/Bg8GbBgsmE9FXXxkzTAQFEb32mvsE8K5cQadcP39kJNH//Z/jx//wgxTtCwggmjfP9r7qbH7jxkbPJE2DN4e+fcyYe5vSFE+NdzoMpT1H/pPZVaKiHBM+ZST//Se9MypXxszznDmy7nv3lvu++aZc/9xzRiNGXJzRy2L0aNu/OXeuHBiGhuK95yjffWc0oLVtaz3dsCvcvo3nSQ1LKFYMz503ZePJyMD7yVxQWAi8zz76CO83Jue5dQvtd9gwo0HWfImIQD/ggw/QL/CGEEcmz8EGDobxH9jAweQO6elwuZ48GZki8uWz3dmpUQOzkStWuEcrgXGcffuIBgywTBdYoABEDLObkjIn2L0bRgC1vA895LiOgSNs2UIUHW2cpT9+3PHjFyyQXiUhIdAPsMX06fJ37r/f8hmYoYiFtm9/z9Ck/d//3Vu/uVJjmr3pBNE778h9P/3UhQtn6JNPZB2OHQvDhZq1Rr+X6elGT6eZM43nuX4d91PfPmOG7d9ctkyG5QUGwoPCUY4dg6ip/jvR0US//+70Zdvk0CE8X+rz1qQJhFi9jRMn8N4qUMBY3vBwvOf27/d0CfMWN27guz50KL7ztvoA+fMTdeiA/sLu3e7xRGKYLGADB8P4D2zgYHKGjAyivXuJpk1DCkVz3QZ1qVqV6MUXMRvuDVk38hqpqZj5VcUs9aVWLaIvvvCODArmXL+OQYpa3rJlMeB0lxCiyYRZRTXkpV8/50TzVINEvnxEGzbY3vebb+S+pUoh/a7Kli1yBr18eaKYGKy/dIlSCkCP41ZEAXp5xjoyHTosB8mNGnmXx40vkZFB1LChNE4dPQqviKJFsa5wYekZExMDEVfdg8jcsHD2LFHJkvIeL15s+3fXrzd6tpkbTOyRkEDUt688NjAQaW3d5WmhaXjOypY1Pn8DB+K59Dbi4/EeU7MR6UuLFnj/ZTcDDeM8V6/iu//ii0bjn/kSFYV+xLRp6Ffwu4zJAdjAwTD+Axs4GPdgMhEdOIBO+P/+J8UPrS2VKhENGkS0ZAm7zHuSy5eRYlT1TNAHZl27YnDmDRkTzElPx6y62sZCQ+Gt4M7sIDExRjf38HB4YjiKphk9KAoVgvu1Ldatk8aLggUthRwvXiQqXlyWZd8+rDeZKKG1nFEf1eNdunEnCaJ++uB2717nr5+R7N0rjVytWuF998MP8t4++qg0HuzdKzWEihdHmIvKP//IthscDHFkW+zYYWzn77zj+DOpaUTz5xu9sTp2dG94RkIC0dtvy9Arve1++ql3zrprGoyEXbpYCmJGR+N9ePmyp0uZd7l0iejbb2Eo00PrrC2FChF17kz08ccQmfWmECnGZ2EDB8P4D2zgYFxD0+CqPGsWhPjUjBLmy333YdZ70SL3pDBkXEfTiLZtQ2aH4GDjfSpWDIOVixc9XUrb/P67ZSz3E08YM1e4g127ZJpQkRkq4kyWGJOJ6KWXjIMne5kndu2Ss/Xh4bhHKsnJCAPQz7do0b1NqTM/vrd+RZ32tPN0DAa2+r7Dhzt58YxVXn1V1qlu6FKFYGfPlvsuXCjXN21qKaK4das0guTLR/Tnn7Z/9+BBoxFy6FDnBnQHDxJVqSKPL1fO/u+5wqlTxow/QuA5dWdojLu5cAHvO1W3Rzc6de9OtH27dxp48xLnz+Nd16+f9IyythQpgn7IrFnol/B9Y1yADRwM4z+wgYNxDE1DbPecOUTPPCNnkq0tZcpAfG/+fKIzZ7iz4Q0kJkIMsF49y/vVtClc5ZOTPV1K2/z3n1FYUwiIPq5d697f0TTMCqrGn2eeIbp71/FzpKZCZFI/vkIF+waYI0dk2tjAQGR7MOeFF4wDXJ2jRyktBAPliwWj6fOf9iFEQD9fmTKcOtld3L2L+tQHVDduQMBWF+INDzemJFUNXC++aHm+n36SXgRFisg0v9Y4dQrtSD9fjx7OCTHevUvUrZtxEP/xx+5/N69Zg+dSfU67d7f0YvEmkpPx/lMNiPpSrx7em86EpDE5g6ahPzF/PlGvXkSlS9vugxQvjvf2nDl4JrkPwjgAGzgYxn9gAwdjHU2DoOTcuRisqXHj5kt0NPaZOxfHcGfCezhzhmjkSLj0qvcsNJSoTx/vFAZUSUkh+vBDoyhtvnzQE3C3QebOHbiu678TEoIZQWfac2KiUYCyVi37YVgXLxp1DObPt9xn3jy5vXlzqRWQmkqx1esQCUEmEUDj3/iCMkwa7qu+vzMZOJisUcNS+vbFuq1bZdaTRo2k4SE1lahZM7n/V19Znu+rr+T2smXte09dumTUkHj8cecG3pqG0BFdl0UIhKK5K8uQTnIynk/zZ/bDD70/HeiePXh+1JAbIWAwHDkS71PGOzDvo5iHWqpLyZIwCnIfhbEDGzgYxn9gAwcjOXsWrte9e8uZSmtLsWKYDfz8c8w6cmfBuzCZIFDYqZMceKmDqEmTvFMI0Jy1a42u9fpscE6E0Ozfb5x5vu8+qPc7w+3bUvdC94yxp3dw8yZR9epy/w8/tNxnzx452IqONugD3HpdppJd2Ko7Xb+bTLR5szxf5878bLobTYPGkF7HW7Zg/ejRct24cXL/S5fkwCs01LpBcdIkeWyNGlm3maZN5f6tWjlvoNi92+juX6UK9JPczcWLCIVTn98qVaA14+1cvw5xYfPvYEAAQuI2bGDdB29D09Af+fxz9E/MQ4/URfcyXbAA/R6GITZwMIw/wQaOvMyFC8ja0L+/dLO2tpjHt3LHzju5cwfim9bU6Nu2xeyzNwr/mXPqFAYRavlr15aDSXeiaZjV0/UQhIBh6NYt585z7RpR/fryHA8/bD/zTEKCcXZ/+HBLY8T169K7IzjYoMuR8sc2yghAeMOREhVp++H/MHNetSr2z5+f9W5yivPnpXdC1arwSkhJIapbF+sCA6GporNtmwx5KlvW0rioaUZ9j2bN7IvlxsURtWsn969fH+3PGW7ehAeIfo6wMHgK5YRBbMsWY9paIfB8nz7t/t9yN+npRCtX4v1p/k69/368b93tAcO4B5OJ6N9/pU6YHrZnbSlfHv2gb77xbg0qJkdhAwfD+A9s4MhLXL6MzCWDBtlXKC9YELOUM2diZo8NGt7N4cNEQ4ZgUKvex3z5sP7QIU+X0DESEpAlQnUPL1Ag5zIyJCQYwzkCA4kmT3a+vZ8/b/Q06dLFvit+WpoxjKVHD8vfTE83DqpmzZLb4uPpZjQMHylBwbTwy9VYP3683H/6dOeugXGOadNkXU+YgHX//ivbbuXKRgPXp5/K/R96yLI9m0xoB/o+HTva19hITsagTR1snz/v3DWYTPAaUrOJ9Onj3kxEOmlpMAYUKCB/KycyH+Ukhw4RDR5sDL3RjYkvvYT3MOO9OJPprXJlouefR3+Js+rkGdjAwTD+Axs4/Jlr14iWLUOnTJ/ZtbZERmI2b+pUor//5hzzvkB6OjwyHnrI8n5WqQIBwdu3PV1Kx9A0ouXLjVlLhCAaMMD5mWlHOXrUqGdQsiTRH384f54jR4xu7AMG2DfGmExwjdb379BBamqojBwp9+nd2zCzfq5Lz3vbFnUdRukZJqLjx+Xgul493/DU8WXS0qRgb2go0YkTWD99urxvqrCopkEYUd/2xhuW50xNRbpZ1dhgz9iWno5ZZ33/smXtC5Xa4o8/jBpLtWq5dh5HuHYNz4j6nJcrh+ffV8Kpbt/G+9U8fE43XvmKp1xeJyMD/Z2pU2FQjIy03UeqWhX9qGXLcu6bxHgcNnAwjP/ABg5/IiYG7rQvv2wcvJkv+fKhIz15MuKxuTPmO1y/jph9VZhSCMSGd+oE7Q1f8rg5fNjSSNO4sfP6F86wdKnR26VdO9c6rX/9RVS0qDzPiBH2B2mahn30/Zs2tR7G8v33cp969QxCkle/ldv+qliPrsYm4ry6t0dAgPcLx/oLu3dLjZt27XAfTCZje16zRu6fmGjMYrR8ueU54+ON2TxGjrRfBpOJ6PXX5f5Fi2LQ5ixXrxrLnT8/npOc4s8/8Zyrz327dr7lBWFP66hcOXjH3Ljh6VIyjpKWhmd68mT0j8w9ddSlZk30s1auRL+L8QvYwMEw/gMbOHyZ2FiiVasQv12nju2PcXg4Oo8TJxLt2GF9xpjxbv76y7q6f6FCGAT5Qjy7yp07RK+9RhQUJK+lWDFklcgpA01yMmbhVKPQuHGueSxt2WKc8Zs0KesZ6I8+kvtXq2a9Y3zokDS+FC5syNqQfOkKxUYijvxuWH7atWUfNnzzjTzvyy87fy2M6wwdKut+8WKsu3BBhmKUKGEc5J45IzMa5c9vfUB/44bR427qVPtl0DQIYqoeeb//7vy1ZGQQjR1rfL8MGZJz6aNNJjzvqhhkUBAMNr6ma3HqFIyX1rJV9e2L9zfjW6Smor80cSL6T+HhtvtYdetCR2nVKvTLGJ+EDRwM4z+wgcOXuHMHM4IjRhA1aGA5a6R2qtq0QWz41q3en5qPsU5KCgZNatYEfalTB6KAzqSJ9AZMJqKFCzHw068lMJDolVdytmN45gxRw4bGme716107108/SVHSgACiOXOyPmbhQvnbZcpY10u4fVsKxAYEGMunaXS0Sdt75/h5VOag9+ZNOUAsVcr3Boa+zp07MryjWDGZAeXbb+X9fvJJo/Hrl1/ku/v++63fs/PniUqXludYtCjrsnz+uTxvWBjRzz+7dk3r1xs9kxo2zNn0qLGxeP5VLZDoaFyzL3mjEUFPZN486xMOTZvifc7fY98kJQXhXBMmoH9lPtmgGs4bNEA/bc0afif7EGzgYBhLCgkh5gkhYoQQiUKI34UQDR08doLAA2W+pNjYv7MQYn/m9otCiPeEEMEulpsNHN5MXBw6m6NHw21Z7QCqS3AwUcuWmH3bvJkoKcnTJWeyw8WLRG+/TVS8uPE+BwUh7eK2bb4Tr67y99/GzCFCIM3lwYM5+7urVhkF5Zo3d10p/5tvpNdJcDDRd99lfczq1fKYQoWsi76aTMb0ox98YNh8cLzUdtjRsB2lpWd6nQwcaD/kgcl51JCiQYOwTtOInnlGrl+wwHjM7gG3SgAAIABJREFUxIlyW+fO1gfyhw5Jj4CgIGO4iy2++05mbAkKQnt1hYsXjc9qwYJ4jnKSgwfxPlDfD82aEe3dm7O/mxNoGiYXnnnG6KUmBN7r77zD2Tp8naQk9LfGjkX/S3/uzJfAQPTfRo9Gf85edi3Go7CBg2GMBAohdgohEoQQ44UQLwshjggh4oQQ9ztw/ASBB2qIEKK3svSwsm9HIYQmhNgihHhBCDFLCGESQnzhYtnZwOFNJCYSbdxI9NZb6NiZd4zUgW6zZkRjxhD9+qvvqNAzttE0uJV37Wp530uUQCjFpUueLqVrxMQQvfCC0eOodGkMxnLSUJOWZtS8EALu7/ayU9jjk0/kecLDidaty/qYHTuka3N4OP62xvvvG2f8lQHvpb//pcQQnON6VBG6cjazHWzdKo/p2NE3jV7+gKYRPfaYvBd6Ot+bN+FVIzLDRlQvCJMJhg39mIkTrZ97+3bZfiIiiHbuzLo8a9ca3ek/+cS160pNNep7CIFwOFefH0fQNGh/qN4rAQEQbPVVrYNLl/D+Vr3W9O9416547/Oz6/skJKA/NmYM0QMP2O6/BQfDyP7220S//eZ7Xph+DBs4GMbIswIPRDdlXXEhxG0hxHcOHD8h8/hiDux7RAhxUBg9Nj4QMHpUd+B4c9jA4UmSkxHLP24c0YMPEoWE2J4BaNyYaNQouDfHxXm65Iy7iI8n+uILZC4wv+/Nm6Oz76suzenpRJ99Bi0J/ZpCQojefDPnZ7EuXkT96b9boADRjz+6di5NI3r3XeO59EGsPRydgV+3Thp/qlY1uDSnpKTSkYq17/32vnnLsCE1lahGDTnwPXvWtWtj3MOZM9KoUKOG1DnasEG2m5YtjXovd+4YQ5J++cX6uVUPoMKFHRPi3LbNmJJ1/HjXB9E//GA8V4sWRP/959q5HCUuDu8J9ZtYuDDCcHw1y1dKCt7n5l5sQhDVrk305Zc8u+9PxMXhmR41Cv03Wx64ISHo/40bh/5gTmneMFnCBg6GMbJcCHFNwJNDZa5AuEpYFsdPEHigigshCgghAmzsVzNzv6Fm60tnrh/rcIklbODITVJS0PF87z1kPdDj+M2XgACi+vUxe7Z6te+k+2Qc5+RJiGyqoRNCoE307++bbtkq27YZM0YIgVluPZ1mTrJhg1FDoEED10VYTSaiYcOM3jT792d9nLmGwsKF1vc7fdooOnnkiGHzb32G3zvHnid6yQ2qqOSUKa5dG+NeJk+W92TSJLn+lVfk+smTjcccPixFZQsVst1Ov/5anqNMGQiZZsX+/cYwt2HDXNe0OH0az5F+rmLFMFud0xw/jlTK6nukXj14tvgyf/+N97x5H6BgQXwXTp70dAkZd3P7Nvpzr7+O/p0tDbWwMPQP33sP31EWhc812MDBMEZOCSF+sbJ+kMCDUieL4ydk7hef+W+CEGKJECLabL9emdubWjnHf0KIHxwusYQNHDlJWhpcij/4gKh9e8y0WvugCQFRsldfRZzzrVueLjmTE5hMcB9X3dn15b77MFD1VTdsncuXiXr1Ml5bxYoQPMxpN+yMDMyCqR3HwYNdnxFLSyPq3dt4jxwx0MTEIEuKftxHH1nfLyHBKEZopqGx8/sNlBaImfuL0eUp9W7m7O6pU3JgVLt2zoYMMI6TliY9scLDpbEiMVG2h5AQSwOZquFRt65tl/UpU+R+trLwmHPiBNqtflzv3q63l+RkhIqohvh33815jwpNg7BvxYrG90qvXnjf+DIxMTB6qfdINQivW+d7QquMY9y6Ba/CYcPwHrfVN4yIQP9x0iT0J/l9n2OwgYNhjCQIIRZYWf+4wIPSIYvjhwshZgshegohugohPhFCpAshTgp4dOi8kXm+clbO8ZcQ4s8sfqeEwEOrLp0FGzjcR3o60Z496Ih26CBn5qwtNWogxeCKFcY0goz/ERtLNGMGUaVKlu3g4YfRefdVt2ud1FSks1RTp4aHQ1siN0Rvr11DXeq/nS8fMlm4SlIS0RNPyPNVr+6YW358PATl9ONGjLBu2NE0op495X6jRhk2/3fpJp0uhkFPWmAQXd20XR73yCPyOEc0GZjcY8cOeW8efVTe+7//liKENWtaPhNvvCGP69nTdptRNTGaNnUspOHiRbRf/bj//S97z+S33+L5Ut9h16+7fj5HSUrCrLaqLxIZifeOr89yp6djckN9h+lLpUr4fnD6Uf/mxg30B4cOleGH1pb8+dG/nDIF/c30dE+X3G9gAwfjzwQKIcIdXPRQEpMQYo6Vc7UTeFCecqEcPTOPHaOsG5e5roSV/bcJaHPYY0Lm8RYLGzhcJCODaN8+ounTiTp1IoqKsv1RqloVs1//939EV696uuRMbnDwIMQ1zT13IiOJXn6Z6OhRT5fQPWzYYPRYEALiedZSoeYEW7dKMUfdeGgW6uEUd+8iDaB+vsaNHZstT03FoFadLbc1+6oKlrZrZ+ikpqab6Oe2MgPHyWGj5XFLl8rjXnzR9Wtkco4XXpD3SM2yowrJvvaa8Zj0dLQDffunn1o/t8lk9Crq0MGxwX1MDFGjRvK4Nm3Qzl3lyBHjIKxUKcd0adzB+fN4v6jvm2rVcidkJjc4cgSDXPMJkogItK1//vF0CZnc4OpV9BdffFFq9VhbChRA/3P6dPRHfX2yxIOwgYPxZ9oKG0YAK4su6pldDw5bXBVCbFL+Zg8OT2MyYdD68cdQwNdj560tlSohZeCSJb6b/YJxnrQ0uJybpzvUjVyzZmVvYOFNnD1L9NRTxmusXh3K8LmByYRZLFWtvlev7An13bhB1LChPF/bto7dL5OJqEcPeVzHjrZdif/4Q5a5XDkLD64lE+ffO8/FavWk8SM2VmZiKFGCZ3S9lVu35H2Kjpb3KT3dKDC5aZPxuBs30B6EgLfH1q3Wz5+WZgxz69nTsTAGc8Ndo0bZ8x6MjzeGowUFIRwrt0IqNm40eqYIQfT000TnzuXO7+c0d+7ge1G1quW3pFUrhLRxuELe4dIleE8NGmTdG1RfChVCJq5PPkF/lUOcHIYNHIw/U1II0d/BpWDmMdnV4LDFX0KI/crfrMGR22gaROBmzybq0sUoXGi+3HcfUb9+RIsWOSYAx/gXV6/CfVoVlhQCceqdO6Mz7i8djaQkZGVQXcWjojCDlFuu4rduGUNIwsKI5s7Nns7HhQtGT5TOnR3T79A0ouFSDJSaNbOduvnSJTn4DQtD6ILC77uO05VIvGeSQiMo5dhxuVHVP1i61PXrZHKeJUvkvRo8WK4/dUqGd5Qta2mk+usvotBQaRyxZRxPSEAqStUjxJG2n5RkTE9brRpCWFxF05D9Qy+zEAiByS0dqdRUvHdU78nwcKIJE3InNC43MJnw/ejc2VKYsnRpeAaxV2je48IF9Df79bOu4aIvRYui/zp7NvqznJLYJmzgYBgjK4T1LCrzhGNZVKwRIIS4IYT4VVlXSwi7WVTGufA7bOBQ0TSiY8eI5swhevZZy7z16lKmDFyFFyzATDZ/NPIemka0axdmUM1T/BYpQjR6tH+l79Q0iKKVL2+81r59ia5cyb1y7NljLEOlSnDNzQ7Hj8vZc/2aHI1t/vBDeVyNGkQ3b1rfLyXFOIO/YIFh86XbSfRL7bb3tt+c+ZncuHOnPK59e37feDuahvuk37Ndu+S2uXPl+h49LI+dLz14qFkz22mib940ejCYZ2ixRXo6UZ8+8rhy5dD+s8O+fcZZ5fLlYazJLa5cMV6TEEQVKuB95U/Pytmz0OtRU28Lge9Pz55oZ/50vYxjaBpSVc+fD68q84kWdSlRAv3bL77Ac8/t5R5s4GAYI90FHohuyrpiQojbQohlZvveJ2Roi05xK+ccmnnO183WHxPQ2ghS1k0UQmhCiBpOlRrkbQOHpmFGbd48dDTVOH7zJTqa6Lnn0Dk9eZI/CnmZpCSkbVRDGfSlfn0MXP1l9lDn2DGjuKUQSBuZmyKXmoZZKNWY9PTTcOXODvv2Ie2lfs7hwx33tlEHo2XL2p8NHzLE+qw+EaVlmGjGgPH3tl9rrRgx0tKkyn5YGN5ZjPdz8qTMdlOnjgwn0DTEzOttQdXp0FG9dV56yfZvXLiAdmfDaGYTkwlZu/TjihfPvpHw9m08j+qge/bs3P1W7tiBd7D6nnr0Uby//InERNxr82sVAt+lhQv97xvEOI6m4f0zdy76rdHRtvu2pUqh/ztvHr4tebhvywYOhjESJKB/ES+EeFfAOHFYCBEnhKhmtu8fAg+PSpIQYqEQYkTmsd8JGCwOCCHyme37ROa2zUKIF4QQnwqInM5zsex5z8Bx7hwGp336GDuG5kuxYkTduhF9/jnEIPPwS5/J5Px5ojfftAxVCg5GB2HnTv9rJ3FxyPCgZ4DQvVO+/DJ3xczu3sWsk1rnM2dmv763bjW6t7//vuPn/OknosBAWSf2hE0XLJC/8cADFrPys7/ZTHfCICqYUKAwssLoqOlBJ0504SIZj6EKi6rpgq9elUa1QoUsM/SkpCBLin7s11/b/o0jR+SMfmAgUjI7gqYhrE7/jQIFbOt+OIqmIeOH+r7o3h3vkdwiIwOz00WKGN8Xo0blbjlyA03Dd6dHD2OdC4Hv1Jtv5p7YM+O9aBr6sZ9/jn6tatA3X8qWRf/466/9R8/GQdjAwTCWFBZCzBdC3BQIS/lDCNHYyn5/CEsDx1dCiCMCBpE0AU2PKUKIKBu/9ZSA8SNFQHtjohAixMVy+7+B4+JFom++IerfHy6rtl7qRYpg9mnWLKJDh/xHL4HJHpoG0cwnn5SDWXXm4733cjc8I7fQNAiaqV5NAQHwQrAVgpFT/POPUUW+bFmjy7+rrFlj1BGZNcvxY7dtk8dGRNgvz99/y5n8EiUsBrNbjlyl7eXr3StH6sof5cazZ2UWnho1bIcrMN5JSooMI4mIMA4YVq2Sbe/hhy2/Of/9B88K3XNn717bv7Nrl2wn4eHOZTT59FNZjvBworVrnbpEq+zcaZxAqFqV6N9/s39eZ7h5E+8rVbeiVCnoo/ibIZoI36EJE4hKljR+pwIDIQa9aZN/XjfjPCYTnsdZs9DvNQ95UpcKFYgGDCBavDh7ej0+ABs4GMZ/8D8Dx5UrEOB7/nmiypVtv7QLFoQY2syZRAcOsEGDMRIXR/TZZ5Yq/UIQPfgg0bJl/qtgf+AAUcuWxmtu0YJo//7cL8vXXxuNEB06OJayNSuWLJGZTIKCYMxxlH/+wftDP3bdOtv7xsRIAbigIGRQUbhyJ4k+ekyGrsT16ic3ahqysejXnt3ZdcYz/PGHvIePP24cZA4cKLdZSw37+++ynZYvb7/tr10r9y1Y0DmDwuLF8tjgYPeI2MbE4HnVry8iAqETuc2+fXh/mb/DDxzI/bLkBqmp+D49+KDlt6t6dXzX/M2ThckeJhOeh5kz0S/Wv2/WlsqV0b9eutTvJnfYwMEw/oPvGziuXcPHfPBgYwYE8yUqCp3LadMwE8a5whlrHDtG9MorxrAFvXP+/PP+2ykmQuaDl14yeqqULInBT27P/CUmwutKnYWcONE9hsjZs40z1qtXO37s2bNGr5bFi23vm56OmXl9348/Nm7OMNFr476llCBoiiSUuc848Fi+XB47cKCTF8l4FQMGyHu5YoVcHxdHVLGibIvWwpxmzpTHtm9v/9v1zTdGbwVnXMxXr5aeRgEBGAhnF5MJz636ThkwAM93bqJpeFZV74bAQKKhQ3Mv44snOHAA3y3du0ftD73yiv9pkzDuISMDnodTp6LfHBlpu29drRo8pb7/nuj6dU+XPFuwgYNh/AffM3DExBCtXEn08stENWvafunmywdxscmTiXbvdjwjApP3yMiAnoKa9UBfKlZEGkJ/7gRnZEBTQ9UWCQ4mGjkS2he5zfHjEGXUyxIdTbR5c/bPq2lGTYSoKAuPCrtcv24MlZk+3f7+b74p9+3Rw2AkMpk0en/lATpcApknTIGBEEjUuXNHDsaKFcv9sCDGvcTEyOerVCmjMO727TKMokEDy1TLmgahQL0tjRlj/7emTTOGhty44Xg5f//daNydONE9xs3Nm41ZyerUITpxIvvndZa7d/FeU/UqihaFGKM/T3rcuoV2oRvT1OWRR6Db4s/Xz2SP9HT0oydPRr9aT3VtbalZE/3zlSt97rvFBg6G8R+838ARG4vB5/DhRHXr2n6phodjtnTiRAwUzDuJDGPOzZsQ/jNPeyoyQyHWrPH/Tt+uXZbZYNq3hyCZJ1i2zDhb1Lq1e9xgTSai116T5y1WzL6mgTlxcUSNGsnjR42yv//KlcbBXELCvU3JaRn00pK99FmzZ+7tkz76TePxL78sj//mGyculPFaFi2S9/SVV4zbxoyR2956y/LYhASZSUcItC97vPGG3LdxY+dCEvbuNYoQvv66ezynLl/G86yfNzISs76e4OhRS4N2o0bu0fbxZjIy8F1TQ4f0pXx5fA99bFDKeIDUVPSzJ04katfOGEZqvtSti/77Tz+hP+/FsIGDYfwH7zNw3LmDD/CIERh4qQJh6hIaStSmDUS1tm5l8T3Gcfbtg5u0+Ue5QAF8iD0xs5jbXL1K1K+fZQf3hx88I0SXkmIc1OsDPXd4XqWnG6+1XDnnXLNTUoyDoX797NfRkSPSSFOoENHp0/c23YhLoc6f7aCuvT6ijAC47afWqWs0yO7ZI997Dz3EwoD+gqYRtW2L+xoQgPusk5pKVK+eDJ1QvXl0Tp2SsfGRkfaNkCYTUd++RqOlM0b/Y8eMIqH9+7vvWVSNObqxxxPfb02DoUjXyFGf76tXc788uc2JE0gVbB6OGR6O72N20wYzeYeUFHhDTpiAfnloqPV+e0AA+vUjR0IzyBMeonZgAwfD+A+eN3DExxOtX080ejRRkyaWmSr0JSQEwodjx8LdlXO8M86QmgpRrObNrbtUzpmTN4TX0tKQxlHt1IaFEb37bu7HxeucO4dnXy9P4cLuyeRARJScjAw4+rmrViW6cMHx400mpLnUj+/Uyb647J07+A29M6cIkB6/GkctJm+mmq8tpwsFo4mEIC0sjEh9/6anE9WvL424x4+7cNGM13LsGL5lQuA+q0aDw4elBkalStbfR2vXyrZYrZr9AUJaGtqrvv9zzznniXHhgmzLQiATR3Ky48fbY80aY+aGJk08l5IyMRHvP73udWP3zJn+KyStEheH75+1kN8WLYi++449YhnnSEpCP33sWPTbzVMY60tgIJ790aMxDoiP92ix2cDBMP5D7hs4EhOJNm7E7Gzz5rZffEFBRM2aYb+NGw0u3gzjMJcvo/MaHf3/7J13eBVFF4cn9F6V3qQqgg0EOwqKioIgdsSGiuInikoTEFBURAVUUCnSBESQ3nvvnQRCh0AgkEJCerl3f98fJ8vsJLf3e3Pe59lHyZ2dOdumnDkl/8D6/PPAhg0FZ4d83TpKNWq8D889B5w54z+ZliwhKwddnlatgPPnPVN3cjJZQOh13323c0HQNI12l42TfVtKILNZVaYMH37jp00nYtHsq1Wo238Z5jR/QpYZO1at4+ef5W9Dhzp3vUxw8NVX8hmPHq3+NmaM/K1HD8vnDxumKh1sKS3S0lSl7scfO9ffXb1K341+ftu2nlMEW1JsLl3qmbpd4cwZ9fvVld/r1vlPJl+iaTQedumSf6OpalV6by9d8reUTDCSmgqsXk3WW/fdJzM25T2KFKH+6ssvgbVrfb7pwgoOhgkdvK/gyMigQXPIEEpbpu9eWdLktmxJvu0rVhSM3XTGO2gasGUL8NJL+RVoN91Eg6czu/jBTlQU8MIL6n1o3Jh2TPxFTg7t2hhl6t3bczuFcXHUn+h1P/KIGtjREb75Rp5/++32A81++60s/+yzNxaef+88j/oDl6Nu/2V4r8sgWaZdO3VxGhUlg7c1auS53XImsMjIkMFqS5dW+yKzmZQI+juyaFH+881m1TLju+9st5eQoO7OjxjhnLxJScDDD6vWFp6K05CVRUoXYz/Qv79/g4KvXKkGExaC+s+CNmYMHKjGYtEXoC+9RONrQdkYYDxPcjLN8/v2pXHaluX2Qw/R+mHDBq+PiazgYJjQwfMKjsxMGvyGDyd/Y6PZp/EICyMT3T59aBfX2cUHw+QlNRWYONFyMNqWLSlYY0FaNGZk0CLdmCKwdGkKJOdPk+NLl9QFU9mylBLVU1y8qFqqPPus8y5tEybI82vXpjptsWqVjJvRoAGQmAiTWcPXS4+ibv9lqNt/Ge7/ZBYyK1aiMhUqqHVqGtCxo2zTE1ljmMBl3TrVisrIhQsy1sbNN1Mq9Lxcu0bvmT6Wrl5tu72LF+k91tucONE5edPSVKVK06ZAdLRzddhi7lzVbe7hh/1rLZCZCYwcSf2lLlPJktSfFrQxZPp0VVmsH3feCUya5D/XRiZ0SEykdUCfPrQusBZ7r3hxWlcMH07rDA/PY1jBwTChg/sKjuxsYPt22hV6/PH8+daNR/PmtEu7cGFop91kfMuZMxS0yujqIATFMOjeXQ3mVxDQNEr7V7++ej9ee82zixJXWLuWFm26THfc4dmgridPqllxunVz3o9+/ny5o1S5sv2ApGfPyngCpUoBR44gNTMHPabtvaHcaPH1GiS1M2QumD1brWPBAvlb9+7OycsEJ6+/Lp/5woXqb7Nmyd86drS8W374sLT4qVSJ3kNbHDtG5XSLyQULnJM3O5v6EF2uunXpe/MUJ06oyukqVfzvHhIdrV6zENSvLllS8CwYdu+mdzZvAMkKFWj89aerIxNaJCRQ/9S7t5oyPu9RsiStO779ljIguRkzhxUcDBM6OK/gyMmhgW7kSEo1ZtzhyHvcdhvQqxcwbx4QG+tWx8MwCmYzmRI/80x+bX/NmqRwcybeQqhw4gTw9NPq/bjjDso05E9MJtp1MT6rHj08Gyz44EFaFOn1/+9/zqe33LRJWp2VKgXs2mW7fFqaDAoqBPDPP4hJykCHX7bcUG48MXoTro0ZJ8u88opaR3IyvbP6QpX7yoLB1atSMVarluqWqWlqcNtJkyzXMXu2LHPXXfZ303ftkkqR4sXpfXcGs1nNdlSlCnDokHN12CI9HXjnHdXS8+uvPZOm1h02b85vGfj0055V8AQLV67Q+Kr3WcZn9eyzZM3m7+fFhBaxsbSO6NUrfxwx41G6NK1LRo6kdYqTrm6s4GCY0MG+gsNkAvbtA378kRaTeVOKGY/GjYGePYE5cwpGmjXG9yQlUWDGvD7SQpDp4n//+dd/21+kpJDvujHGTYUKwLhx/r8fsbFA+/bqrsu0aZ5tY+tWadYvBAXEc3aH9eBByp4gBPmar1plu7ymkbWF3uZnnyHiUhJaf7vuhnKj+1+7kRxxTCqCa9Yk9wIjn3wi65g82TmZmeBm0iT57D/9VP0tIUEuIkuXVtINK/Tpo1r/2HvvV66UsYnKlXNeQaFp5BOvt1m+vOW0tu4wdapqDdq+vf8Vfzk5wG+/qZaCxYpR4EQ/Z3/wCzk5NN7qqY+NR6NGNE6z6zHjDWJigH/+Ad5/X830lPcoV47WLT/9RGmPTSab1bKCg2FCh/wKDrOZJjxjxgCdOuU3+89rqtmjBzBzpv9N35nQJjwc+OCD/BZDpUqRUi083N8S+gdNo4HeuJsWFga8957/FwQALXyMsjVpAhw54tk2VqxQF0Njxjhfx5kzaqadmTPtn/Pbb4pybd3haNw2ZOUN5caghUeQk5lFUeP1cmvXqnXs2yfdYR56iHc+CxpmM6VRFILeg/371d/XrJHvzv33W1ZWZmcDbdrIcuPG2W935kxZvlo119wLRo9WlZaeDlp85Ii6eKlZk9xh/U1sLPDuu6o1Ws2a1A8XNLcVnfBwGod16yDjjvoHH6ipsBnG00RHU5/Wo0d+11zjUaECrWvGjKF1Tp7xlhUcDBM6kIJj4UKarD//PPmcW+sc6tQB3nyTdl8LUkRxxj/k5FA8BEs7RA0b0iCVmOhvKf3H4cPqwkYIoHVrYO9ef0tGE/2fflLTwb3yiuezI/3zj9yNLlzYNcuQK1dkwEZHFSRbt95oV6tZEzOX7EG9AaTYqDdgGSZvPQtN09RMLJ98otZhMgEtWtBvRYsCR486LzsT/EREyHe4Zcv8u4y9e8t3yFoGlCtXpCKxSBHHLCqMCoqGDV1z6Zs6VSroihQh601PkpysuuoUKUKplANBkbBnD6W1Nva/bdp4XoEbTCQmUv/ZsGH+Mfuxx2g897dFIRP6REXRXODNN2ndYm1NU7kyrXt++w2IiEBEeDgrOBgmRCAFh7WPv2ZNCir1118UwCwQJhVM6HP1KgWNqlVLfR/DwsjccOXKgr3Tfe0apVY0plarUgWYMiUw7ktiImWGMJpx//675/uPP/6Qu6jFiuUP1OgI168Dd98tZR0wwP45ly7RrrcQ0IoVw58/zLphtXHbkJVYezQ368XevXLhettt+eON/PKLbPfLL52XnQkdBg6U78Kvv6q/pacDt94qF/j79lmuY9cuGQCyWjXg8mX77fbvL9u95x76Hpxl4ULZblgY8OefztdhC00Dxo9Xg1t27hwYym2zmfpdY+DkwoWpfw4E+fyFHiOrQ4f8MbJq16bUxoFgYciEPppGFmqTJ9N6Jm/sGMMRUakSKzgYJkRQFRxVq9Iu64QJFDyLFRqML9mzh3zILUVp/+wz4NQpf0voX8xm8tm/6SZ1Mv3pp4Ezmd63D7jlFilfvXqetyjRNFKA6W2UKeNaWtXMTKBtW1nPO+/Y7/OysoAHHrhxzl9vDLyh3Gj17VqER+f6nKelqYvSvK4HFy/KeEb163s22CoTfKSlSdPqsmXzu3zu2yeVZbfeav19MaY3fvBB+2kUNQ14+215Ttu29F04y7p1qvvgd995fv6wdy/1J3obt9xiXdnjaxITyULLaLF28820qAoEpbM/OXX1YWgpAAAgAElEQVSKxm9LWc7eeIPGfYbxFZpG65sJE2i9Y3BNjSDlBis4GCYEIAXHoEGUQo4VGoyvycwEZszIb+orBKUHmzgRSE31t5T+Z/du4N5785v8BkrsEU0jKw2jcqpTp/wBNT3RzhdfqCamrkyQTSbghRdUWR0xnTZkkFjR+pkbyo0Ov2xBTFKGLPfxx7Lub7/NX8/zz8vfV692Xn4m9Fi1Sr4TXbvm/33ECPl7796W69A08kPXy/3vf/bbzcmhVLT6OS++aDcYn0V275ZpaIUA+vb1/Jzi2jVV1mLFyJIrUOYu4eH5XSrvvbfgpSq3RGoqjeeW0n62akXzAFeUawzjDppG65/x4xHxxBOs4GCYEMH5NLEM4wkuXCCzfKNpr26R8NJLwJYtgTNp9SdXr6ppE4Ug151//w2c+5OSArz2mvoMR43yvHw5Oeq9qFnTtbgVmgZ8+KGs56GHHLOgmDZN7vTUbILGny9A3f7L0GPaHqRmGpQjq1fLuh94IP9icckS+furrzovPxO6vPKKfDeWLlV/y8lRrIewZo3lOjIyKJaHXm76dPvtpqXJYKdCUDpGV77fo0eBGjVkPT16uKYssYWmUf9itJZ47bXAyWSiadQ/53Wx7NGjYKYuz4umUdrdF19Un6Fu9TJoEFm4MYyP4SCjDBM6sIKD8R2aBmzcSLuTeSc2VapQ6kHOxkPk5FCMBmPq02LFSCkUSBYtERHSFUMIWtxs3er5djIzVauHhg2Bc+dcq2vYMFlPs2aOWZns3w+UKAEIgfhS5XHfh1NRt/8yfL30KExmw0IwIUEu8MqUyZ+dIjVVBj0rX57TaTMqMTHym69TJ/+3fvq0dAWpUYPeN0tERUlXthIlgAMH7Ld97Rp9D/q3MXy4a9dw7pwaZLJrV+/szG/ZoipTbrstsAL1pqZSf220aitfnvp1DrRJREfTuF+lSv6Njq5dab4QKIp8JuRhBQfDhA6s4GC8T0oKmRHffnt+09T77wdmzWLTVCMbN6oLDSEouGqgxSCZMUNNC/j4497ZoUxJobr1du68k7JGuMIff8h66talgKH2iI+HVrcuIARMYYXwyivfof7A5Zix87xaTtNoV1Kvf/Lk/HUZ3Wv++MO1a2BCm99/V9088jJpkvz9pZesLwDXr5eBiOvVA+Lj7bcdHU3fhbvvaEwMcMcdsp4nnvCOhcXVq2rfUKoU9UuBxKlT1H8b+/PmzYFNm/wtWeCQmUnzAGNKbaMS+s8/A8dChwlZWMHBMKEDKzgY73HyJAXANFohCAEUL06B7QIlQFygcPGimhJRCEpfumyZvyVTSU8H3n1XyhgWRlYRnjZFB2iHunVr2daDD7oeUHXePBnR/6abgBMn7J9jMsFsWEB989g7uP2rVdh43IIiZ+ZMKWenTvkXnocOScul++7j4IOMZcxm+c4XLkzvjRFNU+NQzJplva4ff5Tl2rd37Bs9flxaf4SFAf/959p1JCaqLjX33Wfd4sQdTCZg6FA1W8d775GrTiCxdKmajloI6u/ZHUNl717grbdonmC8V+XL03zi5El/S8iEKKzgYJjQgRUcjGcxm2lB/tRT+Xdi6tQBRo4E4uL8LWVgkZlJWQeM1hClSlFwykCbpJ86Bdx1l+ozbS0WgLtcuqRa/Tz9NMUKcIX166WpeOnSDgcmzfii3432l976MB74bh0iYyyk0oyKkoq8KlXyW7KYTOqi9fBh166DKRgcPmxbGXblioxfVL48xTSyRF6rIkfTEe/ZI11hihUDNmxw7TpSU9WxoFkzx9LXusLq1WqGqbvuCjyrt4wM6tdLllT7+u+/ZyvGvMTF0XxBd+kzHk89BSxfzkpixqOwgoNhQgdWcDCe4do14OefZapD49GuHbBokXd2+IOd5ctVf3Xd7NzagsWf/PefTG2qW1N4K2bK6dNqutmXX7af8tIaBw5IuYsWdVghc3X67BvtH7+pDl76aTWuJltQOJnNlNFGl3XJkvxljG4H/fq5dh1MwaJvX9uuIosXy9/btrW+2EtJAZo2lWUXLnSs/dWr6XsRgr4fR+J4WCIrS7VMq18/f2waTxEdrQZLLVfOdQsUbxIVpSqehAAaNaLxgFHJyaF3tl27/HOLBg1o3uHpbF1MgYQVHAwTOrCCg3GPw4fJHNi4IyUEBVj86CNKv8Xk5/Rp4Nln1Xt2++2u75R6k6ws4JNPVFn79gWys73T3pEjQLVqsq0PPnBdOXbqlAxgFxYG/POPQ6eFr9uJlOJkUXO9WCkM+XEB0rOsyDB6tGoan5fLl2mhJQTFNwikILFM4JKaKuNhWAtIa3QVGzPGel0nTsh3sGxZckNxhNlSyYeqVanfcgWTCejZU9ZVvTp9594gO1uNdSMEuTa4qiD1JuvX549N1bGj6/c51Dl6lOYVZcqo96xUKeD999kyjnELVnAwTOjACg7GebKzgblzgYcfzr+j0qQJ8NtvwHULZvwMLVoGDVIj65crB4wd6z2FgTtERakxMCpUoJ1jb7FjB7VhNKl3NYp+TIxqUfTrrw6dtmzbcZyuXPvGef8NHQ+z2YoM4eHSV7x+fcuB8Iy717xDyzjD0qXy3Xnllfy/JyfLd7x4cXofrbFokazrttvoXEf45RfV+sLVzD+aBgwcKOuqWBHYudO1uhxh0SI1/tN991F/FmhkZ5NySldA6c9y8GDXXfJCnevXqT9v3Dj/HOSRR2h+EojjKRPQsIKDYUIHVnAwjhMTA3z9tZqaT98Z79QJWLuWU7pZQ9No0lW7tnrv3n7b9Ywg3mbFCqBSJSlrixbA2bPea2/1ajUOyY8/ul5XUhJlW9HrGjTI7imapmHsmhNY0VgGRozo0dv6CZmZso1ChYDt2/OXWblSyvDCC65fD1Nw6dpVvkOrVuX/fds2mS3lzjttx3IYPFjW1bWr4/31l1/K8+66i74vVxk1St1591YMH4BcYVq0kO1VqkT9WiBy5QoF1zSOD7Vr07jB46plzGZ6fzp1UoPMCkHzlK+/DtzxlQk4WMHBMKEDKzgY22ga7bJ16yb9sY2TxX79gHPn/C1lYBMRocZoEAJo2dK7u5fukJOjLmiEAHr18m4QvLlz5ftVqJDlFKuOkpEBtGmjuo3YWSBk5pjw6ZyD+L6NXGBca9POtmtM//62FShpaTKOSNmyjqWkZZi8REfLGDL161MWo7wYv9cBA6zXZTKpQT9/+MExGTRNdYd59FH3AiBPmiSVMkWLUoYjb5GRQf2XsT8bNIj6uUBk505VKSMExVg5etTfkgU2Z8/SfMSolNffr27d6L6yooixASs4GCZ0YAUHY5n0dGDq1PwTLSGAu+8GpkyxPNFmJElJ5PutZ0MQAqhcmSb3gRr9PSaGFi+6vKVLkx++NzEudooVcy8ooMkEPP+8lL9zZ7sLmYTULLzwx3Z0e+kbmMJIjuy6t9hOablli9wxvOcey/79RnP8335z/ZoY5tdfVbetvGRl0XuoW9Rt3Wq9roQEqXgrVIgs7xwhJ4e+J12O5593L3D0vHmeU2o6wuzZMjOMrqRx1d3G25hMwMSJNF7o8hYpAvTp4571TEEgPR346y8125fRCnHq1MDLTsYEBKzgYJjQgRUcjMr587QzbZxY6ZOrV18lM3zeBbGN2UyTKD24pT6B/9//Ajva+8aNFEhQl7lZMyAy0rtt/vCDqkxxx1xd0yjQnNEX285E9nRsCh4ZtQEPfvAXEkqSD7xWsiRw6JD1k65fB+rVozZKlLAcSDc8nL4Z3VqHMwgx7mAy0Xuk98WWxuyjR+l9FILeT1txkA4dkoGhK1emft8R0tPV2Es9e7o3HqxZo7qljRrlel2OEBmpBvWsVo36vUAlIYGCauoKYCGoj542LXCV5IGCptF85dVXZV9s3GgYMMDx954pELCCg2HyU0EIMVEIESeESBNCbBRC3OPguecFfVCWjlMOlv3TRblZwcHQRGDdOtqdM06khKBo98OHUyYIxj779lEwO+M9fPhh2wtmf2M2A99+qz77N9/0boA7TVNdPDwRcHDIEFnfHXcAiYk2i+84HY87hq1G48/m40jVBvLcmTNtt/P227KspcClZrNMVVmokOvpNRnGyP798ht96CHLC1xjQNB33rFd399/y7L33OO4RV5iIn1f+rlffeX8tRjZsYO+f6OLjTeV6KmpwBtvqMrn774LbIXBoUP0zI3jyn330XjD2OfyZWDYMDU7l/7sO3em+Q9v3BR4WMHBMCqFhBDbhRCpQoihQoiPhBBHhRDJQohGDpzfWQjxep5jkKCPbHyesueFEActlG/louys4CjIJCcD48ZRRP28ppwPPQTMmcORyB0lLo6sB4yBzmrUAGbNCuyJU3w88PTTUuYSJci815sym0yqpUX16razPzjCb7/J+m65xa5Cbu7eC2j45XLU7bcU85q1k+d+8ontdubPl2WfeMLyomjiRFmmTx83Loph8vDpp/LdmjQp/+9mM/D447LMwoW26+vdW5Z96y3Hv/vLl6UVkxDA+PHOX4uRvKmhe/b0rtWTppFLjG7xIgTQoQP1h4GKptF4Ur26lDksjPrSuDh/SxccZGXRvCavskgImgeNH+94diEm5GAFB8OovCTog3jB8LebhRCJQojZLtY5OLfOB/L8/bwQYpmLdVqCFRwFkePHgY8/loHr9KNkSaBHD+DgQX9LGDzk5JCSyLgDWbQoBTsL9InSzp1qVpdGjbxvaZKVBbz0kmyzfn3KdOAO//4rFUs33wycPGm1qNmsYdSqSNTtvwx1+y/DV09+pFra2FLoxcRI162KFSn4Y16uXJFpbmvXtpw2lmFcJTkZqFVLvoNXr+Yvc/GifAdvusl2nInsbNXl5I8/HJfl5En63vSF9r//On89Rs6ckbFBhKD0ypZi23iSQ4eAhg1lm3XqALt2ebdNd0lOpvHFGPS7YkVanLMrnOMcPEjzHd1VSz/KlqX50fHj/paQ8TGs4GAYlblCiCuCLDmMTBDkrlLchTqPCSHOWvj7eUEKjmJCiNIu1JsXVnAUFEwmYPFi2nXOu3Nxyy3ATz/ZDqrI5GfrVjUVqRDAk08G/sRI04CxY1W/5BdesO2z7wlSU+n+6G02a+a+69PatXKiX6aMTZPtjGwTes3cf0O58WaP0TDr59aoYXshqGm0w6vLPmeO5XLduskyixa5d20MY4mFC+U79vrrlsv8848s88wzti0zYmKkVUDRouQy4ij79tF3p5+7bp1z15KXS5eoX9Blf+op77rKAdTvvfCCqqAeOzawLe8AGmfat1fHn7vush1glslPQgKlJDcq14xWekuWsOKogMAKDoZROSWEWGHh7z0EfSjNnazv7tzzRlj47bwQIl0IYcotc14I8YmT9RthBUeoEx9PgRzr1s0/eD/5JLB0KQ/eznLpkrqQ1ZVEixYF/qQ4KQno2lWdzP/6q/flvnYNeOAB1X/cXYXa3r1ycVWsmM3FVWxyJp4bt+2GcuP5IfORU7Wa44u6P/+UsnfrZrnM2rWyzHPPuXFhDGOHTp3ku2btvX/tNVlmwgTb9e3YIRWF9pR9eXFCyegQCQlqHKMHH7QbT8dtNI3ilxitIl54IfAzlmgaKbyM7kK64ovjZjmHyUTzobxKIyHo/o4aFdguTIzbsIKDYVRShRB/Wfh7B0EfypNO1vdT7nm3WfhtiRCinxDiOSHEO0KILbllf3Cg3iqCPlrj0UmwgiM0OXCAgswZfYyFAMqVozgDJ074W8LgIyuLJjn6oloIur/DhwdHytyDB/1jjh0TowYlfOIJsuZwh7zm8XPnWi164koyHvh+/Q3lxmu/b0HOAw86bpZ/8qTM9FCrluXFVkaGvLelSwMXLrh3fQxji6gomfK0USPL2YKuXZPuLKVKAadO2a7z998dd9fKixNuYg6RkqJaG955p29Suu7apbrtNWwY2AGiddLTaRwyjvdlytB45W03n1Dk+HGKT5PXjbdECZpXceDokIQVHEwoU0gIUcLBIyz3HLMQ4ncLdbUV9KF0drL9aCHEAQfLhwkhVgkhcoQQteyUHZYrT76DFRwhQlYWMHu2ulOuH02b0gQ20ONCBCqrVwNNmqj39PnngXPn/C2ZfTSNAhIWLy5l91VAvbNngQaGDCUvvABkZrpX56VLDgc43HwiFs2+WnVDufH53EMw/e9jee7bb9u2XsnJAVq3luXXr7dczpjBZfRo966PYRzh55/lO2ctk8m6darVVE6O9fo0jQKN6uXtBdzNy7hx6o63uxYEmZmqtVnDhr7pb+PjVXe0EiUoIGmgW+cBdH+ef14dp5o0ofGLcZ7kZJo3NW2af071wAPkCsYKpJCBFRxMKPOosKIEsHDcmnuOJy04Hss953Mnznky95zX7ZRjC45Q5dIlmuBWraoOwIUK0WRnw4bgmJwFImfPUho543299VZgzRp/S+YYqalA9+7qO/H9975JiRgRQebuetvvvuu+O1RiItC8uf2FHYCZu86j/sDlN5Qb4zacgjZjhjy3RQv7ljfDh8vy1jKiREZK0/a777a9iGQYT5GTQzEXRK6LVmSk5XLGzCtff227zvR0Shmrl7eXMjkvTqZqtovJRIEg9Tpr1ACOHnWvTkcwmyl1rDF19htvuG955ivWrKFxyjhudekSHAr5QETTaB7VpYv6TghB2X+GDqV5GBPUsIKDCWWqCSHecvAon3uOJ2NwTBZkEVLDiXOa5rbT24lzdDgGR7CiaRRM7OWX1WCRQlDk/IEDyYyZcY30dJq0GE1+y5alYKzBsmNz7Bhw++3qRGzTJt+0vWsXUKmSbLtvX/eVbOnpasaHnj0t1mkya/hm6dEbio3Gg1Zg2eHL5KKjR8yvXBk4f952e3v2AIULSwsoS24Amga0aSNdZfbsce8aGcYZdu+WriFt2lj+xtLT5Q504cL239Hz52W2oJIlnXPR0DQ1BfQjj7jvvqdpwBdfyDorVaLr9gUbN6rpa2+/3boiKdDIyqLgmXldKocNCw6XykAlKormVzfdpM67ihSh+djWrbyhFKSwgoNhVOYJy1lUJgrnsqgUF5Radr2T7T8r6IN81cnzhGAFR/CRlkbuBnmzdwgBtGwJTJ9ueSHGOIamAQsW5A/K2r17cAVtmz1b+ugLAbRtSylMfcG6dWrbI0e6X2dODgXu1Ovs2tWiNUhaVg7enb73hnKjxTdrsD/qGgUu1KPkFypEgRFtkZYGNG5M5YsWtZ46eepUKdPHH7t/nQzjLP/7n3wHp02zXObAAWll1KSJ/cwka9bInepbbnEuILDJpLpJdO7svlWTppHlmV5nmTLW3cU8TUwM8Nhjsu3Spal/DRYuX6ago8bxrF49Gud4Ie46GRn0vbVokX8udtdd5Nbk7QxAjEdhBQfDqLws6IN4wfC3mwQpK+bkKVtHSNeWvHTJrecdK79XEkIUzvO3okKIbUKILEHWJ87CCo5g4cwZ2sWqWFEdSIsVo8mLr3a0QpnIyPxpdO+6C9i2zd+SOU5GBvDhh+o1DB7su0w5CxbQO6lbNNjL3uAImqaaqT/6qEUl3qXEdDzz65Ybyo3Hf96ECwlpdO3G9LQ//GC/zY8+sq+giYuTO901ang/zS7DWCIpSaZ5rVyZ3ktLGBUE//uf/XpHjpTln3rKuT4kI4O+U6N7micW03/+KS1WihWjDCK+wGQCBg1S+9UPP3Q/npAv2bpVujTpR/v2gZ/WPNDRNLJYfP11NQuPEDRf++ILmr8xAQ8rOBhGpbAQYqcQIkUI8ZUQopcQIkIIkSyEaJKn7CZBH48l/hNCZArp+pKXt4QQp4UQI4UQPYUQA4UQ4bn1DXRRdlZwBDJmM7BqFfDss3JSpx81awIjRvhuVz6USU6mSYjR1adSJcquEUwpdM+cUf3nK1cGVq70XftTpshd36JFgTlzPFPvwIGqwimPIiEy5jo+n3sIjb5ccUO58frkXbiekZsFYvBg1fLD3kJr5UpZ/qGHrL8DxoCM8+Z54EIZxkXmzpXv4ttvWy5jMlHKVb3cqlW269Q01RJjyBDnZEpKUi0Nv/zSufOtMWeO7KsLFSIrKl+xYoVUagpBu/fBtHg1mShopnGjpGhRciHkAOTuc+UKzctq1lTna2FhQMeOFOzVF/GvGJdgBQfD5KeioPgZ8YLcUjYJIVpaKLdJWFZwlBNCZAgh5ttoo4WgNLHRgiw2UoQQW4UQL7oosxCs4AhMkpKAX36RJvLGo00b4L//OJChJ9A04O+/5e6nPhH54IPgy3e/cCFQvry8jvvv922q0tGjZdslS3pOsTJ2rKy3fv0bqSI1TcOmE7F4ffKuG0oN/fhywRFkm3InkYsWyfNvvdX+JD4+Xr4PZcpQkFlLbNwo633mGTb1ZvyLpqmZP6zF2jlzRsZkqF7dfj93/boarHLxYufkiomh71Y//5dfnDvfGitXyng6QgBjxnimXke4cIEy0uhtly9P/UwwERdHMYyMGyfVq1NQWe7L3Cc7m5Teenwm49G4MX0HSUn+lpLJAys4GCZ0YAVHIBERQWavxvgFQgClStFk5MgRf0sYOhw8SLvzxvt8//3A/v3+lsw5srOBzz9Xr6NPH98FQtU01XS7fHnPufTMmiXrrVoVOH0amTkm/LvnAp4YvUlRatwyYBk++Hsf9p2/Js8/fpwCwwpB/7UXHFDT1LSUU6ZYLpeZKVMGlyzJmQmYwODcObnov/VW6+4Tf/0l3/EXXrC/oI2MlN9RuXLAiRPOyXX6NFClimzTU/Ertm1TlbqDB/tucZ6VpWanEYKsALOzfdO+p9i3j8Y943U89JD1mEOM8xw5QvO3UqXU+1y6NM33eP4dMLCCg2FCB1Zw+JucHGD+fDWImX40bEg7U+6m2mMkCQlAr15qqreqVSk4a7CZjl68qJqclytHMTB8hdlM99J4H53JuGCLVaukGXrZskjavhu/rjuJFt+sVRQbtw1ZiaGLIxAVnyeYW3KyzBwhhGP3xZhCtnNn64ulr7+W5UaNcv9aGcZT/PCDfDe/+cZyGU1TU1///bf9ehcskOWbNgVSUpyT68ABqSQpWpRM9T3BoUNqevSPPvJtPz5/PvW7evsPPghER/uufU9gNtP4Z7yPhQpR3+5McFnGNteukaVjgwb553pt29I3xpa5foUVHAwTOrCCw1/ExgLffQfUrp1/sOvQgXx9g23BHciYTBSgzug/XaQI8NlnwRkccvVqNU3d3XfTTqmvyM4GXntNtl+vHnDqlGfq3r37hhWTVqwYJg2fjCaDVyiKjdbfrsMfm04jKc3Cjqmm0c60Lpsjvv/nz8uFStWq9H1a4uRJoHhxKte8efDt2DKhTXY2vZdC0Ht68qTlcrGx0qqiXDnHUoobY+G8+KLz1hIbNsgAxKVLey4w9smTatar117z7Xd56pQavPOmmygLTbCRlETjoZ4aWwgaLydMCK5YVIGO2Uzzu6efzj/3q12b5oXWxh/Gq7CCg2FCB1Zw+Jo9e4A33pATPaNpf58+nlskMpIdO9Tgm0IA7doBR4/6WzLnMZmAr75Sfad79vRtauC0NIo7YdzR9dSuZWQktFwllDksDB90HqgoNp4euwULDlxEVo4N5d+oUVK29u3tT87NZtVXetkyy+U0jd4bIej+79jh8mUyjNfYsUO+y48/bl0RsXSpLPfoo/YV6iaTmmXqxx+dl23ePNl3Va7suQwe0dHAbbdJ2Z55BkhP90zdjpCeDrz/vmw/LAwYOjQ4FQNHj8p+Tj9atAB27vS3ZKHHqVM07zO6WglB88M33qD5IuMzWMHBMKEDKzh8QWYmmb+3apVfY9+8Oe2QpKb6W8rQIyYGePNN9X7XqUNBWoMxkNrVq7Rg0a+lVCnHzMs9SVIS8PDDUoZWrTwWkDX7fBTSqsno8wOf/OiGYuPtqXuw/XQcNHvPbf166X5Ur55jsv30k6osssbMmbLcBx84d3EM40t69pTv6qxZ1ssZF+U//2y/3vh4aS1RqBB9b87yxx9qf+wp5WhcHHDvvbLuhx/2fSDHv/9WYy08/jj128GGppEyKq+F6VtvceY2b5CaSvPAZs3yzxFbt6b3KphSEgcprOBgmNCBFRze5OJFCsB4883qgFW4MJn4bt4cnAvtQCc7m3xdjb7RxYtTmsO0NPvnByJbtqjZXm67zfcWKFeuqKbYbdt6JLXg9YxsTFu6D2eq1LtR988PdUPjQSswYP4RnLrqYBtRUdJtp0QJ8vu3x+HD0pqqYUPrsQUSEuR3XLUqx8VhAptr16QLSpUq9G9LpKTImADFijkWyHr/fvq+dHcMV7I1DRsm+5FmzazL5yzJydQvGV33fK1giIhQrUlq1AC2bvWtDJ4iLY2Ct+puebpL0+jR7J7nDTSNMiC98ILqKiQEjT+DBtG8kvEKrOBgmNCBFRyeRtMohWTXrvkHqCpVaLLAA5T3WLdODS4pBNCpE6VHDEbMZgocaHyXunVzPsifu5w/DzRqJGXo3Nltt5gLCWkYvuQo7hmwEHtrygXBnFadMGbNccSnOLFjlZEBtGwp5Zsxw/45mZkyXkGhQrZNsN97T9b9zz+Oy8Uw/mL2bPnOvv++9XI7dkirpzvucGyneNo0WXfLls73BZqmBih+8EHPKZ8zMtQgqo0bOxZjxJOkpKgxigoXJte5YN3QOH0a6NhRHVebNnXNgodxjIsXab5ozECkv0tdu5IiJFjfpwCFFRwMEzqwgsNTpKRQEEtLJob33Ufm7Wxi6D2iotTAkkLQgnzFCn9L5jrXrqmTyuLFyYzV15OayEigVi3VTNmNaO8Hoq6h18z9uGXAMjT4YhHWNpBm5VHtnkFGhpMpbjUNeOcdKd9HHzl2Xt++8pwhQ6yX27pVlmvfnieVTHCgaWrMDFvpmwcPluX69XOs/o8+kue8+67z8plMap/97LOeyyKRk0P9lF53rVr20zm8YeYAACAASURBVER7Gk2jOYEx3lanTp6zVvEHK1aoim4hyBrV1wqkgkRmJrmotG6df27ZrBm9Y+zi7BFYwcEwoQMrONzl5Eng00/zB4kqXpziP3CQKO+SkUHpEEuWlPe+dGlg5MjgVijt2UMxJPRrql+fTMN9zd69araWPn1cyu5jMmtYGX4ZXX/fLoOG9luKuc1kTBGtXTvXntmECepOcJYDCpJNm2Sww5YtrZtbZ2UBt98u3V58mamGYdzl9GnpTtKsmfX3PDubAkkKQd/F5s32687KAh54QH57Eyc6L19mpupS8vbbnlMgms00Nut133QTsG+fZ+p2hv37qf/W5ahXj/rVYCUzE/j++xuZriAEjb8jRvg22HVBZM8emlcaXYaEoPnnp59ykHo3YQUHw4QOrOBwBbMZWL4ceOqp/Br12rVp8Oc0X95F04AlS9SJoxDAq696LmidP9A0YNw4ddevSxffB8sDyNWqbFkpx4gRTi8+UjNzMG37OTwyaoOSDaXhl8uxvpNhh/Wee1yL57FzJ1C0KNVRrRpw+bL9c5KSKLihPjG3lcnh+++ljN9+67x8DONvRoyQ7/DIkdbLRUZKZUjduo6lz750ib47IajP2rXLefmuX1ezXPXv73wd1tA0UoDrdZctS/2ar0lMVN1mihUDxo8PbmuwixeBV15Rx9/69Sk7D+NdYmNpbMobBFYISj+7fLlLGxEFHVZwMEzowAoOZ7h2jSLN511UC0Fp1RYu9JyJLWOdkyeBDh3U+9+8Oe3KBzPJycDLL8trKlKEgrn5YxK8eLHcJQoLo8m4E1y5noGRKyNxx7DVimKj+dBVGLkyEtdHjJTX2bCha4EAr1wBataU98qWCb4RY2adceOslztzRi74mjZ1zDKEYQKNrCwZ9LJkSeDsWetlf/tNdUVzhK1b6fsTgr5HV7JsXLlC/YDe9ujRztdhi3HjVOvKJUs8W78jaBrNH/R7JQQpCDwQqNmvbNyY3zW3QwcapxnvkpMDLFigWkHpR4MG9L4Fs0uUj2EFB8OEDqzgcITDhylImzH9m+4K0auX77NZFFRSUoCBA1XrhvLlgV9/DX7F0pEjFAzP6DO+fbt/ZJkxQwY1LVLEdprJPBy9dB19/j2Ihl8uVxQbD/+wAdO2n0NqZg7Vr19ntWq2F1zWyM4G2rRxTFFh5L//5DlPPmldeaRp9LteNlizIDAMQFmY9Hf5qaesv/dmM8WZ0cvOn+9Y/UbFSJs2rvXHZ89KaxAhPJ8Ce+ZM2a8VLuz7FNs627dLxawQQJMmjmWvCWRycmgcNrrqFitG4zXHh/ANR4/SfNToOiQEzVvff5/msYxNWMHBMKEDKziskZ0NzJ0LPPJIfs1448Y0mPvDbaAgommUucI4KQwLA3r08H0KQG8wdaoaQ+TJJ4G4OP/I8ssvUo4SJYBly+yeYjZr2BB5Fa9N2qkoNer2X4auv2/HyvAYmMy5C6oVK+QOZvnyrk+6+vSRcr7xhmNWLpcvA5Uq0TmVKpF5vTXmzJH19+jhmowME0gYA/H++6/1ctHRQMWKVK5yZcfcvjQN6N5d1v/ZZ67JeOiQTO9dpIjng0QvXSqtsoSgcdwfxMaqCtSSJSkzTbBz9Sr1l8b5Uq1a1J8GsztOMJGURO+1ccNEPx55hOa1nOLXIqzgYJjQgRUceYmJAb7+mnLXGweGsDCKgL5mDfs2+pIjR9SdeiGAe+8Fdu/2t2Tuk5amLjoKFSJ/cX+8X5oGDB0qZSlXjnZ9bZCRbcI/u6PQ7udNilLjlgHL0GvmfhyIymMau3OntIIqXtyxQIaWMKa/vOsuID3dseszxsyZN8962cREuZN8881AQoJrcjJMIBEfLwMGV6tmW0E/d67q0+/I4jQtjb5H/TxX0ylv3izd40qVci2uh736dSWKEMCwYf5ZfJvNNNfQgx3rylRH+rNAZ/duGqeN4/ajjwa/pUowYTYDq1dTJjbjO6a7kn3zjWvuZCEMKzgYJnRgBQdAk5udO4Fu3WTAQv2oWJHSSbpiRs+4TmIi8PHH0qRYX2z+9VdoKJhOnKC4Ifq1VakCrF/vH1nMZrrXxvt84IDV4vEpmRiz9gTu+XqNothoOmQlhi85igsJaflPOnZMWk8UKgQsWuSarIcPS2uXSpUc/y5//11eX/futst++KEsO2OGa3IyTCAyfbp8t3v1sl329ddl2T/+cKz+s2el9UepUq4vaBcupH5C/86PHXOtHmvs30/9nH59vXv7b1xZt476f12WO+4IjfgVZjMwebJ6nwsXpnudmOhv6QoWZ8/SPFb/NvWjaFGa9+7cyRY2YAUHw4QSBVvBkZFB7gF6ejzjcdddtJhOs7BYY7yH2Uz3PZQnRXPnqtlJHnnEMTNwb5CdrZqW16lDyhcLnLqaggHzj6DxoBWKYuO+79ZhwubTSEq3YvZ64QKZKettTJrkmqzXrlHgNN2iavVqx847cUIqRerUsb1zvWuX3O1q25YnfUxooWnAY4/Jb8iWJVxioszSUKqU1X4hH6tWyW+oQQPX++1Jk2SfUbs29SOe5PhxNQvFG2/4L5bTpUuqO2zZsjROhAKJiTR+h+pmRTCRlkZKpzvvzD/nbdmS3KQKcKpfVnAwTOhQMBUc588DAwaQf7Gxgy9ShKKab9vGCxt/sHs30KpV6Jq1ZmWplhJC0Hvor0l1ejqZr+qy3HprvkWEpmnYfioOb0/dky++xjO/bsGig9HINtmYpMbHywwOQrieatVsVjPnOFpPdrY0lQ4Ls50iMjubdk+FoAB5ji7oGCaYOH5cBmq+807b/c+GDfKba9XK8b7KmJr2mWdcX8ga62na1PPuYhcuUJBPvY1Onfy3wMvJoRS5xvHh449DJ3uTJXfTVq2APXv8LVnBQ9NonvvKK2pWHyFoXjxgAM2TCxis4GCY0KHgKDg0jUxBO3eWpq/6Ua0a+eH6axe9oGMpMFnNmqEVmOz8eVV5U7GiQwE8vcb16+pks0ULCnwHIDUzBzvPxOOPTafx9Ngt+RQbPabtwc4z8dDsPZvUVOC++1QzcFefpzE+SOfOji+YjOd9/rntsj/+KMsOH+6anAwTDAwbJt/1n36yXfazz9R4FY5gNgPPPef8eXnRNFUpfP/9nreqjI0F7rlHVapfv+7ZNpxh6VLVlaBVq9BZbGoajeuWAobnjj+Mj7l8mcZJYwYj3ZW0c2dynQ2VeZgdWMHBMKFD6Cs4kpOB8ePVXWT9ePBBGmxDZYck2MjJoawdllLLpaT4WzrPEWgT1thYxS0r9f4HMWd9OPrOO4T2ozfjlgHL8ik1Gg9agS8XHMHpWAefS3Y2BSfUr/nVV13fxV26VNbTuLHji49du6RZdPPmtndmz5+XAVCbNAEyM12TlWGCgcxMmWWhVCnb/VFGBtCsmXQXdDTAc1KSmslh6VLXZDWbaadZr6dDB89ngcir8G3Z0n+ZrADg3Dk1SKe/FeKeJiWFrASMMc8qVAiNlO/BSlYWBQZ+8MH8c+XbbqN5dHKyv6X0KqzgYJjQIXQVHMeP086PMdaBEJQirkcPm0EUGR+waZMaZFOfuIZCcDUdaybHflo8a5qG6MMnkHxLwxvyrG/UGo0/m59PoaEfD3y/Hr+sO4mEVCeUgGazGtejfXvXlYgnT0oFWJkywNGjjp2Xmgo0aiSVZrbS0Woa8OyzUt4NG1yTlWGCCaP7SceOtndpDx2Si9FGjej7coSjR4HSpem88uWBU6dckzUrC3jiCSnvG294Pn6DAy57PiUzM7BcGr3ByZOqIlxXRm/a5G/JCjYHDtA82ZhSWQjKPtS7N82vQxBWcDBM6BBaCg6TCViyRJ0I6Ue9emSCzikf/cvFi+punBAUiM7V3b1AJQCCxiWkZmHD8asYs/YE3pqyG8/1noLosjJ463+3P4YGXyy6ocxo9tUqdJu0C6NWRWJ1RAyuXHfRF/3zz+V133uv69Y4qaly51gI4L//HD/XmAll1CjbZefPl2XffNM1WRkmGHnjDfnuL1hgu+wPP8iy9jKwGJk3T57XrJnjypG8JCeTZYVe1xdfuFaPLbKz1ewxNoIu+4x//yXlri5Tmzah5U6raTRvq19fnRe88grNFxj/ER9P42e9evnn1O3b03MzmfwtpcdgBQfDhA6hoeCw1wkvXRpSnXBQkpkJfP+93M0TgjJbjBgRelG716/Pn/bPy5PkjGwT9p1PwOStZ/Hx7AN4+IcNiiVGhzfHIq6UdAWa3rIjnvtlM4YsCsd/+y7i1NUUmM0e8LMdNUp1J3HVr1rTVEVY//6On7tihTzvkUdsf/vXrwM1alDZSpX8a5bOML4mNlamb65Z07YJuskEPPyw/LZWrHC8nX79VHc1V336Y2NVt5cff3StHls4mTbbJwRSWnFvkZFB8wE945UQNF/4/nt2GfQ3+uZh+/aWNw9HjQqJzUNWcDBM6BDcCg5rZnRly4a0GV3QsXy5dBfQjxdfBKKi/C2ZZzGbga+/VoPY9uhBps8exGTWcOJKMv7dewFfLjiCDr9sQYOBy626mbz42kiklJCKpct9+iMz2wtmztOmyeuuUcO9OCOjR8u6Hn/ccbPsuDgZLK1sWfJlt0Xv3rKdKVNcl5dhgpW//pLfwCef2C577px0+6xWjTYXHCEnB2jXTrYzZozr8p47J5WSQgDTp7telzU0TQ1QXK4csGWL59txhrQ04J13pEyFCgHffBN6qVajomh+YJwvNGrknEKN8R7Hj9O4ac39++BBf0voMqzgYJjQIfgUHLYCITVtCvz+e8gHQgoaTp9WfZr1ZxRqO08A7Sw++aRqnTJtmtvVapqGy0npWBl+Gd+tOIaXJ+xA0yErrSoz6vZfhhbfrEGPaXvw67qTCJ8wC5pRAfjLLx64WAssXSoDelaoAISHu17Xxo2yrjp1HLeq0DTg+efltdq7/3v3SmXUI48UmEjxDKOgadIyo1AhYN8+2+WnTpXfWNeujn83sbH0PQtB37c7cRaOHKF+Rq/LWwE4x45VF3DLl3unHWeYOlW1cnjyydC0PFu3juYLxvlDx440r2D8j70A/v/8E3QB/FnBwTChQ/AoOGylsurShQKm8QIlMEhLAwYPBooXV3fAxozxfPT7QGD7djXtXZMmNAF3gesZ2dh2Kg7jNpzCu9P34t4Ra20qM24dvBIv/rkD3y4/huVHLiM6MV2mb501S+a4L1wYmDHDgxdtYPt2OeEuUQLYutX1ui5eJJNwIej9sbfYMmK0ILG38MrJkakhixYFjh1zXWaGCXaOHpVBRFu0sO3W5awi0cjevXJcqFLFvRgLW7dK682SJakf8gbTp0uFa5EiwOzZ3mnHGY4cUV11atUCduzwt1SeJzubrPnKlZPXWrw4MGSI59MFM66habRp1aWLar0qBFC9OqWIDpKYMazgYJjQIbAVHJoGbNtGvvj6Qk0/brqJ0omGmptDMKNpFFCudm31Wb31FnDlir+l8zyaBvz8s/puvvyywxZEWTlmHL6YiOk7zqHPvwfR9qeNNpUZ9Qcux1Njt2DA/MOYsycKkTHXkWOyYp48fjwQFiYnhEuWePDCDUREyBS4hQu7105mJqXQ1e/l1KmOn5vXdN7ejqZxZ3bwYNdlZphQYdAgxy294uKAqlUddwUzMmWKbKd1a/fiKyxeLJUPFStSf+QNFi+WipmwMLIU9TfJyTTe6PeySBFSBoTiRk9MDM0jjPOKOnVovhGK1xusREVRpp/KldVnVaQIzeO3bQvo58UKDoYJHQJTwZGeDkyeDNx1V37TtxYtaMco1AJTBjtHjwJt2+Z/Vjt3+lsy75CYCHTuLK+1WDFSKlgYvDNzTIhOTMeBqGtYcOAihi6OwHPjtqHRlytsKjQeHLkevWbtx6QtZ7DnXALSshyIQ6Fp5Jety1W2LLl8eIOoKNVyxd0YFu+/L+v68EPHz3M2+OHFizIrQYMGHo+RwjBBSXo6fQ9C0Pdhz7pi+XL5zdkL5puXDz6Q5/bs6Z7cxhgiNWt6b9NjwwY1m8mIEf5frGkaMG6ctL4RgnbSExP9K5e32LGD5hXGeUa7do6nD2d8Q0YGzdPzPishgLvvpm82AMddVnAwTOgQWAqOs2eBvn1lVHf9KFqUUrft2uX/CQWjkpQE9OmjWjFUrgxMnBi6mWv274dmSGmXUasONsxchgmbT2PEsqPo/c8BvDpxJx7/eRPuGLbaphJDP+4cvhpv/LUbP685gfWRVxCX4sKuptlMz8Jo5eSMi4czxMWRK47e1siR7tU3aZKs6777nPPdNWZucUQx0qWLLL9mjesyM0yosXq1/Daef95+eaOiwpmMJpmZ9J3r506e7LrMAGXa0Ou69VbvxaTYu1fdnf7ss8CYk+zZo2aRq1/f/5lfvIXJBEyYoD6HIkVo7EtK8rd0jBFNo3n766+rSjghaJ7fty/N+wMEVnAwTOjgfwWH2UyTqo4dpUm9cTdmxIjQdG8Idsxm0tDrZspCkP/lRx8FdbqwjGwTLiSkYX/UNayKiMGMnefx85oTGDD/CHpM3Y3xL3+BzCJyoF7TsDWafzLHISWGfjQatAJdxm/DsCURWHQwGufiUmXcDFfJyVFNeGvVAiIjPXNT8pKSorqS9Onj3iR/926ygBGC3qfoaMfPPXRITpwaNQJSU22XX7xYyv3aa67LzDChyquvym/EnstZairQsKG0Yjt82PF2oqNlOu3ixWmR7iqaBnz6qer6Yq8vcJVjx6h/1dt6+23Hszx5k2vX1KDexYsDf/4ZGAoYb5CQAPTqpcZ9qFqV5iWhllkmFLhyhaxLjVafustXx4602eDn58YKDoZRqS6EGCmE2CiESBH0cTzqZB01hRBzhRBJQohkIcRiIUR9K2U7CSEOCCEyhRAXhBDDhRBFnBU6F/8pOK5fJz9fY6As/WjThnwrQzEgZSiwb5+6+yYE8NBDtNgMQMxmDQmpWTgek4wtJ2Mxf/9F/LnpNL5eehQfzz6AVybsRNufNqL50FVWlRK39ZmHhU3b3LjenLBC+PbRt1G331KlXONBK/DQD+vRZfw29JyxD4MXhuOXdSfxz+4orDt2BRGXkpCV4+FBPCNDdZdp3Nh7ZtpZWWq2mNdfd29ScvWqXCwUKeJcKsaMDKBZMzq3cGFSlNgiJUXGh6lQgRWnDGOJmBiZoaROHfuKgl27ZByM5s2dcx/dvFmeW7s2ZVpxFbMZ6NZN9k1PPeW9OcT582rq8y5dAsNt1mwmizb9ngpB9yQlxd+SeY+DB2n+YZyP3H8/sH+/vyVjLJGdTfP7Nm3yz/2bNAF+/ZXWB36AFRwMo/KooA/ipBBih3BewVEm99yrQoh+Qog+ghQXF4UQlfOUfVoIoQkhNggh3hNC/CqEMAsh/nBRdt8rOI4eJa270ZdVCKBUKfLFdTH7BOMD4uIoToLR0qZ6dcrW4cNdIk3TkJVjRlJaNi4kpGHf+WtYGR6DGTvO4efVxzFg/mG8M3UPOv62Ffd9tw4NBi53ysIi79Gux+84c3OdG9ecVPFmzBg1A5O3nsXiQ5ew80w8Tsem4HpGtvuWGM6SnKzGPrn7blIaeAOzmawePLWAyMkBHntM1udsCtvPP5fnDhvmXPkJE1yTmWEKAn/+Kb+VL76wX37oUOfKGzEG/G3b1j1riLwK2G7dvLcrfPWqGiesXbvASVG/ZQuNzbpst90W2nEqNA2YOVO95rAwmlPGx/tbOsYaR47QMypVSl0PlClD6wQfZzdjBQfDqJQVQlTK/f8XhPMKjn6559xr+NutQgiTEOK7PGWPCiEOCdViY4QgpcetTrSp4xsFR04OsHBh/iCUQpB565gxoRsUKxQwmSiApp4tQwhyC+jXz+qETldAXE5Kx5nYFIRHJ2HPuQRsPhGLleExWHDgImbtisKkLWfw67qT+GFlJIYujkC/eYfx8ewD6DFtL16btBNdxm/Dk2M245FRG3DviLVo9tUq1HdTYaEfTQavwMM/bMDzv29Hzxn7MGRROH7NtbZYH3kFRy4mIfHPv6AZB9/HH/eeAsFZ4uOBe++Vsj38sPd8kL1hAv7FF+pCxBnl0IYNUtHWqpV9RcvBg3JX84EH/G4KyzABjdlMu+C6dZQ967zsbNkXhYU5F9hY01TFad++bonucRc6WyQlqdYDrVoFzoL66lVSuhg3kf7+299SeZfkZHp/jPEeKlakrDehGhMsFLh2jTIA6UGOjUe7drR+8IEbGCs4GMY6rig49uQeeVkthDht+HfT3Lp75SlXI/fvg51oU8e7Co64OAr+VadO/k6rQwfKdsALDa9gMmvIzDEhNTMHSWnZiE/JxJXrGbh4LQ3n41Nx6moKjsckIzw6CQcvJGLf+QTsPBN/QwGx8EA0Zu2KwpJx/yK2wa3KszvW/D58+f08dJu064YCoo1BAeGuxYQ7R70By9DimzV4csxmdP9rNz779xC+XxGJv7aexZJca4szsSlItmdtkZEBvPeeuhs0dGjgTJKio4GmTaV8zzwDpKV5r728QfzcncT/+6+s7847nZM9KUm6mpQsCZw4Ybu8ySQXPEWKAOHh7snOMAWBI0dk8OjWre33fceP0/eou7Y4o2xNTQXuuEP2CXPnuie7p4Mg2yItjeYzeltNmzoXR8ibmEzAV1+pVpfvvx8Y7jTeJDISaN9enXPedRewdau/JWNsYTbTuuDpp/OvGerUoXmItwIIgxUcDGMLZxUchQTF0vjdwm/f5NZVNvff3XL/3cpC2YtCiPnOCJqLUwoOTdNgNmswmTXkmMzINpmRlUNHZo4JGdm5x45dyOneHZqeNz730MqXR+bHnyD5yDEkpmXhWmoWElKzEJ+SifiUTMSlZCI2ORNXkzNw9XoGrlzPQExSBi4npeNSIh3Riem4kJCGqPg0nItLxZnYFJy6moKTV5JxPCYZxy5fR8SlJIRHJ+HwxUQcvJCI/VHXsO98AvacS8CuM/HYcToe20/FYevJOGw+EYuNx69iQ+RVrDt2BWuOXsGqiBisDL+M5UcuY+nhS1h86BIWHYzGggMX8d++i5i79wL+3XMB/+yOwqxdUfh753nM2HEO07afw5RtZzF561lM2nIGEzafxviNp/DrupP4ec0J/LAyEt8tP4bhS45iyKJwDFxwBH3nHUKffw/i49kH8OHMfXhv+l68PXUPXp+8C69O3IkX/9iBLuO3oeNvW/HU2C14YvQmPPbjRjz0w3rc/906tByxFncNX41mQ1fh1sEr0ejLFag3wH1Fwb29pmNB00eV53ehfFW812VQvrgTnjgaDFyOZkNX4d4Ra9Fm1AY8NXYLuozfhm6TduHd6Xvx8ewD6P/fYQxbEoEfVkbit/UnMXnrWczZE4UNkVcRHp2EK9czkGPygMLs1CnV9PimmygQbqBw6hRQt66U77XXvBuvxpiGsVYt9+N7hIcDpUtTfRUqAKdPO3f+669LeX7/3X75ceNk+f79XZOZYQoi/frJb2f8ePvlx4+X5bt3d66t06dl7I/SpQF3N148ncbaFtnZanDWevWonw4UVq+mccy42He23w02NI12/o3ZZYSg8ePyZX9Lx9jj1CmyvipfXn1+xYtTQHUvZIhjBQfDWMdZBcdNueWHWPitV+5vTXL//UXuv2tbKLtHCLHTTltVBH20xqOTEAJ13v8Djb5cgYZfLkeDgctRf+By3DKAdsMdXSw3+nwhej/7OQ5Ub6J2RkLg2M31MODJ/+HWPv/5bWefD8eOhl8sxLePvo2UYiVvPL+MIsUw+uFuaDFw8Q0FxJNjNt9QQPSYJhUQQxdLBcSkLWcwa1cUFh6IxsrwGGw+EYu95xIQHp2EM7EpiEnKQFJatueDbrrD/PlAuXLy/X3wwcDZjQPIVNyYueajj7xrBbV4sYxSX7Gi+37ciYkyOF9YGO3WOIPR8uPpp+2bnl+6JJ9nvXretXJhmFAjNVUuEMuVs78w1DSKzeOqJcby5dLaoFEj913uIiKka2XhwvazwriD2UxxA/Rrr1rVuawy3ubiRRrPdPnKlaPxLtRJT6cYTSVKqDEefvzRuXTkjH9ITaWYWXpAceNx330UeyUz0yNNsYKDCWUKCSFKOHiEWTjfWQVH7dzy/Sz89k7ub3fl/ntI7r+rWCi7RVBsDlsMyz0/31H9nfEuL4hbfzgNv9z/MmJLVVA6npywQlja5CG8+NpIr+z4B+PRYOByNB60Ard/tQp3Dl+NFt+sQetv1+HBkevRZtQGtPt5E54csxnP/LoFz43bhq6/b8fLE3bg9cm78OaU3egxbS8++HsfPpq1H5/OOYjP5x7CgPmHMXhhOIYujsCIZUcxcmUkflp9HGPXnsS4Dafw56bTmLz1LKZtP4eZu87j3z0X8N++i1h0MBrLDl/GqogYrI+8gk0nYhExZS7S6zdUnmP2c52RdeqM74Nn+pqsLDXGhBAUIyKQMvls26buZgwZ4t3grlu3yklhyZLAjh3u1Wc2q2kMv/7aufOjo+VipXJlx3bhXnpJtuesMoVhGFI66N/Qyy/bL3/5MlCpEpWvVImUjM4wfLhsr1Mn9xW427dL15kSJbzrpqBpwODBUv4KFaj9QCE7W419JATtkheEhf65c5TtxnjtTZoElnUmYx1NAzZtAl54Qc0SJASlmx482O3NKFZwMKHMo8KKEsDCYSmoZ1BacHzyx2J8vyISI1dG4oeVkRi1KhI/rjqOn1Yfx8/6seYERq85gTFrT2DsmhOYN3oWTj7yNMyF1I4mrWJl7O3+EWbM3Yo/N53GhM2nMXHzGUzaIo/JW8/ir61nMWXbWUzdRovv6TvomLHjHGbsPI+/d57HzF3nMWtXFGbvjsI/u6MwZw8dc/fSIn3BAVqoLz50CUsPX8LyI5exMpwW7WuOXsG6Y1ewIfIqNh6/is0nYrH1ZBy2n4rDjtPx2HUmHnvOJWDf+QTsj7qGPXXFvAAAFmFJREFUgxcScfhiIsKjkxBxKQnHLl/H8ZhknLySjFNXU3AmNgXn4lIRFZ+GCwlpiE5Mx+WkdFy5noGryRmIS8lEQmoWEtOykJSejeSMbKRm5iAj24QckzmwFQRnz6ppRkVunIU1a/wtmW+IilLT3laoACxa5G+pVFaulJN0ISgglzc5ckQqUwoXBpYtc7/Or7+W8nfs6NzCRdNUn2pHdh5XrJDlX3rJdbkZpqDz4ovyW1q50n75//6T5Z980jlFrNkMPPusPP+bb1yXW2fZMrkoqlDB+9nafv5Zyl+yJLBqlXfbc5ZFi1Rl+f33Axcu+Fsq37B6tRqfRQhSfJw752/JGEe5eJEUGlWqqM+xcGHqqzZvdmnzhxUcTChTTQjxloNHeQvnh3QMjhumYs2be91UjPEBbLpJi2B9t1EIoEULUvgEEnPmyKjwhQoBU6d6t71z59R0e9Onu1/nihXumZ7/9puU58037ZdPS3POtJ5hGOsYXb1uucUxV6833pDf7LhxzrWXmEgZ1kSuK5sjShV7TJsm5alRAzh/3v06bTFlinTvK1qU3OsCiTNngHvukfekcmXP3OdgICuL5jllysjrL1GC5kPp6f6WjnGUzExadxg3qPSjeXNarziR7Y0VHAxjHVeyqOwVlrOorBFCnDH8+/bcuq1lUbFkBWIPxxQctoL9vPkmsHeve50U41s0DViwIH/wre7dC85CMCcHGDRIvf5evQIvuvyff0rFQLFiFDTNm8TGAo0by3vy44/u15k3eKCzWUwiI6USrm5dx5Qj/fvLa3AkOCLDMLYxBusdMMB++aQkmUGtZEn6jp0hPJxSmwpBrmlnzrgmt5FRo+Q1NG5M/Z03WbCA+m1dUTNhgnfbc5aMDODDD+U9CQujnfFAyRbmbS5dUoNWC0HzooULvev+yXievXtpPZInuQEqVAA++8yhoLqs4GAY69hTcNQR+V1b+uee09LwtyZCCJMQYmSespGCYm0UNvztGyGEJoS4zQV5rSs49HRNHTqoKcaEoBSN33/v/ckB43mspU/bts3fkvmOmBjg0Ufl9ZcuDcye7W+pVDRNTc1apgywbp1320xOBlq2lG1+8YX7daalqekfnd3FzM4mqxp98r1pk/1zwsNlestWrQrOZJ1hvInJBNx7L31XjqZb3rRJzh9atnQ+ptGcObLvcDadtDU+/1zWee+9QEqK+3XaYt06mTVKCO+mrHWVWbNUGR97jMbJgsLWrWrmNCFonnT8uL8lY5wlNpbmTnoqeaPyrkMHWtdYcY9lBQfD5Gdw7vGPoI/jL8PfjGzK/d1IWSHEaSHEVSFEXyHEp0KIC0KIS0KIm/OUfVaQMmO9EOI9IcQvQgizEGKii3LnV3AkJpJ/f4MG+U2+2rUjzXZOjo96KsZjJCcDffvKhZ++K/b77wVrAbhxI1CtmrwHt9/u/M6it9E0ela6jJUqAbt3e7fNrCzg8cdlm2+84X5wP02jFLbuKEyGDJHn9+1rv7zZDDzwgPTHPXjQ+TYZhrHMgQPS7eLBBx3rI4xBLb/6yvk2jQqJbt3c31k3m8laUa/ziSe875K5e7fqCtmvX+BZCERG0nioy1itmmMK5VDBZKL5kB7IWnct6tuX5k9McJGTQxZUbdvmX8s0bEjrnMRE5RRWcDBMfmDjMLLJwt+EEKKWEGKeEOK6ECJFCLFUCNHQSludhRAHBcXuuCjIgqOoi3JLBceRI8D770uTUOPudq9e7qeHZPyDppGPojGmQlgY0LMnEBfnb+l8h9kMfPutnJzri3gn/DN9gskE9Oih+op7+9szm4FXXpFtPvOMZ7LH/PKLuiPorGJ05075vO64w7H4PhMmyDY//9w1uRmGsc5nn8lvbOJE++UzM2XcrsKF6bt2hpwc1eLu119dk9tIdjbt5up1vvqqd9NtA5SytkYN2ea77wbe5kJqqho7pVAh4LvvvH9vAom4OJofGS2Xq1eneVSgKaUYxzh6lNYxRislIWi907PnjaDDrOBgmNCBFBxGs3T9aNyYJhLu5qFn/MfBg8BDD6nP9f77gf37/S2Zb4mPVyezJUoAkycH3mQlM5NSoBl3Gbwd2V3TgI8/Vt8PT5iBb94srYVq13benS0lRVqRFSvmWNaDK1dkrI/atb1ves4wBZGUFGn+XaECfXf2OHxYxqJo2ND5b/PqVaBWLekes2WLa7IbSU1VgxP27u39MeHsWdU69sUXAy8wu6YBkyapsQw6dKBxtCCxbx+Nh8b508MPA4cO+VsyxlWSkmhdY4wzph9t2iBi9GhWcDBMiEAKDuPOfqdOlB60IGnsQ42EBNJWG60VqlalbBgF7bnu2iUD3emT60CcoKSkkKm0Lucdd/jGB3rECNlm06b07rhLdDS9b7pyYs8e5+t4/30p108/OXaO0R1myRLn22QYxjEWL1bdRhzhxx/lOT17Ot/m7t1SSVK1KgWIdJf4eOC226Rc337rfp32iIlR4xK1bx94loQAbZDomWyEoHF01y5/S+VbzGaaN+njmW7V8tFHnhkrGf9gNlO64I4dFUudCGl5zwoOhglySMFRrhz5GQZaekzGOUwmMtGvXFkOxkWKkElxQbPE0TRg7FiZXlUIso64ft3fkuUnIUHdSXzwwXy+oV5h4kTZZu3alFveXTIz1WuZPNn5OpYulec/+qhjSrk1a+Q5Xbo43ybDMM7RubP85tautV/eZALatJHnLFvmfJuTJqnWZp6InXHhgrQOEYLa8DbXrslYQfq1BOKCOSkJ6NpVjUnxyy+BZ/3obZKSKJNg4cLyXlSuTGNooLkZMc5x9iytfypWZAUHw4QQpODgNK/Bz44dMtuEfrRrVzBjpwTTpOzyZaBZMynrU095xkXEHgsWSAufSpWAY8c8U68x5eD77zt/fmwsUKUKnV+uHHD+vP1z0tOl2XeZMp5R1DAMY5sLF+h70y3jHEmxff48ULastMJwJRPbe+/JPqZXL+fPt8SxYzIIaKFC3k/HDZDVxlNPyWtp1iww07TrmwXGAOWBulngbY4epXmVcZ7VooXzcWWYwCMtDRHDh7OCg2FCBOtpYpng4MoV4K231AG3dm3gv/8Cc0HvbYLJrPbMGaB+fSnryy97P5o/QJHxdf/qUqU8d3+mTJHX0qqV877lmqbuCs+Y4dh5gwfLc8aOdV5uhmFcY8wY+e0NGeLYOdOny3M6d3Z+nMrMpP5Fr2PqVKfFtsjOnTLIevHiFEfI22RlAS+9JK+lfn0aFwKRnTvV1JuB6u7pbTQNmDcvfxrSt95yLB4NE7BwkFGGCR1YwRGsZGdTmqty5eQAW7w4TTJ9YQEQaARbYLQjR9TMNj17+sbU9dAh+c4UKQKsXOmZevftk/f+5ptds6L46y81+J4jC59jx6QbUosWbC7MML4kJwe45x5pKedIym1NU4MpT5nifLsXLlA/o497ngqcvWKFtFQoX56Co3obk0mNOVS9OhAe7v12XSE+Hnj6aSlroAbs9gWpqaRcN845ypUjpZ8nspAxPocVHAwTOrCCIxhZv54CQhp3Dzp1CtydH2+Tmgp0764GAQvk1HY7dwIVK0p5Bw70zQTxzBmgWjXZ7syZnqk3Lk4Gci1cGNi40TXZdHP36tUdU0xpGvDII/KZ79vnfLsMw7jH3r3S3a1NG8f6svh4qeAtU8a1+F8bNsiYCHXrei7t+d9/yz6yWjXfxCbTNGDAANluxYqB6/ZgNtP4Gugp133F6dMUrNI4H7v9dpqnMUEFKzgYJnRgBUcwERVFO9vGgbRRI9p1KqgcO0aTCeOEdNMmf0tlnTVrpBm0EJRZwBdcvaq67owe7Zl6c3JUn2RX6jWZKLCqXseqVY6dZ3SJ+eQT59tlGMYz9O7tvMvIypXynIcecs366uefZR2PP+45Cy5jvQ0bUv/pC0aNku2WLk3jRaCycaOaXeT22x2z4AlVli9Xx1jdEvHCBX9LxjgIKzgYJnRgBUcwkJFB6TxLllQnP99/73ycg1Bi9my6D/o9eewx36RWdZV586Q7RaFCrmUYcYXr16UZuRBA//6eq7t/f1nvK6+4Zony/feyjo8+cuyc2FgZFLBmTSA52fl2GYbxDNevAzVq0PdYubLj1hS9eslvf+RI59vVNIpdpNcxYIDzdVijXz81kKSv+phJk6R1RNGiFE8rUImJoUxXxnnJ7Nn+lsp/ZGbSeGbcxChViuZvjgThZfwKKzgYJnS4WwiBRYsWISIigo9APMaNQ0StWogQQh5PP42Idev8L5u/jgMHEPHyy+o9ef99RBw+7H/ZrB3DhyMiLIxkLVIEEaNH++5etWol71PnzogID/dM3WPGyHobNkTEnj3O1zFvHt0PIRBRty4i9u517LxOnWTbY8b4//nywUdBP4z9wXPPOXbO3r303ev94rx5zre7Zw/1P57uD8LD6Tr0elu3pv7UF/dy9GjZL4aF0fjh7+dr7Th0iMZf43j88su+u1eBeKxbR/M04z2pXZvmc/6WjQ+rx6JFi3QFx91+XpsxDOMm3YW4kfeZDz744IMPPvjggw8++OCjoB7dBcMwQU1rQR9zV0EmWXwE3tEp9xl1CgBZ+ODnE4wHP6PAP/gZBfbBzyfwD35GgX3w8wn8o2vuM2otGIYJam4X9DHf7m9BGKvwMwps+PkEPvyMAh9+RoENP5/Ah59RYMPPJ/DhZ8QwIQJ/zIEPP6PAhp9P4MPPKPDhZxTY8PMJfPgZBTb8fAIffkYMEyLwxxz48DMKbPj5BD78jAIffkaBDT+fwIefUWDDzyfw4WfEMCECf8yBDz+jwIafT+DDzyjw4WcU2PDzCXz4GQU2/HwCH35GDBMiVBFCDMv9LxOY8DMKbPj5BD78jAIffkaBDT+fwIefUWDDzyfw4WfEMAzDMAzDMAzDMAzDMAzDMAzDMAzDMAzDMAzDMAzDMAzDMAzDMAzDMAzDMAzDMAzDMAzDMAzDMAzDMAzDMAzDMAzDMAzDMAzDMAzDMIwLtBNCTBFCnBRCpAshzgohJgshqjtRR00hxFwhRJIQIlkIsVgIUd+zYhZYqgshRgohNgohUgTl437UifOH5Z6T98j0pJAFHHefkRD8DXmbCkKIiUKIOCFEmqBndY+D5w4T/A15iuJCiB+EEJeFEBlCiN1CiCccPNedZ8g4jqvP6C1h+TuBEKKaNwQtoJQRQgwXQqwSQlwTdH/fcuJ8/o68jzvP6C3B35G3uVcIMU4IcVTQN3BB0PyrsYPn8zfEMEHAPkFKjR+EEO8KIb4TtMC6IhzrTMsIUo5cFUL0E0L0EdRZXBRCVPaCvAWNRwUNbCeFEDuE6wqOD4QQrxuOVz0oY0HnUeHeM+JvyLsU+n979xYqVRXHcfyrUkqlUilpZEgkHqIgyIpC5GAPgRAIiYFIHAwMKuiC2QUrIR9EX6xAspLOQ2hZQhkE3eAQSGUXX6woK1QKMbLSLDC7PfxnOOPMPjP7Ouccz/cDA7pnr3Gx//5mZq299xpgN3ACeAK4m/hicxyYk6L9WsxQWbYDp4CNwEoiL6eA+R3aFa2h0stboz4iJ49xek6WA5Mq6utYNJs4zgeJgVWWwbM56o7Z5K9RH+aoaq8Bh4GniXHPGmLMcwK4skNbMySNEguIwDZv+w9Yl6L96tq+1zZs6wH+JiZLVMxk4ILan5eQf4JjWqm9UqOiNTJD1VpKHN8lDdumA78C21K0X4sZKsN1xHFc1bBtEvAtMYhup2gNlU6RGvXV2s6rpGeqm8jgyad5ZBs8m6PuKFKjPsxR1W4Ezm7aNoe4KvOlDm3NkDTKHQV2pthvT+3R7G3iS5HKU2SCYzowBRhXeq/UKE+NzFC1dhBnZ5oncrcQl5dO7NB+LWaoDBuISbspTdsfIY7vrDZti9ZQ6RSpUR+DA7PJwIQK+qfTZR08m6PuKzLBYY6667Paox0zJI1i5wEnicC2M56Y8dyc8NyTxJv05HK7NqYVmeCorw1xgpihvqjkvilkrZEZqt5+4K2E7XcQx/eqDu3XYobK8C7wZcL2m4jjekubtkVrqHSK1KiP03NyEtiFl21XKevg2Rx1X94JDnPUXeOAH4gTS+2YIWkUW0MEdWGH/aYxeK9gs7tqz80tt2tjWp4JjnuBZ4BlwK3AJuJ+6m9oPUun4rLWyAxV7wSwNWH7IuL43tyhvRkqxz7g/YTtVxB1uLNN26I1VDpFarQUeBG4HVhMTND+QSzE1+7KD+WXdfBsjrovz21E5qj7lhN1WtFhPzMkDYPxxP2yaR5DXWa9gPjy/kqKf28WEejVCc+tqD13dfrun/GK1ifPBEeSZbXXebjg65yJul0jM5RNnvr8Q/IVMguJ47s4Rz/MUHbfkXzm6zLiWN7Xpm0VNVSrIjVKMh/4F3i2YL+ULOvg2Rx1X9YaJTFH1eoBjhHrDHW6JcgMScOgl6F/Xqr50ZPQvodYe2Mv6S6L9+xzNr0Uq09ZExwQK0i/V8LrnGl66W6NzFA2vWSvT1VnXMxQNl7BMfIVqdFQPsS1hKriFRwjXxkTHGCOqjKDmNg9BFycYn8zJA2DGcSbaJrH1Ka2s4iAfw/MTPnvuX5ANkXqA+VOcOwBPi/hdc403a6RGcomT32qumfWDGXjGhwjX5EaDWUH8EuRTmlIrsEx8pU1wWGOyjeVOKF7lJjETcMMSaPIhcBXwBGyL2T0Ccm/APEOMSuq8pQ1wTEO+InOiykpuzw1MkPVepXkVc+fI/+q52You40k/0LHo3T+hY4qaqhWRWo0lE+Brwv2S8myDp7NUfeVNcFhjso1CfiA+H9/Q4Z2ZkgaJc4FPgaOA9d02PdSWi/Lf4jBn7Sqm0t8SVpfUh8VOg2ek+ozPWG/+q0P95fWM9XlqZEZqtZtxPFt/N36acTv1r/ctK8Zqs71xDFb1bBtInFG7KOGbTOJGpzVsC1LDZVfkRol5aR+2fZT5XZTNe0Gz+ZoZMhaI3NUvQnAG8R6g4va7GeGpFHsdSKsW4lVhBsfzYvlDNT2bTSZuC/wCPAgsQjZIeBHkt+old2a2mM7g7Wqb2s0QGt9/iRW5H6AGJRtIxar2gucU1mPx54iNTJD1ZpA3L/8O/A4kYN9xKRu8/omA5ihKu0gvlRuAFYCu2t/X9CwTz9Rg9kN27LUUMXkrdH+WtvVxFodW2rtDuFPKpftHuKzZTNRh50Mft7Ub83rxxwNp7w1MkfV20Qc9120jnuWN+zXjxmSRq0DDL1I34GmfQdo/fIPcAlx2dYxIvRvApdX0dkxqt1Cio0GErY9D3xBvPn+RXx4rsd1HcpWpEZghqp2PvAC8DNxGekAp18xUzeAGarSJOI2iMPE2jN7aF2UrZ/WL5WQvoYqJm+N1hGTfr8ROTlIDO4clJXvAEN/3syu7dOPORpOB8hXI3NUvQHSfWfrxwxJkiRJkiRJkiRJkiRJkiRJkiRJkiRJkiRJkiRJkiRJkiRJkiRJkiRJkiRJkiRJkiRJkiRJkiRJkiRJkiRJkiRJkiRJkiRJkiRJkiRJkiRJkiRJkiRJkiRJkiRJkiRJkiRJkiRJkiRJkiRJkiRJkiRJkiRJkiRJkiRJkiRJkiRJkiRJkiRJkiRJkiRJkiRJkiRJkiRJkiRJkiRJkiRJkiRJkiRJkiRJkiRJ0ljwP8IIECsm+V0zAAAAAElFTkSuQmCC\" width=\"900\">"
      ],
      "text/plain": [
       "<IPython.core.display.HTML object>"
      ]
     },
     "metadata": {},
     "output_type": "display_data"
    }
   ],
   "source": [
    "plt.figure(figsize=[9,4])\n",
    "\n",
    "#for T in list(np.linspace(.1,5,10)):\n",
    "T = 1\n",
    "d = 1\n",
    "j = 1\n",
    "σ =  np.linspace(-2,2, 20)\n",
    "β = 1/T\n",
    "y=2*β* d* j* σ\n",
    "\n",
    "plt.xlim([-2,2])\n",
    "plt.ylim([-1.1,1.1])\n",
    "plt.plot(σ ,np.tanh(y));\n",
    "\n",
    "\n",
    "# plot the line\n",
    "\n",
    "slope = (T * y)/(2 * d * j)\n",
    "intercept = 0\n",
    "\n",
    "# Create a list of values in the best fit line\n",
    "abline_values = [slope * i + intercept for i in σ]\n",
    "\n",
    "# Plot the best fit line over the actual values\n",
    "plt.plot(σ, abline_values, 'r');"
   ]
  },
  {
   "cell_type": "markdown",
   "metadata": {},
   "source": [
    "## Now add external force $B$\n",
    "\n",
    "$$\n",
    "E = - [2dj \\bar \\sigma + B] \\sigma\n",
    "$$\n",
    "\n",
    "\n",
    "$$\n",
    "\\frac{Ty}{2 d j} = \\tanh y + B \\beta\n",
    "$$\n",
    "\n",
    "$$\n",
    "\\bar{\\bar{\\sigma}} = \\tanh [(2\\beta dj) \\bar{\\sigma} + \\beta B]\n",
    "$$\n",
    "\n",
    "![ising_high_temp](./images/ising_high_temp.png)"
   ]
  },
  {
   "cell_type": "markdown",
   "metadata": {},
   "source": [
    "# Lecture 10 - Liquid Gas Transition using Ising Model"
   ]
  },
  {
   "cell_type": "markdown",
   "metadata": {
    "collapsed": true
   },
   "source": [
    "Mean Field Approximation to understand how phase transitions take place.  The more neighbors, the better approximation is the average."
   ]
  },
  {
   "cell_type": "markdown",
   "metadata": {},
   "source": [
    "Call it a \"bond\" when i and j are aligned, and a \"broken bond\" when i and j are not aligned.\n",
    "\n",
    "Therefore, every broken bond costs $+ 2J$ energy.\n",
    "\n",
    "And another term that acts externally on the lattice.\n",
    "\n",
    "$$\n",
    "E = -J\\sum_{link} \\sigma(i) \\sigma(j) + \\sum_{sites} h\\sigma(i) + C\n",
    "$$"
   ]
  },
  {
   "cell_type": "markdown",
   "metadata": {},
   "source": [
    "$$\n",
    "[-2dJ\\bar{\\sigma} + h]\\sigma\n",
    "$$\n",
    "\n",
    "$$\n",
    "\\bar{\\bar{\\sigma}} = \\tanh[-2dJ\\bar{\\sigma} + h]\\beta\n",
    "$$\n",
    "\n",
    "$$\n",
    "\\frac{yT}{2dJ} = \\tanh (y - \\beta h)\n",
    "$$\n",
    "\n",
    "slope is 1 when $T = 2dJ$ = critical temperature\n",
    "\n",
    "![phase_transition_magnet](./images/phase_transition_magnet.png)\n",
    "\n",
    "A very small amount of $h$ shifts the field toward 'up' or 'down'.\n",
    "\n",
    "![magnetization_1](./images/magnetization_1.png)\n",
    "\n"
   ]
  },
  {
   "cell_type": "markdown",
   "metadata": {},
   "source": [
    "## Box of particles"
   ]
  },
  {
   "cell_type": "markdown",
   "metadata": {},
   "source": [
    "![chemical_potential](./images/chemical_potential.png)\n",
    "\n",
    "particle outside the box has more energy than inside the box\n",
    "\n",
    "chemical potential - how much energy does it take to remove a particle from the box\n",
    "\n",
    "box has permeable walls"
   ]
  },
  {
   "cell_type": "markdown",
   "metadata": {},
   "source": [
    "$$\n",
    "\\sum_{N_{px}} e^{- \\beta E + N \\mu \\beta}\n",
    "$$\n",
    "\n",
    "density is a function of the chemical potential\n",
    "\n",
    "At the transition, suddenly the density changes drastically."
   ]
  },
  {
   "cell_type": "markdown",
   "metadata": {},
   "source": [
    "![lattice1](./images/lattice1.png)\n",
    "\n",
    "\n",
    "$$\n",
    "\\sum_{links} -j \\sigma_i \\sigma_j -2 N_{links} J\n",
    "$$\n",
    "\n",
    "right term just a number, so throw it out\n",
    "\n",
    "$$\n",
    "\\sum_{links} -j \\sigma_i \\sigma_j\n",
    "$$"
   ]
  },
  {
   "cell_type": "markdown",
   "metadata": {},
   "source": [
    "1 particle has energy $8J$\n",
    "\n",
    "2 particles have energy $16J$ (if not neighbor)\n",
    "\n",
    "2 close particles have energy $12J$\n",
    "\n",
    "Therefore particles attract"
   ]
  },
  {
   "cell_type": "markdown",
   "metadata": {},
   "source": [
    "Want to be able to vary the chemical potential:\n",
    "    \n",
    "$$\n",
    "\\sum_{links} -j \\sigma_i \\sigma_j + \\sum_{sites} h \\sigma_i\n",
    "$$\n",
    "\n",
    "\n",
    "1 particle has energy $8J + 2h$\n",
    "\n",
    "2 particles have energy $16J$ (if not neighbor)\n",
    "\n",
    "2 close particles have energy $12J$\n",
    "\n",
    "The average number of particles per lattice cell is \n",
    "$$\n",
    "\\frac{1 + \\bar\\sigma}{2} = \\rho\n",
    "$$"
   ]
  },
  {
   "cell_type": "markdown",
   "metadata": {},
   "source": [
    "Critical exponent:\n",
    "$$\n",
    "(T - T_c)^{\\alpha}\n",
    "$$"
   ]
  },
  {
   "cell_type": "code",
   "execution_count": 1,
   "metadata": {
    "collapsed": true
   },
   "outputs": [],
   "source": [
    "import numpy as np"
   ]
  },
  {
   "cell_type": "code",
   "execution_count": 2,
   "metadata": {
    "collapsed": false
   },
   "outputs": [
    {
     "data": {
      "text/plain": [
       "256"
      ]
     },
     "execution_count": 2,
     "metadata": {},
     "output_type": "execute_result"
    }
   ],
   "source": [
    "2**8"
   ]
  },
  {
   "cell_type": "code",
   "execution_count": 3,
   "metadata": {
    "collapsed": false
   },
   "outputs": [
    {
     "data": {
      "text/plain": [
       "24"
      ]
     },
     "execution_count": 3,
     "metadata": {},
     "output_type": "execute_result"
    }
   ],
   "source": [
    "np.math.factorial(4)"
   ]
  },
  {
   "cell_type": "code",
   "execution_count": 4,
   "metadata": {
    "collapsed": false
   },
   "outputs": [
    {
     "data": {
      "text/plain": [
       "6144"
      ]
     },
     "execution_count": 4,
     "metadata": {},
     "output_type": "execute_result"
    }
   ],
   "source": [
    "256 * 24"
   ]
  },
  {
   "cell_type": "code",
   "execution_count": null,
   "metadata": {
    "collapsed": true
   },
   "outputs": [],
   "source": []
  }
 ],
 "metadata": {
  "kernelspec": {
   "display_name": "Python 3",
   "language": "python",
   "name": "python3"
  },
  "language_info": {
   "codemirror_mode": {
    "name": "ipython",
    "version": 3
   },
   "file_extension": ".py",
   "mimetype": "text/x-python",
   "name": "python",
   "nbconvert_exporter": "python",
   "pygments_lexer": "ipython3",
   "version": "3.6.0"
  }
 },
 "nbformat": 4,
 "nbformat_minor": 2
}
