{
 "cells": [
  {
   "cell_type": "markdown",
   "metadata": {},
   "source": [
    "# Statistical Mechanics Lectures 5 - 10\n",
    "\n",
    "# From Susskind's Lectures \"Statistical Mechanics\", Stanford\n",
    "## http://theoreticalminimum.com/courses/statistical-mechanics/2013/spring\n",
    "\n",
    "[Many figures and lecture content credit Leonard Susskind]\n",
    "\n",
    "## Galen J. Wilkerson\n",
    "## July 24, 2017"
   ]
  },
  {
   "cell_type": "code",
   "execution_count": 2,
   "metadata": {
    "collapsed": true
   },
   "outputs": [],
   "source": [
    "import numpy as np\n",
    "import matplotlib.pyplot as plt\n",
    "\n",
    "%matplotlib inline\n",
    "\n",
    "# don't show warnings - nicer output\n",
    "import warnings\n",
    "warnings.filterwarnings('ignore')\n",
    "\n",
    "# display all results, not just last\n",
    "from IPython.core.interactiveshell import InteractiveShell\n",
    "InteractiveShell.ast_node_interactivity = \"all\""
   ]
  },
  {
   "cell_type": "markdown",
   "metadata": {
    "heading_collapsed": true
   },
   "source": [
    "# Lecture 5 - Pressure of Ideal Gas, Fluctuations (Variance)"
   ]
  },
  {
   "cell_type": "markdown",
   "metadata": {
    "hidden": true
   },
   "source": [
    "> Best physicists think hard, then do the math.\n",
    "> Check the intuition with the mathematics.\n",
    "\n",
    "\n",
    "## Finding the pressure of an ideal gas\n",
    "\n",
    "Are the molecules isotropic? (distribution of velocity directions is uniform)\n",
    "\n",
    "** First find entropy **\n",
    "\n",
    "$$\n",
    "S = - \\sum p_i \\log p_i\n",
    "$$\n",
    "\n",
    "> Using $p_i = \\frac1z e^{-\\beta E_i}$\n",
    "\n",
    "We obtain\n",
    "\n",
    "$$\n",
    "S = - \\sum \\frac1z e^{-\\beta E_i} \\log \\frac1z e^{-\\beta E_i}\n",
    "$$\n",
    "\n",
    "$$\n",
    "= - \\sum \\frac1z e^{-\\beta E_i} (-\\beta E_i - \\log z)\n",
    "$$\n",
    "\n",
    "$$\n",
    "=  \\sum \\frac1z e^{-\\beta E_i} (\\beta E_i + \\log z)\n",
    "$$\n",
    "\n",
    "> since $\\sum p_i E_i$, the first term is the average energy\n",
    "\n",
    "> since $z = \\sum_i e^{-\\beta E_i}$, the second term gives "
   ]
  },
  {
   "cell_type": "markdown",
   "metadata": {
    "hidden": true
   },
   "source": [
    "> $\\frac1z z \\log z = \\log z$\n",
    "\n",
    "\n",
    "$$\n",
    "S = \\beta E + \\log z\n",
    "$$\n",
    "\n",
    "$$\n",
    "S = \\frac ET + \\log z\n",
    "$$\n",
    "\n",
    "which gives\n",
    "\n",
    "<p style=\"border: 1px solid black\">\n",
    "\n",
    "**The Helmholz Free Energy (A)** \n",
    "\n",
    "$$\n",
    "A = E - TS = -T \\log z\n",
    "$$\n",
    "\n",
    "This is a formula of convenience, since it occurs again and again in these kinds of calculations.\n",
    "\n",
    "</p>"
   ]
  },
  {
   "cell_type": "markdown",
   "metadata": {
    "hidden": true
   },
   "source": [
    "Generally, these are **Control parameters:**\n",
    "\n",
    "(macroscopic parameters that the experimenter can change)\n",
    "\n",
    "Volume\n",
    "\n",
    "Magnetic, electric field\n",
    "\n",
    "N  (number of molecules)\n",
    "\n",
    "Variables come in pairs: pressure and volume, etc.: one is **Control Parameter**, other is the **\"conjugate thermodynamic variable\"**\n",
    "\n",
    "pressure, temperature, etc.\n"
   ]
  },
  {
   "cell_type": "markdown",
   "metadata": {
    "hidden": true
   },
   "source": [
    "## \"Theorem\": Suppose have 2 functions of 2 variables\n",
    "\n",
    "\n",
    "dependent variables:\n",
    "\n",
    "$E, S$             \n",
    "\n",
    "\n",
    "independent variables we can control from outside:\n",
    "\n",
    "$T, V$\n",
    "\n",
    "$E  T$\n",
    "\n",
    "$S  V$\n",
    "\n",
    "\n",
    "### Theorem:\n",
    "\n",
    "$$\n",
    "\\frac{\\partial E}{\\partial V} \\Big\\rvert_s = \\frac{\\partial E}{\\partial V}\\Big\\rvert_T - \\frac{\\partial E}{\\partial S}\\Big\\rvert_V \\frac{\\partial S}{\\partial V}\\Big\\rvert_T\n",
    "$$\n",
    "\n",
    "$ \\big( \\rvert_s$ means \"at fixed S\" $\\big)$\n",
    "\n",
    "### Proof:  (see image)\n",
    "\n",
    "\n",
    "\n",
    "![contour proof](./images/lecture5proof.png)\n",
    "\n",
    "\n",
    "\n",
    "$$\n",
    "\\Delta E = \\frac{\\partial E}{\\partial V}  \\rvert_T  \\Delta V  + \\frac{\\partial E}{\\partial T} \\rvert_V \\Delta T\n",
    "$$\n",
    "\n",
    "Manipulate the right-most part of the equation:\n",
    "\n",
    "$$\n",
    "\\frac{\\partial E}{\\partial T} \\rvert_V \\Delta T = \n",
    "\\frac{\\partial S}{\\partial T} \\rvert_V \n",
    "\\frac{\\partial E}{\\partial S} \\rvert_V \\Delta T \n",
    "$$\n",
    "\n",
    "giving:\n",
    "\n",
    "$$\n",
    "\\Delta E = \\frac{\\partial E}{\\partial V}  \\rvert_T  \\Delta V + \\frac{\\partial S}{\\partial T} \\rvert_V \n",
    "\\frac{\\partial E}{\\partial S} \\rvert_V \\Delta T \n",
    "$$\n",
    "\n",
    "We're interested in the rate of change of $E$ with respect to $V$, so we should divide by $\\Delta V$ on both sides:\n",
    "\n",
    "$$\n",
    "\\frac{\\Delta E}{\\Delta V} = \\frac{\\partial E}{\\partial V}  \\rvert_T   + \\frac{\\partial S}{\\partial T} \\rvert_V \n",
    "\\frac{\\partial E}{\\partial S} \\rvert_V  \\frac{\\Delta T}{\\Delta V}\n",
    "$$\n",
    "\n",
    "Nowhere have we indicated we're moving along a line of constant entropy $S$.  \n",
    "\n",
    "The slope on the contour is just $\\frac{\\Delta T}{\\Delta V}$"
   ]
  },
  {
   "cell_type": "markdown",
   "metadata": {
    "hidden": true
   },
   "source": [
    "Along the contour, $dS = 0$.\n",
    "\n",
    "But (again, this time separating the components of S into contributions by changing volume or contributions by changing temperature.)\n",
    "\n",
    "$$\n",
    "dS = \\frac{\\partial S}{\\partial V} \\rvert_T \\Delta V + \\frac{\\partial S}{\\partial T} \\rvert_V \\Delta T\n",
    "$$\n",
    "\n",
    "can set to zero, since $S$ constant along line:\n",
    "\n",
    "$$\n",
    "0 = \\frac{\\partial S}{\\partial V} \\rvert_T \\Delta V + \\frac{\\partial S}{\\partial T} \\rvert_V \\Delta T\n",
    "$$\n",
    "\n",
    "and we can get a formula for $\\frac{\\Delta T}{\\Delta V}$ in terms of these partial derivatives.\n",
    "\n",
    "\n"
   ]
  },
  {
   "cell_type": "markdown",
   "metadata": {
    "hidden": true
   },
   "source": [
    "divide by $\\Delta V$\n",
    "\n",
    "$$\n",
    "0 = \\frac{\\partial S}{\\partial V} \\rvert_T  + \\frac{\\partial S}{\\partial T} \\rvert_V \\frac{\\Delta T}{\\Delta V}\n",
    "$$\n",
    "\n",
    "$\\implies$\n",
    "\n",
    "$$\n",
    "\\frac{\\Delta T}{\\Delta V} = - \\frac{\\partial S}{\\partial V} \\rvert_T \\Big/ \\frac{\\partial S}{\\partial T} \\rvert_V \n",
    "$$\n"
   ]
  },
  {
   "cell_type": "markdown",
   "metadata": {
    "hidden": true
   },
   "source": [
    "inserting into formula above:\n",
    "\n",
    "$$\n",
    "\\frac{\\Delta E}{\\Delta V} = \\frac{\\partial E}{\\partial V}  \\rvert_T   - \\frac{\\partial S}{\\partial T} \\rvert_V \n",
    "\\frac{\\partial E}{\\partial S} \\rvert_V   \\frac{\\partial S}{\\partial V} \\rvert_T \\big/ \\frac{\\partial S}{\\partial T} \\rvert_V \n",
    "$$"
   ]
  },
  {
   "cell_type": "markdown",
   "metadata": {
    "hidden": true
   },
   "source": [
    "$$\n",
    "= \\frac{\\partial E}{\\partial V}  \\rvert_T - \n",
    "\\frac{\\partial E}{\\partial S} \\rvert_V   \\frac{\\partial S}{\\partial V} \\rvert_T\n",
    "$$\n",
    "\n",
    "We have proved the lemma. $\\square$"
   ]
  },
  {
   "cell_type": "markdown",
   "metadata": {
    "hidden": true
   },
   "source": [
    "## Facts:\n",
    "\n",
    "* $S = - \\sum p_i \\log p_i$\n",
    "\n",
    "* $A = E - TS = -T \\log z$\n",
    "\n",
    "* Below, understand pressure"
   ]
  },
  {
   "cell_type": "markdown",
   "metadata": {
    "hidden": true
   },
   "source": [
    "## Understand what pressure is:"
   ]
  },
  {
   "cell_type": "markdown",
   "metadata": {
    "hidden": true
   },
   "source": [
    "**adiabatic** means \"slowly\" and \"no heat comes into the system\""
   ]
  },
  {
   "cell_type": "markdown",
   "metadata": {
    "hidden": true
   },
   "source": [
    "![piston](./images/piston.png)\n",
    "\n",
    "\n",
    "\n",
    "energy conservation tells us the the change in energy of the gas is minus the work done on the piston:\n",
    "\n",
    "have piston with area $A$\n",
    "\n",
    "piston moved $dX$ vertically\n",
    "\n",
    "move piston adiabatically\n",
    "\n",
    "$$\n",
    "dE = - P A dx\n",
    "$$\n",
    "\n",
    "Since area times the change in position is the change in volume:\n",
    "\n",
    "$$\n",
    "A dx = dv\n",
    "$$ \n",
    "\n",
    "$$\n",
    "\\implies\n",
    "$$\n",
    "\n",
    "$$\n",
    "dE = - P dv\n",
    "$$\n",
    "\n",
    "Another meaning of adiabatic:\n",
    "\n",
    "processes when entropy doesn't increase but stays the same.\n",
    "\n",
    "\n"
   ]
  },
  {
   "cell_type": "markdown",
   "metadata": {
    "hidden": true
   },
   "source": [
    "**Adiabatic theorem:**  (quantum mechanics)\n",
    "\n",
    "![adiabatic theorem](./images/adiabatic_theorem.png)\n",
    "\n",
    "\n",
    "If a system has a definite energy, and you slowly change the control parameter, the system will stay and simply ride along the energy level, and won't jump from one energy level to another.  \n",
    "\n",
    "The entropy is built from the probabilities $p_i$s, not the energy:\n",
    "\n",
    "$$\n",
    "S = - \\sum_i p_i \\log p_i\n",
    "$$\n",
    "\n",
    "adiabatic = the entropy doesn't change (constant entropy)"
   ]
  },
  {
   "cell_type": "markdown",
   "metadata": {
    "collapsed": true,
    "hidden": true
   },
   "source": [
    "Therefore, from above, we solve for P and fix the entropy:\n",
    "\n",
    "$$\n",
    "\\implies - \\frac{\\partial E}{\\partial V} \\rvert_S = P\n",
    "$$"
   ]
  },
  {
   "cell_type": "markdown",
   "metadata": {
    "hidden": true
   },
   "source": [
    "But it's hard to calculate things with fixed entropy.  Usually easier to calculate how things vary with temperature, since temperature appears in the Boltzmann distribution.\n",
    "\n",
    "From the previous theorem we just proved:\n",
    "\n",
    "$$\n",
    "- \\frac{\\partial E}{\\partial V} \\rvert_S = P = - \\frac{\\partial E}{\\partial V} \\rvert_T + \\frac{\\partial S}{\\partial V} \\rvert_T \\frac{\\partial E}{\\partial S} \\rvert_V  \n",
    "$$\n",
    "\n",
    "But since $dE = T ds$, or $T = \\frac{dE}{dS}$\n",
    "\n",
    "and holding the volume fixed means you don't change the system's volume, can replace $T$.\n",
    "\n",
    "$$\n",
    "- \\frac{\\partial E}{\\partial V} \\rvert_S = P = -\\frac{\\partial E}{\\partial V} \\rvert_T + \\frac{\\partial S}{\\partial V} \\rvert_T T \n",
    "$$"
   ]
  },
  {
   "cell_type": "markdown",
   "metadata": {
    "collapsed": true,
    "hidden": true
   },
   "source": [
    "Now the only derivatives are with respect to volume and fixed temperature.  We like this, since volume and temperature can be thought of as independent variables.\n",
    "\n",
    "Can rewrite:\n",
    "\n",
    "$$\n",
    "P = - \\frac{\\partial(E - TS)}{\\partial V} \\rvert_T\n",
    "$$\n",
    "\n",
    "That is, the pressure is the derivative (w.r.t. Volume) of the Helmholz free energy at fixed temperature.\n",
    "\n",
    "But we know the **Helmholz free energy**\n",
    "\n",
    "$$\n",
    "E - TS = -T \\log z\n",
    "$$\n",
    "\n",
    "$$\n",
    "\\implies P = - \\frac{\\partial(E - TS)}{\\partial V} \\rvert_T = T \\frac{\\partial \\log z}{\\partial V} \\rvert_T\n",
    "$$\n",
    "\n",
    "Only need to know how the partition function depends on the temperature.\n"
   ]
  },
  {
   "cell_type": "markdown",
   "metadata": {
    "hidden": true
   },
   "source": [
    "\n",
    "$$\n",
    "z =\\int dx dp e^{-\\beta \\frac{p^2}{2m}}\n",
    "$$\n",
    "\n",
    "3xs and 3ps (1 for each dimension)\n",
    "\n",
    "$$\n",
    "\\frac{V^N}{N!} f(\\beta) = Z\n",
    "$$\n",
    "\n",
    "$$\n",
    "\\log z = N \\log V + \\log f(\\beta)\n",
    "$$\n",
    "\n",
    "when taking derivative with respect to volume, can drop the other terms\n",
    "\n",
    "$$\n",
    "\\log z = N \\log V + ...\n",
    "$$\n",
    "\n",
    "$$\n",
    "\\partial \\log z = \\frac{N}{V}\n",
    "$$\n",
    "\n",
    "\n",
    "$$\n",
    "\\implies T \\frac{\\partial \\log Z}{\\partial V} = \\frac{NT}{V} = P\n",
    "$$"
   ]
  },
  {
   "cell_type": "markdown",
   "metadata": {
    "hidden": true
   },
   "source": [
    "## Fluctuations (or variance)\n",
    "\n",
    "Energy will fluctuate\n",
    "\n",
    "Begin with a quantity whose average is zero.\n",
    "\n",
    "![fluctuations](./images/vlcsnap-2018-03-11-22h59m38s548.png)"
   ]
  },
  {
   "cell_type": "markdown",
   "metadata": {
    "hidden": true
   },
   "source": [
    "The average of $x^2$ is a measure of the distribution.\n",
    "\n",
    "$\\Delta x = \\sqrt{<x^2>}$, or\n",
    "\n",
    "$(\\Delta X)^2 = <X^2> $\n",
    "\n",
    "\n",
    "## What if variable not centered at zero?\n",
    "\n",
    "![fluctuations2](./images/vlcsnap-2018-03-11-23h05m29s652.png)\n",
    "\n",
    "\n",
    "Just shift the variable so its average is zero:\n",
    "\n",
    "$X - <X>$\n",
    "\n",
    "\n",
    "Fluctuation is just average of this:\n",
    "\n",
    "$$\n",
    "<(X - <X>)^2>\n",
    "$$\n",
    "\n",
    "$$\n",
    "= <x^2 - 2x<x> + <x>^2 >\n",
    "$$\n",
    "\n",
    "$$\n",
    "= <x^2> - 2<x>^2 + <x>^2\n",
    "$$\n",
    "\n",
    "$$\n",
    "(\\Delta x) ^2 = <x^2> - <x>^2\n",
    "$$\n",
    "\n"
   ]
  },
  {
   "cell_type": "markdown",
   "metadata": {
    "collapsed": true,
    "hidden": true
   },
   "source": [
    "## Let's calculate fluctuations (variance) of energy:\n",
    "\n",
    "$$\n",
    "(\\Delta E)^2 = <E^2> - <E>^2\n",
    "$$\n",
    "\n",
    "In terms of the partition function, the average energy is:\n",
    "\n",
    "$$\n",
    "<E> = - \\frac{\\partial \\log Z}{\\partial \\beta}\n",
    "$$\n",
    "\n",
    "What about the average of the square of the energy\n",
    "\n",
    "Recall that \n",
    "\n",
    "$$\n",
    "<E> = \\sum \\frac1z e^{-\\beta E_i} E_i\n",
    "$$\n",
    "\n",
    "$$\n",
    "= \\frac1z \\frac{\\partial}{\\partial \\beta} z\n",
    "$$\n",
    "\n",
    "just take 2nd derivative:\n",
    "\n",
    "$$\n",
    "<E^2> = \\sum \\frac1z e^{-\\beta E_i} E^2_i\n",
    "$$"
   ]
  },
  {
   "cell_type": "markdown",
   "metadata": {
    "hidden": true
   },
   "source": [
    "$$\n",
    "\\implies  <E^2> - <E>^2\n",
    "$$\n",
    "\n",
    "$$\n",
    "(\\Delta E)^2  = \\frac1z \\frac{\\partial^2 z}{\\partial \\beta^2} - \\frac{1}{z^2} \\big(\\frac{\\partial z}{\\partial \\beta}\\big)^2\n",
    "$$"
   ]
  },
  {
   "cell_type": "markdown",
   "metadata": {
    "hidden": true
   },
   "source": [
    "**All of statistical mechanics is about the power of the partition function.**"
   ]
  },
  {
   "cell_type": "markdown",
   "metadata": {
    "hidden": true
   },
   "source": [
    "$$\n",
    "\\frac{\\partial^2}{\\partial \\beta^2} \\log z = \\frac{\\partial}{\\partial \\beta} \\frac1z \\frac{\\partial z}{\\partial \\beta} = (\\Delta E)^2 = - \\frac{\\partial}{\\partial \\beta} <E>\n",
    "$$\n",
    "\n",
    "$$\n",
    "= C_v (T) T^2\n",
    "$$\n",
    "\n",
    "\n",
    "$C$ = heat capacity = specific heat * mass"
   ]
  },
  {
   "cell_type": "markdown",
   "metadata": {
    "heading_collapsed": true
   },
   "source": [
    "# Lecture 6 - partition function and energy of system with kinetic and potential energy"
   ]
  },
  {
   "cell_type": "markdown",
   "metadata": {
    "collapsed": true,
    "hidden": true
   },
   "source": [
    "(start around minute 15)\n",
    "\n",
    "Calculate the partition function for a system of molecules for which the energy is not just the sum of the kinetic energies.  (there are forces)\n",
    "\n",
    "$p$ square of momentum\n",
    "\n",
    "$M$ = mass\n",
    "\n",
    "$\\frac{p^2}{2m}$ is the usual kinetic energy of a molecule.\n",
    "\n",
    "Here assume there is a potential energy for all pairs of molecules.\n",
    "\n",
    "$|x_n - x_m|$ is the distance between two molecules $n$ and $m$.\n",
    "\n",
    "E = kinetic + potential energy\n",
    "\n",
    "$$\n",
    "E = \\sum_n \\frac{p^2}{2M} + \\sum_{n > m} U(|x_n - x_m|)\n",
    "$$\n",
    "\n",
    "Could call the sum of all the potential energies of the particles $U(x) = \\sum_{n > m} U(|x_n - x_m|)$.\n",
    "\n",
    "Here, we assume the potential energy is 'small'.\n",
    "\n",
    "Integrating over all positions of two particles gives a factor of the volume:\n",
    "\n",
    "Hold particle 1 fixed and integrating over all other particles gives $U_0$, a combination of how strong and how widely spread $U$ is.\n",
    "\n",
    "$$\n",
    "\\int d^3x U(|x|) = U_0 \\approx uv\n",
    "$$\n",
    "\n",
    "(qualitatively, the height of the potential energy function times the volume of the molecule.)\n",
    "\n",
    "\n",
    "Assuming our potential function $U$ goes to zero outside of a local boundary:\n",
    "\n",
    "![potential](./images/potential_function.png)\n",
    "\n",
    "\n",
    "(units are volume * energy)\n",
    "\n",
    "Now we move particle 1 over the entire volume, giving us another factor of volume:\n",
    "\n",
    "$$\n",
    "\\int d^3x_1 d^3 x_2 U(|x_n - x_m|) = VU_0\n",
    "$$\n",
    "(actually a double integral $\\int \\int d^3x_1 d^3 x_2 $)\n",
    "\n",
    "Now we have the total potential energy for all locations of a pair of particles."
   ]
  },
  {
   "cell_type": "markdown",
   "metadata": {
    "hidden": true
   },
   "source": [
    "Now, calculate the partition function:\n",
    "\n",
    "z = integrate over momentum and position * exponential of the kinetic energy term + the potential energy term\n",
    "\n",
    "$$\n",
    "z = \\int\\frac{ dp dx}{N!} e^{- \\beta \\sum_n \\frac{p^2}{2M}- \\beta U(x)}\n",
    "$$\n",
    "\n",
    "The sum of the exponents gives the product of exponentials:\n",
    "\n",
    "$$\n",
    "= \\int\\frac{ dp dx}{N!} e^{- \\beta \\sum_n \\frac{p^2}{2M}} e^{- \\beta U(x)}\n",
    "$$"
   ]
  },
  {
   "cell_type": "markdown",
   "metadata": {
    "collapsed": true,
    "hidden": true
   },
   "source": [
    "Can factorize into momemtum and position integral, and rewrite as the product of two integrals:\n",
    "\n",
    "$$\n",
    "z = \\int  \\frac{dp}{N!} e^{- \\beta \\sum_n \\frac{p^2}{2M}} \\int e^{- \\beta U(x) }dx\n",
    "$$\n",
    "\n",
    "Last time we saw this:\n",
    "\n",
    "$$\n",
    "\\sqrt{\\frac{2 \\pi m}{\\beta}}^{3N}\n",
    "$$\n",
    "\n",
    "a Gaussian integral for each momentum, used for the case of the ideal gas\n",
    "\n",
    "The integral over position gave us:\n",
    "\n",
    "$$\n",
    "V^N\n",
    "$$\n",
    "\n",
    "Let's insert the $V^N$ term: (since it cancels in the numerator and denominator, we can do this)\n",
    "\n",
    "$$\n",
    "z = \\int  \\frac{dp V^N}{N!} e^{- \\beta \\sum_n \\frac{p^2}{2M}} \\int \\frac{e^{- \\beta U(x)} }{V^N}dx\n",
    "$$\n",
    "\n",
    "Now we can recognize the left-hand integral as the partition function for the ideal gas.\n",
    "\n",
    "Let's call this \n",
    "\n",
    "$$\n",
    "z_0(\\beta)\n",
    "$$"
   ]
  },
  {
   "cell_type": "markdown",
   "metadata": {
    "hidden": true
   },
   "source": [
    "Can expand the first two terms of $U(x)$ using a Taylor series:\n",
    "\n",
    "$$\n",
    "1 - \\beta U(x)\n",
    "$$\n",
    "\n",
    "(Using fact that $e^{-x} = 1 - x + \\frac{x^2}{2!} ...$, and that when $x$ is small, can ignore all but first few terms.)\n",
    "\n",
    "So, rewrite above righthand term as:\n",
    "\n",
    "$$\n",
    "\\int \\frac{dx}{V^N}[1 - \\beta U(x)]\n",
    "$$\n",
    "\n",
    "(Since $\\int_x 1 dx = V^N$, which cancels with the denominator.)\n",
    "\n",
    "$$\n",
    "= 1 - \\beta \\int \\frac{dx U(x)}{V^N}\n",
    "$$\n",
    "\n",
    "$$\n",
    "= 1 - \\beta \\int \\frac{dx}{V^N} \\sum_{n>m} u(|x_n - x_m|)\n",
    "$$\n",
    "\n",
    "But there are $\\frac{N(N-1)}{2}$ such pairs.\n",
    "\n",
    "$$\n",
    "1 - \\frac{\\beta N(N-1)}{2} \\int \\frac{dx_1 dx_2}{V^N} u(|x_2 - x_1|) dx_3 dx_4...\n",
    "$$\n",
    "\n",
    "The $dx_3, ...$ terms give a factor of $volume^{N-2} = V^{N-2}$\n",
    "\n",
    "$$\n",
    "1 - \\frac{\\beta N(N-1)}{2} \\int \\frac{dx_1 dx_2}{V^N} u(|x_2 - x_1|) V^{N-2}\n",
    "$$\n",
    "\n",
    "\n",
    "> Now, recall that\n",
    "\n",
    ">$$\n",
    "\\int dx_1 dx_2 u(x_1 - x_2) = VU_0\n",
    "$$\n"
   ]
  },
  {
   "cell_type": "markdown",
   "metadata": {
    "hidden": true
   },
   "source": [
    "Giving us:\n",
    "\n",
    "$$\n",
    "\\approx 1 - \\frac{\\beta N^2}{2} \\frac{U_0}{V}\n",
    "$$\n",
    "\n",
    "$$\n",
    "\\implies z = z_0(\\beta) 1 - \\frac{\\beta N^2}{2V} U_0\n",
    "$$"
   ]
  },
  {
   "cell_type": "markdown",
   "metadata": {
    "hidden": true
   },
   "source": [
    "Finally, this gives us the partition function:\n",
    "\n",
    "$$\n",
    "z = z_0(\\beta) [1 - \\frac{\\beta N^2}{2V}u_0]\n",
    "$$"
   ]
  },
  {
   "cell_type": "markdown",
   "metadata": {
    "hidden": true
   },
   "source": [
    "You usually take the logarithm of the partition function:\n",
    "\n",
    "$$\n",
    "\\log z = \\log z_0 + \\log[1 - \\frac{\\beta N^2}{2 V} U_0]\n",
    "$$\n",
    "\n",
    "$$\n",
    "= \\log z_0 - \\frac{\\beta N^2}{2V} U_0\n",
    "$$\n",
    "\n",
    "\n",
    ">(Since the Taylor expansion gives:\n",
    "\n",
    ">$$\n",
    "\\log (1 - x) \\approx -x + \\frac{x^2}{2} - \\frac{x^3}{3} + \\frac{x^4}{4} ... \\Big)\n",
    "$$"
   ]
  },
  {
   "cell_type": "markdown",
   "metadata": {
    "hidden": true
   },
   "source": [
    "What can we get from this partition function?  Energy\n",
    "\n",
    "$$\n",
    "E = - \\frac{\\partial \\log z}{\\partial \\beta} = \\frac32 NT + \\frac{N^2}{2V} U_0\n",
    "$$\n",
    "\n",
    "$$\n",
    "= - \\frac{\\partial \\log z}{\\partial \\beta} = \\frac32 NT + N \\frac{N}{2V} U_0\n",
    "$$\n",
    "\n",
    "$\\frac{N}{V}$ is density $\\rho$\n",
    "\n",
    "$$\n",
    "= - \\frac{\\partial \\log z}{\\partial \\beta} = \\frac32 NT + N \\frac{\\rho}{2} U_0\n",
    "$$"
   ]
  },
  {
   "cell_type": "markdown",
   "metadata": {
    "hidden": true
   },
   "source": [
    "Expressed in terms of energy per particle, the first term is proportional to temperature, and the second is proportional to energy between pairs of particles times the density:\n",
    "\n",
    "$$\n",
    "E = - \\frac{\\partial \\log z}{\\partial \\beta} = \\Big[\\frac32 T +  \\frac{\\rho}{2}U_0\\Big] N \n",
    "$$"
   ]
  },
  {
   "cell_type": "markdown",
   "metadata": {
    "hidden": true
   },
   "source": [
    "Since the proximity of particles affects the interactions, it makes sense that density is in this term."
   ]
  },
  {
   "cell_type": "markdown",
   "metadata": {
    "hidden": true
   },
   "source": [
    "We can use this to calculate the pressure, which we wrote in terms of the Helmholz free energy $A$ previously:\n",
    "\n",
    "$$\n",
    "A = -T \\log z\n",
    "$$\n",
    "\n",
    "$$\n",
    "P = \\frac{- \\partial A}{\\partial V}\\Big|_T = T \\frac{\\partial \\log z}{\\partial V} \\Big|_T\n",
    "$$\n",
    "\n",
    "$$\n",
    "= \\frac{NT}{V}\n",
    "$$\n",
    "\n",
    "> Multiply right-hand term of $z$ by temperature:\n",
    "\n",
    "> $$\n",
    "z = \\log z_0 - \\frac{\\beta N^2}{2V} U_0 \\times T\n",
    "$$\n",
    "\n",
    "> $$\n",
    "\\implies - \\frac{N^2}{2V} U_0\n",
    "$$\n",
    "\n",
    "$$\n",
    "= \\rho T + \\frac{N^2}{2 V^2}U_0\n",
    "$$\n"
   ]
  },
  {
   "cell_type": "markdown",
   "metadata": {
    "hidden": true
   },
   "source": [
    "(Since $\\frac{N}{V} = \\rho$, the density)\n",
    "\n",
    "\n",
    "$$\n",
    "= \\rho T + \\frac{1}{2}\\rho^2 U_0\n",
    "$$\n",
    "\n",
    "\n",
    "We are expanding in powers of the density.\n",
    "\n",
    "If the density is low, this is linear.\n",
    "\n",
    "Including the next term gives us:\n",
    "\n",
    "\n",
    "$$\n",
    "= \\rho T + \\frac{1}{2}\\rho^2 U_0 + \\frac{\\rho^3 U_0^2}{T}\n",
    "$$"
   ]
  },
  {
   "cell_type": "markdown",
   "metadata": {
    "hidden": true
   },
   "source": [
    ">Recall that the **Taylor series** lets us write the value of a function at a particular x value:\n",
    "\n",
    ">$$\n",
    "f(x)\\big|_{x = a} = \\sum_{n=0}^\\infty \\frac{f^{(n)}a}{n!} (x-a)^n\n",
    "$$\n"
   ]
  },
  {
   "cell_type": "markdown",
   "metadata": {
    "hidden": true
   },
   "source": [
    "$\\rho U_0 \\ll T$  That is, the potential energy per particle is much less than the kinetic energy.  When this is the case, this is a good approximation."
   ]
  },
  {
   "cell_type": "markdown",
   "metadata": {
    "collapsed": true,
    "hidden": true
   },
   "source": [
    "## Exact and in-exact differentials  (starts at 1h 26')\n",
    "\n",
    "![exact_inexact](./images/exact_inexact2.png)\n",
    "\n",
    "$$\n",
    "F(xy) = \\text{ altitude}\n",
    "$$\n",
    "\n",
    "$$\n",
    "dF = \\frac{\\partial F}{\\partial x} dx + \\frac{\\partial F}{\\partial y} dy\n",
    "$$\n",
    "\n",
    "Rewrite as \n",
    "\n",
    "$$\n",
    "dF = F_x dx + F_y dy,\n",
    "$$\n",
    "\n",
    "letting $F_x = \\frac{\\partial F}{\\partial x}$, and $F_y = \\frac{\\partial F}{\\partial y}$.\n",
    "\n",
    "\n",
    ">recall theorem of calculus, order of derivative doesn't matter:\n",
    "\n",
    ">$$\n",
    "\\frac{\\partial^2F}{\\partial x \\partial y} = \\frac{\\partial^2F}{ \\partial y \\partial x}\n",
    "$$\n",
    "\n",
    "which means, from the above:\n",
    "\n",
    "$$\n",
    "\\frac{\\partial F_y}{\\partial x} = \\frac{\\partial F_x}{\\partial y}\n",
    "$$\n",
    "\n",
    "But this is not necessarily true.\n",
    "\n",
    "> Recall that $F_x$ and $F_y$ form the components of the gradient of $F$.\n",
    "\n",
    "\n",
    "(This can be rewritten as\n",
    "\n",
    "$$\n",
    "\\frac{\\partial F_y}{\\partial x} - \\frac{\\partial F_x}{\\partial y} = 0,\n",
    "$$\n",
    "\n",
    "also known as the **curl**.)\n",
    "\n",
    "**If the curl equals zero, we say the system is exact.**, otherwise it is **inexact**.\n",
    "\n",
    "\n",
    "The condition that $F_x$ and $F_y$ are the derivatives of a unique function are this above statement."
   ]
  },
  {
   "cell_type": "markdown",
   "metadata": {
    "collapsed": true,
    "hidden": true
   },
   "source": [
    "![exact_inexact](./images/exact_inexact3.png)\n",
    "\n",
    "How much does $F$ change if we move along a curve?\n",
    "\n",
    "Add up all the small changes\n",
    "\n",
    "$$\n",
    "\\Delta F = \\int F_x dx + \\int F_y dy\n",
    "$$\n",
    "\n",
    "Any trip from one point to another will add up the the same change in $F$.\n",
    "\n",
    "\"Inexact things depend on the whole trajectory, not just the endpoints.\""
   ]
  },
  {
   "cell_type": "markdown",
   "metadata": {
    "collapsed": true,
    "hidden": true
   },
   "source": [
    "**Example 1:**\n",
    "\n",
    "$$\n",
    "F = xy\n",
    "$$\n",
    "\n",
    "$$\n",
    "F_x = y\n",
    "$$\n",
    "\n",
    "$$\n",
    "F_y = x\n",
    "$$\n",
    "\n",
    "$$\n",
    "\\frac{\\partial F_x}{\\partial y} = 1\n",
    "$$\n",
    "\n",
    "$$\n",
    "\\frac{\\partial F_y}{\\partial x} = 1\n",
    "$$\n",
    "\n",
    "**This is exact, since**\n",
    "\n",
    "$$\n",
    "\\frac{\\partial F_y}{\\partial x} - \\frac{\\partial F_x}{\\partial y} = 0,\n",
    "$$\n"
   ]
  },
  {
   "cell_type": "markdown",
   "metadata": {
    "collapsed": true,
    "hidden": true
   },
   "source": [
    "**Example 2:**\n",
    "\n",
    "If:\n",
    "\n",
    "$$\n",
    "F_x = y\n",
    "$$\n",
    "\n",
    "$$\n",
    "F_y = -x\n",
    "$$\n",
    "\n",
    "$$\n",
    "\\frac{\\partial F_x}{\\partial y} = 1\n",
    "$$\n",
    "\n",
    "$$\n",
    "\\frac{\\partial F_y}{\\partial x} = -1\n",
    "$$\n",
    "\n",
    "$$\n",
    "\\frac{\\partial F_y}{\\partial x} - \\frac{\\partial F_x}{\\partial y} = -1 - 1 = -2\n",
    "$$\n",
    "\n",
    "\n",
    "These are not derivatives of any real function.\n",
    "\n",
    "**This is inexact.**\n"
   ]
  },
  {
   "cell_type": "markdown",
   "metadata": {
    "hidden": true
   },
   "source": [
    "## Heat, work  (at 1h 45')"
   ]
  },
  {
   "cell_type": "markdown",
   "metadata": {
    "hidden": true
   },
   "source": [
    "Piston, particles:\n",
    "\n",
    "![piston_work](./images/piston_work.png)\n",
    "\n",
    "\n",
    "\n",
    "If we know the entropy and the volume, we can determine the state of the system:\n",
    "\n",
    "$S, V$ independent variables\n",
    "\n",
    "$$\n",
    "dE = -P dv\n",
    "$$\n",
    "\n",
    "$$\n",
    "dE = T dS\n",
    "$$\n",
    "\n",
    "$$\n",
    "\\implies dE = -P dv + T ds\n",
    "$$\n",
    "\n",
    "This is the **first law of thermodynamics.**\n",
    "\n",
    "$TdS = dQ$ is the heat you put in \n",
    "\n",
    "$-PdV = dW$ is the work done by the piston on the gas.\n",
    "\n",
    "> yet another meaning of 'adiabatic' is reversible\n",
    "\n",
    "> adiabatic also means don't change the entropy\n",
    "\n",
    "Can be rewritten that the change of the energy equals the change in work plus the change in heat:\n",
    "\n",
    "$$\n",
    "dE = dW + dQ\n",
    "$$\n",
    "\n",
    "**Is $dQ$ (or $dW$) an exact differential?** \n",
    "\n",
    "I.e.:\n",
    "\n",
    "If we think of energy as a surface, can you go any path you like to go from one point to another, and will the total heat be the same?  (same with work)"
   ]
  },
  {
   "cell_type": "markdown",
   "metadata": {
    "hidden": true
   },
   "source": [
    "Let's change the independent variables from $S, V$ to $E, V$ (energy and volume)\n",
    "\n",
    "$$\n",
    "dQ = dE + P dV\n",
    "$$\n",
    "\n",
    "$$\n",
    "\\implies \\frac{dQ}{dE} = 1\n",
    "$$\n",
    "\n",
    "and \n",
    "$$\n",
    "\\frac{\\partial Q}{\\partial V} = P\n",
    "$$\n",
    "\n",
    "if $Q$ was an actual function.\n"
   ]
  },
  {
   "cell_type": "markdown",
   "metadata": {
    "hidden": true
   },
   "source": [
    "Let's test the curl:\n",
    "\n",
    "$$\n",
    "\\frac{\\partial^2 Q}{\\partial V \\partial E} = 0\n",
    "$$\n",
    "\n",
    "$$\n",
    "\\frac{\\partial P}{\\partial E} = \\frac{\\partial^2 Q}{\\partial E \\partial V} = 0\n",
    "$$"
   ]
  },
  {
   "cell_type": "markdown",
   "metadata": {
    "hidden": true
   },
   "source": [
    "However, the pressure **is** a function of the energy, so these derivatives are inaccurate.  \n",
    "(That is, it makes no sense that $\\frac{\\partial P}{\\partial E} = 0$.)\n",
    "\n",
    "pressure of an ideal gas:  $PV = NT$\n",
    "\n",
    "$$\n",
    "P = \\frac{NT}{V}\n",
    "$$\n",
    "\n",
    "$$\n",
    "E = \\frac32NT\n",
    "$$\n",
    "\n",
    "$$\n",
    "\\implies P = \\frac23 \\frac EV\n",
    "$$"
   ]
  },
  {
   "cell_type": "markdown",
   "metadata": {
    "hidden": true
   },
   "source": [
    "Therefore, \n",
    "\n",
    "$$\n",
    "\\frac{\\partial P}{\\partial E} = \\frac 23 \\ne 0\n",
    "$$\n",
    "\n",
    "so the curl test has failed, and the system is inexact. \n",
    "\n",
    "This means there is no such function $Q$ that is a function of where the system is, \n",
    "\n",
    "**$Q$ is path dependent, i.e. inexact**.\n",
    "\n",
    "The total amount of heat you have to put into a system to change it from one state to another state depends on the path you take.\n",
    "\n",
    "I.e. the path of how you get from one energy state to another is important."
   ]
  },
  {
   "cell_type": "markdown",
   "metadata": {
    "heading_collapsed": true
   },
   "source": [
    "# Lecture 7 - 2nd law of thermodynamics and what it means"
   ]
  },
  {
   "cell_type": "markdown",
   "metadata": {
    "hidden": true
   },
   "source": [
    "**Example:  Speed of sound**\n",
    "\n",
    "In a very dilute gas, how fast does an over-dense area spread out?\n",
    "\n",
    "Molecule's energy is equal to the kinetic energy, since it is the only energy that it has.\n",
    "\n",
    "\n",
    "$$\n",
    "E = \\frac32 k_Bt = \\frac12 mv^2\n",
    "$$\n",
    "\n",
    "To get the velocity of the molecule:\n",
    "\n",
    "$$\n",
    "\\frac{3 k_B T}{m} = v^2\n",
    "$$\n",
    "\n",
    "Formula for speed of sound terms of mass density:\n",
    "\n",
    "$$\n",
    "\\frac{\\partial P}{m \\partial \\rho} = c^2\n",
    "$$\n",
    "\n",
    "using ideal gas pressure\n",
    "\n",
    "$$\n",
    "P = \\rho k_B T\n",
    "$$\n",
    "\n",
    "$$\n",
    "\\implies \\frac{\\partial P}{\\partial \\rho} = k_B T\n",
    "$$\n",
    "\n",
    "divide by mass to get in same form as $c^2$ above:\n",
    "\n",
    "$$\n",
    "\\implies \\frac{\\partial P}{m \\partial \\rho} = \\frac{k_B T}{m}  = c^2\n",
    "$$\n",
    "\n",
    "which is correct within a factor of $\\sqrt3$, not bad."
   ]
  },
  {
   "cell_type": "markdown",
   "metadata": {
    "collapsed": true,
    "hidden": true
   },
   "source": [
    "## Let's try it:\n",
    "\n",
    "Let\n",
    "\n",
    "$$\n",
    "k_B = 1.3 \\times 10^{-23}\n",
    "$$\n",
    "\n",
    "$$\n",
    "m = 30 m_{proton} = 4 \\times 10^{-26} kg\n",
    "$$\n",
    "\n",
    "$$\n",
    "T = 300\n",
    "$$\n",
    "\n",
    "Using the above formula \n",
    "\n",
    "$$\n",
    "\\frac{3 k_B T}{m} = v^2\n",
    "$$\n",
    "\n",
    "\n",
    "we get:\n",
    "\n",
    "$$\n",
    "v = 500 m/sec\n",
    "$$ \n",
    "\n",
    "Which is close"
   ]
  },
  {
   "cell_type": "markdown",
   "metadata": {
    "heading_collapsed": true,
    "hidden": true
   },
   "source": [
    "## Harmonic oscillator (begins 17' 45\")\n",
    "\n",
    "![oscillator](./images/oscillator.png)\n"
   ]
  },
  {
   "cell_type": "markdown",
   "metadata": {
    "hidden": true
   },
   "source": [
    "Hamiltonian (energy) of the system:\n",
    "\n",
    "$$\n",
    "E = \\frac{m}{2}\\dot{x}^2 + \\frac{k x^2}{2} \n",
    "$$\n",
    "\n",
    "using momentum instead of velocity:\n",
    "\n",
    "$$\n",
    "E = \\frac{p^2}{2m} + \\frac{kx^2}{2}\n",
    "$$"
   ]
  },
  {
   "cell_type": "markdown",
   "metadata": {
    "hidden": true
   },
   "source": [
    "write the Boltzmann distribution for the system:\n",
    "\n",
    "factorizing the energy into two terms:\n",
    "\n",
    "$$\n",
    "e^{-\\beta \\frac{p^2}{2m} } \\times e^{\\frac{-\\beta k x^2}{2}}\n",
    "$$\n",
    "\n",
    "use this to find the partition function: \n",
    "\n",
    "$$\n",
    "z = \\int e^{-\\beta \\frac{p^2}{2m} }  e^{\\frac{-\\beta k x^2}{2}} dp dx\n",
    "$$\n",
    "\n",
    "$$\n",
    "= \\int_p e^{-\\beta \\frac{p^2}{2m} } dp \\int_x e^{\\frac{-\\beta k x^2}{2}} dx\n",
    "$$"
   ]
  },
  {
   "cell_type": "markdown",
   "metadata": {
    "hidden": true
   },
   "source": [
    "Use change of variable for both integrations:\n",
    "\n",
    "To integrate the left side:\n",
    "\n",
    "Let\n",
    "\n",
    "$$\n",
    "\\frac{p^2 \\beta}{2m} = q^2.\n",
    "$$\n",
    "\n",
    "$$\n",
    "p = \\sqrt{\\frac{2m}{\\beta}} q\n",
    "$$\n",
    "\n",
    "$$\n",
    "dp = \\sqrt{\\frac{2m}{\\beta}} dq\n",
    "$$\n"
   ]
  },
  {
   "cell_type": "markdown",
   "metadata": {
    "hidden": true
   },
   "source": [
    "$$\n",
    "\\sqrt{\\frac{2m}{\\beta}} \\int_{-\\infty}^{\\infty} dq e^{q^2}\n",
    "$$\n",
    "\n",
    "$$\n",
    "= \\sqrt{\\frac{2m\\pi}{\\beta}}\n",
    "$$"
   ]
  },
  {
   "cell_type": "markdown",
   "metadata": {
    "hidden": true
   },
   "source": [
    "right side:\n",
    "\n",
    "Let\n",
    "$$\n",
    "\\frac{x^2 \\beta k}{2} = y^2.\n",
    "$$\n",
    "\n",
    "$$\n",
    "x = \\sqrt{\\frac{2}{\\beta k}}  y\n",
    "$$\n",
    "\n",
    "> $$\n",
    "dx = \\sqrt{\\frac{2}{\\beta k}}  dy\n",
    "$$\n",
    "\n",
    "right side becomes:\n",
    "\n",
    "$$\n",
    "\\sqrt{\\frac{2}{\\beta k}} \\int_{-\\infty}^{\\infty} dy e^{-y^2}\n",
    "$$\n",
    "\n",
    "$$\n",
    "= \\sqrt{\\frac{2 \\pi}{\\beta k}}\n",
    "$$\n"
   ]
  },
  {
   "cell_type": "markdown",
   "metadata": {
    "hidden": true
   },
   "source": [
    "giving us:\n",
    "\n",
    "$$\n",
    "z = \\sqrt{\\frac{2m\\pi}{\\beta}} \\sqrt{\\frac{2 \\pi}{\\beta k}}\n",
    "$$ \n",
    "\n",
    "(since $\\frac km = \\omega$:)\n",
    "\n",
    "$$\n",
    "z = \\frac{2 \\pi}{\\omega} \\frac 1\\beta\n",
    "$$\n",
    "\n",
    "> seems this should be \n",
    "\n",
    "> $$\n",
    "z = \\frac{2 \\pi}{\\sqrt{\\omega}} \\frac 1\\beta\n",
    "$$\n"
   ]
  },
  {
   "cell_type": "markdown",
   "metadata": {
    "hidden": true
   },
   "source": [
    "Now, we'll calculate the energy of the oscillator. \n",
    "\n",
    "Find the $\\log(z)$, and differentiate with respect to $\\beta$. \n",
    "\n",
    "Letting $c = \\frac{2 \\pi}{\\sqrt{\\omega}}$, we write\n",
    "\n",
    "$$\n",
    "\\log z = c - \\log \\beta\n",
    "$$\n",
    "\n",
    "$$\n",
    "E = \\frac{-\\partial \\log z}{\\partial \\beta} = \\frac 1\\beta = T\n",
    "$$ \n",
    "\n",
    "Energy does not depend on mass or spring constant!"
   ]
  },
  {
   "cell_type": "markdown",
   "metadata": {
    "hidden": true
   },
   "source": [
    "## Quantum mechanical version of harmonic oscillator"
   ]
  },
  {
   "cell_type": "markdown",
   "metadata": {
    "hidden": true
   },
   "source": [
    "Set of discrete states of $\\hbar \\omega$:\n",
    "\n",
    "$\\hbar$ is Planck's constant.\n",
    "\n",
    "![states_quantum_oscillator](./images/states_quantum_oscillator.png)\n",
    "\n",
    "$$\n",
    "E = n \\hbar \\omega\n",
    "$$\n",
    "\n",
    "Therefore, partition function is\n",
    "\n",
    "$$\n",
    "z = \\sum_n e^{-\\beta n \\hbar \\omega}\n",
    "$$\n",
    "\n",
    "$$\n",
    " = \\sum_n (e^{-\\beta \\hbar \\omega})^n\n",
    "$$\n",
    "\n",
    ">Is of form:\n",
    ">$$\n",
    "1 + x + x^2 + x^3 + ...\n",
    "$$\n",
    "\n",
    ">$$\n",
    "= \\frac{1}{1-x}\n",
    "$$\n",
    "\n",
    "> a geometric series.\n",
    "\n",
    "This gives us:\n",
    "\n",
    "$$\n",
    "z = \\frac{1}{1 - e^{-\\beta \\hbar w}}\n",
    "$$"
   ]
  },
  {
   "cell_type": "markdown",
   "metadata": {
    "hidden": true
   },
   "source": [
    "As always, find the energy by taking derivate $\\log z$ with respect to $\\beta$."
   ]
  },
  {
   "cell_type": "markdown",
   "metadata": {
    "hidden": true
   },
   "source": [
    "> **Chain rule:** \n",
    "\n",
    "> Recall that the derivative of a compound function is:\n",
    "\n",
    ">$$\n",
    "\\frac d{dx} f(g(x)) = \\frac d{dg} f(g(x)) \\times \\frac d{dx} g(x)\n",
    "$$\n",
    "\n",
    ">Alternatively,  if  $z = f(y)$, and $y = g(x)$, \n",
    "\n",
    ">$$\n",
    "\\frac{dz}{dx} = \\frac{dz}{dy} \\frac{dy}{dx}\n",
    "$$"
   ]
  },
  {
   "cell_type": "markdown",
   "metadata": {
    "hidden": true
   },
   "source": [
    "Just use the property of the logarithm, since $\\frac{d}{dx} \\log x = \\frac 1x$ by using form\n",
    "\n",
    "$$\n",
    "\\frac{\\partial \\ln z}{\\partial \\beta} = \\frac{1}{z} \\frac{\\partial z}{\\partial \\beta}\n",
    "$$\n",
    "\n",
    "$$\n",
    "\\implies - \\frac{\\partial \\ln z}{\\partial \\beta} = -\\frac{1}{z} \\frac{\\partial z}{\\partial \\beta}\n",
    "$$\n",
    "\n",
    "$$\n",
    "\\frac{\\partial z}{\\partial \\beta} = \\frac{-1}{(1 - e^{-\\beta \\hbar w})^2} \\text{    Just from differentiating the whole denominator.}\n",
    "$$  "
   ]
  },
  {
   "cell_type": "markdown",
   "metadata": {
    "hidden": true
   },
   "source": [
    "(Since $\\frac d{dx} \\frac 1x = \\frac d{dx} x^{-1} = -1 x^{-2} = \\frac{-1}{x^2}$)."
   ]
  },
  {
   "cell_type": "markdown",
   "metadata": {
    "hidden": true
   },
   "source": [
    "Taking derivative of the 'inside',\n",
    "\n",
    "$$\n",
    "\\frac{d}{d\\beta} (1-e^{-\\beta \\hbar \\omega}) = \\hbar \\omega e^{-\\beta \\hbar \\omega}\n",
    "$$"
   ]
  },
  {
   "cell_type": "markdown",
   "metadata": {
    "hidden": true
   },
   "source": [
    "Combining these gives:\n",
    "\n",
    "$$\n",
    "\\frac{\\partial z}{\\partial \\beta} = \\frac{- \\hbar \\omega e^{-\\beta \\hbar \\omega}}{(1 - e^{-\\beta \\hbar w})^2}\n",
    "$$\n"
   ]
  },
  {
   "cell_type": "markdown",
   "metadata": {
    "hidden": true
   },
   "source": [
    "We still need to divide by $z$:\n",
    "\n",
    "$$\n",
    "\\frac{\\partial \\log z}{\\partial \\beta} \n",
    "$$\n",
    "$$\n",
    "= \\frac{1}{z} \\frac{\\partial z}{\\partial \\beta} =  \\frac{1}{z}  \\frac{- \\hbar \\omega e^{-\\beta \\hbar \\omega}}{(1 - e^{-\\beta \\hbar w})^2}\n",
    "$$\n",
    "\n",
    "$$\n",
    "= (1 - e^{-\\beta \\hbar w})  \\frac{- \\hbar \\omega e^{-\\beta \\hbar \\omega}}{(1 - e^{-\\beta \\hbar w})^2}\n",
    "$$\n",
    "\n",
    "$$\n",
    "=  \\frac{- \\hbar \\omega e^{-\\beta \\hbar \\omega}}{(1 - e^{-\\beta \\hbar w})}\n",
    "$$"
   ]
  },
  {
   "cell_type": "markdown",
   "metadata": {
    "hidden": true
   },
   "source": [
    "> Recall that\n",
    "\n",
    "> $$\n",
    "E = -\\frac{\\partial \\log z}{\\partial \\beta} = - \\frac{1}{z} \\frac{\\partial z}{\\partial \\beta}\n",
    "$$\n",
    "\n",
    "Therefore the above $\\frac{\\partial \\log z}{\\partial \\beta} $ gives the negative of the energy, but we of course want positive energy, so negate:\n",
    "\n",
    "\n",
    "$$\n",
    "- \\frac{1}{z} \\frac{\\partial z}{\\partial \\beta} =  \\frac{\\hbar \\omega e^{-\\beta \\hbar \\omega}}{(1 - e^{-\\beta \\hbar w})}\n",
    "$$\n",
    "\n",
    "$$\n",
    "E =  \\frac{\\hbar \\omega e^{-\\beta \\hbar \\omega}}{(1 - e^{-\\beta \\hbar w})}\n",
    "$$\n",
    "\n",
    "This is compared with $E = \\frac 1 \\beta$ in the classical case."
   ]
  },
  {
   "cell_type": "markdown",
   "metadata": {
    "hidden": true
   },
   "source": [
    "At **high temp, the classical theory works**.  When systems have high temperature they have a lot of energy, and the quantization of energy becomes unimportant.\n",
    "\n",
    "At high temp, since $\\beta = 1/T$, $\\beta \\to 0$.\n",
    "\n",
    "Since $\\lim_{\\beta \\to 0} e^{-\\beta \\hbar \\omega} = 1$ for the numerator, and for the denominator we use the first two terms of the Taylor expansion: $e^x = 1 + x + \\frac{x^2}{2} + ...$,\n",
    "\n",
    "$$\n",
    "\\lim_{\\beta \\to 0} \\frac{\\hbar \\omega e^{-\\beta \\hbar \\omega}}{(1 - e^{-\\beta \\hbar w})} \\approx \\frac{\\hbar \\omega}{1 - (1 - \\beta \\hbar \\omega)} = \\frac{\\hbar \\omega}{1 -1 + \\beta \\hbar \\omega} = \\frac 1 \\beta\n",
    "$$\n",
    "\n",
    "**This is similar to our result for the classical oscillator above. $E = \\frac1 \\beta$**\n",
    "\n",
    "\n",
    "> NOTE, the above procedure seems a bit unusual, since we perform different operations on the same term in the numerator and denominator.\n",
    "\n",
    "> If we had used the Taylor expansion for the numerator AND denominator, we would get:\n",
    "\n",
    "> $$\n",
    "\\lim_{\\beta \\to 0} \\frac{\\hbar \\omega e^{-\\beta \\hbar \\omega}}{(1 - e^{-\\beta \\hbar w})} \\approx \\frac{\\hbar \\omega (1 - \\beta \\hbar \\omega)}{1 - (1 - \\beta \\hbar \\omega)} \n",
    "$$\n",
    "\n",
    "> $$\n",
    "= \\frac{\\hbar \\omega - \\beta \\hbar^2 \\omega^2}{\\beta \\hbar \\omega} \n",
    "$$\n",
    "\n",
    "> $$\n",
    "= \\frac{1}{\\beta} - \\hbar \\omega\n",
    "$$\n",
    "\n"
   ]
  },
  {
   "cell_type": "markdown",
   "metadata": {
    "hidden": true
   },
   "source": [
    "** At low temperature, $\\beta \\gg 0$ **\n",
    "\n",
    "The denominator $\\to$ 1.\n",
    "\n",
    "$$\n",
    "\\lim E_{T \\to 0} = \\lim_{T \\to 0} \\frac{\\hbar \\omega e^{-\\beta \\hbar \\omega}}{(1 - e^{-\\beta \\hbar w})} \\approx \\hbar \\omega e^{-\\beta \\hbar \\omega}, \\text{also very small}\n",
    "$$\n",
    "\n",
    "So, in the quantum case, there is much less energy than in the classical oscillator.\n",
    "\n",
    "Where is the crossover between classical and quantum (high and low temperature)?"
   ]
  },
  {
   "cell_type": "markdown",
   "metadata": {
    "hidden": true
   },
   "source": [
    "The crossover is where the exponential goes from small to large:\n",
    "\n",
    "where the value in the exponential is about 1:\n",
    "\n",
    "$$\n",
    " \\beta \\hbar \\omega \\approx 1\n",
    "$$\n",
    "\n",
    "$$\n",
    "\\beta \\hbar \\omega \\gt 1  \\text{,    quantum (low temp.)}\n",
    "$$\n",
    "\n",
    "$$\n",
    "\\beta \\hbar \\omega \\lt 1  \\text{,     classical (high temp.)}\n",
    "$$\n",
    "\n",
    "$$\n",
    "\\text{Since } \\beta = 1/t, \\text{   crossover between quantum and classical behavior happens at   } \n",
    "$$\n",
    "$$\n",
    "\\hbar \\omega \\approx T.\n",
    "$$"
   ]
  },
  {
   "cell_type": "markdown",
   "metadata": {
    "hidden": true
   },
   "source": [
    "At low temperature, the diatomic molecule becomes like a monatomic molecule.\n",
    "\n",
    "As you heat the system, more and more degrees of freedom become activated (the energy is high enough to overcome very stiff springs of atomic or molecular interactions).  Elements of the system unfreeze themselves from the quantum constraint and start behaving classically.\n",
    "\n",
    "The stiffer the oscillator, the higher the temperature of the crossover from quantum to classical behavior.  (Where the temperature is larger than a quantum of energy.) \n",
    "\n",
    "Energy as function of temperature gives the specific heat of a material.  This quantum mechanical solution helps determine the specific heat of a crystal, which classical mechanics was not able to solve (Einstein).  "
   ]
  },
  {
   "cell_type": "markdown",
   "metadata": {
    "hidden": true
   },
   "source": [
    "## 2nd law of thermodynamics (1h 11') - \n",
    "## Entropy increases, or stays the same"
   ]
  },
  {
   "cell_type": "markdown",
   "metadata": {
    "hidden": true
   },
   "source": [
    "![phase_space](./images/phase_space.png)\n",
    "\n",
    "Entropy is $- \\log(volume)$ in phase space\n",
    "\n",
    "Microscopic entropy or micro-entropy (left-hand side)\n",
    "\n",
    "vs. \n",
    "\n",
    "Coarse-grained phase space - volume appears to increase (right-hand side of figure)\n",
    "\n",
    "\n",
    "**Entropy is not only a property of the system**\n",
    "* **it is a property of the system and** \n",
    "* ** *what you know* about the system.**\n",
    "\n",
    "No matter how good your resolution, at some point you won't be able to capture all the complexity of phase space, so entropy increases. (due to 'coarse-graining' by limits of resolution)\n",
    "\n",
    "This is **chaos** in phase space, the volume will grow smaller and smaller 'fibers' in phase space.\n",
    "\n",
    "![fibers](./images/fibers.png)\n",
    "\n",
    "\n",
    "\n",
    "Boltzmann: Entropy *probably* increases.\n",
    "\n",
    "**Chaos:  two 'nearby' points in phase space eventually diverge**\n",
    "\n",
    "![chaos1](./images/chaos1.png)\n",
    "\n",
    "\n",
    "Eventually, this 'cotton' of uncertainty can fill all of phase space, so we don't know anything anymore.\n",
    "\n",
    "![chaos2](./images/chaos2.png)\n",
    "\n",
    "The phase point will eventually come back to the starting point (within a certain tolerance)."
   ]
  },
  {
   "cell_type": "markdown",
   "metadata": {},
   "source": [
    "# Lecture 8 - Poincare Recurrence, Simple Magnetic Model (not quite Ising)"
   ]
  },
  {
   "cell_type": "markdown",
   "metadata": {},
   "source": [
    "** Poincare recurrence **- how long do you have to wait for the system to return to initial conditions?\n",
    "\n",
    "![poincare_recurrence](./images/poincare_recurrence.png)\n",
    "\n",
    "Start with description of system in one corner of phase space.\n",
    "\n",
    "For $N$ particles, has dimension $6N$. (position, momentum of each particle)\n",
    "\n",
    "Eventually, may fill all of phase space over time:\n",
    "\n",
    "![poincare_recurrence](./images/poincare_recurrence3.png)\n",
    "\n",
    "What percentage of the time would we expect the system to be in 1/2 of the room?\n",
    "\n",
    "The probability of all $N$ particles to be in one half of the room?  \n",
    "\n",
    "You would expect all the particles to be in that half of the room $\\frac12^N$ of the time."
   ]
  },
  {
   "cell_type": "markdown",
   "metadata": {},
   "source": [
    "If we have $N$ particles in a smaller part of the room\n",
    "\n",
    "![poincare_recurrence2](./images/poincare_recurrence2.png)\n",
    "\n",
    "Entropy is the logarithm of the volume in phase space.\n",
    "\n",
    "$V^N$ is the exponential to the exponential of entropy\n",
    "\n",
    "$$\n",
    "S = (\\log V) ^ N \\implies V^N = (e^S)^N\n",
    "$$\n",
    "\n",
    "In this case, we would expect the system to be in the smaller volume\n",
    "\n",
    "$$\n",
    "\\frac{v^N}{V^N}\n",
    "$$\n",
    "\n",
    "of the time.\n",
    "\n",
    "\n",
    "Roughly speaking, $v^N$ is the entropy a gas would have if all the particles were in a small region.\n",
    "\n",
    "The probability of being in a small region is $e^{-S} = \\frac{1}{e^S}$\n",
    "\n",
    "Roughly $10^{30}$ particles in the room.\n",
    "\n",
    "$\\frac12^{10^{30}}$ of the time, you will be in the starting position.\n",
    "\n",
    "in the case of halves of the room, you have to wait approximately $2^{10^{30}}$ time units. \n",
    "\n",
    "(so large that units don't matter. For example $\\frac{2^{10^{30}}}{10^3} = 2^{(10^{30}-3)}$, still very large.)\n",
    "\n",
    "We do this exercise to understand reversibility of systems.  If we watch a closed system long enough we would observe recurrence."
   ]
  },
  {
   "cell_type": "markdown",
   "metadata": {},
   "source": [
    "## Problem of Boltzmann Brains\n",
    "\n",
    "**If we are the result of random fluctuations:**\n",
    "\n",
    "Most likely configuration of the universe is that you would see gas everywhere.\n",
    "\n",
    "Chance to see one planet very small.  \n",
    "\n",
    "Given that there are astronomers, the most likely thing they would see is nothing.\n",
    "\n",
    "Probabilty of existence of something as complex as a brain is basically zero.  Etc.\n",
    "\n",
    "\n",
    "\n",
    "Therefore, the world, universe etc. is most probably not a result of random fluctuations.\n",
    "\n"
   ]
  },
  {
   "cell_type": "markdown",
   "metadata": {},
   "source": [
    "## Simple model of magnets with external magnetic field and _no_ _interactions_"
   ]
  },
  {
   "cell_type": "markdown",
   "metadata": {},
   "source": [
    "External magnetic field, **no interactions.**  (This is not yet Ising, but a simpler.)\n",
    "\n",
    "![ising](./images/ising.png)\n",
    "\n",
    "\n",
    "Phase transition (ferro-magnetic transition) is point at which large number of sub-magnets align. \n",
    "\n",
    "(Don't think of it as real magnet.)\n",
    "\n",
    "$\\sigma(i) \\in \\{+1, -1\\}$ = up, down"
   ]
  },
  {
   "cell_type": "markdown",
   "metadata": {},
   "source": [
    "**Energy:**\n",
    "\n",
    "$n$ = number of ups\n",
    "\n",
    "$m$ = number of downs\n",
    "\n",
    "$n + m = N$\n",
    "\n",
    "$H$ is an **external magnetic field imposed from the outside**\n",
    "\n",
    "$\\mu$ is the strength of the magnetic field.\n",
    "\n",
    "$$\n",
    "E = (n - m) \\mu H\n",
    "$$\n",
    "\n",
    "The number of configurations with this value of energy $(n - m)$ is:\n",
    "\n",
    "$$\n",
    "\\frac{N!}{n! m!}\n",
    "$$"
   ]
  },
  {
   "cell_type": "markdown",
   "metadata": {},
   "source": [
    "**Partition function:**\n",
    "\n",
    "$$\n",
    "z = \\sum_{n,m} e^{-\\beta \\mu H (n-m)},\n",
    "$$\n",
    "\n",
    "where $m = N - n$\n",
    "\n",
    "\n",
    "Let $e^{-\\beta \\mu H} = x$ and $e^{+\\beta \\mu H} = y$, we get\n",
    "\n",
    "$$\n",
    "z = \\sum_n \\frac{N!}{n!(N-n)!} x^n y^m = (x + y)^N, \\text{ (Binomial expansion)}\n",
    "$$\n",
    "\n",
    "which gives\n",
    "\n",
    "$$\n",
    "z = (e^{-\\beta \\mu H} + e^{\\beta \\mu H})^N\n",
    "$$"
   ]
  },
  {
   "cell_type": "markdown",
   "metadata": {},
   "source": [
    "$$\n",
    "= \\frac{(e^{-\\beta \\mu H} + e^{\\beta \\mu H})}{2}^N 2^N\n",
    "$$\n",
    "\n",
    "$$\n",
    "z = 2^N(\\cosh \\beta \\mu H)^N  \\text{       (hyperbolic cosine)}\n",
    "$$"
   ]
  },
  {
   "cell_type": "markdown",
   "metadata": {},
   "source": [
    "**Magnetization** (average up-ness or down-ness of each particle)\n",
    "\n",
    "$$\n",
    "M = \\Big<\\frac{n-m}N\\Big>\n",
    "$$\n",
    "\n",
    "**Average energy:**\n",
    "$$\n",
    "<E> = N \\mu H M\n",
    "$$\n",
    "\n",
    "> $$\n",
    "\\implies M = \\frac{E}{N \\mu H}\n",
    "$$"
   ]
  },
  {
   "cell_type": "markdown",
   "metadata": {},
   "source": [
    "**The system is biased to be down, not up.  Energy 'wants' to be minimized.**\n",
    "\n",
    "At zero temperature, the magnetization will be -1.\n",
    "At infinite temperature, the system is maximally random, magnetization will be zero. \n",
    "\n",
    "(At no point will the magnetization be positive.)\n",
    "\n",
    "\n",
    "Calculate the energy from the partition function:\n",
    "\n",
    "$$\n",
    "E = - \\frac{\\partial \\log z}{\\partial \\beta}\n",
    "$$\n",
    "\n",
    "(drop the constant) \n",
    "\n",
    "$$\n",
    "\\log z = N (\\log \\cosh \\beta \\mu H)\n",
    "$$"
   ]
  },
  {
   "cell_type": "markdown",
   "metadata": {},
   "source": [
    "$$\n",
    "E = -\\frac{\\partial \\log z}{\\partial \\beta} = - N \\frac{\\sinh \\beta \\mu H}{\\cosh \\beta \\mu H} \\mu H\n",
    "$$"
   ]
  },
  {
   "cell_type": "markdown",
   "metadata": {},
   "source": [
    "Find the magnetization, divide by $N \\mu H$:\n",
    "\n",
    "$$\n",
    "M = -\\frac{\\sinh \\beta \\mu H}{\\cosh \\beta \\mu H} = -\\tanh \\beta \\mu H\n",
    "$$\n",
    "\n",
    "$H, \\mu$ are constants, so just a function of $\\beta$.  What does $\\tanh$ look like?\n",
    "\n",
    "$$\n",
    "\\cosh x = \\frac{e^x + e^{-x}}{2}\n",
    "$$\n",
    "\n",
    "$$\n",
    "\\sinh x = \\frac{e^x - e^{-x}}{2}\n",
    "$$\n",
    "\n",
    "For large $x$, they are approximately equal.\n",
    "\n",
    "$$\n",
    "\\lim_{x \\to \\infty} \\tanh x = 1\n",
    "$$\n",
    "\n",
    "$$\n",
    "\\lim_{x \\to 0} \\tanh x = 0\n",
    "$$\n",
    "\n",
    "![tanh](./images/tanh.png)\n",
    "\n"
   ]
  },
  {
   "cell_type": "markdown",
   "metadata": {},
   "source": [
    "## Begin Ising Model:  \n",
    "\n",
    "Symmetry between up and down orientation.\n",
    "\n",
    "**No external field, only interactions**\n",
    "\n",
    "![1-d-ising-lattice](./images/1-d-ising-lattice.png)\n",
    "\n",
    "Magnets on a lattice.\n",
    "\n",
    "If aligned, energy is lower, if not aligned, energy is higher.\n",
    "\n",
    "$\\sigma(i) \\in \\{+1, -1\\}$ = up, down\n",
    "\n",
    "For one pair of particles $1$ and $2$:\n",
    "\n",
    "$$\n",
    "E = -j \\sigma(1) \\sigma(2)\n",
    "$$\n",
    "\n",
    "$j$ is an energy scale.\n",
    "\n",
    "\n",
    "For the system:\n",
    "\n",
    "$$\n",
    "E = -j \\sum_n \\sigma(n) \\sigma(n+1)\n",
    "$$\n",
    "\n",
    "At infinite temperature, just random, everything equally likely.\n",
    "\n",
    "$M = 0$\n",
    "\n",
    "At zero temperature, will the all be aligned up ($+1$) or down ($-1$)?\n",
    "\n",
    "We don't know, since there are two ground states (up, down) that are equally likely.\n",
    "\n",
    "At zero temperature, the Boltzmann distribution always favors (very very strongly) the ground state.\n",
    "\n",
    "\"Symmetry is usually represented by a mathematical operation on the degrees of freedom.\"\n",
    ">here, multiply sigma by $-1$: $\\sigma(i) \\to - \\sigma(i)$\n",
    "\n",
    "**\"Symmetry is actions you can do that don't change the energy (for every state).\"**  \n",
    "\n",
    "(i.e. there is no bias toward up or down)\n",
    "\n"
   ]
  },
  {
   "cell_type": "markdown",
   "metadata": {},
   "source": [
    "Next time: solve 1-dimensional Ising model: calculate partition function\n",
    "\n",
    "No phase transition at finite temperature."
   ]
  },
  {
   "cell_type": "markdown",
   "metadata": {},
   "source": [
    "# Lecture 9 - Ising Model, 1-Dimensional and High-dimensional"
   ]
  },
  {
   "cell_type": "markdown",
   "metadata": {
    "collapsed": true
   },
   "source": [
    "Wrote\n",
    "\n",
    "$$\n",
    "E = \\mu \\beta \\sigma\n",
    "$$\n",
    "\n",
    "Now let $j =  - \\mu \\beta$      (Both constants.)\n",
    "\n",
    "$$\n",
    "E = - j \\sigma\n",
    "$$\n",
    "\n",
    "$$\n",
    "z = \\sum e^{+ \\beta j \\sigma} = (e^{\\beta j} + e^{- \\beta j}) = 2 \\cosh \\beta j\n",
    "$$"
   ]
  },
  {
   "cell_type": "markdown",
   "metadata": {},
   "source": [
    "$$\n",
    "\\frac{\\partial z}{\\partial \\beta} = 2j\\sinh \\beta j\n",
    "$$\n",
    "\n",
    "$$\n",
    "- \\frac 1z \\frac{\\partial z}{\\partial \\beta} = - \\frac{2j\\sinh \\beta j}{2 \\cosh \\beta j} = - j \\tanh \\beta j\n",
    "$$"
   ]
  },
  {
   "cell_type": "markdown",
   "metadata": {},
   "source": [
    "The average energy of one particle (not whole system):\n",
    "$$\n",
    "<E> = - j \\tanh \\beta j\n",
    "$$\n",
    "\n",
    "$$\n",
    "<\\sigma> = \\tanh \\beta j\n",
    "$$\n",
    "\n",
    "Hyperbolic tangent has slope 1 at 0, and $\\lim_{x\\to \\infty}\\tanh x = 1$\n",
    "\n",
    "Here let $x = \\beta j$\n",
    "\n",
    "![tanh2](./images/tanh2.png)\n"
   ]
  },
  {
   "cell_type": "markdown",
   "metadata": {},
   "source": [
    "## 1-Dimensional Ising Model:"
   ]
  },
  {
   "cell_type": "markdown",
   "metadata": {},
   "source": [
    "\n",
    "![ising2](./images/ising2.png)\n",
    "\n",
    "$$\n",
    "E = - j \\sum_i \\sigma_i \\sigma_{i+1}\n",
    "$$\n",
    "\n",
    "Minus sign means favors particles being parallel (same orientation)."
   ]
  },
  {
   "cell_type": "markdown",
   "metadata": {},
   "source": [
    "There are two **ground states**: all up, all down"
   ]
  },
  {
   "cell_type": "markdown",
   "metadata": {},
   "source": [
    "Partition function:\n",
    "\n",
    "exponential of all possible configurations\n",
    "\n",
    "$$\n",
    "z = e^{-j \\beta \\sum_i \\sigma_i \\sigma_{i+1}}\n",
    "$$"
   ]
  },
  {
   "cell_type": "markdown",
   "metadata": {},
   "source": [
    "Can substitute the values of the bonds for the spins:\n",
    "\n",
    "$$\n",
    "z = \\sum_{\\mu} e^{-j \\beta \\mu_i}\n",
    "$$"
   ]
  },
  {
   "cell_type": "markdown",
   "metadata": {},
   "source": [
    "## missed some material **~35 min**"
   ]
  },
  {
   "cell_type": "markdown",
   "metadata": {},
   "source": [
    "## High-Dimensional Ising Model:"
   ]
  },
  {
   "cell_type": "markdown",
   "metadata": {},
   "source": [
    "![high_dimensional_ising](./images/high_dimensional_ising.png)\n",
    "\n",
    "**Mean-field approximation**"
   ]
  },
  {
   "cell_type": "markdown",
   "metadata": {},
   "source": [
    "$$\n",
    "- j\\sigma \\sum_{neighbor} \\sigma\n",
    "$$\n",
    "\n",
    "mean field approximation\n",
    "\n",
    "average spin:\n",
    "\n",
    "$$\n",
    "\\bar{\\sigma}\n",
    "$$\n",
    "\n",
    "energy of one particle:\n",
    "\n",
    "$$\n",
    "E = -2d j \\sigma \\bar{\\sigma}\n",
    "$$"
   ]
  },
  {
   "cell_type": "markdown",
   "metadata": {},
   "source": [
    "$$\n",
    "\\bar{\\bar{\\sigma}} = \\tanh (2\\beta dj) \\bar{\\sigma}\n",
    "$$"
   ]
  },
  {
   "cell_type": "markdown",
   "metadata": {},
   "source": [
    "Let $y = 2 \\beta d j \\bar{\\sigma}$"
   ]
  },
  {
   "cell_type": "markdown",
   "metadata": {},
   "source": [
    "$$\n",
    "\\implies \\frac{y}{2\\beta d j} = \\tanh y\n",
    "$$\n",
    "\n",
    "$$\n",
    "\\implies \\frac{Ty}{2 d j} = \\tanh y\n",
    "$$"
   ]
  },
  {
   "cell_type": "markdown",
   "metadata": {},
   "source": [
    "At high temperature, red line vertical, only intersects $\\tanh$ at 0.\n",
    "\n",
    "When $\\frac{T}{2dj} = 1$, slope is 1, the left-hand side is tangent to the $\\tanh$ function.\n",
    "\n",
    "$T = 2dj$\n",
    "\n",
    "![tanh_ising](./images/tanh_ising.png)\n",
    "\n",
    "As $T$ decreases, solution intersects $tanh$ with lower slope lines.\n",
    "\n",
    "Phase transition\n",
    "\n",
    "Intuition for why 1-dimensional case is less stable"
   ]
  },
  {
   "cell_type": "code",
   "execution_count": 11,
   "metadata": {
    "collapsed": false
   },
   "outputs": [
    {
     "data": {
      "image/png": "[encoded data removed]",
      "text/plain": [
       "<Figure size 648x288 with 1 Axes>"
      ]
     },
     "metadata": {},
     "output_type": "display_data"
    }
   ],
   "source": [
    "plt.figure(figsize=[9,4])\n",
    "\n",
    "#for T in list(np.linspace(.1,5,10)):\n",
    "T = 1\n",
    "d = 1\n",
    "j = 1\n",
    "σ =  np.linspace(-2,2, 20)\n",
    "β = 1/T\n",
    "y=2*β* d* j* σ\n",
    "\n",
    "plt.xlim([-2,2])\n",
    "plt.ylim([-1.1,1.1])\n",
    "plt.plot(σ ,np.tanh(y));\n",
    "\n",
    "\n",
    "# plot the line\n",
    "\n",
    "slope = (T * y)/(2 * d * j)\n",
    "intercept = 0\n",
    "\n",
    "# Create a list of values in the best fit line\n",
    "abline_values = [slope * i + intercept for i in σ]\n",
    "\n",
    "# Plot the best fit line over the actual values\n",
    "plt.plot(σ, abline_values, 'red', alpha = .2);"
   ]
  },
  {
   "cell_type": "markdown",
   "metadata": {},
   "source": [
    "## Now add external force $B$\n",
    "\n",
    "$$\n",
    "E = - [2dj \\bar \\sigma + B] \\sigma\n",
    "$$\n",
    "\n",
    "\n",
    "$$\n",
    "\\frac{Ty}{2 d j} = \\tanh y + B \\beta\n",
    "$$\n",
    "\n",
    "$$\n",
    "\\bar{\\bar{\\sigma}} = \\tanh [(2\\beta dj) \\bar{\\sigma} + \\beta B]\n",
    "$$\n",
    "\n",
    "![ising_high_temp](./images/ising_high_temp.png)"
   ]
  },
  {
   "cell_type": "markdown",
   "metadata": {},
   "source": [
    "# Lecture 10 - Liquid Gas Transition using Ising Model"
   ]
  },
  {
   "cell_type": "markdown",
   "metadata": {
    "collapsed": true
   },
   "source": [
    "Mean Field Approximation to understand how phase transitions take place.  The more neighbors, the better approximation is the average."
   ]
  },
  {
   "cell_type": "markdown",
   "metadata": {},
   "source": [
    "Call it a \"bond\" when i and j are aligned, and a \"broken bond\" when i and j are not aligned.\n",
    "\n",
    "Therefore, every broken bond costs $+ 2J$ energy.\n",
    "\n",
    "And another term that acts externally on the lattice.\n",
    "\n",
    "$$\n",
    "E = -J\\sum_{link} \\sigma(i) \\sigma(j) + \\sum_{sites} h\\sigma(i) + C\n",
    "$$"
   ]
  },
  {
   "cell_type": "markdown",
   "metadata": {},
   "source": [
    "$$\n",
    "[-2dJ\\bar{\\sigma} + h]\\sigma\n",
    "$$\n",
    "\n",
    "$$\n",
    "\\bar{\\bar{\\sigma}} = \\tanh[-2dJ\\bar{\\sigma} + h]\\beta\n",
    "$$\n",
    "\n",
    "$$\n",
    "\\frac{yT}{2dJ} = \\tanh (y - \\beta h)\n",
    "$$\n",
    "\n",
    "slope is 1 when $T = 2dJ$ = critical temperature\n",
    "\n",
    "![phase_transition_magnet](./images/phase_transition_magnet.png)\n",
    "\n",
    "A very small amount of $h$ shifts the field toward 'up' or 'down'.\n",
    "\n",
    "![magnetization_1](./images/magnetization_1.png)\n",
    "\n"
   ]
  },
  {
   "cell_type": "markdown",
   "metadata": {},
   "source": [
    "## Box of particles"
   ]
  },
  {
   "cell_type": "markdown",
   "metadata": {},
   "source": [
    "![chemical_potential](./images/chemical_potential.png)\n",
    "\n",
    "particle outside the box has more energy than inside the box\n",
    "\n",
    "chemical potential - how much energy does it take to remove a particle from the box\n",
    "\n",
    "box has permeable walls"
   ]
  },
  {
   "cell_type": "markdown",
   "metadata": {},
   "source": [
    "$$\n",
    "\\sum_{N_{px}} e^{- \\beta E + N \\mu \\beta}\n",
    "$$\n",
    "\n",
    "density is a function of the chemical potential\n",
    "\n",
    "At the transition, suddenly the density changes drastically."
   ]
  },
  {
   "cell_type": "markdown",
   "metadata": {},
   "source": [
    "![lattice1](./images/lattice1.png)\n",
    "\n",
    "\n",
    "$$\n",
    "\\sum_{links} -j \\sigma_i \\sigma_j -2 N_{links} J\n",
    "$$\n",
    "\n",
    "right term just a number, so throw it out\n",
    "\n",
    "$$\n",
    "\\sum_{links} -j \\sigma_i \\sigma_j\n",
    "$$"
   ]
  },
  {
   "cell_type": "markdown",
   "metadata": {},
   "source": [
    "1 particle has energy $8J$\n",
    "\n",
    "2 particles have energy $16J$ (if not neighbor)\n",
    "\n",
    "2 close particles have energy $12J$\n",
    "\n",
    "Therefore particles attract"
   ]
  },
  {
   "cell_type": "markdown",
   "metadata": {},
   "source": [
    "Want to be able to vary the chemical potential:\n",
    "    \n",
    "$$\n",
    "\\sum_{links} -j \\sigma_i \\sigma_j + \\sum_{sites} h \\sigma_i\n",
    "$$\n",
    "\n",
    "\n",
    "1 particle has energy $8J + 2h$\n",
    "\n",
    "2 particles have energy $16J$ (if not neighbor)\n",
    "\n",
    "2 close particles have energy $12J$\n",
    "\n",
    "The average number of particles per lattice cell is \n",
    "$$\n",
    "\\frac{1 + \\bar\\sigma}{2} = \\rho\n",
    "$$"
   ]
  },
  {
   "cell_type": "markdown",
   "metadata": {},
   "source": [
    "Critical exponent:\n",
    "$$\n",
    "(T - T_c)^{\\alpha}\n",
    "$$"
   ]
  },
  {
   "cell_type": "code",
   "execution_count": 1,
   "metadata": {
    "collapsed": true
   },
   "outputs": [],
   "source": [
    "import numpy as np"
   ]
  },
  {
   "cell_type": "code",
   "execution_count": 2,
   "metadata": {
    "collapsed": false
   },
   "outputs": [
    {
     "data": {
      "text/plain": [
       "256"
      ]
     },
     "execution_count": 2,
     "metadata": {},
     "output_type": "execute_result"
    }
   ],
   "source": [
    "2**8"
   ]
  },
  {
   "cell_type": "code",
   "execution_count": 3,
   "metadata": {
    "collapsed": false
   },
   "outputs": [
    {
     "data": {
      "text/plain": [
       "24"
      ]
     },
     "execution_count": 3,
     "metadata": {},
     "output_type": "execute_result"
    }
   ],
   "source": [
    "np.math.factorial(4)"
   ]
  },
  {
   "cell_type": "code",
   "execution_count": 4,
   "metadata": {
    "collapsed": false
   },
   "outputs": [
    {
     "data": {
      "text/plain": [
       "6144"
      ]
     },
     "execution_count": 4,
     "metadata": {},
     "output_type": "execute_result"
    }
   ],
   "source": [
    "256 * 24"
   ]
  },
  {
   "cell_type": "code",
   "execution_count": null,
   "metadata": {
    "collapsed": true
   },
   "outputs": [],
   "source": []
  }
 ],
 "metadata": {
  "kernelspec": {
   "display_name": "Python 3",
   "language": "python",
   "name": "python3"
  },
  "language_info": {
   "codemirror_mode": {
    "name": "ipython",
    "version": 3
   },
   "file_extension": ".py",
   "mimetype": "text/x-python",
   "name": "python",
   "nbconvert_exporter": "python",
   "pygments_lexer": "ipython3",
   "version": "3.6.0"
  }
 },
 "nbformat": 4,
 "nbformat_minor": 2
}
